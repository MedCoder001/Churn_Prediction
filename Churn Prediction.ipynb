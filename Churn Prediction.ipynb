{
 "cells": [
  {
   "cell_type": "code",
   "execution_count": 3,
   "id": "52660b97",
   "metadata": {},
   "outputs": [],
   "source": [
    "import numpy as np\n",
    "import pandas as pd\n",
    "import matplotlib.pyplot as plt"
   ]
  },
  {
   "cell_type": "code",
   "execution_count": 4,
   "id": "b53e3c22",
   "metadata": {},
   "outputs": [],
   "source": [
    "data = 'https://raw.githubusercontent.com/alexeygrigorev/mlbookcamp-code/master/chapter-03-churn-prediction/WA_Fn-UseC_-Telco-Customer-Churn.csv'"
   ]
  },
  {
   "cell_type": "code",
   "execution_count": 37,
   "id": "20a5ca5b",
   "metadata": {},
   "outputs": [
    {
     "name": "stderr",
     "output_type": "stream",
     "text": [
      "--2023-02-06 20:26:13--  https://raw.githubusercontent.com/alexeygrigorev/mlbookcamp-code/master/chapter-03-churn-prediction/WA_Fn-UseC_-Telco-Customer-Churn.csv\n",
      "Resolving raw.githubusercontent.com (raw.githubusercontent.com)... 185.199.111.133, 185.199.110.133, 185.199.109.133, ...\n",
      "Connecting to raw.githubusercontent.com (raw.githubusercontent.com)|185.199.111.133|:443... connected.\n",
      "HTTP request sent, awaiting response... 200 OK\n",
      "Length: 977501 (955K) [text/plain]\n",
      "Saving to: 'data_for_churn.csv'\n",
      "\n",
      "     0K .......... .......... .......... .......... ..........  5%  180K 5s\n",
      "    50K .......... .......... .......... .......... .......... 10% 1.83M 3s\n",
      "   100K .......... .......... .......... .......... .......... 15%  311K 2s\n",
      "   150K .......... .......... .......... .......... .......... 20%  320K 2s\n",
      "   200K .......... .......... .......... .......... .......... 26%  286K 2s\n",
      "   250K .......... .......... .......... .......... .......... 31% 1.83M 2s\n",
      "   300K .......... .......... .......... .......... .......... 36%  945K 2s\n",
      "   350K .......... .......... .......... .......... .......... 41%  746K 1s\n",
      "   400K .......... .......... .......... .......... .......... 47% 1.41M 1s\n",
      "   450K .......... .......... .......... .......... .......... 52% 2.30M 1s\n",
      "   500K .......... .......... .......... .......... .......... 57% 1.64M 1s\n",
      "   550K .......... .......... .......... .......... .......... 62% 3.18M 1s\n",
      "   600K .......... .......... .......... .......... .......... 68% 2.85M 0s\n",
      "   650K .......... .......... .......... .......... .......... 73% 1.02M 0s\n",
      "   700K .......... .......... .......... .......... .......... 78% 3.73M 0s\n",
      "   750K .......... .......... .......... .......... .......... 83%  887K 0s\n",
      "   800K .......... .......... .......... .......... .......... 89% 2.61M 0s\n",
      "   850K .......... .......... .......... .......... .......... 94% 4.25M 0s\n",
      "   900K .......... .......... .......... .......... .......... 99% 2.69M 0s\n",
      "   950K ....                                                  100% 9.67M=1.2s\n",
      "\n",
      "2023-02-06 20:26:16 (777 KB/s) - 'data_for_churn.csv' saved [977501/977501]\n",
      "\n"
     ]
    }
   ],
   "source": [
    "!wget $data -O data_for_churn.csv"
   ]
  },
  {
   "cell_type": "code",
   "execution_count": 5,
   "id": "93362413",
   "metadata": {},
   "outputs": [
    {
     "data": {
      "text/html": [
       "<div>\n",
       "<style scoped>\n",
       "    .dataframe tbody tr th:only-of-type {\n",
       "        vertical-align: middle;\n",
       "    }\n",
       "\n",
       "    .dataframe tbody tr th {\n",
       "        vertical-align: top;\n",
       "    }\n",
       "\n",
       "    .dataframe thead th {\n",
       "        text-align: right;\n",
       "    }\n",
       "</style>\n",
       "<table border=\"1\" class=\"dataframe\">\n",
       "  <thead>\n",
       "    <tr style=\"text-align: right;\">\n",
       "      <th></th>\n",
       "      <th>customerID</th>\n",
       "      <th>gender</th>\n",
       "      <th>SeniorCitizen</th>\n",
       "      <th>Partner</th>\n",
       "      <th>Dependents</th>\n",
       "      <th>tenure</th>\n",
       "      <th>PhoneService</th>\n",
       "      <th>MultipleLines</th>\n",
       "      <th>InternetService</th>\n",
       "      <th>OnlineSecurity</th>\n",
       "      <th>...</th>\n",
       "      <th>DeviceProtection</th>\n",
       "      <th>TechSupport</th>\n",
       "      <th>StreamingTV</th>\n",
       "      <th>StreamingMovies</th>\n",
       "      <th>Contract</th>\n",
       "      <th>PaperlessBilling</th>\n",
       "      <th>PaymentMethod</th>\n",
       "      <th>MonthlyCharges</th>\n",
       "      <th>TotalCharges</th>\n",
       "      <th>Churn</th>\n",
       "    </tr>\n",
       "  </thead>\n",
       "  <tbody>\n",
       "    <tr>\n",
       "      <th>0</th>\n",
       "      <td>7590-VHVEG</td>\n",
       "      <td>Female</td>\n",
       "      <td>0</td>\n",
       "      <td>Yes</td>\n",
       "      <td>No</td>\n",
       "      <td>1</td>\n",
       "      <td>No</td>\n",
       "      <td>No phone service</td>\n",
       "      <td>DSL</td>\n",
       "      <td>No</td>\n",
       "      <td>...</td>\n",
       "      <td>No</td>\n",
       "      <td>No</td>\n",
       "      <td>No</td>\n",
       "      <td>No</td>\n",
       "      <td>Month-to-month</td>\n",
       "      <td>Yes</td>\n",
       "      <td>Electronic check</td>\n",
       "      <td>29.85</td>\n",
       "      <td>29.85</td>\n",
       "      <td>No</td>\n",
       "    </tr>\n",
       "    <tr>\n",
       "      <th>1</th>\n",
       "      <td>5575-GNVDE</td>\n",
       "      <td>Male</td>\n",
       "      <td>0</td>\n",
       "      <td>No</td>\n",
       "      <td>No</td>\n",
       "      <td>34</td>\n",
       "      <td>Yes</td>\n",
       "      <td>No</td>\n",
       "      <td>DSL</td>\n",
       "      <td>Yes</td>\n",
       "      <td>...</td>\n",
       "      <td>Yes</td>\n",
       "      <td>No</td>\n",
       "      <td>No</td>\n",
       "      <td>No</td>\n",
       "      <td>One year</td>\n",
       "      <td>No</td>\n",
       "      <td>Mailed check</td>\n",
       "      <td>56.95</td>\n",
       "      <td>1889.5</td>\n",
       "      <td>No</td>\n",
       "    </tr>\n",
       "    <tr>\n",
       "      <th>2</th>\n",
       "      <td>3668-QPYBK</td>\n",
       "      <td>Male</td>\n",
       "      <td>0</td>\n",
       "      <td>No</td>\n",
       "      <td>No</td>\n",
       "      <td>2</td>\n",
       "      <td>Yes</td>\n",
       "      <td>No</td>\n",
       "      <td>DSL</td>\n",
       "      <td>Yes</td>\n",
       "      <td>...</td>\n",
       "      <td>No</td>\n",
       "      <td>No</td>\n",
       "      <td>No</td>\n",
       "      <td>No</td>\n",
       "      <td>Month-to-month</td>\n",
       "      <td>Yes</td>\n",
       "      <td>Mailed check</td>\n",
       "      <td>53.85</td>\n",
       "      <td>108.15</td>\n",
       "      <td>Yes</td>\n",
       "    </tr>\n",
       "    <tr>\n",
       "      <th>3</th>\n",
       "      <td>7795-CFOCW</td>\n",
       "      <td>Male</td>\n",
       "      <td>0</td>\n",
       "      <td>No</td>\n",
       "      <td>No</td>\n",
       "      <td>45</td>\n",
       "      <td>No</td>\n",
       "      <td>No phone service</td>\n",
       "      <td>DSL</td>\n",
       "      <td>Yes</td>\n",
       "      <td>...</td>\n",
       "      <td>Yes</td>\n",
       "      <td>Yes</td>\n",
       "      <td>No</td>\n",
       "      <td>No</td>\n",
       "      <td>One year</td>\n",
       "      <td>No</td>\n",
       "      <td>Bank transfer (automatic)</td>\n",
       "      <td>42.30</td>\n",
       "      <td>1840.75</td>\n",
       "      <td>No</td>\n",
       "    </tr>\n",
       "    <tr>\n",
       "      <th>4</th>\n",
       "      <td>9237-HQITU</td>\n",
       "      <td>Female</td>\n",
       "      <td>0</td>\n",
       "      <td>No</td>\n",
       "      <td>No</td>\n",
       "      <td>2</td>\n",
       "      <td>Yes</td>\n",
       "      <td>No</td>\n",
       "      <td>Fiber optic</td>\n",
       "      <td>No</td>\n",
       "      <td>...</td>\n",
       "      <td>No</td>\n",
       "      <td>No</td>\n",
       "      <td>No</td>\n",
       "      <td>No</td>\n",
       "      <td>Month-to-month</td>\n",
       "      <td>Yes</td>\n",
       "      <td>Electronic check</td>\n",
       "      <td>70.70</td>\n",
       "      <td>151.65</td>\n",
       "      <td>Yes</td>\n",
       "    </tr>\n",
       "  </tbody>\n",
       "</table>\n",
       "<p>5 rows × 21 columns</p>\n",
       "</div>"
      ],
      "text/plain": [
       "   customerID  gender  SeniorCitizen Partner Dependents  tenure PhoneService  \\\n",
       "0  7590-VHVEG  Female              0     Yes         No       1           No   \n",
       "1  5575-GNVDE    Male              0      No         No      34          Yes   \n",
       "2  3668-QPYBK    Male              0      No         No       2          Yes   \n",
       "3  7795-CFOCW    Male              0      No         No      45           No   \n",
       "4  9237-HQITU  Female              0      No         No       2          Yes   \n",
       "\n",
       "      MultipleLines InternetService OnlineSecurity  ... DeviceProtection  \\\n",
       "0  No phone service             DSL             No  ...               No   \n",
       "1                No             DSL            Yes  ...              Yes   \n",
       "2                No             DSL            Yes  ...               No   \n",
       "3  No phone service             DSL            Yes  ...              Yes   \n",
       "4                No     Fiber optic             No  ...               No   \n",
       "\n",
       "  TechSupport StreamingTV StreamingMovies        Contract PaperlessBilling  \\\n",
       "0          No          No              No  Month-to-month              Yes   \n",
       "1          No          No              No        One year               No   \n",
       "2          No          No              No  Month-to-month              Yes   \n",
       "3         Yes          No              No        One year               No   \n",
       "4          No          No              No  Month-to-month              Yes   \n",
       "\n",
       "               PaymentMethod MonthlyCharges  TotalCharges Churn  \n",
       "0           Electronic check          29.85         29.85    No  \n",
       "1               Mailed check          56.95        1889.5    No  \n",
       "2               Mailed check          53.85        108.15   Yes  \n",
       "3  Bank transfer (automatic)          42.30       1840.75    No  \n",
       "4           Electronic check          70.70        151.65   Yes  \n",
       "\n",
       "[5 rows x 21 columns]"
      ]
     },
     "execution_count": 5,
     "metadata": {},
     "output_type": "execute_result"
    }
   ],
   "source": [
    "df = pd.read_csv(\"data_for_churn.csv\")\n",
    "df.head()"
   ]
  },
  {
   "cell_type": "code",
   "execution_count": 6,
   "id": "399cad7d",
   "metadata": {},
   "outputs": [],
   "source": [
    "df.columns = df.columns.str.lower().str.replace(' ', '_')\n",
    "categorical_columns = list(df.dtypes[df.dtypes == 'object'].index)\n",
    "\n",
    "for c in categorical_columns:\n",
    "    df[c] = df[c].str.lower().str.replace(' ', '_')\n"
   ]
  },
  {
   "cell_type": "code",
   "execution_count": 7,
   "id": "8c0054e5",
   "metadata": {},
   "outputs": [
    {
     "data": {
      "text/html": [
       "<div>\n",
       "<style scoped>\n",
       "    .dataframe tbody tr th:only-of-type {\n",
       "        vertical-align: middle;\n",
       "    }\n",
       "\n",
       "    .dataframe tbody tr th {\n",
       "        vertical-align: top;\n",
       "    }\n",
       "\n",
       "    .dataframe thead th {\n",
       "        text-align: right;\n",
       "    }\n",
       "</style>\n",
       "<table border=\"1\" class=\"dataframe\">\n",
       "  <thead>\n",
       "    <tr style=\"text-align: right;\">\n",
       "      <th></th>\n",
       "      <th>0</th>\n",
       "      <th>1</th>\n",
       "      <th>2</th>\n",
       "      <th>3</th>\n",
       "      <th>4</th>\n",
       "    </tr>\n",
       "  </thead>\n",
       "  <tbody>\n",
       "    <tr>\n",
       "      <th>customerid</th>\n",
       "      <td>7590-vhveg</td>\n",
       "      <td>5575-gnvde</td>\n",
       "      <td>3668-qpybk</td>\n",
       "      <td>7795-cfocw</td>\n",
       "      <td>9237-hqitu</td>\n",
       "    </tr>\n",
       "    <tr>\n",
       "      <th>gender</th>\n",
       "      <td>female</td>\n",
       "      <td>male</td>\n",
       "      <td>male</td>\n",
       "      <td>male</td>\n",
       "      <td>female</td>\n",
       "    </tr>\n",
       "    <tr>\n",
       "      <th>seniorcitizen</th>\n",
       "      <td>0</td>\n",
       "      <td>0</td>\n",
       "      <td>0</td>\n",
       "      <td>0</td>\n",
       "      <td>0</td>\n",
       "    </tr>\n",
       "    <tr>\n",
       "      <th>partner</th>\n",
       "      <td>yes</td>\n",
       "      <td>no</td>\n",
       "      <td>no</td>\n",
       "      <td>no</td>\n",
       "      <td>no</td>\n",
       "    </tr>\n",
       "    <tr>\n",
       "      <th>dependents</th>\n",
       "      <td>no</td>\n",
       "      <td>no</td>\n",
       "      <td>no</td>\n",
       "      <td>no</td>\n",
       "      <td>no</td>\n",
       "    </tr>\n",
       "    <tr>\n",
       "      <th>tenure</th>\n",
       "      <td>1</td>\n",
       "      <td>34</td>\n",
       "      <td>2</td>\n",
       "      <td>45</td>\n",
       "      <td>2</td>\n",
       "    </tr>\n",
       "    <tr>\n",
       "      <th>phoneservice</th>\n",
       "      <td>no</td>\n",
       "      <td>yes</td>\n",
       "      <td>yes</td>\n",
       "      <td>no</td>\n",
       "      <td>yes</td>\n",
       "    </tr>\n",
       "    <tr>\n",
       "      <th>multiplelines</th>\n",
       "      <td>no_phone_service</td>\n",
       "      <td>no</td>\n",
       "      <td>no</td>\n",
       "      <td>no_phone_service</td>\n",
       "      <td>no</td>\n",
       "    </tr>\n",
       "    <tr>\n",
       "      <th>internetservice</th>\n",
       "      <td>dsl</td>\n",
       "      <td>dsl</td>\n",
       "      <td>dsl</td>\n",
       "      <td>dsl</td>\n",
       "      <td>fiber_optic</td>\n",
       "    </tr>\n",
       "    <tr>\n",
       "      <th>onlinesecurity</th>\n",
       "      <td>no</td>\n",
       "      <td>yes</td>\n",
       "      <td>yes</td>\n",
       "      <td>yes</td>\n",
       "      <td>no</td>\n",
       "    </tr>\n",
       "    <tr>\n",
       "      <th>onlinebackup</th>\n",
       "      <td>yes</td>\n",
       "      <td>no</td>\n",
       "      <td>yes</td>\n",
       "      <td>no</td>\n",
       "      <td>no</td>\n",
       "    </tr>\n",
       "    <tr>\n",
       "      <th>deviceprotection</th>\n",
       "      <td>no</td>\n",
       "      <td>yes</td>\n",
       "      <td>no</td>\n",
       "      <td>yes</td>\n",
       "      <td>no</td>\n",
       "    </tr>\n",
       "    <tr>\n",
       "      <th>techsupport</th>\n",
       "      <td>no</td>\n",
       "      <td>no</td>\n",
       "      <td>no</td>\n",
       "      <td>yes</td>\n",
       "      <td>no</td>\n",
       "    </tr>\n",
       "    <tr>\n",
       "      <th>streamingtv</th>\n",
       "      <td>no</td>\n",
       "      <td>no</td>\n",
       "      <td>no</td>\n",
       "      <td>no</td>\n",
       "      <td>no</td>\n",
       "    </tr>\n",
       "    <tr>\n",
       "      <th>streamingmovies</th>\n",
       "      <td>no</td>\n",
       "      <td>no</td>\n",
       "      <td>no</td>\n",
       "      <td>no</td>\n",
       "      <td>no</td>\n",
       "    </tr>\n",
       "    <tr>\n",
       "      <th>contract</th>\n",
       "      <td>month-to-month</td>\n",
       "      <td>one_year</td>\n",
       "      <td>month-to-month</td>\n",
       "      <td>one_year</td>\n",
       "      <td>month-to-month</td>\n",
       "    </tr>\n",
       "    <tr>\n",
       "      <th>paperlessbilling</th>\n",
       "      <td>yes</td>\n",
       "      <td>no</td>\n",
       "      <td>yes</td>\n",
       "      <td>no</td>\n",
       "      <td>yes</td>\n",
       "    </tr>\n",
       "    <tr>\n",
       "      <th>paymentmethod</th>\n",
       "      <td>electronic_check</td>\n",
       "      <td>mailed_check</td>\n",
       "      <td>mailed_check</td>\n",
       "      <td>bank_transfer_(automatic)</td>\n",
       "      <td>electronic_check</td>\n",
       "    </tr>\n",
       "    <tr>\n",
       "      <th>monthlycharges</th>\n",
       "      <td>29.85</td>\n",
       "      <td>56.95</td>\n",
       "      <td>53.85</td>\n",
       "      <td>42.3</td>\n",
       "      <td>70.7</td>\n",
       "    </tr>\n",
       "    <tr>\n",
       "      <th>totalcharges</th>\n",
       "      <td>29.85</td>\n",
       "      <td>1889.5</td>\n",
       "      <td>108.15</td>\n",
       "      <td>1840.75</td>\n",
       "      <td>151.65</td>\n",
       "    </tr>\n",
       "    <tr>\n",
       "      <th>churn</th>\n",
       "      <td>no</td>\n",
       "      <td>no</td>\n",
       "      <td>yes</td>\n",
       "      <td>no</td>\n",
       "      <td>yes</td>\n",
       "    </tr>\n",
       "  </tbody>\n",
       "</table>\n",
       "</div>"
      ],
      "text/plain": [
       "                                 0             1               2  \\\n",
       "customerid              7590-vhveg    5575-gnvde      3668-qpybk   \n",
       "gender                      female          male            male   \n",
       "seniorcitizen                    0             0               0   \n",
       "partner                        yes            no              no   \n",
       "dependents                      no            no              no   \n",
       "tenure                           1            34               2   \n",
       "phoneservice                    no           yes             yes   \n",
       "multiplelines     no_phone_service            no              no   \n",
       "internetservice                dsl           dsl             dsl   \n",
       "onlinesecurity                  no           yes             yes   \n",
       "onlinebackup                   yes            no             yes   \n",
       "deviceprotection                no           yes              no   \n",
       "techsupport                     no            no              no   \n",
       "streamingtv                     no            no              no   \n",
       "streamingmovies                 no            no              no   \n",
       "contract            month-to-month      one_year  month-to-month   \n",
       "paperlessbilling               yes            no             yes   \n",
       "paymentmethod     electronic_check  mailed_check    mailed_check   \n",
       "monthlycharges               29.85         56.95           53.85   \n",
       "totalcharges                 29.85        1889.5          108.15   \n",
       "churn                           no            no             yes   \n",
       "\n",
       "                                          3                 4  \n",
       "customerid                       7795-cfocw        9237-hqitu  \n",
       "gender                                 male            female  \n",
       "seniorcitizen                             0                 0  \n",
       "partner                                  no                no  \n",
       "dependents                               no                no  \n",
       "tenure                                   45                 2  \n",
       "phoneservice                             no               yes  \n",
       "multiplelines              no_phone_service                no  \n",
       "internetservice                         dsl       fiber_optic  \n",
       "onlinesecurity                          yes                no  \n",
       "onlinebackup                             no                no  \n",
       "deviceprotection                        yes                no  \n",
       "techsupport                             yes                no  \n",
       "streamingtv                              no                no  \n",
       "streamingmovies                          no                no  \n",
       "contract                           one_year    month-to-month  \n",
       "paperlessbilling                         no               yes  \n",
       "paymentmethod     bank_transfer_(automatic)  electronic_check  \n",
       "monthlycharges                         42.3              70.7  \n",
       "totalcharges                        1840.75            151.65  \n",
       "churn                                    no               yes  "
      ]
     },
     "execution_count": 7,
     "metadata": {},
     "output_type": "execute_result"
    }
   ],
   "source": [
    "df.head().T"
   ]
  },
  {
   "cell_type": "code",
   "execution_count": 8,
   "id": "11340356",
   "metadata": {},
   "outputs": [],
   "source": [
    "tc=pd.to_numeric(df.totalcharges, errors='coerce')"
   ]
  },
  {
   "cell_type": "code",
   "execution_count": 9,
   "id": "da60304b",
   "metadata": {},
   "outputs": [],
   "source": [
    "df.totalcharges = pd.to_numeric(df.totalcharges, errors='coerce')\n",
    "df.totalcharges = df.totalcharges.fillna(0)"
   ]
  },
  {
   "cell_type": "code",
   "execution_count": 10,
   "id": "d3e31d6e",
   "metadata": {},
   "outputs": [
    {
     "data": {
      "text/html": [
       "<div>\n",
       "<style scoped>\n",
       "    .dataframe tbody tr th:only-of-type {\n",
       "        vertical-align: middle;\n",
       "    }\n",
       "\n",
       "    .dataframe tbody tr th {\n",
       "        vertical-align: top;\n",
       "    }\n",
       "\n",
       "    .dataframe thead th {\n",
       "        text-align: right;\n",
       "    }\n",
       "</style>\n",
       "<table border=\"1\" class=\"dataframe\">\n",
       "  <thead>\n",
       "    <tr style=\"text-align: right;\">\n",
       "      <th></th>\n",
       "      <th>customerid</th>\n",
       "      <th>totalcharges</th>\n",
       "    </tr>\n",
       "  </thead>\n",
       "  <tbody>\n",
       "    <tr>\n",
       "      <th>488</th>\n",
       "      <td>4472-lvygi</td>\n",
       "      <td>0.0</td>\n",
       "    </tr>\n",
       "    <tr>\n",
       "      <th>753</th>\n",
       "      <td>3115-czmzd</td>\n",
       "      <td>0.0</td>\n",
       "    </tr>\n",
       "    <tr>\n",
       "      <th>936</th>\n",
       "      <td>5709-lvoeq</td>\n",
       "      <td>0.0</td>\n",
       "    </tr>\n",
       "    <tr>\n",
       "      <th>1082</th>\n",
       "      <td>4367-nuyao</td>\n",
       "      <td>0.0</td>\n",
       "    </tr>\n",
       "    <tr>\n",
       "      <th>1340</th>\n",
       "      <td>1371-dwpaz</td>\n",
       "      <td>0.0</td>\n",
       "    </tr>\n",
       "    <tr>\n",
       "      <th>3331</th>\n",
       "      <td>7644-omvmy</td>\n",
       "      <td>0.0</td>\n",
       "    </tr>\n",
       "    <tr>\n",
       "      <th>3826</th>\n",
       "      <td>3213-vvolg</td>\n",
       "      <td>0.0</td>\n",
       "    </tr>\n",
       "    <tr>\n",
       "      <th>4380</th>\n",
       "      <td>2520-sgtta</td>\n",
       "      <td>0.0</td>\n",
       "    </tr>\n",
       "    <tr>\n",
       "      <th>5218</th>\n",
       "      <td>2923-arzlg</td>\n",
       "      <td>0.0</td>\n",
       "    </tr>\n",
       "    <tr>\n",
       "      <th>6670</th>\n",
       "      <td>4075-wkniu</td>\n",
       "      <td>0.0</td>\n",
       "    </tr>\n",
       "    <tr>\n",
       "      <th>6754</th>\n",
       "      <td>2775-sefee</td>\n",
       "      <td>0.0</td>\n",
       "    </tr>\n",
       "  </tbody>\n",
       "</table>\n",
       "</div>"
      ],
      "text/plain": [
       "      customerid  totalcharges\n",
       "488   4472-lvygi           0.0\n",
       "753   3115-czmzd           0.0\n",
       "936   5709-lvoeq           0.0\n",
       "1082  4367-nuyao           0.0\n",
       "1340  1371-dwpaz           0.0\n",
       "3331  7644-omvmy           0.0\n",
       "3826  3213-vvolg           0.0\n",
       "4380  2520-sgtta           0.0\n",
       "5218  2923-arzlg           0.0\n",
       "6670  4075-wkniu           0.0\n",
       "6754  2775-sefee           0.0"
      ]
     },
     "execution_count": 10,
     "metadata": {},
     "output_type": "execute_result"
    }
   ],
   "source": [
    "df[tc.isnull()][['customerid', 'totalcharges']]"
   ]
  },
  {
   "cell_type": "code",
   "execution_count": 11,
   "id": "88728054",
   "metadata": {},
   "outputs": [
    {
     "data": {
      "text/plain": [
       "0     no\n",
       "1     no\n",
       "2    yes\n",
       "3     no\n",
       "4    yes\n",
       "Name: churn, dtype: object"
      ]
     },
     "execution_count": 11,
     "metadata": {},
     "output_type": "execute_result"
    }
   ],
   "source": [
    "df.churn.head()"
   ]
  },
  {
   "cell_type": "code",
   "execution_count": 12,
   "id": "e4f9e6fd",
   "metadata": {},
   "outputs": [],
   "source": [
    "df.churn = (df.churn == 'yes').astype(int)"
   ]
  },
  {
   "cell_type": "code",
   "execution_count": 13,
   "id": "06182810",
   "metadata": {},
   "outputs": [],
   "source": [
    "from sklearn.model_selection import train_test_split"
   ]
  },
  {
   "cell_type": "code",
   "execution_count": 14,
   "id": "97f98797",
   "metadata": {},
   "outputs": [],
   "source": [
    "df_full_train, df_test = train_test_split(df, test_size=0.2, random_state=1)"
   ]
  },
  {
   "cell_type": "code",
   "execution_count": 15,
   "id": "52c14404",
   "metadata": {},
   "outputs": [],
   "source": [
    "df_train, df_val = train_test_split(df_full_train, test_size=0.25, random_state=1)"
   ]
  },
  {
   "cell_type": "code",
   "execution_count": 16,
   "id": "351ef886",
   "metadata": {},
   "outputs": [
    {
     "data": {
      "text/plain": [
       "(4225, 1409, 1409)"
      ]
     },
     "execution_count": 16,
     "metadata": {},
     "output_type": "execute_result"
    }
   ],
   "source": [
    "len(df_train), len(df_test), len(df_val)"
   ]
  },
  {
   "cell_type": "code",
   "execution_count": 17,
   "id": "168de35c",
   "metadata": {},
   "outputs": [],
   "source": [
    "df_train = df_train.reset_index(drop=True)\n",
    "df_val = df_val.reset_index(drop=True)\n",
    "df_test = df_test.reset_index(drop=True)"
   ]
  },
  {
   "cell_type": "code",
   "execution_count": 18,
   "id": "e2666c00",
   "metadata": {},
   "outputs": [],
   "source": [
    "y_train = df_train.churn.values\n",
    "y_val = df_val.churn.values\n",
    "y_test = df_test.churn.values"
   ]
  },
  {
   "cell_type": "code",
   "execution_count": 19,
   "id": "9a0328ae",
   "metadata": {},
   "outputs": [],
   "source": [
    "del df_train['churn']\n",
    "del df_val['churn']\n",
    "del df_test['churn']"
   ]
  },
  {
   "cell_type": "code",
   "execution_count": 20,
   "id": "a35405dd",
   "metadata": {},
   "outputs": [
    {
     "data": {
      "text/plain": [
       "array([0, 0, 0, ..., 0, 0, 1])"
      ]
     },
     "execution_count": 20,
     "metadata": {},
     "output_type": "execute_result"
    }
   ],
   "source": [
    "y_test"
   ]
  },
  {
   "cell_type": "code",
   "execution_count": 21,
   "id": "1752730b",
   "metadata": {},
   "outputs": [],
   "source": [
    "df_full_train = df_full_train.reset_index(drop=True)"
   ]
  },
  {
   "cell_type": "code",
   "execution_count": 22,
   "id": "3676572d",
   "metadata": {},
   "outputs": [
    {
     "data": {
      "text/plain": [
       "0    0.730032\n",
       "1    0.269968\n",
       "Name: churn, dtype: float64"
      ]
     },
     "execution_count": 22,
     "metadata": {},
     "output_type": "execute_result"
    }
   ],
   "source": [
    "df_full_train.churn.value_counts(normalize=True)"
   ]
  },
  {
   "cell_type": "code",
   "execution_count": 23,
   "id": "a91aee31",
   "metadata": {},
   "outputs": [
    {
     "data": {
      "text/plain": [
       "0.27"
      ]
     },
     "execution_count": 23,
     "metadata": {},
     "output_type": "execute_result"
    }
   ],
   "source": [
    "global_churn_rate = df_full_train.churn.mean().round(2)\n",
    "global_churn_rate"
   ]
  },
  {
   "cell_type": "code",
   "execution_count": 24,
   "id": "7f34f072",
   "metadata": {},
   "outputs": [],
   "source": [
    "numerical = ['tenure', 'monthlycharges', 'totalcharges']"
   ]
  },
  {
   "cell_type": "code",
   "execution_count": 25,
   "id": "2bca0113",
   "metadata": {},
   "outputs": [],
   "source": [
    "categorical = ['gender', 'seniorcitizen', 'partner', 'dependents', 'phoneservice', \n",
    "               'multiplelines', 'internetservice', 'onlinesecurity', 'onlinebackup', 'deviceprotection', 'techsupport', \n",
    "               'streamingtv', 'streamingmovies', 'contract', 'paperlessbilling','paymentmethod']"
   ]
  },
  {
   "cell_type": "code",
   "execution_count": 26,
   "id": "d9a74785",
   "metadata": {},
   "outputs": [
    {
     "data": {
      "text/plain": [
       "gender              2\n",
       "seniorcitizen       2\n",
       "partner             2\n",
       "dependents          2\n",
       "phoneservice        2\n",
       "multiplelines       3\n",
       "internetservice     3\n",
       "onlinesecurity      3\n",
       "onlinebackup        3\n",
       "deviceprotection    3\n",
       "techsupport         3\n",
       "streamingtv         3\n",
       "streamingmovies     3\n",
       "contract            3\n",
       "paperlessbilling    2\n",
       "paymentmethod       4\n",
       "dtype: int64"
      ]
     },
     "execution_count": 26,
     "metadata": {},
     "output_type": "execute_result"
    }
   ],
   "source": [
    "df_full_train[categorical].nunique()"
   ]
  },
  {
   "cell_type": "code",
   "execution_count": 27,
   "id": "c22f22fb",
   "metadata": {},
   "outputs": [
    {
     "data": {
      "text/html": [
       "<div>\n",
       "<style scoped>\n",
       "    .dataframe tbody tr th:only-of-type {\n",
       "        vertical-align: middle;\n",
       "    }\n",
       "\n",
       "    .dataframe tbody tr th {\n",
       "        vertical-align: top;\n",
       "    }\n",
       "\n",
       "    .dataframe thead th {\n",
       "        text-align: right;\n",
       "    }\n",
       "</style>\n",
       "<table border=\"1\" class=\"dataframe\">\n",
       "  <thead>\n",
       "    <tr style=\"text-align: right;\">\n",
       "      <th></th>\n",
       "      <th>customerid</th>\n",
       "      <th>gender</th>\n",
       "      <th>seniorcitizen</th>\n",
       "      <th>partner</th>\n",
       "      <th>dependents</th>\n",
       "      <th>tenure</th>\n",
       "      <th>phoneservice</th>\n",
       "      <th>multiplelines</th>\n",
       "      <th>internetservice</th>\n",
       "      <th>onlinesecurity</th>\n",
       "      <th>...</th>\n",
       "      <th>deviceprotection</th>\n",
       "      <th>techsupport</th>\n",
       "      <th>streamingtv</th>\n",
       "      <th>streamingmovies</th>\n",
       "      <th>contract</th>\n",
       "      <th>paperlessbilling</th>\n",
       "      <th>paymentmethod</th>\n",
       "      <th>monthlycharges</th>\n",
       "      <th>totalcharges</th>\n",
       "      <th>churn</th>\n",
       "    </tr>\n",
       "  </thead>\n",
       "  <tbody>\n",
       "    <tr>\n",
       "      <th>0</th>\n",
       "      <td>5442-pptjy</td>\n",
       "      <td>male</td>\n",
       "      <td>0</td>\n",
       "      <td>yes</td>\n",
       "      <td>yes</td>\n",
       "      <td>12</td>\n",
       "      <td>yes</td>\n",
       "      <td>no</td>\n",
       "      <td>no</td>\n",
       "      <td>no_internet_service</td>\n",
       "      <td>...</td>\n",
       "      <td>no_internet_service</td>\n",
       "      <td>no_internet_service</td>\n",
       "      <td>no_internet_service</td>\n",
       "      <td>no_internet_service</td>\n",
       "      <td>two_year</td>\n",
       "      <td>no</td>\n",
       "      <td>mailed_check</td>\n",
       "      <td>19.70</td>\n",
       "      <td>258.35</td>\n",
       "      <td>0</td>\n",
       "    </tr>\n",
       "    <tr>\n",
       "      <th>1</th>\n",
       "      <td>6261-rcvns</td>\n",
       "      <td>female</td>\n",
       "      <td>0</td>\n",
       "      <td>no</td>\n",
       "      <td>no</td>\n",
       "      <td>42</td>\n",
       "      <td>yes</td>\n",
       "      <td>no</td>\n",
       "      <td>dsl</td>\n",
       "      <td>yes</td>\n",
       "      <td>...</td>\n",
       "      <td>yes</td>\n",
       "      <td>yes</td>\n",
       "      <td>no</td>\n",
       "      <td>yes</td>\n",
       "      <td>one_year</td>\n",
       "      <td>no</td>\n",
       "      <td>credit_card_(automatic)</td>\n",
       "      <td>73.90</td>\n",
       "      <td>3160.55</td>\n",
       "      <td>1</td>\n",
       "    </tr>\n",
       "    <tr>\n",
       "      <th>2</th>\n",
       "      <td>2176-osjuv</td>\n",
       "      <td>male</td>\n",
       "      <td>0</td>\n",
       "      <td>yes</td>\n",
       "      <td>no</td>\n",
       "      <td>71</td>\n",
       "      <td>yes</td>\n",
       "      <td>yes</td>\n",
       "      <td>dsl</td>\n",
       "      <td>yes</td>\n",
       "      <td>...</td>\n",
       "      <td>no</td>\n",
       "      <td>yes</td>\n",
       "      <td>no</td>\n",
       "      <td>no</td>\n",
       "      <td>two_year</td>\n",
       "      <td>no</td>\n",
       "      <td>bank_transfer_(automatic)</td>\n",
       "      <td>65.15</td>\n",
       "      <td>4681.75</td>\n",
       "      <td>0</td>\n",
       "    </tr>\n",
       "    <tr>\n",
       "      <th>3</th>\n",
       "      <td>6161-erdgd</td>\n",
       "      <td>male</td>\n",
       "      <td>0</td>\n",
       "      <td>yes</td>\n",
       "      <td>yes</td>\n",
       "      <td>71</td>\n",
       "      <td>yes</td>\n",
       "      <td>yes</td>\n",
       "      <td>dsl</td>\n",
       "      <td>yes</td>\n",
       "      <td>...</td>\n",
       "      <td>yes</td>\n",
       "      <td>yes</td>\n",
       "      <td>yes</td>\n",
       "      <td>yes</td>\n",
       "      <td>one_year</td>\n",
       "      <td>no</td>\n",
       "      <td>electronic_check</td>\n",
       "      <td>85.45</td>\n",
       "      <td>6300.85</td>\n",
       "      <td>0</td>\n",
       "    </tr>\n",
       "    <tr>\n",
       "      <th>4</th>\n",
       "      <td>2364-ufrom</td>\n",
       "      <td>male</td>\n",
       "      <td>0</td>\n",
       "      <td>no</td>\n",
       "      <td>no</td>\n",
       "      <td>30</td>\n",
       "      <td>yes</td>\n",
       "      <td>no</td>\n",
       "      <td>dsl</td>\n",
       "      <td>yes</td>\n",
       "      <td>...</td>\n",
       "      <td>no</td>\n",
       "      <td>yes</td>\n",
       "      <td>yes</td>\n",
       "      <td>no</td>\n",
       "      <td>one_year</td>\n",
       "      <td>no</td>\n",
       "      <td>electronic_check</td>\n",
       "      <td>70.40</td>\n",
       "      <td>2044.75</td>\n",
       "      <td>0</td>\n",
       "    </tr>\n",
       "  </tbody>\n",
       "</table>\n",
       "<p>5 rows × 21 columns</p>\n",
       "</div>"
      ],
      "text/plain": [
       "   customerid  gender  seniorcitizen partner dependents  tenure phoneservice  \\\n",
       "0  5442-pptjy    male              0     yes        yes      12          yes   \n",
       "1  6261-rcvns  female              0      no         no      42          yes   \n",
       "2  2176-osjuv    male              0     yes         no      71          yes   \n",
       "3  6161-erdgd    male              0     yes        yes      71          yes   \n",
       "4  2364-ufrom    male              0      no         no      30          yes   \n",
       "\n",
       "  multiplelines internetservice       onlinesecurity  ...  \\\n",
       "0            no              no  no_internet_service  ...   \n",
       "1            no             dsl                  yes  ...   \n",
       "2           yes             dsl                  yes  ...   \n",
       "3           yes             dsl                  yes  ...   \n",
       "4            no             dsl                  yes  ...   \n",
       "\n",
       "      deviceprotection          techsupport          streamingtv  \\\n",
       "0  no_internet_service  no_internet_service  no_internet_service   \n",
       "1                  yes                  yes                   no   \n",
       "2                   no                  yes                   no   \n",
       "3                  yes                  yes                  yes   \n",
       "4                   no                  yes                  yes   \n",
       "\n",
       "       streamingmovies  contract paperlessbilling              paymentmethod  \\\n",
       "0  no_internet_service  two_year               no               mailed_check   \n",
       "1                  yes  one_year               no    credit_card_(automatic)   \n",
       "2                   no  two_year               no  bank_transfer_(automatic)   \n",
       "3                  yes  one_year               no           electronic_check   \n",
       "4                   no  one_year               no           electronic_check   \n",
       "\n",
       "  monthlycharges  totalcharges  churn  \n",
       "0          19.70        258.35      0  \n",
       "1          73.90       3160.55      1  \n",
       "2          65.15       4681.75      0  \n",
       "3          85.45       6300.85      0  \n",
       "4          70.40       2044.75      0  \n",
       "\n",
       "[5 rows x 21 columns]"
      ]
     },
     "execution_count": 27,
     "metadata": {},
     "output_type": "execute_result"
    }
   ],
   "source": [
    "df_full_train.head()"
   ]
  },
  {
   "cell_type": "code",
   "execution_count": 28,
   "id": "7ce1a4b5",
   "metadata": {},
   "outputs": [
    {
     "data": {
      "text/plain": [
       "0.27682403433476394"
      ]
     },
     "execution_count": 28,
     "metadata": {},
     "output_type": "execute_result"
    }
   ],
   "source": [
    "churn_female = df_full_train[df_full_train.gender == 'female'].churn.mean()\n",
    "churn_female"
   ]
  },
  {
   "cell_type": "code",
   "execution_count": 29,
   "id": "f521a9a8",
   "metadata": {},
   "outputs": [
    {
     "data": {
      "text/plain": [
       "0.2632135306553911"
      ]
     },
     "execution_count": 29,
     "metadata": {},
     "output_type": "execute_result"
    }
   ],
   "source": [
    "churn_male = df_full_train[df_full_train.gender == 'male'].churn.mean()\n",
    "churn_male"
   ]
  },
  {
   "cell_type": "code",
   "execution_count": 30,
   "id": "3d5b51ac",
   "metadata": {},
   "outputs": [
    {
     "data": {
      "text/plain": [
       "0.26996805111821087"
      ]
     },
     "execution_count": 30,
     "metadata": {},
     "output_type": "execute_result"
    }
   ],
   "source": [
    "global_churn_rate = df_full_train.churn.mean()\n",
    "global_churn_rate"
   ]
  },
  {
   "cell_type": "code",
   "execution_count": 31,
   "id": "5d109b20",
   "metadata": {},
   "outputs": [
    {
     "data": {
      "text/plain": [
       "no     2932\n",
       "yes    2702\n",
       "Name: partner, dtype: int64"
      ]
     },
     "execution_count": 31,
     "metadata": {},
     "output_type": "execute_result"
    }
   ],
   "source": [
    "df_full_train.partner.value_counts()"
   ]
  },
  {
   "cell_type": "code",
   "execution_count": 32,
   "id": "9451310f",
   "metadata": {},
   "outputs": [
    {
     "data": {
      "text/plain": [
       "0.20503330866025166"
      ]
     },
     "execution_count": 32,
     "metadata": {},
     "output_type": "execute_result"
    }
   ],
   "source": [
    "churn_partner = df_full_train[df_full_train.partner == 'yes'].churn.mean()\n",
    "churn_partner"
   ]
  },
  {
   "cell_type": "code",
   "execution_count": 33,
   "id": "06765fe2",
   "metadata": {},
   "outputs": [
    {
     "data": {
      "text/plain": [
       "0.3298090040927694"
      ]
     },
     "execution_count": 33,
     "metadata": {},
     "output_type": "execute_result"
    }
   ],
   "source": [
    "churn_no_partner = df_full_train[df_full_train.partner == 'no'].churn.mean()\n",
    "churn_no_partner"
   ]
  },
  {
   "cell_type": "code",
   "execution_count": 34,
   "id": "c45eb1e3",
   "metadata": {},
   "outputs": [
    {
     "data": {
      "text/plain": [
       "0.06493474245795922"
      ]
     },
     "execution_count": 34,
     "metadata": {},
     "output_type": "execute_result"
    }
   ],
   "source": [
    "global_churn_rate - churn_partner"
   ]
  },
  {
   "cell_type": "code",
   "execution_count": 35,
   "id": "84a31e29",
   "metadata": {},
   "outputs": [
    {
     "data": {
      "text/plain": [
       "0.7594724924338315"
      ]
     },
     "execution_count": 35,
     "metadata": {},
     "output_type": "execute_result"
    }
   ],
   "source": [
    "churn_partner/global_churn_rate"
   ]
  },
  {
   "cell_type": "code",
   "execution_count": 36,
   "id": "9370952a",
   "metadata": {},
   "outputs": [
    {
     "data": {
      "text/plain": [
       "1.2216593879412643"
      ]
     },
     "execution_count": 36,
     "metadata": {},
     "output_type": "execute_result"
    }
   ],
   "source": [
    "churn_no_partner/global_churn_rate"
   ]
  },
  {
   "cell_type": "code",
   "execution_count": 37,
   "id": "c10fba4e",
   "metadata": {},
   "outputs": [],
   "source": [
    "from IPython.display import display"
   ]
  },
  {
   "cell_type": "code",
   "execution_count": 38,
   "id": "1883e88b",
   "metadata": {},
   "outputs": [
    {
     "name": "stdout",
     "output_type": "stream",
     "text": [
      "gender\n"
     ]
    },
    {
     "data": {
      "text/html": [
       "<div>\n",
       "<style scoped>\n",
       "    .dataframe tbody tr th:only-of-type {\n",
       "        vertical-align: middle;\n",
       "    }\n",
       "\n",
       "    .dataframe tbody tr th {\n",
       "        vertical-align: top;\n",
       "    }\n",
       "\n",
       "    .dataframe thead th {\n",
       "        text-align: right;\n",
       "    }\n",
       "</style>\n",
       "<table border=\"1\" class=\"dataframe\">\n",
       "  <thead>\n",
       "    <tr style=\"text-align: right;\">\n",
       "      <th></th>\n",
       "      <th>mean</th>\n",
       "      <th>count</th>\n",
       "      <th>diff</th>\n",
       "      <th>risk</th>\n",
       "    </tr>\n",
       "    <tr>\n",
       "      <th>gender</th>\n",
       "      <th></th>\n",
       "      <th></th>\n",
       "      <th></th>\n",
       "      <th></th>\n",
       "    </tr>\n",
       "  </thead>\n",
       "  <tbody>\n",
       "    <tr>\n",
       "      <th>female</th>\n",
       "      <td>0.276824</td>\n",
       "      <td>2796</td>\n",
       "      <td>0.006856</td>\n",
       "      <td>1.025396</td>\n",
       "    </tr>\n",
       "    <tr>\n",
       "      <th>male</th>\n",
       "      <td>0.263214</td>\n",
       "      <td>2838</td>\n",
       "      <td>-0.006755</td>\n",
       "      <td>0.974980</td>\n",
       "    </tr>\n",
       "  </tbody>\n",
       "</table>\n",
       "</div>"
      ],
      "text/plain": [
       "            mean  count      diff      risk\n",
       "gender                                     \n",
       "female  0.276824   2796  0.006856  1.025396\n",
       "male    0.263214   2838 -0.006755  0.974980"
      ]
     },
     "metadata": {},
     "output_type": "display_data"
    },
    {
     "name": "stdout",
     "output_type": "stream",
     "text": [
      "\n",
      "\n",
      "seniorcitizen\n"
     ]
    },
    {
     "data": {
      "text/html": [
       "<div>\n",
       "<style scoped>\n",
       "    .dataframe tbody tr th:only-of-type {\n",
       "        vertical-align: middle;\n",
       "    }\n",
       "\n",
       "    .dataframe tbody tr th {\n",
       "        vertical-align: top;\n",
       "    }\n",
       "\n",
       "    .dataframe thead th {\n",
       "        text-align: right;\n",
       "    }\n",
       "</style>\n",
       "<table border=\"1\" class=\"dataframe\">\n",
       "  <thead>\n",
       "    <tr style=\"text-align: right;\">\n",
       "      <th></th>\n",
       "      <th>mean</th>\n",
       "      <th>count</th>\n",
       "      <th>diff</th>\n",
       "      <th>risk</th>\n",
       "    </tr>\n",
       "    <tr>\n",
       "      <th>seniorcitizen</th>\n",
       "      <th></th>\n",
       "      <th></th>\n",
       "      <th></th>\n",
       "      <th></th>\n",
       "    </tr>\n",
       "  </thead>\n",
       "  <tbody>\n",
       "    <tr>\n",
       "      <th>0</th>\n",
       "      <td>0.242270</td>\n",
       "      <td>4722</td>\n",
       "      <td>-0.027698</td>\n",
       "      <td>0.897403</td>\n",
       "    </tr>\n",
       "    <tr>\n",
       "      <th>1</th>\n",
       "      <td>0.413377</td>\n",
       "      <td>912</td>\n",
       "      <td>0.143409</td>\n",
       "      <td>1.531208</td>\n",
       "    </tr>\n",
       "  </tbody>\n",
       "</table>\n",
       "</div>"
      ],
      "text/plain": [
       "                   mean  count      diff      risk\n",
       "seniorcitizen                                     \n",
       "0              0.242270   4722 -0.027698  0.897403\n",
       "1              0.413377    912  0.143409  1.531208"
      ]
     },
     "metadata": {},
     "output_type": "display_data"
    },
    {
     "name": "stdout",
     "output_type": "stream",
     "text": [
      "\n",
      "\n",
      "partner\n"
     ]
    },
    {
     "data": {
      "text/html": [
       "<div>\n",
       "<style scoped>\n",
       "    .dataframe tbody tr th:only-of-type {\n",
       "        vertical-align: middle;\n",
       "    }\n",
       "\n",
       "    .dataframe tbody tr th {\n",
       "        vertical-align: top;\n",
       "    }\n",
       "\n",
       "    .dataframe thead th {\n",
       "        text-align: right;\n",
       "    }\n",
       "</style>\n",
       "<table border=\"1\" class=\"dataframe\">\n",
       "  <thead>\n",
       "    <tr style=\"text-align: right;\">\n",
       "      <th></th>\n",
       "      <th>mean</th>\n",
       "      <th>count</th>\n",
       "      <th>diff</th>\n",
       "      <th>risk</th>\n",
       "    </tr>\n",
       "    <tr>\n",
       "      <th>partner</th>\n",
       "      <th></th>\n",
       "      <th></th>\n",
       "      <th></th>\n",
       "      <th></th>\n",
       "    </tr>\n",
       "  </thead>\n",
       "  <tbody>\n",
       "    <tr>\n",
       "      <th>no</th>\n",
       "      <td>0.329809</td>\n",
       "      <td>2932</td>\n",
       "      <td>0.059841</td>\n",
       "      <td>1.221659</td>\n",
       "    </tr>\n",
       "    <tr>\n",
       "      <th>yes</th>\n",
       "      <td>0.205033</td>\n",
       "      <td>2702</td>\n",
       "      <td>-0.064935</td>\n",
       "      <td>0.759472</td>\n",
       "    </tr>\n",
       "  </tbody>\n",
       "</table>\n",
       "</div>"
      ],
      "text/plain": [
       "             mean  count      diff      risk\n",
       "partner                                     \n",
       "no       0.329809   2932  0.059841  1.221659\n",
       "yes      0.205033   2702 -0.064935  0.759472"
      ]
     },
     "metadata": {},
     "output_type": "display_data"
    },
    {
     "name": "stdout",
     "output_type": "stream",
     "text": [
      "\n",
      "\n",
      "dependents\n"
     ]
    },
    {
     "data": {
      "text/html": [
       "<div>\n",
       "<style scoped>\n",
       "    .dataframe tbody tr th:only-of-type {\n",
       "        vertical-align: middle;\n",
       "    }\n",
       "\n",
       "    .dataframe tbody tr th {\n",
       "        vertical-align: top;\n",
       "    }\n",
       "\n",
       "    .dataframe thead th {\n",
       "        text-align: right;\n",
       "    }\n",
       "</style>\n",
       "<table border=\"1\" class=\"dataframe\">\n",
       "  <thead>\n",
       "    <tr style=\"text-align: right;\">\n",
       "      <th></th>\n",
       "      <th>mean</th>\n",
       "      <th>count</th>\n",
       "      <th>diff</th>\n",
       "      <th>risk</th>\n",
       "    </tr>\n",
       "    <tr>\n",
       "      <th>dependents</th>\n",
       "      <th></th>\n",
       "      <th></th>\n",
       "      <th></th>\n",
       "      <th></th>\n",
       "    </tr>\n",
       "  </thead>\n",
       "  <tbody>\n",
       "    <tr>\n",
       "      <th>no</th>\n",
       "      <td>0.313760</td>\n",
       "      <td>3968</td>\n",
       "      <td>0.043792</td>\n",
       "      <td>1.162212</td>\n",
       "    </tr>\n",
       "    <tr>\n",
       "      <th>yes</th>\n",
       "      <td>0.165666</td>\n",
       "      <td>1666</td>\n",
       "      <td>-0.104302</td>\n",
       "      <td>0.613651</td>\n",
       "    </tr>\n",
       "  </tbody>\n",
       "</table>\n",
       "</div>"
      ],
      "text/plain": [
       "                mean  count      diff      risk\n",
       "dependents                                     \n",
       "no          0.313760   3968  0.043792  1.162212\n",
       "yes         0.165666   1666 -0.104302  0.613651"
      ]
     },
     "metadata": {},
     "output_type": "display_data"
    },
    {
     "name": "stdout",
     "output_type": "stream",
     "text": [
      "\n",
      "\n",
      "phoneservice\n"
     ]
    },
    {
     "data": {
      "text/html": [
       "<div>\n",
       "<style scoped>\n",
       "    .dataframe tbody tr th:only-of-type {\n",
       "        vertical-align: middle;\n",
       "    }\n",
       "\n",
       "    .dataframe tbody tr th {\n",
       "        vertical-align: top;\n",
       "    }\n",
       "\n",
       "    .dataframe thead th {\n",
       "        text-align: right;\n",
       "    }\n",
       "</style>\n",
       "<table border=\"1\" class=\"dataframe\">\n",
       "  <thead>\n",
       "    <tr style=\"text-align: right;\">\n",
       "      <th></th>\n",
       "      <th>mean</th>\n",
       "      <th>count</th>\n",
       "      <th>diff</th>\n",
       "      <th>risk</th>\n",
       "    </tr>\n",
       "    <tr>\n",
       "      <th>phoneservice</th>\n",
       "      <th></th>\n",
       "      <th></th>\n",
       "      <th></th>\n",
       "      <th></th>\n",
       "    </tr>\n",
       "  </thead>\n",
       "  <tbody>\n",
       "    <tr>\n",
       "      <th>no</th>\n",
       "      <td>0.241316</td>\n",
       "      <td>547</td>\n",
       "      <td>-0.028652</td>\n",
       "      <td>0.893870</td>\n",
       "    </tr>\n",
       "    <tr>\n",
       "      <th>yes</th>\n",
       "      <td>0.273049</td>\n",
       "      <td>5087</td>\n",
       "      <td>0.003081</td>\n",
       "      <td>1.011412</td>\n",
       "    </tr>\n",
       "  </tbody>\n",
       "</table>\n",
       "</div>"
      ],
      "text/plain": [
       "                  mean  count      diff      risk\n",
       "phoneservice                                     \n",
       "no            0.241316    547 -0.028652  0.893870\n",
       "yes           0.273049   5087  0.003081  1.011412"
      ]
     },
     "metadata": {},
     "output_type": "display_data"
    },
    {
     "name": "stdout",
     "output_type": "stream",
     "text": [
      "\n",
      "\n",
      "multiplelines\n"
     ]
    },
    {
     "data": {
      "text/html": [
       "<div>\n",
       "<style scoped>\n",
       "    .dataframe tbody tr th:only-of-type {\n",
       "        vertical-align: middle;\n",
       "    }\n",
       "\n",
       "    .dataframe tbody tr th {\n",
       "        vertical-align: top;\n",
       "    }\n",
       "\n",
       "    .dataframe thead th {\n",
       "        text-align: right;\n",
       "    }\n",
       "</style>\n",
       "<table border=\"1\" class=\"dataframe\">\n",
       "  <thead>\n",
       "    <tr style=\"text-align: right;\">\n",
       "      <th></th>\n",
       "      <th>mean</th>\n",
       "      <th>count</th>\n",
       "      <th>diff</th>\n",
       "      <th>risk</th>\n",
       "    </tr>\n",
       "    <tr>\n",
       "      <th>multiplelines</th>\n",
       "      <th></th>\n",
       "      <th></th>\n",
       "      <th></th>\n",
       "      <th></th>\n",
       "    </tr>\n",
       "  </thead>\n",
       "  <tbody>\n",
       "    <tr>\n",
       "      <th>no</th>\n",
       "      <td>0.257407</td>\n",
       "      <td>2700</td>\n",
       "      <td>-0.012561</td>\n",
       "      <td>0.953474</td>\n",
       "    </tr>\n",
       "    <tr>\n",
       "      <th>no_phone_service</th>\n",
       "      <td>0.241316</td>\n",
       "      <td>547</td>\n",
       "      <td>-0.028652</td>\n",
       "      <td>0.893870</td>\n",
       "    </tr>\n",
       "    <tr>\n",
       "      <th>yes</th>\n",
       "      <td>0.290742</td>\n",
       "      <td>2387</td>\n",
       "      <td>0.020773</td>\n",
       "      <td>1.076948</td>\n",
       "    </tr>\n",
       "  </tbody>\n",
       "</table>\n",
       "</div>"
      ],
      "text/plain": [
       "                      mean  count      diff      risk\n",
       "multiplelines                                        \n",
       "no                0.257407   2700 -0.012561  0.953474\n",
       "no_phone_service  0.241316    547 -0.028652  0.893870\n",
       "yes               0.290742   2387  0.020773  1.076948"
      ]
     },
     "metadata": {},
     "output_type": "display_data"
    },
    {
     "name": "stdout",
     "output_type": "stream",
     "text": [
      "\n",
      "\n",
      "internetservice\n"
     ]
    },
    {
     "data": {
      "text/html": [
       "<div>\n",
       "<style scoped>\n",
       "    .dataframe tbody tr th:only-of-type {\n",
       "        vertical-align: middle;\n",
       "    }\n",
       "\n",
       "    .dataframe tbody tr th {\n",
       "        vertical-align: top;\n",
       "    }\n",
       "\n",
       "    .dataframe thead th {\n",
       "        text-align: right;\n",
       "    }\n",
       "</style>\n",
       "<table border=\"1\" class=\"dataframe\">\n",
       "  <thead>\n",
       "    <tr style=\"text-align: right;\">\n",
       "      <th></th>\n",
       "      <th>mean</th>\n",
       "      <th>count</th>\n",
       "      <th>diff</th>\n",
       "      <th>risk</th>\n",
       "    </tr>\n",
       "    <tr>\n",
       "      <th>internetservice</th>\n",
       "      <th></th>\n",
       "      <th></th>\n",
       "      <th></th>\n",
       "      <th></th>\n",
       "    </tr>\n",
       "  </thead>\n",
       "  <tbody>\n",
       "    <tr>\n",
       "      <th>dsl</th>\n",
       "      <td>0.192347</td>\n",
       "      <td>1934</td>\n",
       "      <td>-0.077621</td>\n",
       "      <td>0.712482</td>\n",
       "    </tr>\n",
       "    <tr>\n",
       "      <th>fiber_optic</th>\n",
       "      <td>0.425171</td>\n",
       "      <td>2479</td>\n",
       "      <td>0.155203</td>\n",
       "      <td>1.574895</td>\n",
       "    </tr>\n",
       "    <tr>\n",
       "      <th>no</th>\n",
       "      <td>0.077805</td>\n",
       "      <td>1221</td>\n",
       "      <td>-0.192163</td>\n",
       "      <td>0.288201</td>\n",
       "    </tr>\n",
       "  </tbody>\n",
       "</table>\n",
       "</div>"
      ],
      "text/plain": [
       "                     mean  count      diff      risk\n",
       "internetservice                                     \n",
       "dsl              0.192347   1934 -0.077621  0.712482\n",
       "fiber_optic      0.425171   2479  0.155203  1.574895\n",
       "no               0.077805   1221 -0.192163  0.288201"
      ]
     },
     "metadata": {},
     "output_type": "display_data"
    },
    {
     "name": "stdout",
     "output_type": "stream",
     "text": [
      "\n",
      "\n",
      "onlinesecurity\n"
     ]
    },
    {
     "data": {
      "text/html": [
       "<div>\n",
       "<style scoped>\n",
       "    .dataframe tbody tr th:only-of-type {\n",
       "        vertical-align: middle;\n",
       "    }\n",
       "\n",
       "    .dataframe tbody tr th {\n",
       "        vertical-align: top;\n",
       "    }\n",
       "\n",
       "    .dataframe thead th {\n",
       "        text-align: right;\n",
       "    }\n",
       "</style>\n",
       "<table border=\"1\" class=\"dataframe\">\n",
       "  <thead>\n",
       "    <tr style=\"text-align: right;\">\n",
       "      <th></th>\n",
       "      <th>mean</th>\n",
       "      <th>count</th>\n",
       "      <th>diff</th>\n",
       "      <th>risk</th>\n",
       "    </tr>\n",
       "    <tr>\n",
       "      <th>onlinesecurity</th>\n",
       "      <th></th>\n",
       "      <th></th>\n",
       "      <th></th>\n",
       "      <th></th>\n",
       "    </tr>\n",
       "  </thead>\n",
       "  <tbody>\n",
       "    <tr>\n",
       "      <th>no</th>\n",
       "      <td>0.420921</td>\n",
       "      <td>2801</td>\n",
       "      <td>0.150953</td>\n",
       "      <td>1.559152</td>\n",
       "    </tr>\n",
       "    <tr>\n",
       "      <th>no_internet_service</th>\n",
       "      <td>0.077805</td>\n",
       "      <td>1221</td>\n",
       "      <td>-0.192163</td>\n",
       "      <td>0.288201</td>\n",
       "    </tr>\n",
       "    <tr>\n",
       "      <th>yes</th>\n",
       "      <td>0.153226</td>\n",
       "      <td>1612</td>\n",
       "      <td>-0.116742</td>\n",
       "      <td>0.567570</td>\n",
       "    </tr>\n",
       "  </tbody>\n",
       "</table>\n",
       "</div>"
      ],
      "text/plain": [
       "                         mean  count      diff      risk\n",
       "onlinesecurity                                          \n",
       "no                   0.420921   2801  0.150953  1.559152\n",
       "no_internet_service  0.077805   1221 -0.192163  0.288201\n",
       "yes                  0.153226   1612 -0.116742  0.567570"
      ]
     },
     "metadata": {},
     "output_type": "display_data"
    },
    {
     "name": "stdout",
     "output_type": "stream",
     "text": [
      "\n",
      "\n",
      "onlinebackup\n"
     ]
    },
    {
     "data": {
      "text/html": [
       "<div>\n",
       "<style scoped>\n",
       "    .dataframe tbody tr th:only-of-type {\n",
       "        vertical-align: middle;\n",
       "    }\n",
       "\n",
       "    .dataframe tbody tr th {\n",
       "        vertical-align: top;\n",
       "    }\n",
       "\n",
       "    .dataframe thead th {\n",
       "        text-align: right;\n",
       "    }\n",
       "</style>\n",
       "<table border=\"1\" class=\"dataframe\">\n",
       "  <thead>\n",
       "    <tr style=\"text-align: right;\">\n",
       "      <th></th>\n",
       "      <th>mean</th>\n",
       "      <th>count</th>\n",
       "      <th>diff</th>\n",
       "      <th>risk</th>\n",
       "    </tr>\n",
       "    <tr>\n",
       "      <th>onlinebackup</th>\n",
       "      <th></th>\n",
       "      <th></th>\n",
       "      <th></th>\n",
       "      <th></th>\n",
       "    </tr>\n",
       "  </thead>\n",
       "  <tbody>\n",
       "    <tr>\n",
       "      <th>no</th>\n",
       "      <td>0.404323</td>\n",
       "      <td>2498</td>\n",
       "      <td>0.134355</td>\n",
       "      <td>1.497672</td>\n",
       "    </tr>\n",
       "    <tr>\n",
       "      <th>no_internet_service</th>\n",
       "      <td>0.077805</td>\n",
       "      <td>1221</td>\n",
       "      <td>-0.192163</td>\n",
       "      <td>0.288201</td>\n",
       "    </tr>\n",
       "    <tr>\n",
       "      <th>yes</th>\n",
       "      <td>0.217232</td>\n",
       "      <td>1915</td>\n",
       "      <td>-0.052736</td>\n",
       "      <td>0.804660</td>\n",
       "    </tr>\n",
       "  </tbody>\n",
       "</table>\n",
       "</div>"
      ],
      "text/plain": [
       "                         mean  count      diff      risk\n",
       "onlinebackup                                            \n",
       "no                   0.404323   2498  0.134355  1.497672\n",
       "no_internet_service  0.077805   1221 -0.192163  0.288201\n",
       "yes                  0.217232   1915 -0.052736  0.804660"
      ]
     },
     "metadata": {},
     "output_type": "display_data"
    },
    {
     "name": "stdout",
     "output_type": "stream",
     "text": [
      "\n",
      "\n",
      "deviceprotection\n"
     ]
    },
    {
     "data": {
      "text/html": [
       "<div>\n",
       "<style scoped>\n",
       "    .dataframe tbody tr th:only-of-type {\n",
       "        vertical-align: middle;\n",
       "    }\n",
       "\n",
       "    .dataframe tbody tr th {\n",
       "        vertical-align: top;\n",
       "    }\n",
       "\n",
       "    .dataframe thead th {\n",
       "        text-align: right;\n",
       "    }\n",
       "</style>\n",
       "<table border=\"1\" class=\"dataframe\">\n",
       "  <thead>\n",
       "    <tr style=\"text-align: right;\">\n",
       "      <th></th>\n",
       "      <th>mean</th>\n",
       "      <th>count</th>\n",
       "      <th>diff</th>\n",
       "      <th>risk</th>\n",
       "    </tr>\n",
       "    <tr>\n",
       "      <th>deviceprotection</th>\n",
       "      <th></th>\n",
       "      <th></th>\n",
       "      <th></th>\n",
       "      <th></th>\n",
       "    </tr>\n",
       "  </thead>\n",
       "  <tbody>\n",
       "    <tr>\n",
       "      <th>no</th>\n",
       "      <td>0.395875</td>\n",
       "      <td>2473</td>\n",
       "      <td>0.125907</td>\n",
       "      <td>1.466379</td>\n",
       "    </tr>\n",
       "    <tr>\n",
       "      <th>no_internet_service</th>\n",
       "      <td>0.077805</td>\n",
       "      <td>1221</td>\n",
       "      <td>-0.192163</td>\n",
       "      <td>0.288201</td>\n",
       "    </tr>\n",
       "    <tr>\n",
       "      <th>yes</th>\n",
       "      <td>0.230412</td>\n",
       "      <td>1940</td>\n",
       "      <td>-0.039556</td>\n",
       "      <td>0.853480</td>\n",
       "    </tr>\n",
       "  </tbody>\n",
       "</table>\n",
       "</div>"
      ],
      "text/plain": [
       "                         mean  count      diff      risk\n",
       "deviceprotection                                        \n",
       "no                   0.395875   2473  0.125907  1.466379\n",
       "no_internet_service  0.077805   1221 -0.192163  0.288201\n",
       "yes                  0.230412   1940 -0.039556  0.853480"
      ]
     },
     "metadata": {},
     "output_type": "display_data"
    },
    {
     "name": "stdout",
     "output_type": "stream",
     "text": [
      "\n",
      "\n",
      "techsupport\n"
     ]
    },
    {
     "data": {
      "text/html": [
       "<div>\n",
       "<style scoped>\n",
       "    .dataframe tbody tr th:only-of-type {\n",
       "        vertical-align: middle;\n",
       "    }\n",
       "\n",
       "    .dataframe tbody tr th {\n",
       "        vertical-align: top;\n",
       "    }\n",
       "\n",
       "    .dataframe thead th {\n",
       "        text-align: right;\n",
       "    }\n",
       "</style>\n",
       "<table border=\"1\" class=\"dataframe\">\n",
       "  <thead>\n",
       "    <tr style=\"text-align: right;\">\n",
       "      <th></th>\n",
       "      <th>mean</th>\n",
       "      <th>count</th>\n",
       "      <th>diff</th>\n",
       "      <th>risk</th>\n",
       "    </tr>\n",
       "    <tr>\n",
       "      <th>techsupport</th>\n",
       "      <th></th>\n",
       "      <th></th>\n",
       "      <th></th>\n",
       "      <th></th>\n",
       "    </tr>\n",
       "  </thead>\n",
       "  <tbody>\n",
       "    <tr>\n",
       "      <th>no</th>\n",
       "      <td>0.418914</td>\n",
       "      <td>2781</td>\n",
       "      <td>0.148946</td>\n",
       "      <td>1.551717</td>\n",
       "    </tr>\n",
       "    <tr>\n",
       "      <th>no_internet_service</th>\n",
       "      <td>0.077805</td>\n",
       "      <td>1221</td>\n",
       "      <td>-0.192163</td>\n",
       "      <td>0.288201</td>\n",
       "    </tr>\n",
       "    <tr>\n",
       "      <th>yes</th>\n",
       "      <td>0.159926</td>\n",
       "      <td>1632</td>\n",
       "      <td>-0.110042</td>\n",
       "      <td>0.592390</td>\n",
       "    </tr>\n",
       "  </tbody>\n",
       "</table>\n",
       "</div>"
      ],
      "text/plain": [
       "                         mean  count      diff      risk\n",
       "techsupport                                             \n",
       "no                   0.418914   2781  0.148946  1.551717\n",
       "no_internet_service  0.077805   1221 -0.192163  0.288201\n",
       "yes                  0.159926   1632 -0.110042  0.592390"
      ]
     },
     "metadata": {},
     "output_type": "display_data"
    },
    {
     "name": "stdout",
     "output_type": "stream",
     "text": [
      "\n",
      "\n",
      "streamingtv\n"
     ]
    },
    {
     "data": {
      "text/html": [
       "<div>\n",
       "<style scoped>\n",
       "    .dataframe tbody tr th:only-of-type {\n",
       "        vertical-align: middle;\n",
       "    }\n",
       "\n",
       "    .dataframe tbody tr th {\n",
       "        vertical-align: top;\n",
       "    }\n",
       "\n",
       "    .dataframe thead th {\n",
       "        text-align: right;\n",
       "    }\n",
       "</style>\n",
       "<table border=\"1\" class=\"dataframe\">\n",
       "  <thead>\n",
       "    <tr style=\"text-align: right;\">\n",
       "      <th></th>\n",
       "      <th>mean</th>\n",
       "      <th>count</th>\n",
       "      <th>diff</th>\n",
       "      <th>risk</th>\n",
       "    </tr>\n",
       "    <tr>\n",
       "      <th>streamingtv</th>\n",
       "      <th></th>\n",
       "      <th></th>\n",
       "      <th></th>\n",
       "      <th></th>\n",
       "    </tr>\n",
       "  </thead>\n",
       "  <tbody>\n",
       "    <tr>\n",
       "      <th>no</th>\n",
       "      <td>0.342832</td>\n",
       "      <td>2246</td>\n",
       "      <td>0.072864</td>\n",
       "      <td>1.269897</td>\n",
       "    </tr>\n",
       "    <tr>\n",
       "      <th>no_internet_service</th>\n",
       "      <td>0.077805</td>\n",
       "      <td>1221</td>\n",
       "      <td>-0.192163</td>\n",
       "      <td>0.288201</td>\n",
       "    </tr>\n",
       "    <tr>\n",
       "      <th>yes</th>\n",
       "      <td>0.302723</td>\n",
       "      <td>2167</td>\n",
       "      <td>0.032755</td>\n",
       "      <td>1.121328</td>\n",
       "    </tr>\n",
       "  </tbody>\n",
       "</table>\n",
       "</div>"
      ],
      "text/plain": [
       "                         mean  count      diff      risk\n",
       "streamingtv                                             \n",
       "no                   0.342832   2246  0.072864  1.269897\n",
       "no_internet_service  0.077805   1221 -0.192163  0.288201\n",
       "yes                  0.302723   2167  0.032755  1.121328"
      ]
     },
     "metadata": {},
     "output_type": "display_data"
    },
    {
     "name": "stdout",
     "output_type": "stream",
     "text": [
      "\n",
      "\n",
      "streamingmovies\n"
     ]
    },
    {
     "data": {
      "text/html": [
       "<div>\n",
       "<style scoped>\n",
       "    .dataframe tbody tr th:only-of-type {\n",
       "        vertical-align: middle;\n",
       "    }\n",
       "\n",
       "    .dataframe tbody tr th {\n",
       "        vertical-align: top;\n",
       "    }\n",
       "\n",
       "    .dataframe thead th {\n",
       "        text-align: right;\n",
       "    }\n",
       "</style>\n",
       "<table border=\"1\" class=\"dataframe\">\n",
       "  <thead>\n",
       "    <tr style=\"text-align: right;\">\n",
       "      <th></th>\n",
       "      <th>mean</th>\n",
       "      <th>count</th>\n",
       "      <th>diff</th>\n",
       "      <th>risk</th>\n",
       "    </tr>\n",
       "    <tr>\n",
       "      <th>streamingmovies</th>\n",
       "      <th></th>\n",
       "      <th></th>\n",
       "      <th></th>\n",
       "      <th></th>\n",
       "    </tr>\n",
       "  </thead>\n",
       "  <tbody>\n",
       "    <tr>\n",
       "      <th>no</th>\n",
       "      <td>0.338906</td>\n",
       "      <td>2213</td>\n",
       "      <td>0.068938</td>\n",
       "      <td>1.255358</td>\n",
       "    </tr>\n",
       "    <tr>\n",
       "      <th>no_internet_service</th>\n",
       "      <td>0.077805</td>\n",
       "      <td>1221</td>\n",
       "      <td>-0.192163</td>\n",
       "      <td>0.288201</td>\n",
       "    </tr>\n",
       "    <tr>\n",
       "      <th>yes</th>\n",
       "      <td>0.307273</td>\n",
       "      <td>2200</td>\n",
       "      <td>0.037305</td>\n",
       "      <td>1.138182</td>\n",
       "    </tr>\n",
       "  </tbody>\n",
       "</table>\n",
       "</div>"
      ],
      "text/plain": [
       "                         mean  count      diff      risk\n",
       "streamingmovies                                         \n",
       "no                   0.338906   2213  0.068938  1.255358\n",
       "no_internet_service  0.077805   1221 -0.192163  0.288201\n",
       "yes                  0.307273   2200  0.037305  1.138182"
      ]
     },
     "metadata": {},
     "output_type": "display_data"
    },
    {
     "name": "stdout",
     "output_type": "stream",
     "text": [
      "\n",
      "\n",
      "contract\n"
     ]
    },
    {
     "data": {
      "text/html": [
       "<div>\n",
       "<style scoped>\n",
       "    .dataframe tbody tr th:only-of-type {\n",
       "        vertical-align: middle;\n",
       "    }\n",
       "\n",
       "    .dataframe tbody tr th {\n",
       "        vertical-align: top;\n",
       "    }\n",
       "\n",
       "    .dataframe thead th {\n",
       "        text-align: right;\n",
       "    }\n",
       "</style>\n",
       "<table border=\"1\" class=\"dataframe\">\n",
       "  <thead>\n",
       "    <tr style=\"text-align: right;\">\n",
       "      <th></th>\n",
       "      <th>mean</th>\n",
       "      <th>count</th>\n",
       "      <th>diff</th>\n",
       "      <th>risk</th>\n",
       "    </tr>\n",
       "    <tr>\n",
       "      <th>contract</th>\n",
       "      <th></th>\n",
       "      <th></th>\n",
       "      <th></th>\n",
       "      <th></th>\n",
       "    </tr>\n",
       "  </thead>\n",
       "  <tbody>\n",
       "    <tr>\n",
       "      <th>month-to-month</th>\n",
       "      <td>0.431701</td>\n",
       "      <td>3104</td>\n",
       "      <td>0.161733</td>\n",
       "      <td>1.599082</td>\n",
       "    </tr>\n",
       "    <tr>\n",
       "      <th>one_year</th>\n",
       "      <td>0.120573</td>\n",
       "      <td>1186</td>\n",
       "      <td>-0.149395</td>\n",
       "      <td>0.446621</td>\n",
       "    </tr>\n",
       "    <tr>\n",
       "      <th>two_year</th>\n",
       "      <td>0.028274</td>\n",
       "      <td>1344</td>\n",
       "      <td>-0.241694</td>\n",
       "      <td>0.104730</td>\n",
       "    </tr>\n",
       "  </tbody>\n",
       "</table>\n",
       "</div>"
      ],
      "text/plain": [
       "                    mean  count      diff      risk\n",
       "contract                                           \n",
       "month-to-month  0.431701   3104  0.161733  1.599082\n",
       "one_year        0.120573   1186 -0.149395  0.446621\n",
       "two_year        0.028274   1344 -0.241694  0.104730"
      ]
     },
     "metadata": {},
     "output_type": "display_data"
    },
    {
     "name": "stdout",
     "output_type": "stream",
     "text": [
      "\n",
      "\n",
      "paperlessbilling\n"
     ]
    },
    {
     "data": {
      "text/html": [
       "<div>\n",
       "<style scoped>\n",
       "    .dataframe tbody tr th:only-of-type {\n",
       "        vertical-align: middle;\n",
       "    }\n",
       "\n",
       "    .dataframe tbody tr th {\n",
       "        vertical-align: top;\n",
       "    }\n",
       "\n",
       "    .dataframe thead th {\n",
       "        text-align: right;\n",
       "    }\n",
       "</style>\n",
       "<table border=\"1\" class=\"dataframe\">\n",
       "  <thead>\n",
       "    <tr style=\"text-align: right;\">\n",
       "      <th></th>\n",
       "      <th>mean</th>\n",
       "      <th>count</th>\n",
       "      <th>diff</th>\n",
       "      <th>risk</th>\n",
       "    </tr>\n",
       "    <tr>\n",
       "      <th>paperlessbilling</th>\n",
       "      <th></th>\n",
       "      <th></th>\n",
       "      <th></th>\n",
       "      <th></th>\n",
       "    </tr>\n",
       "  </thead>\n",
       "  <tbody>\n",
       "    <tr>\n",
       "      <th>no</th>\n",
       "      <td>0.172071</td>\n",
       "      <td>2313</td>\n",
       "      <td>-0.097897</td>\n",
       "      <td>0.637375</td>\n",
       "    </tr>\n",
       "    <tr>\n",
       "      <th>yes</th>\n",
       "      <td>0.338151</td>\n",
       "      <td>3321</td>\n",
       "      <td>0.068183</td>\n",
       "      <td>1.252560</td>\n",
       "    </tr>\n",
       "  </tbody>\n",
       "</table>\n",
       "</div>"
      ],
      "text/plain": [
       "                      mean  count      diff      risk\n",
       "paperlessbilling                                     \n",
       "no                0.172071   2313 -0.097897  0.637375\n",
       "yes               0.338151   3321  0.068183  1.252560"
      ]
     },
     "metadata": {},
     "output_type": "display_data"
    },
    {
     "name": "stdout",
     "output_type": "stream",
     "text": [
      "\n",
      "\n",
      "paymentmethod\n"
     ]
    },
    {
     "data": {
      "text/html": [
       "<div>\n",
       "<style scoped>\n",
       "    .dataframe tbody tr th:only-of-type {\n",
       "        vertical-align: middle;\n",
       "    }\n",
       "\n",
       "    .dataframe tbody tr th {\n",
       "        vertical-align: top;\n",
       "    }\n",
       "\n",
       "    .dataframe thead th {\n",
       "        text-align: right;\n",
       "    }\n",
       "</style>\n",
       "<table border=\"1\" class=\"dataframe\">\n",
       "  <thead>\n",
       "    <tr style=\"text-align: right;\">\n",
       "      <th></th>\n",
       "      <th>mean</th>\n",
       "      <th>count</th>\n",
       "      <th>diff</th>\n",
       "      <th>risk</th>\n",
       "    </tr>\n",
       "    <tr>\n",
       "      <th>paymentmethod</th>\n",
       "      <th></th>\n",
       "      <th></th>\n",
       "      <th></th>\n",
       "      <th></th>\n",
       "    </tr>\n",
       "  </thead>\n",
       "  <tbody>\n",
       "    <tr>\n",
       "      <th>bank_transfer_(automatic)</th>\n",
       "      <td>0.168171</td>\n",
       "      <td>1219</td>\n",
       "      <td>-0.101797</td>\n",
       "      <td>0.622928</td>\n",
       "    </tr>\n",
       "    <tr>\n",
       "      <th>credit_card_(automatic)</th>\n",
       "      <td>0.164339</td>\n",
       "      <td>1217</td>\n",
       "      <td>-0.105630</td>\n",
       "      <td>0.608733</td>\n",
       "    </tr>\n",
       "    <tr>\n",
       "      <th>electronic_check</th>\n",
       "      <td>0.455890</td>\n",
       "      <td>1893</td>\n",
       "      <td>0.185922</td>\n",
       "      <td>1.688682</td>\n",
       "    </tr>\n",
       "    <tr>\n",
       "      <th>mailed_check</th>\n",
       "      <td>0.193870</td>\n",
       "      <td>1305</td>\n",
       "      <td>-0.076098</td>\n",
       "      <td>0.718121</td>\n",
       "    </tr>\n",
       "  </tbody>\n",
       "</table>\n",
       "</div>"
      ],
      "text/plain": [
       "                               mean  count      diff      risk\n",
       "paymentmethod                                                 \n",
       "bank_transfer_(automatic)  0.168171   1219 -0.101797  0.622928\n",
       "credit_card_(automatic)    0.164339   1217 -0.105630  0.608733\n",
       "electronic_check           0.455890   1893  0.185922  1.688682\n",
       "mailed_check               0.193870   1305 -0.076098  0.718121"
      ]
     },
     "metadata": {},
     "output_type": "display_data"
    },
    {
     "name": "stdout",
     "output_type": "stream",
     "text": [
      "\n",
      "\n"
     ]
    }
   ],
   "source": [
    "for c in categorical:\n",
    "    print(c)\n",
    "    df_group = df_full_train.groupby(c).churn.agg(['mean', 'count'])\n",
    "    df_group['diff'] = df_group['mean'] - global_churn_rate\n",
    "    df_group['risk'] = df_group['mean'] / global_churn_rate\n",
    "    display(df_group)\n",
    "    print()\n",
    "    print()"
   ]
  },
  {
   "cell_type": "code",
   "execution_count": 39,
   "id": "5cf85974",
   "metadata": {},
   "outputs": [],
   "source": [
    "from sklearn.metrics import mutual_info_score"
   ]
  },
  {
   "cell_type": "code",
   "execution_count": 40,
   "id": "a68e7de5",
   "metadata": {},
   "outputs": [
    {
     "data": {
      "text/plain": [
       "0.0983203874041556"
      ]
     },
     "execution_count": 40,
     "metadata": {},
     "output_type": "execute_result"
    }
   ],
   "source": [
    "mutual_info_score(df_full_train.churn, df_full_train.contract)"
   ]
  },
  {
   "cell_type": "code",
   "execution_count": 41,
   "id": "0fb1eee8",
   "metadata": {},
   "outputs": [
    {
     "data": {
      "text/plain": [
       "0.0001174846211139946"
      ]
     },
     "execution_count": 41,
     "metadata": {},
     "output_type": "execute_result"
    }
   ],
   "source": [
    "mutual_info_score(df_full_train.churn, df_full_train.gender)"
   ]
  },
  {
   "cell_type": "code",
   "execution_count": 42,
   "id": "4f54a596",
   "metadata": {},
   "outputs": [],
   "source": [
    "def mutual_info_churn_score(series):\n",
    "    return mutual_info_score(series, df_full_train.churn)\n"
   ]
  },
  {
   "cell_type": "code",
   "execution_count": 43,
   "id": "78015c1b",
   "metadata": {},
   "outputs": [
    {
     "data": {
      "text/plain": [
       "contract            0.098320\n",
       "onlinesecurity      0.063085\n",
       "techsupport         0.061032\n",
       "internetservice     0.055868\n",
       "onlinebackup        0.046923\n",
       "deviceprotection    0.043453\n",
       "paymentmethod       0.043210\n",
       "streamingtv         0.031853\n",
       "streamingmovies     0.031581\n",
       "paperlessbilling    0.017589\n",
       "dependents          0.012346\n",
       "partner             0.009968\n",
       "seniorcitizen       0.009410\n",
       "multiplelines       0.000857\n",
       "phoneservice        0.000229\n",
       "gender              0.000117\n",
       "dtype: float64"
      ]
     },
     "execution_count": 43,
     "metadata": {},
     "output_type": "execute_result"
    }
   ],
   "source": [
    "mi = df_full_train[categorical].apply(mutual_info_churn_score)\n",
    "mi.sort_values(ascending=False)"
   ]
  },
  {
   "cell_type": "code",
   "execution_count": 44,
   "id": "5270dbc8",
   "metadata": {},
   "outputs": [
    {
     "data": {
      "text/plain": [
       "tenure           -0.351885\n",
       "monthlycharges    0.196805\n",
       "totalcharges     -0.196353\n",
       "dtype: float64"
      ]
     },
     "execution_count": 44,
     "metadata": {},
     "output_type": "execute_result"
    }
   ],
   "source": [
    "df_full_train[numerical].corrwith(df_full_train.churn)"
   ]
  },
  {
   "cell_type": "code",
   "execution_count": 45,
   "id": "24ebf594",
   "metadata": {},
   "outputs": [
    {
     "data": {
      "text/plain": [
       "0.5953420669577875"
      ]
     },
     "execution_count": 45,
     "metadata": {},
     "output_type": "execute_result"
    }
   ],
   "source": [
    "df_full_train[df_full_train.tenure <= 2].churn.mean()"
   ]
  },
  {
   "cell_type": "code",
   "execution_count": 46,
   "id": "9f886c72",
   "metadata": {},
   "outputs": [
    {
     "data": {
      "text/plain": [
       "0.22478269658378816"
      ]
     },
     "execution_count": 46,
     "metadata": {},
     "output_type": "execute_result"
    }
   ],
   "source": [
    "df_full_train[df_full_train.tenure > 2].churn.mean()"
   ]
  },
  {
   "cell_type": "code",
   "execution_count": 47,
   "id": "87c5a631",
   "metadata": {},
   "outputs": [],
   "source": [
    "from sklearn.feature_extraction import DictVectorizer"
   ]
  },
  {
   "cell_type": "code",
   "execution_count": 48,
   "id": "9e488ab3",
   "metadata": {},
   "outputs": [],
   "source": [
    "train_dicts = df_train[categorical + numerical].to_dict(orient='records')"
   ]
  },
  {
   "cell_type": "code",
   "execution_count": 49,
   "id": "617858df",
   "metadata": {},
   "outputs": [],
   "source": [
    "dv = DictVectorizer(sparse=False)"
   ]
  },
  {
   "cell_type": "code",
   "execution_count": 50,
   "id": "936b7ee8",
   "metadata": {},
   "outputs": [],
   "source": [
    "X_train = dv.fit_transform(train_dicts)"
   ]
  },
  {
   "cell_type": "code",
   "execution_count": 51,
   "id": "b21c3302",
   "metadata": {},
   "outputs": [
    {
     "data": {
      "text/plain": [
       "(4225, 45)"
      ]
     },
     "execution_count": 51,
     "metadata": {},
     "output_type": "execute_result"
    }
   ],
   "source": [
    "X_train.shape"
   ]
  },
  {
   "cell_type": "code",
   "execution_count": 52,
   "id": "509057b0",
   "metadata": {},
   "outputs": [],
   "source": [
    "val_dicts = df_val[categorical + numerical].to_dict(orient='records')"
   ]
  },
  {
   "cell_type": "code",
   "execution_count": 53,
   "id": "c59abc92",
   "metadata": {},
   "outputs": [],
   "source": [
    "X_val = dv.transform(val_dicts)"
   ]
  },
  {
   "cell_type": "code",
   "execution_count": 54,
   "id": "25b61512",
   "metadata": {},
   "outputs": [],
   "source": [
    "from sklearn.linear_model import LogisticRegression"
   ]
  },
  {
   "cell_type": "code",
   "execution_count": 55,
   "id": "c9a7d356",
   "metadata": {},
   "outputs": [
    {
     "name": "stderr",
     "output_type": "stream",
     "text": [
      "c:\\Users\\OLAMIDE\\AppData\\Local\\Programs\\Python\\Python310\\lib\\site-packages\\sklearn\\linear_model\\_logistic.py:444: ConvergenceWarning: lbfgs failed to converge (status=1):\n",
      "STOP: TOTAL NO. of ITERATIONS REACHED LIMIT.\n",
      "\n",
      "Increase the number of iterations (max_iter) or scale the data as shown in:\n",
      "    https://scikit-learn.org/stable/modules/preprocessing.html\n",
      "Please also refer to the documentation for alternative solver options:\n",
      "    https://scikit-learn.org/stable/modules/linear_model.html#logistic-regression\n",
      "  n_iter_i = _check_optimize_result(\n"
     ]
    },
    {
     "data": {
      "text/html": [
       "<style>#sk-container-id-1 {color: black;background-color: white;}#sk-container-id-1 pre{padding: 0;}#sk-container-id-1 div.sk-toggleable {background-color: white;}#sk-container-id-1 label.sk-toggleable__label {cursor: pointer;display: block;width: 100%;margin-bottom: 0;padding: 0.3em;box-sizing: border-box;text-align: center;}#sk-container-id-1 label.sk-toggleable__label-arrow:before {content: \"▸\";float: left;margin-right: 0.25em;color: #696969;}#sk-container-id-1 label.sk-toggleable__label-arrow:hover:before {color: black;}#sk-container-id-1 div.sk-estimator:hover label.sk-toggleable__label-arrow:before {color: black;}#sk-container-id-1 div.sk-toggleable__content {max-height: 0;max-width: 0;overflow: hidden;text-align: left;background-color: #f0f8ff;}#sk-container-id-1 div.sk-toggleable__content pre {margin: 0.2em;color: black;border-radius: 0.25em;background-color: #f0f8ff;}#sk-container-id-1 input.sk-toggleable__control:checked~div.sk-toggleable__content {max-height: 200px;max-width: 100%;overflow: auto;}#sk-container-id-1 input.sk-toggleable__control:checked~label.sk-toggleable__label-arrow:before {content: \"▾\";}#sk-container-id-1 div.sk-estimator input.sk-toggleable__control:checked~label.sk-toggleable__label {background-color: #d4ebff;}#sk-container-id-1 div.sk-label input.sk-toggleable__control:checked~label.sk-toggleable__label {background-color: #d4ebff;}#sk-container-id-1 input.sk-hidden--visually {border: 0;clip: rect(1px 1px 1px 1px);clip: rect(1px, 1px, 1px, 1px);height: 1px;margin: -1px;overflow: hidden;padding: 0;position: absolute;width: 1px;}#sk-container-id-1 div.sk-estimator {font-family: monospace;background-color: #f0f8ff;border: 1px dotted black;border-radius: 0.25em;box-sizing: border-box;margin-bottom: 0.5em;}#sk-container-id-1 div.sk-estimator:hover {background-color: #d4ebff;}#sk-container-id-1 div.sk-parallel-item::after {content: \"\";width: 100%;border-bottom: 1px solid gray;flex-grow: 1;}#sk-container-id-1 div.sk-label:hover label.sk-toggleable__label {background-color: #d4ebff;}#sk-container-id-1 div.sk-serial::before {content: \"\";position: absolute;border-left: 1px solid gray;box-sizing: border-box;top: 0;bottom: 0;left: 50%;z-index: 0;}#sk-container-id-1 div.sk-serial {display: flex;flex-direction: column;align-items: center;background-color: white;padding-right: 0.2em;padding-left: 0.2em;position: relative;}#sk-container-id-1 div.sk-item {position: relative;z-index: 1;}#sk-container-id-1 div.sk-parallel {display: flex;align-items: stretch;justify-content: center;background-color: white;position: relative;}#sk-container-id-1 div.sk-item::before, #sk-container-id-1 div.sk-parallel-item::before {content: \"\";position: absolute;border-left: 1px solid gray;box-sizing: border-box;top: 0;bottom: 0;left: 50%;z-index: -1;}#sk-container-id-1 div.sk-parallel-item {display: flex;flex-direction: column;z-index: 1;position: relative;background-color: white;}#sk-container-id-1 div.sk-parallel-item:first-child::after {align-self: flex-end;width: 50%;}#sk-container-id-1 div.sk-parallel-item:last-child::after {align-self: flex-start;width: 50%;}#sk-container-id-1 div.sk-parallel-item:only-child::after {width: 0;}#sk-container-id-1 div.sk-dashed-wrapped {border: 1px dashed gray;margin: 0 0.4em 0.5em 0.4em;box-sizing: border-box;padding-bottom: 0.4em;background-color: white;}#sk-container-id-1 div.sk-label label {font-family: monospace;font-weight: bold;display: inline-block;line-height: 1.2em;}#sk-container-id-1 div.sk-label-container {text-align: center;}#sk-container-id-1 div.sk-container {/* jupyter's `normalize.less` sets `[hidden] { display: none; }` but bootstrap.min.css set `[hidden] { display: none !important; }` so we also need the `!important` here to be able to override the default hidden behavior on the sphinx rendered scikit-learn.org. See: https://github.com/scikit-learn/scikit-learn/issues/21755 */display: inline-block !important;position: relative;}#sk-container-id-1 div.sk-text-repr-fallback {display: none;}</style><div id=\"sk-container-id-1\" class=\"sk-top-container\"><div class=\"sk-text-repr-fallback\"><pre>LogisticRegression()</pre><b>In a Jupyter environment, please rerun this cell to show the HTML representation or trust the notebook. <br />On GitHub, the HTML representation is unable to render, please try loading this page with nbviewer.org.</b></div><div class=\"sk-container\" hidden><div class=\"sk-item\"><div class=\"sk-estimator sk-toggleable\"><input class=\"sk-toggleable__control sk-hidden--visually\" id=\"sk-estimator-id-1\" type=\"checkbox\" checked><label for=\"sk-estimator-id-1\" class=\"sk-toggleable__label sk-toggleable__label-arrow\">LogisticRegression</label><div class=\"sk-toggleable__content\"><pre>LogisticRegression()</pre></div></div></div></div></div>"
      ],
      "text/plain": [
       "LogisticRegression()"
      ]
     },
     "execution_count": 55,
     "metadata": {},
     "output_type": "execute_result"
    }
   ],
   "source": [
    "model = LogisticRegression()\n",
    "model.fit(X_train, y_train)"
   ]
  },
  {
   "cell_type": "code",
   "execution_count": 56,
   "id": "16389fe3",
   "metadata": {},
   "outputs": [
    {
     "data": {
      "text/plain": [
       "-0.10918840348733709"
      ]
     },
     "execution_count": 56,
     "metadata": {},
     "output_type": "execute_result"
    }
   ],
   "source": [
    "model.intercept_[0]"
   ]
  },
  {
   "cell_type": "code",
   "execution_count": 57,
   "id": "8bad2ddb",
   "metadata": {},
   "outputs": [
    {
     "data": {
      "text/plain": [
       "array([ 0.475, -0.175, -0.408, -0.03 , -0.078,  0.063, -0.089, -0.082,\n",
       "       -0.034, -0.073, -0.336,  0.317, -0.089,  0.004, -0.258,  0.142,\n",
       "        0.009,  0.063, -0.089, -0.081,  0.266, -0.089, -0.285, -0.232,\n",
       "        0.124, -0.166,  0.058, -0.087, -0.032,  0.071, -0.059,  0.142,\n",
       "       -0.249,  0.216, -0.12 , -0.089,  0.102, -0.071, -0.089,  0.052,\n",
       "        0.214, -0.089, -0.232, -0.07 ,  0.   ])"
      ]
     },
     "execution_count": 57,
     "metadata": {},
     "output_type": "execute_result"
    }
   ],
   "source": [
    "model.coef_[0].round(3)"
   ]
  },
  {
   "cell_type": "code",
   "execution_count": 61,
   "id": "5a952fe2",
   "metadata": {},
   "outputs": [],
   "source": [
    "y_pred = model.predict_proba(X_val)[:, 1]"
   ]
  },
  {
   "cell_type": "code",
   "execution_count": 187,
   "id": "2fa01de7",
   "metadata": {},
   "outputs": [],
   "source": [
    "churn_decision = (y_pred >= 0.5)"
   ]
  },
  {
   "cell_type": "code",
   "execution_count": 66,
   "id": "56fb7ad2",
   "metadata": {},
   "outputs": [
    {
     "data": {
      "text/plain": [
       "3     8433-wxgna\n",
       "8     3440-jpscl\n",
       "11    2637-fkfsy\n",
       "12    7228-omtpn\n",
       "19    6711-fldfb\n",
       "Name: customerid, dtype: object"
      ]
     },
     "execution_count": 66,
     "metadata": {},
     "output_type": "execute_result"
    }
   ],
   "source": [
    "df_val[churn_decision].customerid.head()"
   ]
  },
  {
   "cell_type": "code",
   "execution_count": 67,
   "id": "80809af8",
   "metadata": {},
   "outputs": [
    {
     "data": {
      "text/plain": [
       "array([0, 0, 0, ..., 0, 1, 1])"
      ]
     },
     "execution_count": 67,
     "metadata": {},
     "output_type": "execute_result"
    }
   ],
   "source": [
    "y_val"
   ]
  },
  {
   "cell_type": "code",
   "execution_count": 69,
   "id": "059ce730",
   "metadata": {},
   "outputs": [
    {
     "data": {
      "text/plain": [
       "array([0, 0, 0, ..., 0, 1, 1])"
      ]
     },
     "execution_count": 69,
     "metadata": {},
     "output_type": "execute_result"
    }
   ],
   "source": [
    "churn_decision.astype(int)"
   ]
  },
  {
   "cell_type": "code",
   "execution_count": 70,
   "id": "13d59561",
   "metadata": {},
   "outputs": [
    {
     "data": {
      "text/plain": [
       "array([ True,  True,  True, ...,  True,  True,  True])"
      ]
     },
     "execution_count": 70,
     "metadata": {},
     "output_type": "execute_result"
    }
   ],
   "source": [
    "y_val == churn_decision"
   ]
  },
  {
   "cell_type": "code",
   "execution_count": 166,
   "id": "922a4f7d",
   "metadata": {},
   "outputs": [
    {
     "data": {
      "text/plain": [
       "0.8026969481902059"
      ]
     },
     "execution_count": 166,
     "metadata": {},
     "output_type": "execute_result"
    }
   ],
   "source": [
    "(y_val == churn_decision).mean()"
   ]
  },
  {
   "cell_type": "code",
   "execution_count": 167,
   "id": "73607594",
   "metadata": {},
   "outputs": [],
   "source": [
    "df_pred = pd.DataFrame()\n",
    "df_pred['customerid'] = df_val.customerid\n",
    "df_pred['prediction'] = churn_decision.astype(int)\n",
    "df_pred['actual'] = y_val\n",
    "df_pred['probability'] = y_pred"
   ]
  },
  {
   "cell_type": "code",
   "execution_count": 168,
   "id": "2b6bb6fd",
   "metadata": {},
   "outputs": [
    {
     "data": {
      "text/html": [
       "<div>\n",
       "<style scoped>\n",
       "    .dataframe tbody tr th:only-of-type {\n",
       "        vertical-align: middle;\n",
       "    }\n",
       "\n",
       "    .dataframe tbody tr th {\n",
       "        vertical-align: top;\n",
       "    }\n",
       "\n",
       "    .dataframe thead th {\n",
       "        text-align: right;\n",
       "    }\n",
       "</style>\n",
       "<table border=\"1\" class=\"dataframe\">\n",
       "  <thead>\n",
       "    <tr style=\"text-align: right;\">\n",
       "      <th></th>\n",
       "      <th>customerid</th>\n",
       "      <th>prediction</th>\n",
       "      <th>actual</th>\n",
       "      <th>probability</th>\n",
       "    </tr>\n",
       "  </thead>\n",
       "  <tbody>\n",
       "    <tr>\n",
       "      <th>0</th>\n",
       "      <td>5846-neqvz</td>\n",
       "      <td>0</td>\n",
       "      <td>0</td>\n",
       "      <td>0.008966</td>\n",
       "    </tr>\n",
       "    <tr>\n",
       "      <th>1</th>\n",
       "      <td>3645-deygf</td>\n",
       "      <td>0</td>\n",
       "      <td>0</td>\n",
       "      <td>0.204205</td>\n",
       "    </tr>\n",
       "    <tr>\n",
       "      <th>2</th>\n",
       "      <td>3590-tcxtb</td>\n",
       "      <td>0</td>\n",
       "      <td>0</td>\n",
       "      <td>0.211922</td>\n",
       "    </tr>\n",
       "    <tr>\n",
       "      <th>3</th>\n",
       "      <td>8433-wxgna</td>\n",
       "      <td>1</td>\n",
       "      <td>1</td>\n",
       "      <td>0.543291</td>\n",
       "    </tr>\n",
       "    <tr>\n",
       "      <th>4</th>\n",
       "      <td>2654-vbvpb</td>\n",
       "      <td>0</td>\n",
       "      <td>0</td>\n",
       "      <td>0.213495</td>\n",
       "    </tr>\n",
       "  </tbody>\n",
       "</table>\n",
       "</div>"
      ],
      "text/plain": [
       "   customerid  prediction  actual  probability\n",
       "0  5846-neqvz           0       0     0.008966\n",
       "1  3645-deygf           0       0     0.204205\n",
       "2  3590-tcxtb           0       0     0.211922\n",
       "3  8433-wxgna           1       1     0.543291\n",
       "4  2654-vbvpb           0       0     0.213495"
      ]
     },
     "execution_count": 168,
     "metadata": {},
     "output_type": "execute_result"
    }
   ],
   "source": [
    "df_pred.head()"
   ]
  },
  {
   "cell_type": "code",
   "execution_count": 169,
   "id": "d9f8a64f",
   "metadata": {},
   "outputs": [],
   "source": [
    "df_pred['correct'] = df_pred.prediction == df_pred.actual"
   ]
  },
  {
   "cell_type": "code",
   "execution_count": 170,
   "id": "62c27951",
   "metadata": {},
   "outputs": [
    {
     "data": {
      "text/html": [
       "<div>\n",
       "<style scoped>\n",
       "    .dataframe tbody tr th:only-of-type {\n",
       "        vertical-align: middle;\n",
       "    }\n",
       "\n",
       "    .dataframe tbody tr th {\n",
       "        vertical-align: top;\n",
       "    }\n",
       "\n",
       "    .dataframe thead th {\n",
       "        text-align: right;\n",
       "    }\n",
       "</style>\n",
       "<table border=\"1\" class=\"dataframe\">\n",
       "  <thead>\n",
       "    <tr style=\"text-align: right;\">\n",
       "      <th></th>\n",
       "      <th>customerid</th>\n",
       "      <th>prediction</th>\n",
       "      <th>actual</th>\n",
       "      <th>probability</th>\n",
       "      <th>correct</th>\n",
       "    </tr>\n",
       "  </thead>\n",
       "  <tbody>\n",
       "    <tr>\n",
       "      <th>0</th>\n",
       "      <td>5846-neqvz</td>\n",
       "      <td>0</td>\n",
       "      <td>0</td>\n",
       "      <td>0.008966</td>\n",
       "      <td>True</td>\n",
       "    </tr>\n",
       "    <tr>\n",
       "      <th>1</th>\n",
       "      <td>3645-deygf</td>\n",
       "      <td>0</td>\n",
       "      <td>0</td>\n",
       "      <td>0.204205</td>\n",
       "      <td>True</td>\n",
       "    </tr>\n",
       "    <tr>\n",
       "      <th>2</th>\n",
       "      <td>3590-tcxtb</td>\n",
       "      <td>0</td>\n",
       "      <td>0</td>\n",
       "      <td>0.211922</td>\n",
       "      <td>True</td>\n",
       "    </tr>\n",
       "    <tr>\n",
       "      <th>3</th>\n",
       "      <td>8433-wxgna</td>\n",
       "      <td>1</td>\n",
       "      <td>1</td>\n",
       "      <td>0.543291</td>\n",
       "      <td>True</td>\n",
       "    </tr>\n",
       "    <tr>\n",
       "      <th>4</th>\n",
       "      <td>2654-vbvpb</td>\n",
       "      <td>0</td>\n",
       "      <td>0</td>\n",
       "      <td>0.213495</td>\n",
       "      <td>True</td>\n",
       "    </tr>\n",
       "    <tr>\n",
       "      <th>...</th>\n",
       "      <td>...</td>\n",
       "      <td>...</td>\n",
       "      <td>...</td>\n",
       "      <td>...</td>\n",
       "      <td>...</td>\n",
       "    </tr>\n",
       "    <tr>\n",
       "      <th>1404</th>\n",
       "      <td>0980-pvmrc</td>\n",
       "      <td>0</td>\n",
       "      <td>0</td>\n",
       "      <td>0.313788</td>\n",
       "      <td>True</td>\n",
       "    </tr>\n",
       "    <tr>\n",
       "      <th>1405</th>\n",
       "      <td>2325-zusfd</td>\n",
       "      <td>0</td>\n",
       "      <td>1</td>\n",
       "      <td>0.039286</td>\n",
       "      <td>False</td>\n",
       "    </tr>\n",
       "    <tr>\n",
       "      <th>1406</th>\n",
       "      <td>7382-dfjtu</td>\n",
       "      <td>0</td>\n",
       "      <td>0</td>\n",
       "      <td>0.136217</td>\n",
       "      <td>True</td>\n",
       "    </tr>\n",
       "    <tr>\n",
       "      <th>1407</th>\n",
       "      <td>6521-yytyi</td>\n",
       "      <td>1</td>\n",
       "      <td>1</td>\n",
       "      <td>0.800175</td>\n",
       "      <td>True</td>\n",
       "    </tr>\n",
       "    <tr>\n",
       "      <th>1408</th>\n",
       "      <td>3049-solay</td>\n",
       "      <td>1</td>\n",
       "      <td>1</td>\n",
       "      <td>0.837804</td>\n",
       "      <td>True</td>\n",
       "    </tr>\n",
       "  </tbody>\n",
       "</table>\n",
       "<p>1409 rows × 5 columns</p>\n",
       "</div>"
      ],
      "text/plain": [
       "      customerid  prediction  actual  probability  correct\n",
       "0     5846-neqvz           0       0     0.008966     True\n",
       "1     3645-deygf           0       0     0.204205     True\n",
       "2     3590-tcxtb           0       0     0.211922     True\n",
       "3     8433-wxgna           1       1     0.543291     True\n",
       "4     2654-vbvpb           0       0     0.213495     True\n",
       "...          ...         ...     ...          ...      ...\n",
       "1404  0980-pvmrc           0       0     0.313788     True\n",
       "1405  2325-zusfd           0       1     0.039286    False\n",
       "1406  7382-dfjtu           0       0     0.136217     True\n",
       "1407  6521-yytyi           1       1     0.800175     True\n",
       "1408  3049-solay           1       1     0.837804     True\n",
       "\n",
       "[1409 rows x 5 columns]"
      ]
     },
     "execution_count": 170,
     "metadata": {},
     "output_type": "execute_result"
    }
   ],
   "source": [
    "df_pred"
   ]
  },
  {
   "cell_type": "code",
   "execution_count": 171,
   "id": "13ca4279",
   "metadata": {},
   "outputs": [
    {
     "data": {
      "text/plain": [
       "0.8026969481902059"
      ]
     },
     "execution_count": 171,
     "metadata": {},
     "output_type": "execute_result"
    }
   ],
   "source": [
    "df_pred.correct.mean()"
   ]
  },
  {
   "cell_type": "code",
   "execution_count": 172,
   "id": "3e364687",
   "metadata": {},
   "outputs": [
    {
     "name": "stderr",
     "output_type": "stream",
     "text": [
      "c:\\Users\\OLAMIDE\\AppData\\Local\\Programs\\Python\\Python310\\lib\\site-packages\\sklearn\\utils\\deprecation.py:87: FutureWarning: Function get_feature_names is deprecated; get_feature_names is deprecated in 1.0 and will be removed in 1.2. Please use get_feature_names_out instead.\n",
      "  warnings.warn(msg, category=FutureWarning)\n"
     ]
    },
    {
     "data": {
      "text/plain": [
       "['contract=month-to-month',\n",
       " 'contract=one_year',\n",
       " 'contract=two_year',\n",
       " 'dependents=no',\n",
       " 'dependents=yes',\n",
       " 'deviceprotection=no',\n",
       " 'deviceprotection=no_internet_service',\n",
       " 'deviceprotection=yes',\n",
       " 'gender=female',\n",
       " 'gender=male',\n",
       " 'internetservice=dsl',\n",
       " 'internetservice=fiber_optic',\n",
       " 'internetservice=no',\n",
       " 'monthlycharges',\n",
       " 'multiplelines=no',\n",
       " 'multiplelines=no_phone_service',\n",
       " 'multiplelines=yes',\n",
       " 'onlinebackup=no',\n",
       " 'onlinebackup=no_internet_service',\n",
       " 'onlinebackup=yes',\n",
       " 'onlinesecurity=no',\n",
       " 'onlinesecurity=no_internet_service',\n",
       " 'onlinesecurity=yes',\n",
       " 'paperlessbilling=no',\n",
       " 'paperlessbilling=yes',\n",
       " 'partner=no',\n",
       " 'partner=yes',\n",
       " 'paymentmethod=bank_transfer_(automatic)',\n",
       " 'paymentmethod=credit_card_(automatic)',\n",
       " 'paymentmethod=electronic_check',\n",
       " 'paymentmethod=mailed_check',\n",
       " 'phoneservice=no',\n",
       " 'phoneservice=yes',\n",
       " 'seniorcitizen',\n",
       " 'streamingmovies=no',\n",
       " 'streamingmovies=no_internet_service',\n",
       " 'streamingmovies=yes',\n",
       " 'streamingtv=no',\n",
       " 'streamingtv=no_internet_service',\n",
       " 'streamingtv=yes',\n",
       " 'techsupport=no',\n",
       " 'techsupport=no_internet_service',\n",
       " 'techsupport=yes',\n",
       " 'tenure',\n",
       " 'totalcharges']"
      ]
     },
     "execution_count": 172,
     "metadata": {},
     "output_type": "execute_result"
    }
   ],
   "source": [
    "dv.get_feature_names()"
   ]
  },
  {
   "cell_type": "code",
   "execution_count": 173,
   "id": "f4e8ee27",
   "metadata": {},
   "outputs": [
    {
     "data": {
      "text/plain": [
       "array([ 0.268, -0.153, -0.238,  0.029, -0.153,  0.066, -0.092, -0.098,\n",
       "       -0.052, -0.071, -0.298,  0.266, -0.092,  0.004, -0.221,  0.032,\n",
       "        0.066,  0.089, -0.092, -0.121,  0.232, -0.092, -0.263, -0.269,\n",
       "        0.145, -0.067, -0.056, -0.086, -0.105,  0.261, -0.193,  0.032,\n",
       "       -0.155,  0.179, -0.096, -0.092,  0.064, -0.06 , -0.092,  0.028,\n",
       "        0.248, -0.092, -0.28 , -0.066,  0.   ])"
      ]
     },
     "execution_count": 173,
     "metadata": {},
     "output_type": "execute_result"
    }
   ],
   "source": [
    "model.coef_[0].round(3)"
   ]
  },
  {
   "cell_type": "code",
   "execution_count": 174,
   "id": "e3fce275",
   "metadata": {},
   "outputs": [
    {
     "data": {
      "text/plain": [
       "-0.12361673722455008"
      ]
     },
     "execution_count": 174,
     "metadata": {},
     "output_type": "execute_result"
    }
   ],
   "source": [
    "model.intercept_[0]"
   ]
  },
  {
   "cell_type": "code",
   "execution_count": 175,
   "id": "ff11d307",
   "metadata": {},
   "outputs": [
    {
     "data": {
      "text/plain": [
       "{'contract=month-to-month': 0.268,\n",
       " 'contract=one_year': -0.153,\n",
       " 'contract=two_year': -0.238,\n",
       " 'dependents=no': 0.029,\n",
       " 'dependents=yes': -0.153,\n",
       " 'deviceprotection=no': 0.066,\n",
       " 'deviceprotection=no_internet_service': -0.092,\n",
       " 'deviceprotection=yes': -0.098,\n",
       " 'gender=female': -0.052,\n",
       " 'gender=male': -0.071,\n",
       " 'internetservice=dsl': -0.298,\n",
       " 'internetservice=fiber_optic': 0.266,\n",
       " 'internetservice=no': -0.092,\n",
       " 'monthlycharges': 0.004,\n",
       " 'multiplelines=no': -0.221,\n",
       " 'multiplelines=no_phone_service': 0.032,\n",
       " 'multiplelines=yes': 0.066,\n",
       " 'onlinebackup=no': 0.089,\n",
       " 'onlinebackup=no_internet_service': -0.092,\n",
       " 'onlinebackup=yes': -0.121,\n",
       " 'onlinesecurity=no': 0.232,\n",
       " 'onlinesecurity=no_internet_service': -0.092,\n",
       " 'onlinesecurity=yes': -0.263,\n",
       " 'paperlessbilling=no': -0.269,\n",
       " 'paperlessbilling=yes': 0.145,\n",
       " 'partner=no': -0.067,\n",
       " 'partner=yes': -0.056,\n",
       " 'paymentmethod=bank_transfer_(automatic)': -0.086,\n",
       " 'paymentmethod=credit_card_(automatic)': -0.105,\n",
       " 'paymentmethod=electronic_check': 0.261,\n",
       " 'paymentmethod=mailed_check': -0.193,\n",
       " 'phoneservice=no': 0.032,\n",
       " 'phoneservice=yes': -0.155,\n",
       " 'seniorcitizen': 0.179,\n",
       " 'streamingmovies=no': -0.096,\n",
       " 'streamingmovies=no_internet_service': -0.092,\n",
       " 'streamingmovies=yes': 0.064,\n",
       " 'streamingtv=no': -0.06,\n",
       " 'streamingtv=no_internet_service': -0.092,\n",
       " 'streamingtv=yes': 0.028,\n",
       " 'techsupport=no': 0.248,\n",
       " 'techsupport=no_internet_service': -0.092,\n",
       " 'techsupport=yes': -0.28,\n",
       " 'tenure': -0.066,\n",
       " 'totalcharges': 0.0}"
      ]
     },
     "execution_count": 175,
     "metadata": {},
     "output_type": "execute_result"
    }
   ],
   "source": [
    "dict(zip(dv.get_feature_names(), model.coef_[0].round(3)))"
   ]
  },
  {
   "cell_type": "code",
   "execution_count": 176,
   "id": "aa184982",
   "metadata": {},
   "outputs": [],
   "source": [
    "small = ['contract', 'tenure', 'monthlycharges']"
   ]
  },
  {
   "cell_type": "code",
   "execution_count": 177,
   "id": "2c5fa2a0",
   "metadata": {},
   "outputs": [
    {
     "data": {
      "text/plain": [
       "[{'contract': 'two_year', 'tenure': 72, 'monthlycharges': 115.5},\n",
       " {'contract': 'month-to-month', 'tenure': 10, 'monthlycharges': 95.25},\n",
       " {'contract': 'month-to-month', 'tenure': 5, 'monthlycharges': 75.55},\n",
       " {'contract': 'month-to-month', 'tenure': 5, 'monthlycharges': 80.85},\n",
       " {'contract': 'two_year', 'tenure': 18, 'monthlycharges': 20.1},\n",
       " {'contract': 'month-to-month', 'tenure': 4, 'monthlycharges': 30.5},\n",
       " {'contract': 'month-to-month', 'tenure': 1, 'monthlycharges': 75.1},\n",
       " {'contract': 'month-to-month', 'tenure': 1, 'monthlycharges': 70.3},\n",
       " {'contract': 'two_year', 'tenure': 72, 'monthlycharges': 19.75},\n",
       " {'contract': 'month-to-month', 'tenure': 6, 'monthlycharges': 109.9},\n",
       " {'contract': 'two_year', 'tenure': 72, 'monthlycharges': 99.9},\n",
       " {'contract': 'month-to-month', 'tenure': 17, 'monthlycharges': 102.55},\n",
       " {'contract': 'two_year', 'tenure': 66, 'monthlycharges': 58.2},\n",
       " {'contract': 'month-to-month', 'tenure': 2, 'monthlycharges': 68.95},\n",
       " {'contract': 'month-to-month', 'tenure': 4, 'monthlycharges': 20.15},\n",
       " {'contract': 'month-to-month', 'tenure': 3, 'monthlycharges': 70.7},\n",
       " {'contract': 'two_year', 'tenure': 71, 'monthlycharges': 19.6},\n",
       " {'contract': 'month-to-month', 'tenure': 32, 'monthlycharges': 90.95},\n",
       " {'contract': 'one_year', 'tenure': 53, 'monthlycharges': 105.25},\n",
       " {'contract': 'two_year', 'tenure': 56, 'monthlycharges': 103.2},\n",
       " {'contract': 'month-to-month', 'tenure': 61, 'monthlycharges': 106.45},\n",
       " {'contract': 'one_year', 'tenure': 41, 'monthlycharges': 50.05},\n",
       " {'contract': 'month-to-month', 'tenure': 1, 'monthlycharges': 44.9},\n",
       " {'contract': 'two_year', 'tenure': 3, 'monthlycharges': 71.1},\n",
       " {'contract': 'month-to-month', 'tenure': 3, 'monthlycharges': 94.6},\n",
       " {'contract': 'two_year', 'tenure': 12, 'monthlycharges': 21.05},\n",
       " {'contract': 'month-to-month', 'tenure': 41, 'monthlycharges': 98.05},\n",
       " {'contract': 'month-to-month', 'tenure': 47, 'monthlycharges': 85.2},\n",
       " {'contract': 'month-to-month', 'tenure': 2, 'monthlycharges': 20.3},\n",
       " {'contract': 'one_year', 'tenure': 66, 'monthlycharges': 70.85},\n",
       " {'contract': 'month-to-month', 'tenure': 8, 'monthlycharges': 59.25},\n",
       " {'contract': 'month-to-month', 'tenure': 1, 'monthlycharges': 19.9},\n",
       " {'contract': 'one_year', 'tenure': 35, 'monthlycharges': 40.9},\n",
       " {'contract': 'one_year', 'tenure': 67, 'monthlycharges': 107.05},\n",
       " {'contract': 'month-to-month', 'tenure': 1, 'monthlycharges': 31.35},\n",
       " {'contract': 'one_year', 'tenure': 46, 'monthlycharges': 103.15},\n",
       " {'contract': 'one_year', 'tenure': 37, 'monthlycharges': 80.05},\n",
       " {'contract': 'two_year', 'tenure': 72, 'monthlycharges': 90.6},\n",
       " {'contract': 'month-to-month', 'tenure': 35, 'monthlycharges': 75.35},\n",
       " {'contract': 'month-to-month', 'tenure': 43, 'monthlycharges': 94.1},\n",
       " {'contract': 'month-to-month', 'tenure': 20, 'monthlycharges': 20.35},\n",
       " {'contract': 'month-to-month', 'tenure': 64, 'monthlycharges': 81.05},\n",
       " {'contract': 'month-to-month', 'tenure': 6, 'monthlycharges': 44.4},\n",
       " {'contract': 'month-to-month', 'tenure': 9, 'monthlycharges': 55.35},\n",
       " {'contract': 'month-to-month', 'tenure': 18, 'monthlycharges': 25.55},\n",
       " {'contract': 'one_year', 'tenure': 46, 'monthlycharges': 94.15},\n",
       " {'contract': 'month-to-month', 'tenure': 9, 'monthlycharges': 70.05},\n",
       " {'contract': 'two_year', 'tenure': 69, 'monthlycharges': 20.15},\n",
       " {'contract': 'month-to-month', 'tenure': 32, 'monthlycharges': 19.45},\n",
       " {'contract': 'two_year', 'tenure': 67, 'monthlycharges': 75.5},\n",
       " {'contract': 'two_year', 'tenure': 69, 'monthlycharges': 80.65},\n",
       " {'contract': 'month-to-month', 'tenure': 6, 'monthlycharges': 80.5},\n",
       " {'contract': 'one_year', 'tenure': 30, 'monthlycharges': 40.35},\n",
       " {'contract': 'month-to-month', 'tenure': 30, 'monthlycharges': 54.45},\n",
       " {'contract': 'one_year', 'tenure': 58, 'monthlycharges': 45.35},\n",
       " {'contract': 'month-to-month', 'tenure': 18, 'monthlycharges': 90.1},\n",
       " {'contract': 'month-to-month', 'tenure': 34, 'monthlycharges': 71.55},\n",
       " {'contract': 'one_year', 'tenure': 2, 'monthlycharges': 20.2},\n",
       " {'contract': 'two_year', 'tenure': 10, 'monthlycharges': 20.15},\n",
       " {'contract': 'two_year', 'tenure': 71, 'monthlycharges': 99.0},\n",
       " {'contract': 'two_year', 'tenure': 72, 'monthlycharges': 60.95},\n",
       " {'contract': 'two_year', 'tenure': 46, 'monthlycharges': 21.1},\n",
       " {'contract': 'month-to-month', 'tenure': 49, 'monthlycharges': 74.6},\n",
       " {'contract': 'two_year', 'tenure': 65, 'monthlycharges': 59.95},\n",
       " {'contract': 'month-to-month', 'tenure': 15, 'monthlycharges': 74.9},\n",
       " {'contract': 'one_year', 'tenure': 58, 'monthlycharges': 103.25},\n",
       " {'contract': 'one_year', 'tenure': 66, 'monthlycharges': 54.8},\n",
       " {'contract': 'two_year', 'tenure': 66, 'monthlycharges': 19.7},\n",
       " {'contract': 'one_year', 'tenure': 68, 'monthlycharges': 19.5},\n",
       " {'contract': 'one_year', 'tenure': 45, 'monthlycharges': 102.15},\n",
       " {'contract': 'month-to-month', 'tenure': 1, 'monthlycharges': 20.2},\n",
       " {'contract': 'month-to-month', 'tenure': 11, 'monthlycharges': 79.5},\n",
       " {'contract': 'month-to-month', 'tenure': 18, 'monthlycharges': 99.75},\n",
       " {'contract': 'two_year', 'tenure': 71, 'monthlycharges': 97.2},\n",
       " {'contract': 'month-to-month', 'tenure': 4, 'monthlycharges': 80.8},\n",
       " {'contract': 'month-to-month', 'tenure': 13, 'monthlycharges': 56.0},\n",
       " {'contract': 'two_year', 'tenure': 50, 'monthlycharges': 20.15},\n",
       " {'contract': 'month-to-month', 'tenure': 12, 'monthlycharges': 50.95},\n",
       " {'contract': 'month-to-month', 'tenure': 1, 'monthlycharges': 43.85},\n",
       " {'contract': 'one_year', 'tenure': 7, 'monthlycharges': 19.9},\n",
       " {'contract': 'one_year', 'tenure': 71, 'monthlycharges': 105.75},\n",
       " {'contract': 'month-to-month', 'tenure': 1, 'monthlycharges': 80.55},\n",
       " {'contract': 'month-to-month', 'tenure': 21, 'monthlycharges': 104.35},\n",
       " {'contract': 'month-to-month', 'tenure': 12, 'monthlycharges': 86.55},\n",
       " {'contract': 'month-to-month', 'tenure': 1, 'monthlycharges': 50.5},\n",
       " {'contract': 'month-to-month', 'tenure': 33, 'monthlycharges': 95.0},\n",
       " {'contract': 'month-to-month', 'tenure': 46, 'monthlycharges': 72.8},\n",
       " {'contract': 'one_year', 'tenure': 44, 'monthlycharges': 61.5},\n",
       " {'contract': 'two_year', 'tenure': 70, 'monthlycharges': 88.55},\n",
       " {'contract': 'one_year', 'tenure': 7, 'monthlycharges': 49.75},\n",
       " {'contract': 'month-to-month', 'tenure': 18, 'monthlycharges': 69.8},\n",
       " {'contract': 'one_year', 'tenure': 54, 'monthlycharges': 65.25},\n",
       " {'contract': 'month-to-month', 'tenure': 35, 'monthlycharges': 33.45},\n",
       " {'contract': 'month-to-month', 'tenure': 5, 'monthlycharges': 70.25},\n",
       " {'contract': 'month-to-month', 'tenure': 35, 'monthlycharges': 86.45},\n",
       " {'contract': 'one_year', 'tenure': 39, 'monthlycharges': 25.25},\n",
       " {'contract': 'month-to-month', 'tenure': 19, 'monthlycharges': 48.8},\n",
       " {'contract': 'month-to-month', 'tenure': 21, 'monthlycharges': 36.0},\n",
       " {'contract': 'one_year', 'tenure': 43, 'monthlycharges': 104.3},\n",
       " {'contract': 'month-to-month', 'tenure': 19, 'monthlycharges': 95.9},\n",
       " {'contract': 'two_year', 'tenure': 72, 'monthlycharges': 112.6},\n",
       " {'contract': 'month-to-month', 'tenure': 59, 'monthlycharges': 101.1},\n",
       " {'contract': 'two_year', 'tenure': 11, 'monthlycharges': 19.65},\n",
       " {'contract': 'month-to-month', 'tenure': 9, 'monthlycharges': 59.5},\n",
       " {'contract': 'two_year', 'tenure': 70, 'monthlycharges': 20.15},\n",
       " {'contract': 'month-to-month', 'tenure': 22, 'monthlycharges': 39.2},\n",
       " {'contract': 'two_year', 'tenure': 69, 'monthlycharges': 19.1},\n",
       " {'contract': 'month-to-month', 'tenure': 16, 'monthlycharges': 94.45},\n",
       " {'contract': 'one_year', 'tenure': 32, 'monthlycharges': 30.15},\n",
       " {'contract': 'two_year', 'tenure': 61, 'monthlycharges': 20.25},\n",
       " {'contract': 'month-to-month', 'tenure': 14, 'monthlycharges': 80.05},\n",
       " {'contract': 'month-to-month', 'tenure': 34, 'monthlycharges': 85.2},\n",
       " {'contract': 'two_year', 'tenure': 40, 'monthlycharges': 19.65},\n",
       " {'contract': 'month-to-month', 'tenure': 1, 'monthlycharges': 45.4},\n",
       " {'contract': 'two_year', 'tenure': 6, 'monthlycharges': 20.1},\n",
       " {'contract': 'month-to-month', 'tenure': 39, 'monthlycharges': 50.75},\n",
       " {'contract': 'two_year', 'tenure': 56, 'monthlycharges': 24.15},\n",
       " {'contract': 'one_year', 'tenure': 36, 'monthlycharges': 63.7},\n",
       " {'contract': 'one_year', 'tenure': 44, 'monthlycharges': 53.95},\n",
       " {'contract': 'month-to-month', 'tenure': 7, 'monthlycharges': 69.95},\n",
       " {'contract': 'month-to-month', 'tenure': 2, 'monthlycharges': 75.9},\n",
       " {'contract': 'two_year', 'tenure': 72, 'monthlycharges': 109.55},\n",
       " {'contract': 'month-to-month', 'tenure': 1, 'monthlycharges': 19.2},\n",
       " {'contract': 'month-to-month', 'tenure': 71, 'monthlycharges': 105.1},\n",
       " {'contract': 'month-to-month', 'tenure': 17, 'monthlycharges': 78.9},\n",
       " {'contract': 'one_year', 'tenure': 26, 'monthlycharges': 56.05},\n",
       " {'contract': 'month-to-month', 'tenure': 29, 'monthlycharges': 76.0},\n",
       " {'contract': 'two_year', 'tenure': 72, 'monthlycharges': 68.75},\n",
       " {'contract': 'month-to-month', 'tenure': 24, 'monthlycharges': 99.65},\n",
       " {'contract': 'two_year', 'tenure': 11, 'monthlycharges': 25.0},\n",
       " {'contract': 'one_year', 'tenure': 51, 'monthlycharges': 76.4},\n",
       " {'contract': 'month-to-month', 'tenure': 4, 'monthlycharges': 50.05},\n",
       " {'contract': 'month-to-month', 'tenure': 43, 'monthlycharges': 86.1},\n",
       " {'contract': 'month-to-month', 'tenure': 16, 'monthlycharges': 85.35},\n",
       " {'contract': 'month-to-month', 'tenure': 10, 'monthlycharges': 60.95},\n",
       " {'contract': 'one_year', 'tenure': 64, 'monthlycharges': 104.4},\n",
       " {'contract': 'month-to-month', 'tenure': 12, 'monthlycharges': 56.65},\n",
       " {'contract': 'month-to-month', 'tenure': 18, 'monthlycharges': 74.8},\n",
       " {'contract': 'one_year', 'tenure': 65, 'monthlycharges': 110.0},\n",
       " {'contract': 'month-to-month', 'tenure': 29, 'monthlycharges': 100.55},\n",
       " {'contract': 'month-to-month', 'tenure': 44, 'monthlycharges': 84.8},\n",
       " {'contract': 'month-to-month', 'tenure': 7, 'monthlycharges': 70.75},\n",
       " {'contract': 'month-to-month', 'tenure': 1, 'monthlycharges': 45.0},\n",
       " {'contract': 'month-to-month', 'tenure': 31, 'monthlycharges': 96.6},\n",
       " {'contract': 'one_year', 'tenure': 9, 'monthlycharges': 50.8},\n",
       " {'contract': 'month-to-month', 'tenure': 1, 'monthlycharges': 71.65},\n",
       " {'contract': 'two_year', 'tenure': 60, 'monthlycharges': 53.6},\n",
       " {'contract': 'one_year', 'tenure': 13, 'monthlycharges': 19.95},\n",
       " {'contract': 'month-to-month', 'tenure': 3, 'monthlycharges': 100.95},\n",
       " {'contract': 'month-to-month', 'tenure': 10, 'monthlycharges': 19.8},\n",
       " {'contract': 'month-to-month', 'tenure': 50, 'monthlycharges': 39.45},\n",
       " {'contract': 'two_year', 'tenure': 8, 'monthlycharges': 20.25},\n",
       " {'contract': 'month-to-month', 'tenure': 41, 'monthlycharges': 53.95},\n",
       " {'contract': 'month-to-month', 'tenure': 10, 'monthlycharges': 85.95},\n",
       " {'contract': 'one_year', 'tenure': 31, 'monthlycharges': 81.7},\n",
       " {'contract': 'month-to-month', 'tenure': 40, 'monthlycharges': 74.55},\n",
       " {'contract': 'month-to-month', 'tenure': 17, 'monthlycharges': 95.65},\n",
       " {'contract': 'month-to-month', 'tenure': 11, 'monthlycharges': 20.45},\n",
       " {'contract': 'month-to-month', 'tenure': 19, 'monthlycharges': 20.0},\n",
       " {'contract': 'month-to-month', 'tenure': 31, 'monthlycharges': 84.75},\n",
       " {'contract': 'month-to-month', 'tenure': 10, 'monthlycharges': 81.0},\n",
       " {'contract': 'month-to-month', 'tenure': 1, 'monthlycharges': 69.7},\n",
       " {'contract': 'month-to-month', 'tenure': 1, 'monthlycharges': 80.8},\n",
       " {'contract': 'one_year', 'tenure': 6, 'monthlycharges': 20.6},\n",
       " {'contract': 'month-to-month', 'tenure': 1, 'monthlycharges': 69.95},\n",
       " {'contract': 'one_year', 'tenure': 41, 'monthlycharges': 70.2},\n",
       " {'contract': 'two_year', 'tenure': 66, 'monthlycharges': 20.0},\n",
       " {'contract': 'month-to-month', 'tenure': 26, 'monthlycharges': 86.65},\n",
       " {'contract': 'one_year', 'tenure': 34, 'monthlycharges': 30.4},\n",
       " {'contract': 'two_year', 'tenure': 60, 'monthlycharges': 115.25},\n",
       " {'contract': 'month-to-month', 'tenure': 37, 'monthlycharges': 99.5},\n",
       " {'contract': 'one_year', 'tenure': 18, 'monthlycharges': 89.6},\n",
       " {'contract': 'one_year', 'tenure': 62, 'monthlycharges': 74.3},\n",
       " {'contract': 'two_year', 'tenure': 47, 'monthlycharges': 20.55},\n",
       " {'contract': 'one_year', 'tenure': 7, 'monthlycharges': 20.65},\n",
       " {'contract': 'month-to-month', 'tenure': 10, 'monthlycharges': 85.25},\n",
       " {'contract': 'month-to-month', 'tenure': 5, 'monthlycharges': 89.35},\n",
       " {'contract': 'month-to-month', 'tenure': 19, 'monthlycharges': 59.8},\n",
       " {'contract': 'one_year', 'tenure': 20, 'monthlycharges': 20.35},\n",
       " {'contract': 'two_year', 'tenure': 72, 'monthlycharges': 92.3},\n",
       " {'contract': 'month-to-month', 'tenure': 1, 'monthlycharges': 95.65},\n",
       " {'contract': 'one_year', 'tenure': 66, 'monthlycharges': 92.15},\n",
       " {'contract': 'month-to-month', 'tenure': 24, 'monthlycharges': 66.3},\n",
       " {'contract': 'one_year', 'tenure': 25, 'monthlycharges': 20.95},\n",
       " {'contract': 'month-to-month', 'tenure': 43, 'monthlycharges': 75.2},\n",
       " {'contract': 'month-to-month', 'tenure': 58, 'monthlycharges': 80.65},\n",
       " {'contract': 'month-to-month', 'tenure': 20, 'monthlycharges': 18.9},\n",
       " {'contract': 'one_year', 'tenure': 27, 'monthlycharges': 81.7},\n",
       " {'contract': 'month-to-month', 'tenure': 8, 'monthlycharges': 103.35},\n",
       " {'contract': 'month-to-month', 'tenure': 60, 'monthlycharges': 79.05},\n",
       " {'contract': 'one_year', 'tenure': 11, 'monthlycharges': 36.05},\n",
       " {'contract': 'month-to-month', 'tenure': 10, 'monthlycharges': 35.75},\n",
       " {'contract': 'two_year', 'tenure': 69, 'monthlycharges': 108.4},\n",
       " {'contract': 'two_year', 'tenure': 42, 'monthlycharges': 22.95},\n",
       " {'contract': 'one_year', 'tenure': 34, 'monthlycharges': 64.2},\n",
       " {'contract': 'one_year', 'tenure': 27, 'monthlycharges': 45.85},\n",
       " {'contract': 'month-to-month', 'tenure': 20, 'monthlycharges': 24.9},\n",
       " {'contract': 'two_year', 'tenure': 72, 'monthlycharges': 25.2},\n",
       " {'contract': 'month-to-month', 'tenure': 3, 'monthlycharges': 79.65},\n",
       " {'contract': 'month-to-month', 'tenure': 1, 'monthlycharges': 80.5},\n",
       " {'contract': 'two_year', 'tenure': 64, 'monthlycharges': 70.2},\n",
       " {'contract': 'one_year', 'tenure': 56, 'monthlycharges': 106.8},\n",
       " {'contract': 'month-to-month', 'tenure': 47, 'monthlycharges': 98.75},\n",
       " {'contract': 'two_year', 'tenure': 70, 'monthlycharges': 79.15},\n",
       " {'contract': 'two_year', 'tenure': 48, 'monthlycharges': 108.1},\n",
       " {'contract': 'month-to-month', 'tenure': 1, 'monthlycharges': 61.15},\n",
       " {'contract': 'month-to-month', 'tenure': 3, 'monthlycharges': 19.9},\n",
       " {'contract': 'month-to-month', 'tenure': 29, 'monthlycharges': 33.75},\n",
       " {'contract': 'month-to-month', 'tenure': 12, 'monthlycharges': 112.95},\n",
       " {'contract': 'month-to-month', 'tenure': 8, 'monthlycharges': 74.85},\n",
       " {'contract': 'month-to-month', 'tenure': 1, 'monthlycharges': 75.1},\n",
       " {'contract': 'two_year', 'tenure': 23, 'monthlycharges': 77.15},\n",
       " {'contract': 'month-to-month', 'tenure': 47, 'monthlycharges': 85.5},\n",
       " {'contract': 'month-to-month', 'tenure': 54, 'monthlycharges': 99.05},\n",
       " {'contract': 'one_year', 'tenure': 25, 'monthlycharges': 54.2},\n",
       " {'contract': 'month-to-month', 'tenure': 26, 'monthlycharges': 84.3},\n",
       " {'contract': 'two_year', 'tenure': 68, 'monthlycharges': 103.25},\n",
       " {'contract': 'one_year', 'tenure': 56, 'monthlycharges': 94.8},\n",
       " {'contract': 'one_year', 'tenure': 66, 'monthlycharges': 108.1},\n",
       " {'contract': 'month-to-month', 'tenure': 11, 'monthlycharges': 64.9},\n",
       " {'contract': 'one_year', 'tenure': 46, 'monthlycharges': 69.1},\n",
       " {'contract': 'month-to-month', 'tenure': 33, 'monthlycharges': 50.0},\n",
       " {'contract': 'month-to-month', 'tenure': 54, 'monthlycharges': 104.1},\n",
       " {'contract': 'two_year', 'tenure': 72, 'monthlycharges': 65.6},\n",
       " {'contract': 'month-to-month', 'tenure': 54, 'monthlycharges': 24.95},\n",
       " {'contract': 'month-to-month', 'tenure': 55, 'monthlycharges': 73.1},\n",
       " {'contract': 'one_year', 'tenure': 68, 'monthlycharges': 100.3},\n",
       " {'contract': 'two_year', 'tenure': 72, 'monthlycharges': 66.85},\n",
       " {'contract': 'two_year', 'tenure': 18, 'monthlycharges': 24.65},\n",
       " {'contract': 'month-to-month', 'tenure': 52, 'monthlycharges': 109.1},\n",
       " {'contract': 'one_year', 'tenure': 54, 'monthlycharges': 105.2},\n",
       " {'contract': 'one_year', 'tenure': 17, 'monthlycharges': 19.9},\n",
       " {'contract': 'one_year', 'tenure': 33, 'monthlycharges': 93.55},\n",
       " {'contract': 'one_year', 'tenure': 61, 'monthlycharges': 103.95},\n",
       " {'contract': 'month-to-month', 'tenure': 1, 'monthlycharges': 90.1},\n",
       " {'contract': 'two_year', 'tenure': 71, 'monthlycharges': 82.7},\n",
       " {'contract': 'two_year', 'tenure': 6, 'monthlycharges': 63.4},\n",
       " {'contract': 'two_year', 'tenure': 69, 'monthlycharges': 81.95},\n",
       " {'contract': 'month-to-month', 'tenure': 9, 'monthlycharges': 83.3},\n",
       " {'contract': 'month-to-month', 'tenure': 34, 'monthlycharges': 100.05},\n",
       " {'contract': 'two_year', 'tenure': 60, 'monthlycharges': 60.8},\n",
       " {'contract': 'one_year', 'tenure': 51, 'monthlycharges': 23.95},\n",
       " {'contract': 'two_year', 'tenure': 43, 'monthlycharges': 75.2},\n",
       " {'contract': 'one_year', 'tenure': 42, 'monthlycharges': 63.7},\n",
       " {'contract': 'month-to-month', 'tenure': 29, 'monthlycharges': 51.6},\n",
       " {'contract': 'month-to-month', 'tenure': 3, 'monthlycharges': 89.45},\n",
       " {'contract': 'one_year', 'tenure': 46, 'monthlycharges': 24.45},\n",
       " {'contract': 'month-to-month', 'tenure': 17, 'monthlycharges': 89.4},\n",
       " {'contract': 'one_year', 'tenure': 43, 'monthlycharges': 85.1},\n",
       " {'contract': 'month-to-month', 'tenure': 45, 'monthlycharges': 108.45},\n",
       " {'contract': 'two_year', 'tenure': 72, 'monthlycharges': 109.95},\n",
       " {'contract': 'month-to-month', 'tenure': 4, 'monthlycharges': 29.05},\n",
       " {'contract': 'month-to-month', 'tenure': 7, 'monthlycharges': 18.95},\n",
       " {'contract': 'month-to-month', 'tenure': 2, 'monthlycharges': 79.75},\n",
       " {'contract': 'month-to-month', 'tenure': 1, 'monthlycharges': 25.1},\n",
       " {'contract': 'month-to-month', 'tenure': 7, 'monthlycharges': 75.35},\n",
       " {'contract': 'month-to-month', 'tenure': 8, 'monthlycharges': 69.7},\n",
       " {'contract': 'month-to-month', 'tenure': 15, 'monthlycharges': 75.1},\n",
       " {'contract': 'month-to-month', 'tenure': 45, 'monthlycharges': 115.65},\n",
       " {'contract': 'month-to-month', 'tenure': 32, 'monthlycharges': 79.3},\n",
       " {'contract': 'one_year', 'tenure': 15, 'monthlycharges': 50.75},\n",
       " {'contract': 'one_year', 'tenure': 19, 'monthlycharges': 87.7},\n",
       " {'contract': 'month-to-month', 'tenure': 8, 'monthlycharges': 100.6},\n",
       " {'contract': 'month-to-month', 'tenure': 9, 'monthlycharges': 58.5},\n",
       " {'contract': 'month-to-month', 'tenure': 41, 'monthlycharges': 106.5},\n",
       " {'contract': 'month-to-month', 'tenure': 2, 'monthlycharges': 86.2},\n",
       " {'contract': 'month-to-month', 'tenure': 1, 'monthlycharges': 20.6},\n",
       " {'contract': 'one_year', 'tenure': 28, 'monthlycharges': 92.9},\n",
       " {'contract': 'month-to-month', 'tenure': 67, 'monthlycharges': 101.4},\n",
       " {'contract': 'two_year', 'tenure': 72, 'monthlycharges': 111.65},\n",
       " {'contract': 'two_year', 'tenure': 63, 'monthlycharges': 97.45},\n",
       " {'contract': 'two_year', 'tenure': 47, 'monthlycharges': 20.05},\n",
       " {'contract': 'two_year', 'tenure': 15, 'monthlycharges': 19.35},\n",
       " {'contract': 'month-to-month', 'tenure': 4, 'monthlycharges': 70.05},\n",
       " {'contract': 'month-to-month', 'tenure': 5, 'monthlycharges': 51.0},\n",
       " {'contract': 'month-to-month', 'tenure': 24, 'monthlycharges': 79.85},\n",
       " {'contract': 'month-to-month', 'tenure': 4, 'monthlycharges': 70.65},\n",
       " {'contract': 'month-to-month', 'tenure': 24, 'monthlycharges': 79.85},\n",
       " {'contract': 'one_year', 'tenure': 40, 'monthlycharges': 103.75},\n",
       " {'contract': 'month-to-month', 'tenure': 14, 'monthlycharges': 86.3},\n",
       " {'contract': 'month-to-month', 'tenure': 1, 'monthlycharges': 45.3},\n",
       " {'contract': 'month-to-month', 'tenure': 25, 'monthlycharges': 65.8},\n",
       " {'contract': 'month-to-month', 'tenure': 7, 'monthlycharges': 34.5},\n",
       " {'contract': 'month-to-month', 'tenure': 1, 'monthlycharges': 20.25},\n",
       " {'contract': 'two_year', 'tenure': 27, 'monthlycharges': 19.85},\n",
       " {'contract': 'month-to-month', 'tenure': 1, 'monthlycharges': 19.3},\n",
       " {'contract': 'month-to-month', 'tenure': 7, 'monthlycharges': 71.35},\n",
       " {'contract': 'two_year', 'tenure': 55, 'monthlycharges': 85.1},\n",
       " {'contract': 'month-to-month', 'tenure': 2, 'monthlycharges': 80.15},\n",
       " {'contract': 'month-to-month', 'tenure': 23, 'monthlycharges': 85.6},\n",
       " {'contract': 'two_year', 'tenure': 70, 'monthlycharges': 98.3},\n",
       " {'contract': 'month-to-month', 'tenure': 2, 'monthlycharges': 95.5},\n",
       " {'contract': 'two_year', 'tenure': 48, 'monthlycharges': 19.25},\n",
       " {'contract': 'month-to-month', 'tenure': 67, 'monthlycharges': 75.7},\n",
       " {'contract': 'one_year', 'tenure': 40, 'monthlycharges': 60.3},\n",
       " {'contract': 'one_year', 'tenure': 35, 'monthlycharges': 73.45},\n",
       " {'contract': 'one_year', 'tenure': 9, 'monthlycharges': 20.15},\n",
       " {'contract': 'two_year', 'tenure': 47, 'monthlycharges': 19.65},\n",
       " {'contract': 'one_year', 'tenure': 51, 'monthlycharges': 94.0},\n",
       " {'contract': 'month-to-month', 'tenure': 2, 'monthlycharges': 85.65},\n",
       " {'contract': 'one_year', 'tenure': 60, 'monthlycharges': 79.2},\n",
       " {'contract': 'month-to-month', 'tenure': 1, 'monthlycharges': 84.6},\n",
       " {'contract': 'month-to-month', 'tenure': 3, 'monthlycharges': 69.35},\n",
       " {'contract': 'month-to-month', 'tenure': 2, 'monthlycharges': 80.25},\n",
       " {'contract': 'month-to-month', 'tenure': 64, 'monthlycharges': 99.15},\n",
       " {'contract': 'month-to-month', 'tenure': 30, 'monthlycharges': 94.1},\n",
       " {'contract': 'month-to-month', 'tenure': 2, 'monthlycharges': 44.95},\n",
       " {'contract': 'month-to-month', 'tenure': 22, 'monthlycharges': 95.1},\n",
       " {'contract': 'month-to-month', 'tenure': 1, 'monthlycharges': 49.9},\n",
       " {'contract': 'month-to-month', 'tenure': 16, 'monthlycharges': 69.1},\n",
       " {'contract': 'two_year', 'tenure': 68, 'monthlycharges': 82.85},\n",
       " {'contract': 'month-to-month', 'tenure': 8, 'monthlycharges': 80.1},\n",
       " {'contract': 'one_year', 'tenure': 47, 'monthlycharges': 58.9},\n",
       " {'contract': 'two_year', 'tenure': 69, 'monthlycharges': 86.9},\n",
       " {'contract': 'month-to-month', 'tenure': 4, 'monthlycharges': 19.0},\n",
       " {'contract': 'month-to-month', 'tenure': 8, 'monthlycharges': 94.7},\n",
       " {'contract': 'month-to-month', 'tenure': 1, 'monthlycharges': 44.9},\n",
       " {'contract': 'two_year', 'tenure': 35, 'monthlycharges': 19.25},\n",
       " {'contract': 'two_year', 'tenure': 61, 'monthlycharges': 94.1},\n",
       " {'contract': 'month-to-month', 'tenure': 6, 'monthlycharges': 44.75},\n",
       " {'contract': 'one_year', 'tenure': 40, 'monthlycharges': 106.0},\n",
       " {'contract': 'month-to-month', 'tenure': 30, 'monthlycharges': 66.3},\n",
       " {'contract': 'one_year', 'tenure': 37, 'monthlycharges': 90.6},\n",
       " {'contract': 'month-to-month', 'tenure': 7, 'monthlycharges': 24.7},\n",
       " {'contract': 'one_year', 'tenure': 33, 'monthlycharges': 103.7},\n",
       " {'contract': 'month-to-month', 'tenure': 18, 'monthlycharges': 90.7},\n",
       " {'contract': 'month-to-month', 'tenure': 7, 'monthlycharges': 48.7},\n",
       " {'contract': 'two_year', 'tenure': 60, 'monthlycharges': 110.0},\n",
       " {'contract': 'month-to-month', 'tenure': 3, 'monthlycharges': 40.3},\n",
       " {'contract': 'month-to-month', 'tenure': 24, 'monthlycharges': 104.25},\n",
       " {'contract': 'month-to-month', 'tenure': 23, 'monthlycharges': 104.45},\n",
       " {'contract': 'month-to-month', 'tenure': 1, 'monthlycharges': 95.6},\n",
       " {'contract': 'month-to-month', 'tenure': 1, 'monthlycharges': 49.95},\n",
       " {'contract': 'month-to-month', 'tenure': 12, 'monthlycharges': 99.45},\n",
       " {'contract': 'month-to-month', 'tenure': 6, 'monthlycharges': 19.5},\n",
       " {'contract': 'month-to-month', 'tenure': 12, 'monthlycharges': 91.3},\n",
       " {'contract': 'month-to-month', 'tenure': 1, 'monthlycharges': 24.8},\n",
       " {'contract': 'month-to-month', 'tenure': 44, 'monthlycharges': 95.1},\n",
       " {'contract': 'two_year', 'tenure': 71, 'monthlycharges': 24.75},\n",
       " {'contract': 'month-to-month', 'tenure': 48, 'monthlycharges': 45.3},\n",
       " {'contract': 'month-to-month', 'tenure': 50, 'monthlycharges': 95.7},\n",
       " {'contract': 'one_year', 'tenure': 29, 'monthlycharges': 58.75},\n",
       " {'contract': 'month-to-month', 'tenure': 6, 'monthlycharges': 59.15},\n",
       " {'contract': 'month-to-month', 'tenure': 1, 'monthlycharges': 70.05},\n",
       " {'contract': 'month-to-month', 'tenure': 1, 'monthlycharges': 69.95},\n",
       " {'contract': 'one_year', 'tenure': 32, 'monthlycharges': 20.55},\n",
       " {'contract': 'month-to-month', 'tenure': 2, 'monthlycharges': 24.5},\n",
       " {'contract': 'two_year', 'tenure': 39, 'monthlycharges': 20.7},\n",
       " {'contract': 'two_year', 'tenure': 57, 'monthlycharges': 79.75},\n",
       " {'contract': 'month-to-month', 'tenure': 26, 'monthlycharges': 80.5},\n",
       " {'contract': 'one_year', 'tenure': 27, 'monthlycharges': 20.3},\n",
       " {'contract': 'one_year', 'tenure': 31, 'monthlycharges': 20.1},\n",
       " {'contract': 'month-to-month', 'tenure': 35, 'monthlycharges': 20.75},\n",
       " {'contract': 'month-to-month', 'tenure': 14, 'monthlycharges': 92.9},\n",
       " {'contract': 'two_year', 'tenure': 72, 'monthlycharges': 88.6},\n",
       " {'contract': 'month-to-month', 'tenure': 1, 'monthlycharges': 20.3},\n",
       " {'contract': 'one_year', 'tenure': 48, 'monthlycharges': 75.15},\n",
       " {'contract': 'month-to-month', 'tenure': 6, 'monthlycharges': 55.3},\n",
       " {'contract': 'month-to-month', 'tenure': 20, 'monthlycharges': 94.1},\n",
       " {'contract': 'month-to-month', 'tenure': 1, 'monthlycharges': 70.25},\n",
       " {'contract': 'two_year', 'tenure': 72, 'monthlycharges': 21.15},\n",
       " {'contract': 'one_year', 'tenure': 44, 'monthlycharges': 59.85},\n",
       " {'contract': 'two_year', 'tenure': 72, 'monthlycharges': 24.55},\n",
       " {'contract': 'month-to-month', 'tenure': 1, 'monthlycharges': 74.7},\n",
       " {'contract': 'month-to-month', 'tenure': 16, 'monthlycharges': 80.75},\n",
       " {'contract': 'month-to-month', 'tenure': 11, 'monthlycharges': 99.55},\n",
       " {'contract': 'two_year', 'tenure': 64, 'monthlycharges': 60.05},\n",
       " {'contract': 'one_year', 'tenure': 22, 'monthlycharges': 78.65},\n",
       " {'contract': 'month-to-month', 'tenure': 15, 'monthlycharges': 87.75},\n",
       " {'contract': 'two_year', 'tenure': 13, 'monthlycharges': 19.55},\n",
       " {'contract': 'one_year', 'tenure': 48, 'monthlycharges': 24.55},\n",
       " {'contract': 'month-to-month', 'tenure': 15, 'monthlycharges': 75.35},\n",
       " {'contract': 'month-to-month', 'tenure': 26, 'monthlycharges': 95.0},\n",
       " {'contract': 'month-to-month', 'tenure': 40, 'monthlycharges': 101.85},\n",
       " {'contract': 'one_year', 'tenure': 31, 'monthlycharges': 93.8},\n",
       " {'contract': 'two_year', 'tenure': 66, 'monthlycharges': 47.4},\n",
       " {'contract': 'two_year', 'tenure': 72, 'monthlycharges': 109.7},\n",
       " {'contract': 'two_year', 'tenure': 52, 'monthlycharges': 63.9},\n",
       " {'contract': 'month-to-month', 'tenure': 2, 'monthlycharges': 45.85},\n",
       " {'contract': 'two_year', 'tenure': 71, 'monthlycharges': 23.9},\n",
       " {'contract': 'one_year', 'tenure': 42, 'monthlycharges': 73.9},\n",
       " {'contract': 'two_year', 'tenure': 62, 'monthlycharges': 39.0},\n",
       " {'contract': 'month-to-month', 'tenure': 2, 'monthlycharges': 50.2},\n",
       " {'contract': 'month-to-month', 'tenure': 34, 'monthlycharges': 69.15},\n",
       " {'contract': 'month-to-month', 'tenure': 11, 'monthlycharges': 79.0},\n",
       " {'contract': 'one_year', 'tenure': 61, 'monthlycharges': 49.7},\n",
       " {'contract': 'month-to-month', 'tenure': 3, 'monthlycharges': 20.2},\n",
       " {'contract': 'month-to-month', 'tenure': 1, 'monthlycharges': 20.4},\n",
       " {'contract': 'one_year', 'tenure': 40, 'monthlycharges': 62.05},\n",
       " {'contract': 'two_year', 'tenure': 46, 'monthlycharges': 108.9},\n",
       " {'contract': 'month-to-month', 'tenure': 1, 'monthlycharges': 47.95},\n",
       " {'contract': 'month-to-month', 'tenure': 12, 'monthlycharges': 69.85},\n",
       " {'contract': 'two_year', 'tenure': 72, 'monthlycharges': 83.7},\n",
       " {'contract': 'one_year', 'tenure': 41, 'monthlycharges': 78.35},\n",
       " {'contract': 'one_year', 'tenure': 38, 'monthlycharges': 70.6},\n",
       " {'contract': 'month-to-month', 'tenure': 3, 'monthlycharges': 80.1},\n",
       " {'contract': 'month-to-month', 'tenure': 18, 'monthlycharges': 95.45},\n",
       " {'contract': 'month-to-month', 'tenure': 31, 'monthlycharges': 83.85},\n",
       " {'contract': 'two_year', 'tenure': 58, 'monthlycharges': 71.6},\n",
       " {'contract': 'month-to-month', 'tenure': 18, 'monthlycharges': 50.0},\n",
       " {'contract': 'month-to-month', 'tenure': 20, 'monthlycharges': 55.0},\n",
       " {'contract': 'month-to-month', 'tenure': 7, 'monthlycharges': 25.05},\n",
       " {'contract': 'month-to-month', 'tenure': 46, 'monthlycharges': 80.0},\n",
       " {'contract': 'month-to-month', 'tenure': 14, 'monthlycharges': 78.1},\n",
       " {'contract': 'month-to-month', 'tenure': 1, 'monthlycharges': 80.15},\n",
       " {'contract': 'one_year', 'tenure': 55, 'monthlycharges': 19.5},\n",
       " {'contract': 'month-to-month', 'tenure': 11, 'monthlycharges': 70.5},\n",
       " {'contract': 'month-to-month', 'tenure': 8, 'monthlycharges': 54.65},\n",
       " {'contract': 'month-to-month', 'tenure': 29, 'monthlycharges': 78.9},\n",
       " {'contract': 'two_year', 'tenure': 70, 'monthlycharges': 76.95},\n",
       " {'contract': 'one_year', 'tenure': 29, 'monthlycharges': 35.6},\n",
       " {'contract': 'one_year', 'tenure': 38, 'monthlycharges': 19.3},\n",
       " {'contract': 'two_year', 'tenure': 57, 'monthlycharges': 20.75},\n",
       " {'contract': 'one_year', 'tenure': 11, 'monthlycharges': 61.25},\n",
       " {'contract': 'month-to-month', 'tenure': 23, 'monthlycharges': 90.0},\n",
       " {'contract': 'month-to-month', 'tenure': 41, 'monthlycharges': 74.25},\n",
       " {'contract': 'month-to-month', 'tenure': 3, 'monthlycharges': 20.05},\n",
       " {'contract': 'month-to-month', 'tenure': 45, 'monthlycharges': 95.95},\n",
       " {'contract': 'two_year', 'tenure': 70, 'monthlycharges': 110.2},\n",
       " {'contract': 'month-to-month', 'tenure': 1, 'monthlycharges': 50.9},\n",
       " {'contract': 'month-to-month', 'tenure': 3, 'monthlycharges': 55.9},\n",
       " {'contract': 'two_year', 'tenure': 63, 'monthlycharges': 83.5},\n",
       " {'contract': 'month-to-month', 'tenure': 5, 'monthlycharges': 20.35},\n",
       " {'contract': 'one_year', 'tenure': 29, 'monthlycharges': 19.85},\n",
       " {'contract': 'two_year', 'tenure': 72, 'monthlycharges': 107.5},\n",
       " {'contract': 'two_year', 'tenure': 71, 'monthlycharges': 58.25},\n",
       " {'contract': 'two_year', 'tenure': 18, 'monthlycharges': 20.05},\n",
       " {'contract': 'two_year', 'tenure': 3, 'monthlycharges': 19.1},\n",
       " {'contract': 'month-to-month', 'tenure': 4, 'monthlycharges': 74.35},\n",
       " {'contract': 'month-to-month', 'tenure': 2, 'monthlycharges': 55.3},\n",
       " {'contract': 'two_year', 'tenure': 60, 'monthlycharges': 61.4},\n",
       " {'contract': 'two_year', 'tenure': 72, 'monthlycharges': 69.65},\n",
       " {'contract': 'two_year', 'tenure': 68, 'monthlycharges': 85.0},\n",
       " {'contract': 'two_year', 'tenure': 38, 'monthlycharges': 60.0},\n",
       " {'contract': 'two_year', 'tenure': 58, 'monthlycharges': 20.8},\n",
       " {'contract': 'month-to-month', 'tenure': 6, 'monthlycharges': 105.3},\n",
       " {'contract': 'one_year', 'tenure': 52, 'monthlycharges': 57.95},\n",
       " {'contract': 'month-to-month', 'tenure': 19, 'monthlycharges': 89.95},\n",
       " {'contract': 'month-to-month', 'tenure': 8, 'monthlycharges': 60.9},\n",
       " {'contract': 'month-to-month', 'tenure': 1, 'monthlycharges': 19.1},\n",
       " {'contract': 'one_year', 'tenure': 37, 'monthlycharges': 104.5},\n",
       " {'contract': 'month-to-month', 'tenure': 6, 'monthlycharges': 60.9},\n",
       " {'contract': 'month-to-month', 'tenure': 1, 'monthlycharges': 19.95},\n",
       " {'contract': 'month-to-month', 'tenure': 3, 'monthlycharges': 73.85},\n",
       " {'contract': 'month-to-month', 'tenure': 2, 'monthlycharges': 30.4},\n",
       " {'contract': 'one_year', 'tenure': 43, 'monthlycharges': 100.55},\n",
       " {'contract': 'one_year', 'tenure': 43, 'monthlycharges': 84.25},\n",
       " {'contract': 'month-to-month', 'tenure': 14, 'monthlycharges': 80.35},\n",
       " {'contract': 'month-to-month', 'tenure': 3, 'monthlycharges': 69.55},\n",
       " {'contract': 'month-to-month', 'tenure': 10, 'monthlycharges': 19.85},\n",
       " {'contract': 'month-to-month', 'tenure': 12, 'monthlycharges': 19.7},\n",
       " {'contract': 'month-to-month', 'tenure': 5, 'monthlycharges': 85.55},\n",
       " {'contract': 'month-to-month', 'tenure': 67, 'monthlycharges': 102.95},\n",
       " {'contract': 'month-to-month', 'tenure': 11, 'monthlycharges': 86.2},\n",
       " {'contract': 'two_year', 'tenure': 68, 'monthlycharges': 84.7},\n",
       " {'contract': 'month-to-month', 'tenure': 34, 'monthlycharges': 97.65},\n",
       " {'contract': 'month-to-month', 'tenure': 2, 'monthlycharges': 54.4},\n",
       " {'contract': 'month-to-month', 'tenure': 44, 'monthlycharges': 85.15},\n",
       " {'contract': 'two_year', 'tenure': 71, 'monthlycharges': 64.05},\n",
       " {'contract': 'month-to-month', 'tenure': 10, 'monthlycharges': 72.15},\n",
       " {'contract': 'one_year', 'tenure': 30, 'monthlycharges': 68.95},\n",
       " {'contract': 'two_year', 'tenure': 43, 'monthlycharges': 78.8},\n",
       " {'contract': 'one_year', 'tenure': 32, 'monthlycharges': 19.3},\n",
       " {'contract': 'month-to-month', 'tenure': 1, 'monthlycharges': 70.55},\n",
       " {'contract': 'month-to-month', 'tenure': 11, 'monthlycharges': 20.25},\n",
       " {'contract': 'month-to-month', 'tenure': 29, 'monthlycharges': 99.05},\n",
       " {'contract': 'two_year', 'tenure': 0, 'monthlycharges': 20.25},\n",
       " {'contract': 'one_year', 'tenure': 19, 'monthlycharges': 100.0},\n",
       " {'contract': 'month-to-month', 'tenure': 40, 'monthlycharges': 102.65},\n",
       " {'contract': 'one_year', 'tenure': 28, 'monthlycharges': 90.1},\n",
       " {'contract': 'month-to-month', 'tenure': 27, 'monthlycharges': 19.15},\n",
       " {'contract': 'two_year', 'tenure': 22, 'monthlycharges': 25.25},\n",
       " {'contract': 'one_year', 'tenure': 69, 'monthlycharges': 73.7},\n",
       " {'contract': 'two_year', 'tenure': 52, 'monthlycharges': 58.75},\n",
       " {'contract': 'month-to-month', 'tenure': 3, 'monthlycharges': 20.5},\n",
       " {'contract': 'month-to-month', 'tenure': 16, 'monthlycharges': 98.75},\n",
       " {'contract': 'month-to-month', 'tenure': 71, 'monthlycharges': 107.5},\n",
       " {'contract': 'two_year', 'tenure': 72, 'monthlycharges': 102.65},\n",
       " {'contract': 'two_year', 'tenure': 6, 'monthlycharges': 19.65},\n",
       " {'contract': 'two_year', 'tenure': 70, 'monthlycharges': 75.35},\n",
       " {'contract': 'month-to-month', 'tenure': 1, 'monthlycharges': 20.65},\n",
       " {'contract': 'month-to-month', 'tenure': 18, 'monthlycharges': 74.15},\n",
       " {'contract': 'month-to-month', 'tenure': 5, 'monthlycharges': 85.4},\n",
       " {'contract': 'month-to-month', 'tenure': 1, 'monthlycharges': 20.2},\n",
       " {'contract': 'month-to-month', 'tenure': 12, 'monthlycharges': 98.1},\n",
       " {'contract': 'two_year', 'tenure': 72, 'monthlycharges': 42.1},\n",
       " {'contract': 'month-to-month', 'tenure': 6, 'monthlycharges': 47.95},\n",
       " {'contract': 'month-to-month', 'tenure': 1, 'monthlycharges': 85.0},\n",
       " {'contract': 'month-to-month', 'tenure': 26, 'monthlycharges': 78.8},\n",
       " {'contract': 'month-to-month', 'tenure': 33, 'monthlycharges': 100.0},\n",
       " {'contract': 'month-to-month', 'tenure': 31, 'monthlycharges': 73.9},\n",
       " {'contract': 'one_year', 'tenure': 23, 'monthlycharges': 19.3},\n",
       " {'contract': 'month-to-month', 'tenure': 1, 'monthlycharges': 75.5},\n",
       " {'contract': 'month-to-month', 'tenure': 15, 'monthlycharges': 83.05},\n",
       " {'contract': 'month-to-month', 'tenure': 14, 'monthlycharges': 71.0},\n",
       " {'contract': 'one_year', 'tenure': 43, 'monthlycharges': 60.4},\n",
       " {'contract': 'two_year', 'tenure': 64, 'monthlycharges': 19.45},\n",
       " {'contract': 'month-to-month', 'tenure': 19, 'monthlycharges': 49.6},\n",
       " {'contract': 'month-to-month', 'tenure': 59, 'monthlycharges': 89.75},\n",
       " {'contract': 'month-to-month', 'tenure': 3, 'monthlycharges': 57.55},\n",
       " {'contract': 'month-to-month', 'tenure': 15, 'monthlycharges': 64.65},\n",
       " {'contract': 'month-to-month', 'tenure': 7, 'monthlycharges': 84.35},\n",
       " {'contract': 'month-to-month', 'tenure': 7, 'monthlycharges': 20.35},\n",
       " {'contract': 'month-to-month', 'tenure': 37, 'monthlycharges': 76.5},\n",
       " {'contract': 'month-to-month', 'tenure': 2, 'monthlycharges': 70.3},\n",
       " {'contract': 'month-to-month', 'tenure': 21, 'monthlycharges': 69.1},\n",
       " {'contract': 'month-to-month', 'tenure': 19, 'monthlycharges': 88.8},\n",
       " {'contract': 'one_year', 'tenure': 66, 'monthlycharges': 63.85},\n",
       " {'contract': 'month-to-month', 'tenure': 4, 'monthlycharges': 60.4},\n",
       " {'contract': 'two_year', 'tenure': 69, 'monthlycharges': 109.95},\n",
       " {'contract': 'month-to-month', 'tenure': 8, 'monthlycharges': 100.15},\n",
       " {'contract': 'two_year', 'tenure': 69, 'monthlycharges': 112.55},\n",
       " {'contract': 'month-to-month', 'tenure': 2, 'monthlycharges': 50.3},\n",
       " {'contract': 'month-to-month', 'tenure': 1, 'monthlycharges': 45.95},\n",
       " {'contract': 'two_year', 'tenure': 55, 'monthlycharges': 59.2},\n",
       " {'contract': 'one_year', 'tenure': 18, 'monthlycharges': 20.1},\n",
       " {'contract': 'one_year', 'tenure': 64, 'monthlycharges': 58.35},\n",
       " {'contract': 'month-to-month', 'tenure': 6, 'monthlycharges': 55.0},\n",
       " {'contract': 'two_year', 'tenure': 69, 'monthlycharges': 99.15},\n",
       " {'contract': 'one_year', 'tenure': 40, 'monthlycharges': 70.75},\n",
       " {'contract': 'month-to-month', 'tenure': 30, 'monthlycharges': 90.05},\n",
       " {'contract': 'two_year', 'tenure': 72, 'monthlycharges': 64.8},\n",
       " {'contract': 'two_year', 'tenure': 25, 'monthlycharges': 20.1},\n",
       " {'contract': 'two_year', 'tenure': 50, 'monthlycharges': 109.65},\n",
       " {'contract': 'month-to-month', 'tenure': 5, 'monthlycharges': 80.15},\n",
       " {'contract': 'month-to-month', 'tenure': 30, 'monthlycharges': 101.3},\n",
       " {'contract': 'two_year', 'tenure': 41, 'monthlycharges': 20.65},\n",
       " {'contract': 'month-to-month', 'tenure': 56, 'monthlycharges': 105.35},\n",
       " {'contract': 'one_year', 'tenure': 70, 'monthlycharges': 58.4},\n",
       " {'contract': 'month-to-month', 'tenure': 7, 'monthlycharges': 20.65},\n",
       " {'contract': 'month-to-month', 'tenure': 1, 'monthlycharges': 20.3},\n",
       " {'contract': 'one_year', 'tenure': 38, 'monthlycharges': 84.1},\n",
       " {'contract': 'month-to-month', 'tenure': 23, 'monthlycharges': 79.15},\n",
       " {'contract': 'two_year', 'tenure': 72, 'monthlycharges': 25.1},\n",
       " {'contract': 'month-to-month', 'tenure': 5, 'monthlycharges': 75.15},\n",
       " {'contract': 'month-to-month', 'tenure': 20, 'monthlycharges': 80.7},\n",
       " {'contract': 'month-to-month', 'tenure': 9, 'monthlycharges': 85.05},\n",
       " {'contract': 'month-to-month', 'tenure': 29, 'monthlycharges': 74.95},\n",
       " {'contract': 'month-to-month', 'tenure': 11, 'monthlycharges': 59.65},\n",
       " {'contract': 'month-to-month', 'tenure': 51, 'monthlycharges': 80.75},\n",
       " {'contract': 'month-to-month', 'tenure': 2, 'monthlycharges': 44.9},\n",
       " {'contract': 'month-to-month', 'tenure': 39, 'monthlycharges': 99.75},\n",
       " {'contract': 'month-to-month', 'tenure': 26, 'monthlycharges': 49.5},\n",
       " {'contract': 'month-to-month', 'tenure': 6, 'monthlycharges': 19.7},\n",
       " {'contract': 'two_year', 'tenure': 57, 'monthlycharges': 59.75},\n",
       " {'contract': 'month-to-month', 'tenure': 4, 'monthlycharges': 100.2},\n",
       " {'contract': 'month-to-month', 'tenure': 3, 'monthlycharges': 29.6},\n",
       " {'contract': 'one_year', 'tenure': 28, 'monthlycharges': 100.35},\n",
       " {'contract': 'one_year', 'tenure': 32, 'monthlycharges': 70.5},\n",
       " {'contract': 'one_year', 'tenure': 36, 'monthlycharges': 20.35},\n",
       " {'contract': 'month-to-month', 'tenure': 27, 'monthlycharges': 50.35},\n",
       " {'contract': 'month-to-month', 'tenure': 3, 'monthlycharges': 69.15},\n",
       " {'contract': 'two_year', 'tenure': 62, 'monthlycharges': 84.5},\n",
       " {'contract': 'one_year', 'tenure': 49, 'monthlycharges': 20.45},\n",
       " {'contract': 'month-to-month', 'tenure': 19, 'monthlycharges': 59.55},\n",
       " {'contract': 'month-to-month', 'tenure': 5, 'monthlycharges': 45.4},\n",
       " {'contract': 'month-to-month', 'tenure': 1, 'monthlycharges': 89.35},\n",
       " {'contract': 'month-to-month', 'tenure': 3, 'monthlycharges': 23.6},\n",
       " {'contract': 'month-to-month', 'tenure': 10, 'monthlycharges': 20.55},\n",
       " {'contract': 'one_year', 'tenure': 33, 'monthlycharges': 79.15},\n",
       " {'contract': 'month-to-month', 'tenure': 14, 'monthlycharges': 25.55},\n",
       " {'contract': 'month-to-month', 'tenure': 61, 'monthlycharges': 82.15},\n",
       " {'contract': 'month-to-month', 'tenure': 1, 'monthlycharges': 25.0},\n",
       " {'contract': 'month-to-month', 'tenure': 1, 'monthlycharges': 55.7},\n",
       " {'contract': 'month-to-month', 'tenure': 18, 'monthlycharges': 75.9},\n",
       " {'contract': 'month-to-month', 'tenure': 60, 'monthlycharges': 99.8},\n",
       " {'contract': 'month-to-month', 'tenure': 7, 'monthlycharges': 85.2},\n",
       " {'contract': 'one_year', 'tenure': 15, 'monthlycharges': 20.1},\n",
       " {'contract': 'month-to-month', 'tenure': 1, 'monthlycharges': 24.4},\n",
       " {'contract': 'one_year', 'tenure': 17, 'monthlycharges': 44.45},\n",
       " {'contract': 'two_year', 'tenure': 72, 'monthlycharges': 83.3},\n",
       " {'contract': 'month-to-month', 'tenure': 39, 'monthlycharges': 81.5},\n",
       " {'contract': 'month-to-month', 'tenure': 7, 'monthlycharges': 94.7},\n",
       " {'contract': 'one_year', 'tenure': 30, 'monthlycharges': 85.35},\n",
       " {'contract': 'month-to-month', 'tenure': 32, 'monthlycharges': 69.75},\n",
       " {'contract': 'two_year', 'tenure': 58, 'monthlycharges': 70.1},\n",
       " {'contract': 'one_year', 'tenure': 68, 'monthlycharges': 75.8},\n",
       " {'contract': 'two_year', 'tenure': 64, 'monthlycharges': 68.3},\n",
       " {'contract': 'two_year', 'tenure': 35, 'monthlycharges': 69.15},\n",
       " {'contract': 'two_year', 'tenure': 72, 'monthlycharges': 65.65},\n",
       " {'contract': 'two_year', 'tenure': 72, 'monthlycharges': 91.15},\n",
       " {'contract': 'month-to-month', 'tenure': 2, 'monthlycharges': 74.4},\n",
       " {'contract': 'two_year', 'tenure': 66, 'monthlycharges': 56.75},\n",
       " {'contract': 'two_year', 'tenure': 65, 'monthlycharges': 74.8},\n",
       " {'contract': 'one_year', 'tenure': 61, 'monthlycharges': 115.1},\n",
       " {'contract': 'month-to-month', 'tenure': 17, 'monthlycharges': 83.55},\n",
       " {'contract': 'month-to-month', 'tenure': 1, 'monthlycharges': 25.75},\n",
       " {'contract': 'one_year', 'tenure': 38, 'monthlycharges': 24.25},\n",
       " {'contract': 'month-to-month', 'tenure': 22, 'monthlycharges': 55.1},\n",
       " {'contract': 'month-to-month', 'tenure': 1, 'monthlycharges': 25.3},\n",
       " {'contract': 'month-to-month', 'tenure': 21, 'monthlycharges': 44.95},\n",
       " {'contract': 'one_year', 'tenure': 68, 'monthlycharges': 76.9},\n",
       " {'contract': 'month-to-month', 'tenure': 39, 'monthlycharges': 50.65},\n",
       " {'contract': 'month-to-month', 'tenure': 35, 'monthlycharges': 55.0},\n",
       " {'contract': 'two_year', 'tenure': 52, 'monthlycharges': 66.25},\n",
       " {'contract': 'two_year', 'tenure': 71, 'monthlycharges': 104.15},\n",
       " {'contract': 'month-to-month', 'tenure': 1, 'monthlycharges': 59.2},\n",
       " {'contract': 'month-to-month', 'tenure': 43, 'monthlycharges': 103.0},\n",
       " {'contract': 'one_year', 'tenure': 72, 'monthlycharges': 104.45},\n",
       " {'contract': 'two_year', 'tenure': 8, 'monthlycharges': 19.85},\n",
       " {'contract': 'one_year', 'tenure': 34, 'monthlycharges': 99.85},\n",
       " {'contract': 'month-to-month', 'tenure': 1, 'monthlycharges': 20.0},\n",
       " {'contract': 'two_year', 'tenure': 72, 'monthlycharges': 108.3},\n",
       " {'contract': 'one_year', 'tenure': 11, 'monthlycharges': 64.9},\n",
       " {'contract': 'one_year', 'tenure': 16, 'monthlycharges': 55.85},\n",
       " {'contract': 'month-to-month', 'tenure': 45, 'monthlycharges': 100.85},\n",
       " {'contract': 'month-to-month', 'tenure': 16, 'monthlycharges': 89.05},\n",
       " {'contract': 'month-to-month', 'tenure': 37, 'monthlycharges': 72.25},\n",
       " {'contract': 'month-to-month', 'tenure': 16, 'monthlycharges': 20.6},\n",
       " {'contract': 'one_year', 'tenure': 25, 'monthlycharges': 19.9},\n",
       " {'contract': 'one_year', 'tenure': 10, 'monthlycharges': 49.55},\n",
       " {'contract': 'one_year', 'tenure': 26, 'monthlycharges': 61.55},\n",
       " {'contract': 'month-to-month', 'tenure': 42, 'monthlycharges': 101.75},\n",
       " {'contract': 'two_year', 'tenure': 45, 'monthlycharges': 24.45},\n",
       " {'contract': 'month-to-month', 'tenure': 47, 'monthlycharges': 106.4},\n",
       " {'contract': 'one_year', 'tenure': 40, 'monthlycharges': 105.75},\n",
       " {'contract': 'month-to-month', 'tenure': 17, 'monthlycharges': 82.65},\n",
       " {'contract': 'month-to-month', 'tenure': 2, 'monthlycharges': 24.45},\n",
       " {'contract': 'one_year', 'tenure': 23, 'monthlycharges': 81.85},\n",
       " {'contract': 'two_year', 'tenure': 53, 'monthlycharges': 19.85},\n",
       " {'contract': 'month-to-month', 'tenure': 5, 'monthlycharges': 80.1},\n",
       " {'contract': 'two_year', 'tenure': 72, 'monthlycharges': 73.0},\n",
       " {'contract': 'one_year', 'tenure': 44, 'monthlycharges': 94.4},\n",
       " {'contract': 'month-to-month', 'tenure': 16, 'monthlycharges': 19.6},\n",
       " {'contract': 'two_year', 'tenure': 71, 'monthlycharges': 114.6},\n",
       " {'contract': 'two_year', 'tenure': 63, 'monthlycharges': 75.55},\n",
       " {'contract': 'two_year', 'tenure': 70, 'monthlycharges': 25.15},\n",
       " {'contract': 'month-to-month', 'tenure': 19, 'monthlycharges': 105.0},\n",
       " {'contract': 'two_year', 'tenure': 58, 'monthlycharges': 109.45},\n",
       " {'contract': 'month-to-month', 'tenure': 41, 'monthlycharges': 94.55},\n",
       " {'contract': 'month-to-month', 'tenure': 9, 'monthlycharges': 70.05},\n",
       " {'contract': 'one_year', 'tenure': 44, 'monthlycharges': 54.3},\n",
       " {'contract': 'two_year', 'tenure': 72, 'monthlycharges': 89.85},\n",
       " {'contract': 'two_year', 'tenure': 62, 'monthlycharges': 113.95},\n",
       " {'contract': 'one_year', 'tenure': 41, 'monthlycharges': 89.55},\n",
       " {'contract': 'month-to-month', 'tenure': 43, 'monthlycharges': 50.2},\n",
       " {'contract': 'month-to-month', 'tenure': 20, 'monthlycharges': 25.55},\n",
       " {'contract': 'month-to-month', 'tenure': 8, 'monthlycharges': 45.45},\n",
       " {'contract': 'one_year', 'tenure': 60, 'monthlycharges': 44.45},\n",
       " {'contract': 'one_year', 'tenure': 35, 'monthlycharges': 21.1},\n",
       " {'contract': 'one_year', 'tenure': 45, 'monthlycharges': 51.0},\n",
       " {'contract': 'month-to-month', 'tenure': 2, 'monthlycharges': 75.55},\n",
       " {'contract': 'two_year', 'tenure': 66, 'monthlycharges': 105.65},\n",
       " {'contract': 'month-to-month', 'tenure': 3, 'monthlycharges': 74.55},\n",
       " {'contract': 'one_year', 'tenure': 60, 'monthlycharges': 50.05},\n",
       " {'contract': 'month-to-month', 'tenure': 10, 'monthlycharges': 65.5},\n",
       " {'contract': 'month-to-month', 'tenure': 50, 'monthlycharges': 104.95},\n",
       " {'contract': 'month-to-month', 'tenure': 19, 'monthlycharges': 83.65},\n",
       " {'contract': 'one_year', 'tenure': 64, 'monthlycharges': 108.5},\n",
       " {'contract': 'month-to-month', 'tenure': 7, 'monthlycharges': 69.15},\n",
       " {'contract': 'two_year', 'tenure': 51, 'monthlycharges': 34.2},\n",
       " {'contract': 'one_year', 'tenure': 37, 'monthlycharges': 99.2},\n",
       " {'contract': 'month-to-month', 'tenure': 10, 'monthlycharges': 84.7},\n",
       " {'contract': 'two_year', 'tenure': 70, 'monthlycharges': 114.6},\n",
       " {'contract': 'month-to-month', 'tenure': 5, 'monthlycharges': 88.9},\n",
       " {'contract': 'month-to-month', 'tenure': 64, 'monthlycharges': 108.95},\n",
       " {'contract': 'one_year', 'tenure': 62, 'monthlycharges': 103.75},\n",
       " {'contract': 'month-to-month', 'tenure': 1, 'monthlycharges': 88.35},\n",
       " {'contract': 'one_year', 'tenure': 20, 'monthlycharges': 20.0},\n",
       " {'contract': 'two_year', 'tenure': 72, 'monthlycharges': 99.15},\n",
       " {'contract': 'month-to-month', 'tenure': 2, 'monthlycharges': 19.65},\n",
       " {'contract': 'month-to-month', 'tenure': 66, 'monthlycharges': 105.2},\n",
       " {'contract': 'month-to-month', 'tenure': 19, 'monthlycharges': 55.0},\n",
       " {'contract': 'month-to-month', 'tenure': 1, 'monthlycharges': 44.35},\n",
       " {'contract': 'one_year', 'tenure': 24, 'monthlycharges': 57.6},\n",
       " {'contract': 'month-to-month', 'tenure': 16, 'monthlycharges': 88.45},\n",
       " {'contract': 'month-to-month', 'tenure': 6, 'monthlycharges': 55.15},\n",
       " {'contract': 'month-to-month', 'tenure': 15, 'monthlycharges': 101.1},\n",
       " {'contract': 'two_year', 'tenure': 72, 'monthlycharges': 110.6},\n",
       " {'contract': 'two_year', 'tenure': 70, 'monthlycharges': 19.8},\n",
       " {'contract': 'month-to-month', 'tenure': 2, 'monthlycharges': 93.85},\n",
       " {'contract': 'month-to-month', 'tenure': 15, 'monthlycharges': 46.3},\n",
       " {'contract': 'one_year', 'tenure': 33, 'monthlycharges': 20.1},\n",
       " {'contract': 'month-to-month', 'tenure': 14, 'monthlycharges': 90.9},\n",
       " {'contract': 'month-to-month', 'tenure': 23, 'monthlycharges': 79.35},\n",
       " {'contract': 'month-to-month', 'tenure': 9, 'monthlycharges': 20.15},\n",
       " {'contract': 'one_year', 'tenure': 60, 'monthlycharges': 106.0},\n",
       " {'contract': 'one_year', 'tenure': 32, 'monthlycharges': 109.55},\n",
       " {'contract': 'month-to-month', 'tenure': 23, 'monthlycharges': 49.7},\n",
       " {'contract': 'one_year', 'tenure': 50, 'monthlycharges': 19.35},\n",
       " {'contract': 'two_year', 'tenure': 72, 'monthlycharges': 86.6},\n",
       " {'contract': 'month-to-month', 'tenure': 9, 'monthlycharges': 79.9},\n",
       " {'contract': 'month-to-month', 'tenure': 3, 'monthlycharges': 77.0},\n",
       " {'contract': 'two_year', 'tenure': 72, 'monthlycharges': 66.75},\n",
       " {'contract': 'month-to-month', 'tenure': 11, 'monthlycharges': 51.0},\n",
       " {'contract': 'one_year', 'tenure': 39, 'monthlycharges': 89.55},\n",
       " {'contract': 'month-to-month', 'tenure': 3, 'monthlycharges': 79.1},\n",
       " {'contract': 'month-to-month', 'tenure': 1, 'monthlycharges': 75.3},\n",
       " {'contract': 'month-to-month', 'tenure': 4, 'monthlycharges': 81.0},\n",
       " {'contract': 'month-to-month', 'tenure': 2, 'monthlycharges': 45.35},\n",
       " {'contract': 'two_year', 'tenure': 66, 'monthlycharges': 25.3},\n",
       " {'contract': 'two_year', 'tenure': 72, 'monthlycharges': 24.45},\n",
       " {'contract': 'month-to-month', 'tenure': 7, 'monthlycharges': 86.5},\n",
       " {'contract': 'month-to-month', 'tenure': 17, 'monthlycharges': 35.65},\n",
       " {'contract': 'month-to-month', 'tenure': 31, 'monthlycharges': 93.8},\n",
       " {'contract': 'one_year', 'tenure': 46, 'monthlycharges': 24.95},\n",
       " {'contract': 'month-to-month', 'tenure': 2, 'monthlycharges': 72.6},\n",
       " {'contract': 'month-to-month', 'tenure': 4, 'monthlycharges': 20.45},\n",
       " {'contract': 'month-to-month', 'tenure': 2, 'monthlycharges': 70.35},\n",
       " {'contract': 'month-to-month', 'tenure': 41, 'monthlycharges': 113.2},\n",
       " {'contract': 'month-to-month', 'tenure': 13, 'monthlycharges': 94.1},\n",
       " {'contract': 'month-to-month', 'tenure': 60, 'monthlycharges': 80.95},\n",
       " {'contract': 'month-to-month', 'tenure': 2, 'monthlycharges': 80.75},\n",
       " {'contract': 'month-to-month', 'tenure': 1, 'monthlycharges': 86.6},\n",
       " {'contract': 'month-to-month', 'tenure': 1, 'monthlycharges': 24.05},\n",
       " {'contract': 'month-to-month', 'tenure': 27, 'monthlycharges': 95.55},\n",
       " {'contract': 'one_year', 'tenure': 32, 'monthlycharges': 19.8},\n",
       " {'contract': 'one_year', 'tenure': 2, 'monthlycharges': 20.3},\n",
       " {'contract': 'one_year', 'tenure': 16, 'monthlycharges': 20.1},\n",
       " {'contract': 'one_year', 'tenure': 52, 'monthlycharges': 64.3},\n",
       " {'contract': 'month-to-month', 'tenure': 1, 'monthlycharges': 70.5},\n",
       " {'contract': 'two_year', 'tenure': 72, 'monthlycharges': 116.95},\n",
       " {'contract': 'month-to-month', 'tenure': 20, 'monthlycharges': 69.8},\n",
       " {'contract': 'month-to-month', 'tenure': 23, 'monthlycharges': 90.6},\n",
       " {'contract': 'one_year', 'tenure': 23, 'monthlycharges': 64.9},\n",
       " {'contract': 'month-to-month', 'tenure': 15, 'monthlycharges': 99.1},\n",
       " {'contract': 'month-to-month', 'tenure': 52, 'monthlycharges': 83.8},\n",
       " {'contract': 'two_year', 'tenure': 72, 'monthlycharges': 19.55},\n",
       " {'contract': 'two_year', 'tenure': 16, 'monthlycharges': 19.75},\n",
       " {'contract': 'month-to-month', 'tenure': 49, 'monthlycharges': 93.85},\n",
       " {'contract': 'two_year', 'tenure': 35, 'monthlycharges': 20.2},\n",
       " {'contract': 'one_year', 'tenure': 13, 'monthlycharges': 24.5},\n",
       " {'contract': 'two_year', 'tenure': 29, 'monthlycharges': 26.1},\n",
       " {'contract': 'month-to-month', 'tenure': 58, 'monthlycharges': 66.8},\n",
       " {'contract': 'month-to-month', 'tenure': 9, 'monthlycharges': 66.25},\n",
       " {'contract': 'month-to-month', 'tenure': 1, 'monthlycharges': 44.1},\n",
       " {'contract': 'month-to-month', 'tenure': 2, 'monthlycharges': 91.45},\n",
       " {'contract': 'month-to-month', 'tenure': 49, 'monthlycharges': 90.85},\n",
       " {'contract': 'month-to-month', 'tenure': 26, 'monthlycharges': 93.6},\n",
       " {'contract': 'month-to-month', 'tenure': 1, 'monthlycharges': 55.45},\n",
       " {'contract': 'month-to-month', 'tenure': 10, 'monthlycharges': 75.75},\n",
       " {'contract': 'month-to-month', 'tenure': 2, 'monthlycharges': 20.3},\n",
       " {'contract': 'one_year', 'tenure': 49, 'monthlycharges': 103.0},\n",
       " {'contract': 'one_year', 'tenure': 39, 'monthlycharges': 81.9},\n",
       " {'contract': 'two_year', 'tenure': 70, 'monthlycharges': 104.0},\n",
       " {'contract': 'one_year', 'tenure': 28, 'monthlycharges': 54.4},\n",
       " {'contract': 'one_year', 'tenure': 62, 'monthlycharges': 110.8},\n",
       " {'contract': 'one_year', 'tenure': 71, 'monthlycharges': 85.45},\n",
       " {'contract': 'one_year', 'tenure': 53, 'monthlycharges': 94.45},\n",
       " {'contract': 'month-to-month', 'tenure': 4, 'monthlycharges': 74.65},\n",
       " {'contract': 'two_year', 'tenure': 72, 'monthlycharges': 82.65},\n",
       " {'contract': 'month-to-month', 'tenure': 1, 'monthlycharges': 74.35},\n",
       " {'contract': 'month-to-month', 'tenure': 47, 'monthlycharges': 90.05},\n",
       " {'contract': 'one_year', 'tenure': 43, 'monthlycharges': 80.2},\n",
       " {'contract': 'month-to-month', 'tenure': 7, 'monthlycharges': 25.05},\n",
       " {'contract': 'two_year', 'tenure': 56, 'monthlycharges': 85.65},\n",
       " {'contract': 'month-to-month', 'tenure': 11, 'monthlycharges': 111.4},\n",
       " {'contract': 'one_year', 'tenure': 29, 'monthlycharges': 39.5},\n",
       " {'contract': 'one_year', 'tenure': 22, 'monthlycharges': 69.5},\n",
       " {'contract': 'one_year', 'tenure': 23, 'monthlycharges': 73.75},\n",
       " {'contract': 'month-to-month', 'tenure': 13, 'monthlycharges': 80.5},\n",
       " {'contract': 'two_year', 'tenure': 64, 'monthlycharges': 86.55},\n",
       " {'contract': 'month-to-month', 'tenure': 62, 'monthlycharges': 90.7},\n",
       " {'contract': 'one_year', 'tenure': 15, 'monthlycharges': 19.65},\n",
       " {'contract': 'month-to-month', 'tenure': 17, 'monthlycharges': 75.4},\n",
       " {'contract': 'two_year', 'tenure': 72, 'monthlycharges': 113.1},\n",
       " {'contract': 'month-to-month', 'tenure': 7, 'monthlycharges': 95.35},\n",
       " {'contract': 'month-to-month', 'tenure': 2, 'monthlycharges': 55.05},\n",
       " {'contract': 'two_year', 'tenure': 56, 'monthlycharges': 75.85},\n",
       " {'contract': 'month-to-month', 'tenure': 6, 'monthlycharges': 19.7},\n",
       " {'contract': 'two_year', 'tenure': 64, 'monthlycharges': 69.25},\n",
       " {'contract': 'month-to-month', 'tenure': 17, 'monthlycharges': 81.5},\n",
       " {'contract': 'month-to-month', 'tenure': 1, 'monthlycharges': 19.65},\n",
       " {'contract': 'month-to-month', 'tenure': 51, 'monthlycharges': 83.4},\n",
       " {'contract': 'two_year', 'tenure': 72, 'monthlycharges': 109.65},\n",
       " {'contract': 'one_year', 'tenure': 11, 'monthlycharges': 53.8},\n",
       " {'contract': 'two_year', 'tenure': 72, 'monthlycharges': 106.1},\n",
       " {'contract': 'month-to-month', 'tenure': 37, 'monthlycharges': 19.35},\n",
       " {'contract': 'month-to-month', 'tenure': 35, 'monthlycharges': 70.3},\n",
       " {'contract': 'month-to-month', 'tenure': 66, 'monthlycharges': 99.5},\n",
       " {'contract': 'month-to-month', 'tenure': 15, 'monthlycharges': 101.75},\n",
       " {'contract': 'month-to-month', 'tenure': 7, 'monthlycharges': 100.4},\n",
       " {'contract': 'month-to-month', 'tenure': 49, 'monthlycharges': 100.85},\n",
       " {'contract': 'month-to-month', 'tenure': 2, 'monthlycharges': 70.65},\n",
       " {'contract': 'one_year', 'tenure': 17, 'monthlycharges': 20.65},\n",
       " {'contract': 'month-to-month', 'tenure': 28, 'monthlycharges': 94.5},\n",
       " {'contract': 'one_year', 'tenure': 41, 'monthlycharges': 24.85},\n",
       " {'contract': 'month-to-month', 'tenure': 24, 'monthlycharges': 104.65},\n",
       " {'contract': 'two_year', 'tenure': 69, 'monthlycharges': 79.2},\n",
       " {'contract': 'one_year', 'tenure': 35, 'monthlycharges': 102.35},\n",
       " {'contract': 'one_year', 'tenure': 44, 'monthlycharges': 20.5},\n",
       " {'contract': 'month-to-month', 'tenure': 32, 'monthlycharges': 96.2},\n",
       " {'contract': 'two_year', 'tenure': 72, 'monthlycharges': 90.8},\n",
       " {'contract': 'month-to-month', 'tenure': 1, 'monthlycharges': 74.0},\n",
       " {'contract': 'one_year', 'tenure': 18, 'monthlycharges': 20.35},\n",
       " {'contract': 'one_year', 'tenure': 58, 'monthlycharges': 89.85},\n",
       " {'contract': 'month-to-month', 'tenure': 15, 'monthlycharges': 19.75},\n",
       " {'contract': 'two_year', 'tenure': 72, 'monthlycharges': 84.4},\n",
       " {'contract': 'two_year', 'tenure': 70, 'monthlycharges': 84.8},\n",
       " {'contract': 'month-to-month', 'tenure': 1, 'monthlycharges': 19.55},\n",
       " {'contract': 'one_year', 'tenure': 23, 'monthlycharges': 24.8},\n",
       " {'contract': 'month-to-month', 'tenure': 6, 'monthlycharges': 94.5},\n",
       " {'contract': 'month-to-month', 'tenure': 28, 'monthlycharges': 85.45},\n",
       " {'contract': 'two_year', 'tenure': 54, 'monthlycharges': 79.95},\n",
       " {'contract': 'two_year', 'tenure': 71, 'monthlycharges': 54.5},\n",
       " {'contract': 'one_year', 'tenure': 39, 'monthlycharges': 45.05},\n",
       " {'contract': 'one_year', 'tenure': 67, 'monthlycharges': 111.3},\n",
       " {'contract': 'month-to-month', 'tenure': 10, 'monthlycharges': 24.4},\n",
       " {'contract': 'month-to-month', 'tenure': 1, 'monthlycharges': 71.55},\n",
       " {'contract': 'two_year', 'tenure': 45, 'monthlycharges': 95.2},\n",
       " {'contract': 'two_year', 'tenure': 48, 'monthlycharges': 20.0},\n",
       " {'contract': 'month-to-month', 'tenure': 12, 'monthlycharges': 94.55},\n",
       " {'contract': 'one_year', 'tenure': 28, 'monthlycharges': 50.8},\n",
       " {'contract': 'two_year', 'tenure': 6, 'monthlycharges': 20.4},\n",
       " {'contract': 'one_year', 'tenure': 43, 'monthlycharges': 56.35},\n",
       " {'contract': 'month-to-month', 'tenure': 33, 'monthlycharges': 105.35},\n",
       " {'contract': 'month-to-month', 'tenure': 1, 'monthlycharges': 20.2},\n",
       " {'contract': 'month-to-month', 'tenure': 27, 'monthlycharges': 36.5},\n",
       " {'contract': 'month-to-month', 'tenure': 9, 'monthlycharges': 88.05},\n",
       " {'contract': 'one_year', 'tenure': 36, 'monthlycharges': 70.7},\n",
       " {'contract': 'two_year', 'tenure': 52, 'monthlycharges': 91.6},\n",
       " {'contract': 'month-to-month', 'tenure': 7, 'monthlycharges': 66.85},\n",
       " {'contract': 'month-to-month', 'tenure': 27, 'monthlycharges': 81.3},\n",
       " {'contract': 'month-to-month', 'tenure': 10, 'monthlycharges': 55.55},\n",
       " {'contract': 'month-to-month', 'tenure': 11, 'monthlycharges': 51.1},\n",
       " {'contract': 'two_year', 'tenure': 71, 'monthlycharges': 25.45},\n",
       " {'contract': 'one_year', 'tenure': 48, 'monthlycharges': 99.0},\n",
       " {'contract': 'month-to-month', 'tenure': 4, 'monthlycharges': 19.0},\n",
       " {'contract': 'month-to-month', 'tenure': 57, 'monthlycharges': 55.0},\n",
       " {'contract': 'month-to-month', 'tenure': 1, 'monthlycharges': 20.4},\n",
       " {'contract': 'two_year', 'tenure': 49, 'monthlycharges': 20.15},\n",
       " {'contract': 'month-to-month', 'tenure': 35, 'monthlycharges': 59.45},\n",
       " {'contract': 'two_year', 'tenure': 8, 'monthlycharges': 19.7},\n",
       " {'contract': 'month-to-month', 'tenure': 2, 'monthlycharges': 20.35},\n",
       " {'contract': 'month-to-month', 'tenure': 6, 'monthlycharges': 19.85},\n",
       " {'contract': 'one_year', 'tenure': 63, 'monthlycharges': 70.8},\n",
       " {'contract': 'two_year', 'tenure': 67, 'monthlycharges': 103.15},\n",
       " {'contract': 'two_year', 'tenure': 47, 'monthlycharges': 65.0},\n",
       " {'contract': 'two_year', 'tenure': 37, 'monthlycharges': 62.8},\n",
       " {'contract': 'two_year', 'tenure': 69, 'monthlycharges': 20.3},\n",
       " {'contract': 'two_year', 'tenure': 72, 'monthlycharges': 109.75},\n",
       " {'contract': 'one_year', 'tenure': 15, 'monthlycharges': 101.9},\n",
       " {'contract': 'month-to-month', 'tenure': 33, 'monthlycharges': 91.25},\n",
       " {'contract': 'two_year', 'tenure': 67, 'monthlycharges': 92.45},\n",
       " {'contract': 'month-to-month', 'tenure': 17, 'monthlycharges': 80.5},\n",
       " {'contract': 'month-to-month', 'tenure': 15, 'monthlycharges': 76.5},\n",
       " {'contract': 'two_year', 'tenure': 54, 'monthlycharges': 19.65},\n",
       " {'contract': 'two_year', 'tenure': 67, 'monthlycharges': 111.2},\n",
       " {'contract': 'month-to-month', 'tenure': 6, 'monthlycharges': 89.5},\n",
       " {'contract': 'month-to-month', 'tenure': 9, 'monthlycharges': 84.45},\n",
       " {'contract': 'month-to-month', 'tenure': 2, 'monthlycharges': 49.95},\n",
       " {'contract': 'month-to-month', 'tenure': 17, 'monthlycharges': 70.8},\n",
       " {'contract': 'one_year', 'tenure': 48, 'monthlycharges': 78.75},\n",
       " {'contract': 'month-to-month', 'tenure': 6, 'monthlycharges': 69.8},\n",
       " {'contract': 'one_year', 'tenure': 10, 'monthlycharges': 20.1},\n",
       " {'contract': 'two_year', 'tenure': 72, 'monthlycharges': 67.8},\n",
       " {'contract': 'one_year', 'tenure': 56, 'monthlycharges': 24.3},\n",
       " {'contract': 'two_year', 'tenure': 30, 'monthlycharges': 19.4},\n",
       " {'contract': 'two_year', 'tenure': 43, 'monthlycharges': 115.05},\n",
       " {'contract': 'month-to-month', 'tenure': 50, 'monthlycharges': 70.35},\n",
       " {'contract': 'two_year', 'tenure': 47, 'monthlycharges': 21.3},\n",
       " {'contract': 'one_year', 'tenure': 33, 'monthlycharges': 58.45},\n",
       " {'contract': 'month-to-month', 'tenure': 28, 'monthlycharges': 91.0},\n",
       " {'contract': 'month-to-month', 'tenure': 1, 'monthlycharges': 70.45},\n",
       " {'contract': 'month-to-month', 'tenure': 5, 'monthlycharges': 78.75},\n",
       " {'contract': 'one_year', 'tenure': 63, 'monthlycharges': 90.45},\n",
       " {'contract': 'month-to-month', 'tenure': 1, 'monthlycharges': 69.1},\n",
       " {'contract': 'month-to-month', 'tenure': 31, 'monthlycharges': 54.35},\n",
       " {'contract': 'month-to-month', 'tenure': 21, 'monthlycharges': 86.05},\n",
       " {'contract': 'month-to-month', 'tenure': 29, 'monthlycharges': 67.45},\n",
       " {'contract': 'month-to-month', 'tenure': 27, 'monthlycharges': 104.3},\n",
       " {'contract': 'one_year', 'tenure': 41, 'monthlycharges': 51.35},\n",
       " {'contract': 'two_year', 'tenure': 65, 'monthlycharges': 108.65},\n",
       " {'contract': 'month-to-month', 'tenure': 6, 'monthlycharges': 20.0},\n",
       " {'contract': 'month-to-month', 'tenure': 53, 'monthlycharges': 108.25},\n",
       " {'contract': 'month-to-month', 'tenure': 1, 'monthlycharges': 20.05},\n",
       " {'contract': 'month-to-month', 'tenure': 8, 'monthlycharges': 73.5},\n",
       " {'contract': 'two_year', 'tenure': 60, 'monthlycharges': 19.65},\n",
       " {'contract': 'month-to-month', 'tenure': 1, 'monthlycharges': 89.9},\n",
       " {'contract': 'month-to-month', 'tenure': 1, 'monthlycharges': 90.55},\n",
       " {'contract': 'two_year', 'tenure': 63, 'monthlycharges': 63.55},\n",
       " {'contract': 'month-to-month', 'tenure': 2, 'monthlycharges': 78.55},\n",
       " {'contract': 'two_year', 'tenure': 71, 'monthlycharges': 100.5},\n",
       " {'contract': 'one_year', 'tenure': 31, 'monthlycharges': 64.0},\n",
       " {'contract': 'one_year', 'tenure': 22, 'monthlycharges': 19.6},\n",
       " {'contract': 'month-to-month', 'tenure': 63, 'monthlycharges': 105.4},\n",
       " {'contract': 'two_year', 'tenure': 72, 'monthlycharges': 115.75},\n",
       " {'contract': 'two_year', 'tenure': 66, 'monthlycharges': 80.55},\n",
       " {'contract': 'month-to-month', 'tenure': 3, 'monthlycharges': 50.5},\n",
       " {'contract': 'month-to-month', 'tenure': 15, 'monthlycharges': 51.55},\n",
       " {'contract': 'month-to-month', 'tenure': 2, 'monthlycharges': 53.85},\n",
       " {'contract': 'month-to-month', 'tenure': 7, 'monthlycharges': 76.45},\n",
       " {'contract': 'month-to-month', 'tenure': 2, 'monthlycharges': 20.65},\n",
       " {'contract': 'two_year', 'tenure': 72, 'monthlycharges': 84.5},\n",
       " {'contract': 'month-to-month', 'tenure': 6, 'monthlycharges': 56.25},\n",
       " {'contract': 'month-to-month', 'tenure': 10, 'monthlycharges': 95.2},\n",
       " {'contract': 'two_year', 'tenure': 71, 'monthlycharges': 90.3},\n",
       " {'contract': 'two_year', 'tenure': 69, 'monthlycharges': 19.95},\n",
       " {'contract': 'month-to-month', 'tenure': 24, 'monthlycharges': 70.0},\n",
       " {'contract': 'month-to-month', 'tenure': 9, 'monthlycharges': 19.05},\n",
       " {'contract': 'month-to-month', 'tenure': 7, 'monthlycharges': 89.15},\n",
       " {'contract': 'two_year', 'tenure': 72, 'monthlycharges': 88.05},\n",
       " {'contract': 'month-to-month', 'tenure': 68, 'monthlycharges': 44.95},\n",
       " {'contract': 'two_year', 'tenure': 72, 'monthlycharges': 90.15},\n",
       " {'contract': 'month-to-month', 'tenure': 1, 'monthlycharges': 20.3},\n",
       " {'contract': 'month-to-month', 'tenure': 40, 'monthlycharges': 96.35},\n",
       " {'contract': 'month-to-month', 'tenure': 16, 'monthlycharges': 90.8},\n",
       " {'contract': 'month-to-month', 'tenure': 2, 'monthlycharges': 44.45},\n",
       " {'contract': 'month-to-month', 'tenure': 6, 'monthlycharges': 93.55},\n",
       " {'contract': 'two_year', 'tenure': 20, 'monthlycharges': 20.05},\n",
       " {'contract': 'two_year', 'tenure': 36, 'monthlycharges': 53.1},\n",
       " {'contract': 'month-to-month', 'tenure': 3, 'monthlycharges': 20.0},\n",
       " {'contract': 'one_year', 'tenure': 50, 'monthlycharges': 100.65},\n",
       " {'contract': 'month-to-month', 'tenure': 30, 'monthlycharges': 48.8},\n",
       " {'contract': 'month-to-month', 'tenure': 39, 'monthlycharges': 103.45},\n",
       " {'contract': 'month-to-month', 'tenure': 42, 'monthlycharges': 74.15},\n",
       " {'contract': 'month-to-month', 'tenure': 6, 'monthlycharges': 90.75},\n",
       " {'contract': 'month-to-month', 'tenure': 2, 'monthlycharges': 20.45},\n",
       " {'contract': 'month-to-month', 'tenure': 35, 'monthlycharges': 89.65},\n",
       " {'contract': 'one_year', 'tenure': 22, 'monthlycharges': 20.25},\n",
       " {'contract': 'month-to-month', 'tenure': 15, 'monthlycharges': 20.45},\n",
       " {'contract': 'month-to-month', 'tenure': 8, 'monthlycharges': 55.75},\n",
       " {'contract': 'two_year', 'tenure': 72, 'monthlycharges': 89.55},\n",
       " {'contract': 'two_year', 'tenure': 27, 'monthlycharges': 19.6},\n",
       " {'contract': 'one_year', 'tenure': 70, 'monthlycharges': 60.35},\n",
       " {'contract': 'month-to-month', 'tenure': 16, 'monthlycharges': 74.3},\n",
       " {'contract': 'two_year', 'tenure': 71, 'monthlycharges': 105.25},\n",
       " {'contract': 'one_year', 'tenure': 65, 'monthlycharges': 89.85},\n",
       " {'contract': 'month-to-month', 'tenure': 1, 'monthlycharges': 74.35},\n",
       " {'contract': 'month-to-month', 'tenure': 1, 'monthlycharges': 54.75},\n",
       " {'contract': 'two_year', 'tenure': 23, 'monthlycharges': 40.1},\n",
       " {'contract': 'month-to-month', 'tenure': 13, 'monthlycharges': 18.8},\n",
       " {'contract': 'month-to-month', 'tenure': 11, 'monthlycharges': 64.05},\n",
       " {'contract': 'one_year', 'tenure': 32, 'monthlycharges': 19.75},\n",
       " {'contract': 'one_year', 'tenure': 53, 'monthlycharges': 94.25},\n",
       " {'contract': 'month-to-month', 'tenure': 3, 'monthlycharges': 50.65},\n",
       " {'contract': 'month-to-month', 'tenure': 33, 'monthlycharges': 90.65},\n",
       " {'contract': 'month-to-month', 'tenure': 49, 'monthlycharges': 96.2},\n",
       " {'contract': 'two_year', 'tenure': 23, 'monthlycharges': 20.9},\n",
       " {'contract': 'one_year', 'tenure': 38, 'monthlycharges': 110.7},\n",
       " {'contract': 'two_year', 'tenure': 67, 'monthlycharges': 43.9},\n",
       " {'contract': 'one_year', 'tenure': 54, 'monthlycharges': 105.4},\n",
       " {'contract': 'one_year', 'tenure': 50, 'monthlycharges': 106.8},\n",
       " {'contract': 'two_year', 'tenure': 64, 'monthlycharges': 110.5},\n",
       " {'contract': 'two_year', 'tenure': 6, 'monthlycharges': 19.55},\n",
       " {'contract': 'one_year', 'tenure': 58, 'monthlycharges': 61.05},\n",
       " {'contract': 'one_year', 'tenure': 26, 'monthlycharges': 54.55},\n",
       " {'contract': 'two_year', 'tenure': 48, 'monthlycharges': 24.0},\n",
       " {'contract': 'month-to-month', 'tenure': 24, 'monthlycharges': 85.95},\n",
       " {'contract': 'month-to-month', 'tenure': 47, 'monthlycharges': 70.55},\n",
       " {'contract': 'one_year', 'tenure': 44, 'monthlycharges': 109.8},\n",
       " {'contract': 'month-to-month', 'tenure': 22, 'monthlycharges': 80.0},\n",
       " {'contract': 'one_year', 'tenure': 23, 'monthlycharges': 19.65},\n",
       " {'contract': 'one_year', 'tenure': 68, 'monthlycharges': 73.0},\n",
       " {'contract': 'month-to-month', 'tenure': 13, 'monthlycharges': 66.4},\n",
       " {'contract': 'two_year', 'tenure': 53, 'monthlycharges': 19.4},\n",
       " {'contract': 'month-to-month', 'tenure': 1, 'monthlycharges': 45.1},\n",
       " {'contract': 'month-to-month', 'tenure': 1, 'monthlycharges': 35.9},\n",
       " {'contract': 'one_year', 'tenure': 66, 'monthlycharges': 74.25},\n",
       " {'contract': 'two_year', 'tenure': 70, 'monthlycharges': 86.45},\n",
       " {'contract': 'month-to-month', 'tenure': 47, 'monthlycharges': 99.35},\n",
       " {'contract': 'two_year', 'tenure': 65, 'monthlycharges': 59.8},\n",
       " {'contract': 'two_year', 'tenure': 36, 'monthlycharges': 19.45},\n",
       " {'contract': 'two_year', 'tenure': 68, 'monthlycharges': 19.95},\n",
       " {'contract': 'two_year', 'tenure': 70, 'monthlycharges': 19.55},\n",
       " {'contract': 'month-to-month', 'tenure': 2, 'monthlycharges': 44.3},\n",
       " {'contract': 'one_year', 'tenure': 69, 'monthlycharges': 110.55},\n",
       " {'contract': 'month-to-month', 'tenure': 34, 'monthlycharges': 70.0},\n",
       " {'contract': 'one_year', 'tenure': 14, 'monthlycharges': 51.45},\n",
       " {'contract': 'month-to-month', 'tenure': 28, 'monthlycharges': 81.05},\n",
       " {'contract': 'two_year', 'tenure': 67, 'monthlycharges': 19.65},\n",
       " {'contract': 'month-to-month', 'tenure': 5, 'monthlycharges': 96.55},\n",
       " {'contract': 'month-to-month', 'tenure': 2, 'monthlycharges': 50.95},\n",
       " {'contract': 'month-to-month', 'tenure': 41, 'monthlycharges': 83.75},\n",
       " {'contract': 'two_year', 'tenure': 69, 'monthlycharges': 59.75},\n",
       " {'contract': 'two_year', 'tenure': 64, 'monthlycharges': 24.05},\n",
       " {'contract': 'two_year', 'tenure': 33, 'monthlycharges': 24.5},\n",
       " {'contract': 'two_year', 'tenure': 67, 'monthlycharges': 108.75},\n",
       " {'contract': 'one_year', 'tenure': 53, 'monthlycharges': 20.8},\n",
       " {'contract': 'one_year', 'tenure': 48, 'monthlycharges': 83.45},\n",
       " {'contract': 'month-to-month', 'tenure': 14, 'monthlycharges': 70.2},\n",
       " {'contract': 'two_year', 'tenure': 46, 'monthlycharges': 54.35},\n",
       " {'contract': 'month-to-month', 'tenure': 49, 'monthlycharges': 52.15},\n",
       " {'contract': 'month-to-month', 'tenure': 2, 'monthlycharges': 100.2},\n",
       " {'contract': 'two_year', 'tenure': 19, 'monthlycharges': 20.5},\n",
       " {'contract': 'month-to-month', 'tenure': 1, 'monthlycharges': 25.2},\n",
       " {'contract': 'two_year', 'tenure': 72, 'monthlycharges': 84.45},\n",
       " {'contract': 'two_year', 'tenure': 72, 'monthlycharges': 84.45},\n",
       " {'contract': 'month-to-month', 'tenure': 5, 'monthlycharges': 85.4},\n",
       " {'contract': 'month-to-month', 'tenure': 29, 'monthlycharges': 98.6},\n",
       " {'contract': 'two_year', 'tenure': 46, 'monthlycharges': 108.65},\n",
       " {'contract': 'month-to-month', 'tenure': 10, 'monthlycharges': 36.25},\n",
       " {'contract': 'one_year', 'tenure': 66, 'monthlycharges': 89.0},\n",
       " {'contract': 'one_year', 'tenure': 34, 'monthlycharges': 77.2},\n",
       " {'contract': 'month-to-month', 'tenure': 1, 'monthlycharges': 45.95},\n",
       " {'contract': 'month-to-month', 'tenure': 5, 'monthlycharges': 89.8},\n",
       " {'contract': 'two_year', 'tenure': 66, 'monthlycharges': 65.7},\n",
       " {'contract': 'two_year', 'tenure': 46, 'monthlycharges': 19.95},\n",
       " {'contract': 'month-to-month', 'tenure': 1, 'monthlycharges': 19.75},\n",
       " {'contract': 'month-to-month', 'tenure': 18, 'monthlycharges': 85.45},\n",
       " {'contract': 'month-to-month', 'tenure': 9, 'monthlycharges': 55.3},\n",
       " {'contract': 'one_year', 'tenure': 34, 'monthlycharges': 64.4},\n",
       " {'contract': 'two_year', 'tenure': 72, 'monthlycharges': 89.05},\n",
       " {'contract': 'month-to-month', 'tenure': 37, 'monthlycharges': 20.35},\n",
       " {'contract': 'one_year', 'tenure': 38, 'monthlycharges': 20.1},\n",
       " {'contract': 'two_year', 'tenure': 68, 'monthlycharges': 110.2},\n",
       " {'contract': 'two_year', 'tenure': 71, 'monthlycharges': 82.0},\n",
       " {'contract': 'two_year', 'tenure': 72, 'monthlycharges': 85.15},\n",
       " {'contract': 'month-to-month', 'tenure': 49, 'monthlycharges': 95.6},\n",
       " {'contract': 'one_year', 'tenure': 65, 'monthlycharges': 100.75},\n",
       " ...]"
      ]
     },
     "execution_count": 177,
     "metadata": {},
     "output_type": "execute_result"
    }
   ],
   "source": [
    "df_train[small].to_dict(orient='records')"
   ]
  },
  {
   "cell_type": "code",
   "execution_count": 178,
   "id": "18cc34b4",
   "metadata": {},
   "outputs": [],
   "source": [
    "dicts_train_small = df_train[small].to_dict(orient='records')\n",
    "dicts_val_small = df_val[small].to_dict(orient='records')"
   ]
  },
  {
   "cell_type": "code",
   "execution_count": 179,
   "id": "b74bee48",
   "metadata": {},
   "outputs": [
    {
     "data": {
      "text/html": [
       "<style>#sk-container-id-9 {color: black;background-color: white;}#sk-container-id-9 pre{padding: 0;}#sk-container-id-9 div.sk-toggleable {background-color: white;}#sk-container-id-9 label.sk-toggleable__label {cursor: pointer;display: block;width: 100%;margin-bottom: 0;padding: 0.3em;box-sizing: border-box;text-align: center;}#sk-container-id-9 label.sk-toggleable__label-arrow:before {content: \"▸\";float: left;margin-right: 0.25em;color: #696969;}#sk-container-id-9 label.sk-toggleable__label-arrow:hover:before {color: black;}#sk-container-id-9 div.sk-estimator:hover label.sk-toggleable__label-arrow:before {color: black;}#sk-container-id-9 div.sk-toggleable__content {max-height: 0;max-width: 0;overflow: hidden;text-align: left;background-color: #f0f8ff;}#sk-container-id-9 div.sk-toggleable__content pre {margin: 0.2em;color: black;border-radius: 0.25em;background-color: #f0f8ff;}#sk-container-id-9 input.sk-toggleable__control:checked~div.sk-toggleable__content {max-height: 200px;max-width: 100%;overflow: auto;}#sk-container-id-9 input.sk-toggleable__control:checked~label.sk-toggleable__label-arrow:before {content: \"▾\";}#sk-container-id-9 div.sk-estimator input.sk-toggleable__control:checked~label.sk-toggleable__label {background-color: #d4ebff;}#sk-container-id-9 div.sk-label input.sk-toggleable__control:checked~label.sk-toggleable__label {background-color: #d4ebff;}#sk-container-id-9 input.sk-hidden--visually {border: 0;clip: rect(1px 1px 1px 1px);clip: rect(1px, 1px, 1px, 1px);height: 1px;margin: -1px;overflow: hidden;padding: 0;position: absolute;width: 1px;}#sk-container-id-9 div.sk-estimator {font-family: monospace;background-color: #f0f8ff;border: 1px dotted black;border-radius: 0.25em;box-sizing: border-box;margin-bottom: 0.5em;}#sk-container-id-9 div.sk-estimator:hover {background-color: #d4ebff;}#sk-container-id-9 div.sk-parallel-item::after {content: \"\";width: 100%;border-bottom: 1px solid gray;flex-grow: 1;}#sk-container-id-9 div.sk-label:hover label.sk-toggleable__label {background-color: #d4ebff;}#sk-container-id-9 div.sk-serial::before {content: \"\";position: absolute;border-left: 1px solid gray;box-sizing: border-box;top: 0;bottom: 0;left: 50%;z-index: 0;}#sk-container-id-9 div.sk-serial {display: flex;flex-direction: column;align-items: center;background-color: white;padding-right: 0.2em;padding-left: 0.2em;position: relative;}#sk-container-id-9 div.sk-item {position: relative;z-index: 1;}#sk-container-id-9 div.sk-parallel {display: flex;align-items: stretch;justify-content: center;background-color: white;position: relative;}#sk-container-id-9 div.sk-item::before, #sk-container-id-9 div.sk-parallel-item::before {content: \"\";position: absolute;border-left: 1px solid gray;box-sizing: border-box;top: 0;bottom: 0;left: 50%;z-index: -1;}#sk-container-id-9 div.sk-parallel-item {display: flex;flex-direction: column;z-index: 1;position: relative;background-color: white;}#sk-container-id-9 div.sk-parallel-item:first-child::after {align-self: flex-end;width: 50%;}#sk-container-id-9 div.sk-parallel-item:last-child::after {align-self: flex-start;width: 50%;}#sk-container-id-9 div.sk-parallel-item:only-child::after {width: 0;}#sk-container-id-9 div.sk-dashed-wrapped {border: 1px dashed gray;margin: 0 0.4em 0.5em 0.4em;box-sizing: border-box;padding-bottom: 0.4em;background-color: white;}#sk-container-id-9 div.sk-label label {font-family: monospace;font-weight: bold;display: inline-block;line-height: 1.2em;}#sk-container-id-9 div.sk-label-container {text-align: center;}#sk-container-id-9 div.sk-container {/* jupyter's `normalize.less` sets `[hidden] { display: none; }` but bootstrap.min.css set `[hidden] { display: none !important; }` so we also need the `!important` here to be able to override the default hidden behavior on the sphinx rendered scikit-learn.org. See: https://github.com/scikit-learn/scikit-learn/issues/21755 */display: inline-block !important;position: relative;}#sk-container-id-9 div.sk-text-repr-fallback {display: none;}</style><div id=\"sk-container-id-9\" class=\"sk-top-container\"><div class=\"sk-text-repr-fallback\"><pre>DictVectorizer(sparse=False)</pre><b>In a Jupyter environment, please rerun this cell to show the HTML representation or trust the notebook. <br />On GitHub, the HTML representation is unable to render, please try loading this page with nbviewer.org.</b></div><div class=\"sk-container\" hidden><div class=\"sk-item\"><div class=\"sk-estimator sk-toggleable\"><input class=\"sk-toggleable__control sk-hidden--visually\" id=\"sk-estimator-id-9\" type=\"checkbox\" checked><label for=\"sk-estimator-id-9\" class=\"sk-toggleable__label sk-toggleable__label-arrow\">DictVectorizer</label><div class=\"sk-toggleable__content\"><pre>DictVectorizer(sparse=False)</pre></div></div></div></div></div>"
      ],
      "text/plain": [
       "DictVectorizer(sparse=False)"
      ]
     },
     "execution_count": 179,
     "metadata": {},
     "output_type": "execute_result"
    }
   ],
   "source": [
    "dv_small = DictVectorizer(sparse=False)\n",
    "dv_small.fit(dicts_train_small)"
   ]
  },
  {
   "cell_type": "code",
   "execution_count": 180,
   "id": "32adff4b",
   "metadata": {},
   "outputs": [
    {
     "name": "stderr",
     "output_type": "stream",
     "text": [
      "c:\\Users\\OLAMIDE\\AppData\\Local\\Programs\\Python\\Python310\\lib\\site-packages\\sklearn\\utils\\deprecation.py:87: FutureWarning: Function get_feature_names is deprecated; get_feature_names is deprecated in 1.0 and will be removed in 1.2. Please use get_feature_names_out instead.\n",
      "  warnings.warn(msg, category=FutureWarning)\n"
     ]
    },
    {
     "data": {
      "text/plain": [
       "['contract=month-to-month',\n",
       " 'contract=one_year',\n",
       " 'contract=two_year',\n",
       " 'monthlycharges',\n",
       " 'tenure']"
      ]
     },
     "execution_count": 180,
     "metadata": {},
     "output_type": "execute_result"
    }
   ],
   "source": [
    "dv_small.get_feature_names()"
   ]
  },
  {
   "cell_type": "code",
   "execution_count": 181,
   "id": "72ad0986",
   "metadata": {},
   "outputs": [],
   "source": [
    "X_train_small = dv_small.transform(dicts_train_small)"
   ]
  },
  {
   "cell_type": "code",
   "execution_count": 182,
   "id": "0ce20f94",
   "metadata": {},
   "outputs": [
    {
     "data": {
      "text/plain": [
       "4225"
      ]
     },
     "execution_count": 182,
     "metadata": {},
     "output_type": "execute_result"
    }
   ],
   "source": [
    "X_train_small.shape[0]"
   ]
  },
  {
   "cell_type": "code",
   "execution_count": 183,
   "id": "17955787",
   "metadata": {},
   "outputs": [
    {
     "data": {
      "text/plain": [
       "4225"
      ]
     },
     "execution_count": 183,
     "metadata": {},
     "output_type": "execute_result"
    }
   ],
   "source": [
    "y_train.shape[0]"
   ]
  },
  {
   "cell_type": "code",
   "execution_count": 184,
   "id": "e7a58c0a",
   "metadata": {},
   "outputs": [],
   "source": [
    "assert X_train_small.shape[0] == y_train.shape[0]"
   ]
  },
  {
   "cell_type": "code",
   "execution_count": 185,
   "id": "ef90c61f",
   "metadata": {},
   "outputs": [
    {
     "data": {
      "text/html": [
       "<style>#sk-container-id-10 {color: black;background-color: white;}#sk-container-id-10 pre{padding: 0;}#sk-container-id-10 div.sk-toggleable {background-color: white;}#sk-container-id-10 label.sk-toggleable__label {cursor: pointer;display: block;width: 100%;margin-bottom: 0;padding: 0.3em;box-sizing: border-box;text-align: center;}#sk-container-id-10 label.sk-toggleable__label-arrow:before {content: \"▸\";float: left;margin-right: 0.25em;color: #696969;}#sk-container-id-10 label.sk-toggleable__label-arrow:hover:before {color: black;}#sk-container-id-10 div.sk-estimator:hover label.sk-toggleable__label-arrow:before {color: black;}#sk-container-id-10 div.sk-toggleable__content {max-height: 0;max-width: 0;overflow: hidden;text-align: left;background-color: #f0f8ff;}#sk-container-id-10 div.sk-toggleable__content pre {margin: 0.2em;color: black;border-radius: 0.25em;background-color: #f0f8ff;}#sk-container-id-10 input.sk-toggleable__control:checked~div.sk-toggleable__content {max-height: 200px;max-width: 100%;overflow: auto;}#sk-container-id-10 input.sk-toggleable__control:checked~label.sk-toggleable__label-arrow:before {content: \"▾\";}#sk-container-id-10 div.sk-estimator input.sk-toggleable__control:checked~label.sk-toggleable__label {background-color: #d4ebff;}#sk-container-id-10 div.sk-label input.sk-toggleable__control:checked~label.sk-toggleable__label {background-color: #d4ebff;}#sk-container-id-10 input.sk-hidden--visually {border: 0;clip: rect(1px 1px 1px 1px);clip: rect(1px, 1px, 1px, 1px);height: 1px;margin: -1px;overflow: hidden;padding: 0;position: absolute;width: 1px;}#sk-container-id-10 div.sk-estimator {font-family: monospace;background-color: #f0f8ff;border: 1px dotted black;border-radius: 0.25em;box-sizing: border-box;margin-bottom: 0.5em;}#sk-container-id-10 div.sk-estimator:hover {background-color: #d4ebff;}#sk-container-id-10 div.sk-parallel-item::after {content: \"\";width: 100%;border-bottom: 1px solid gray;flex-grow: 1;}#sk-container-id-10 div.sk-label:hover label.sk-toggleable__label {background-color: #d4ebff;}#sk-container-id-10 div.sk-serial::before {content: \"\";position: absolute;border-left: 1px solid gray;box-sizing: border-box;top: 0;bottom: 0;left: 50%;z-index: 0;}#sk-container-id-10 div.sk-serial {display: flex;flex-direction: column;align-items: center;background-color: white;padding-right: 0.2em;padding-left: 0.2em;position: relative;}#sk-container-id-10 div.sk-item {position: relative;z-index: 1;}#sk-container-id-10 div.sk-parallel {display: flex;align-items: stretch;justify-content: center;background-color: white;position: relative;}#sk-container-id-10 div.sk-item::before, #sk-container-id-10 div.sk-parallel-item::before {content: \"\";position: absolute;border-left: 1px solid gray;box-sizing: border-box;top: 0;bottom: 0;left: 50%;z-index: -1;}#sk-container-id-10 div.sk-parallel-item {display: flex;flex-direction: column;z-index: 1;position: relative;background-color: white;}#sk-container-id-10 div.sk-parallel-item:first-child::after {align-self: flex-end;width: 50%;}#sk-container-id-10 div.sk-parallel-item:last-child::after {align-self: flex-start;width: 50%;}#sk-container-id-10 div.sk-parallel-item:only-child::after {width: 0;}#sk-container-id-10 div.sk-dashed-wrapped {border: 1px dashed gray;margin: 0 0.4em 0.5em 0.4em;box-sizing: border-box;padding-bottom: 0.4em;background-color: white;}#sk-container-id-10 div.sk-label label {font-family: monospace;font-weight: bold;display: inline-block;line-height: 1.2em;}#sk-container-id-10 div.sk-label-container {text-align: center;}#sk-container-id-10 div.sk-container {/* jupyter's `normalize.less` sets `[hidden] { display: none; }` but bootstrap.min.css set `[hidden] { display: none !important; }` so we also need the `!important` here to be able to override the default hidden behavior on the sphinx rendered scikit-learn.org. See: https://github.com/scikit-learn/scikit-learn/issues/21755 */display: inline-block !important;position: relative;}#sk-container-id-10 div.sk-text-repr-fallback {display: none;}</style><div id=\"sk-container-id-10\" class=\"sk-top-container\"><div class=\"sk-text-repr-fallback\"><pre>LogisticRegression()</pre><b>In a Jupyter environment, please rerun this cell to show the HTML representation or trust the notebook. <br />On GitHub, the HTML representation is unable to render, please try loading this page with nbviewer.org.</b></div><div class=\"sk-container\" hidden><div class=\"sk-item\"><div class=\"sk-estimator sk-toggleable\"><input class=\"sk-toggleable__control sk-hidden--visually\" id=\"sk-estimator-id-10\" type=\"checkbox\" checked><label for=\"sk-estimator-id-10\" class=\"sk-toggleable__label sk-toggleable__label-arrow\">LogisticRegression</label><div class=\"sk-toggleable__content\"><pre>LogisticRegression()</pre></div></div></div></div></div>"
      ],
      "text/plain": [
       "LogisticRegression()"
      ]
     },
     "execution_count": 185,
     "metadata": {},
     "output_type": "execute_result"
    }
   ],
   "source": [
    "model_small = LogisticRegression()  # default solver is okay\n",
    "model_small.fit(X_train_small, y_train) # train the model"
   ]
  },
  {
   "cell_type": "code",
   "execution_count": 186,
   "id": "f912afd7",
   "metadata": {},
   "outputs": [
    {
     "data": {
      "text/html": [
       "<style>#sk-container-id-11 {color: black;background-color: white;}#sk-container-id-11 pre{padding: 0;}#sk-container-id-11 div.sk-toggleable {background-color: white;}#sk-container-id-11 label.sk-toggleable__label {cursor: pointer;display: block;width: 100%;margin-bottom: 0;padding: 0.3em;box-sizing: border-box;text-align: center;}#sk-container-id-11 label.sk-toggleable__label-arrow:before {content: \"▸\";float: left;margin-right: 0.25em;color: #696969;}#sk-container-id-11 label.sk-toggleable__label-arrow:hover:before {color: black;}#sk-container-id-11 div.sk-estimator:hover label.sk-toggleable__label-arrow:before {color: black;}#sk-container-id-11 div.sk-toggleable__content {max-height: 0;max-width: 0;overflow: hidden;text-align: left;background-color: #f0f8ff;}#sk-container-id-11 div.sk-toggleable__content pre {margin: 0.2em;color: black;border-radius: 0.25em;background-color: #f0f8ff;}#sk-container-id-11 input.sk-toggleable__control:checked~div.sk-toggleable__content {max-height: 200px;max-width: 100%;overflow: auto;}#sk-container-id-11 input.sk-toggleable__control:checked~label.sk-toggleable__label-arrow:before {content: \"▾\";}#sk-container-id-11 div.sk-estimator input.sk-toggleable__control:checked~label.sk-toggleable__label {background-color: #d4ebff;}#sk-container-id-11 div.sk-label input.sk-toggleable__control:checked~label.sk-toggleable__label {background-color: #d4ebff;}#sk-container-id-11 input.sk-hidden--visually {border: 0;clip: rect(1px 1px 1px 1px);clip: rect(1px, 1px, 1px, 1px);height: 1px;margin: -1px;overflow: hidden;padding: 0;position: absolute;width: 1px;}#sk-container-id-11 div.sk-estimator {font-family: monospace;background-color: #f0f8ff;border: 1px dotted black;border-radius: 0.25em;box-sizing: border-box;margin-bottom: 0.5em;}#sk-container-id-11 div.sk-estimator:hover {background-color: #d4ebff;}#sk-container-id-11 div.sk-parallel-item::after {content: \"\";width: 100%;border-bottom: 1px solid gray;flex-grow: 1;}#sk-container-id-11 div.sk-label:hover label.sk-toggleable__label {background-color: #d4ebff;}#sk-container-id-11 div.sk-serial::before {content: \"\";position: absolute;border-left: 1px solid gray;box-sizing: border-box;top: 0;bottom: 0;left: 50%;z-index: 0;}#sk-container-id-11 div.sk-serial {display: flex;flex-direction: column;align-items: center;background-color: white;padding-right: 0.2em;padding-left: 0.2em;position: relative;}#sk-container-id-11 div.sk-item {position: relative;z-index: 1;}#sk-container-id-11 div.sk-parallel {display: flex;align-items: stretch;justify-content: center;background-color: white;position: relative;}#sk-container-id-11 div.sk-item::before, #sk-container-id-11 div.sk-parallel-item::before {content: \"\";position: absolute;border-left: 1px solid gray;box-sizing: border-box;top: 0;bottom: 0;left: 50%;z-index: -1;}#sk-container-id-11 div.sk-parallel-item {display: flex;flex-direction: column;z-index: 1;position: relative;background-color: white;}#sk-container-id-11 div.sk-parallel-item:first-child::after {align-self: flex-end;width: 50%;}#sk-container-id-11 div.sk-parallel-item:last-child::after {align-self: flex-start;width: 50%;}#sk-container-id-11 div.sk-parallel-item:only-child::after {width: 0;}#sk-container-id-11 div.sk-dashed-wrapped {border: 1px dashed gray;margin: 0 0.4em 0.5em 0.4em;box-sizing: border-box;padding-bottom: 0.4em;background-color: white;}#sk-container-id-11 div.sk-label label {font-family: monospace;font-weight: bold;display: inline-block;line-height: 1.2em;}#sk-container-id-11 div.sk-label-container {text-align: center;}#sk-container-id-11 div.sk-container {/* jupyter's `normalize.less` sets `[hidden] { display: none; }` but bootstrap.min.css set `[hidden] { display: none !important; }` so we also need the `!important` here to be able to override the default hidden behavior on the sphinx rendered scikit-learn.org. See: https://github.com/scikit-learn/scikit-learn/issues/21755 */display: inline-block !important;position: relative;}#sk-container-id-11 div.sk-text-repr-fallback {display: none;}</style><div id=\"sk-container-id-11\" class=\"sk-top-container\"><div class=\"sk-text-repr-fallback\"><pre>LogisticRegression()</pre><b>In a Jupyter environment, please rerun this cell to show the HTML representation or trust the notebook. <br />On GitHub, the HTML representation is unable to render, please try loading this page with nbviewer.org.</b></div><div class=\"sk-container\" hidden><div class=\"sk-item\"><div class=\"sk-estimator sk-toggleable\"><input class=\"sk-toggleable__control sk-hidden--visually\" id=\"sk-estimator-id-11\" type=\"checkbox\" checked><label for=\"sk-estimator-id-11\" class=\"sk-toggleable__label sk-toggleable__label-arrow\">LogisticRegression</label><div class=\"sk-toggleable__content\"><pre>LogisticRegression()</pre></div></div></div></div></div>"
      ],
      "text/plain": [
       "LogisticRegression()"
      ]
     },
     "execution_count": 186,
     "metadata": {},
     "output_type": "execute_result"
    }
   ],
   "source": [
    "model_small = LogisticRegression()\n",
    "model_small.fit(X_train_small, y_train)"
   ]
  },
  {
   "cell_type": "code",
   "execution_count": 147,
   "id": "cc814741",
   "metadata": {},
   "outputs": [
    {
     "data": {
      "text/plain": [
       "-2.476775657399558"
      ]
     },
     "execution_count": 147,
     "metadata": {},
     "output_type": "execute_result"
    }
   ],
   "source": [
    "w0 = model_small.intercept_[0]\n",
    "w0"
   ]
  },
  {
   "cell_type": "code",
   "execution_count": 148,
   "id": "8b716b9c",
   "metadata": {},
   "outputs": [
    {
     "data": {
      "text/plain": [
       "array([ 0.97 , -0.025, -0.949,  0.027, -0.036])"
      ]
     },
     "execution_count": 148,
     "metadata": {},
     "output_type": "execute_result"
    }
   ],
   "source": [
    "w = model_small.coef_[0].round(3)\n",
    "w"
   ]
  },
  {
   "cell_type": "code",
   "execution_count": 149,
   "id": "951727be",
   "metadata": {},
   "outputs": [
    {
     "name": "stderr",
     "output_type": "stream",
     "text": [
      "c:\\Users\\OLAMIDE\\AppData\\Local\\Programs\\Python\\Python310\\lib\\site-packages\\sklearn\\utils\\deprecation.py:87: FutureWarning: Function get_feature_names is deprecated; get_feature_names is deprecated in 1.0 and will be removed in 1.2. Please use get_feature_names_out instead.\n",
      "  warnings.warn(msg, category=FutureWarning)\n"
     ]
    },
    {
     "data": {
      "text/plain": [
       "{'contract=month-to-month': 0.97,\n",
       " 'contract=one_year': -0.025,\n",
       " 'contract=two_year': -0.949,\n",
       " 'monthlycharges': 0.027,\n",
       " 'tenure': -0.036}"
      ]
     },
     "execution_count": 149,
     "metadata": {},
     "output_type": "execute_result"
    }
   ],
   "source": [
    "dict(zip(dv_small.get_feature_names(), w.round(3)))"
   ]
  },
  {
   "attachments": {},
   "cell_type": "markdown",
   "id": "e6ad7ad3",
   "metadata": {},
   "source": [
    "Using The Model"
   ]
  },
  {
   "cell_type": "code",
   "execution_count": 150,
   "id": "498bd13f",
   "metadata": {},
   "outputs": [],
   "source": [
    "dicts_train_full = df_full_train[categorical + numerical].to_dict(orient='records')"
   ]
  },
  {
   "cell_type": "code",
   "execution_count": 156,
   "id": "1f930835",
   "metadata": {},
   "outputs": [],
   "source": [
    "dv = DictVectorizer(sparse=False)\n",
    "X_full_train = dv.fit_transform(dicts_train_full)\n",
    "y_full_train = df_full_train.churn.values"
   ]
  },
  {
   "cell_type": "code",
   "execution_count": 157,
   "id": "1f95436f",
   "metadata": {},
   "outputs": [
    {
     "data": {
      "text/html": [
       "<style>#sk-container-id-8 {color: black;background-color: white;}#sk-container-id-8 pre{padding: 0;}#sk-container-id-8 div.sk-toggleable {background-color: white;}#sk-container-id-8 label.sk-toggleable__label {cursor: pointer;display: block;width: 100%;margin-bottom: 0;padding: 0.3em;box-sizing: border-box;text-align: center;}#sk-container-id-8 label.sk-toggleable__label-arrow:before {content: \"▸\";float: left;margin-right: 0.25em;color: #696969;}#sk-container-id-8 label.sk-toggleable__label-arrow:hover:before {color: black;}#sk-container-id-8 div.sk-estimator:hover label.sk-toggleable__label-arrow:before {color: black;}#sk-container-id-8 div.sk-toggleable__content {max-height: 0;max-width: 0;overflow: hidden;text-align: left;background-color: #f0f8ff;}#sk-container-id-8 div.sk-toggleable__content pre {margin: 0.2em;color: black;border-radius: 0.25em;background-color: #f0f8ff;}#sk-container-id-8 input.sk-toggleable__control:checked~div.sk-toggleable__content {max-height: 200px;max-width: 100%;overflow: auto;}#sk-container-id-8 input.sk-toggleable__control:checked~label.sk-toggleable__label-arrow:before {content: \"▾\";}#sk-container-id-8 div.sk-estimator input.sk-toggleable__control:checked~label.sk-toggleable__label {background-color: #d4ebff;}#sk-container-id-8 div.sk-label input.sk-toggleable__control:checked~label.sk-toggleable__label {background-color: #d4ebff;}#sk-container-id-8 input.sk-hidden--visually {border: 0;clip: rect(1px 1px 1px 1px);clip: rect(1px, 1px, 1px, 1px);height: 1px;margin: -1px;overflow: hidden;padding: 0;position: absolute;width: 1px;}#sk-container-id-8 div.sk-estimator {font-family: monospace;background-color: #f0f8ff;border: 1px dotted black;border-radius: 0.25em;box-sizing: border-box;margin-bottom: 0.5em;}#sk-container-id-8 div.sk-estimator:hover {background-color: #d4ebff;}#sk-container-id-8 div.sk-parallel-item::after {content: \"\";width: 100%;border-bottom: 1px solid gray;flex-grow: 1;}#sk-container-id-8 div.sk-label:hover label.sk-toggleable__label {background-color: #d4ebff;}#sk-container-id-8 div.sk-serial::before {content: \"\";position: absolute;border-left: 1px solid gray;box-sizing: border-box;top: 0;bottom: 0;left: 50%;z-index: 0;}#sk-container-id-8 div.sk-serial {display: flex;flex-direction: column;align-items: center;background-color: white;padding-right: 0.2em;padding-left: 0.2em;position: relative;}#sk-container-id-8 div.sk-item {position: relative;z-index: 1;}#sk-container-id-8 div.sk-parallel {display: flex;align-items: stretch;justify-content: center;background-color: white;position: relative;}#sk-container-id-8 div.sk-item::before, #sk-container-id-8 div.sk-parallel-item::before {content: \"\";position: absolute;border-left: 1px solid gray;box-sizing: border-box;top: 0;bottom: 0;left: 50%;z-index: -1;}#sk-container-id-8 div.sk-parallel-item {display: flex;flex-direction: column;z-index: 1;position: relative;background-color: white;}#sk-container-id-8 div.sk-parallel-item:first-child::after {align-self: flex-end;width: 50%;}#sk-container-id-8 div.sk-parallel-item:last-child::after {align-self: flex-start;width: 50%;}#sk-container-id-8 div.sk-parallel-item:only-child::after {width: 0;}#sk-container-id-8 div.sk-dashed-wrapped {border: 1px dashed gray;margin: 0 0.4em 0.5em 0.4em;box-sizing: border-box;padding-bottom: 0.4em;background-color: white;}#sk-container-id-8 div.sk-label label {font-family: monospace;font-weight: bold;display: inline-block;line-height: 1.2em;}#sk-container-id-8 div.sk-label-container {text-align: center;}#sk-container-id-8 div.sk-container {/* jupyter's `normalize.less` sets `[hidden] { display: none; }` but bootstrap.min.css set `[hidden] { display: none !important; }` so we also need the `!important` here to be able to override the default hidden behavior on the sphinx rendered scikit-learn.org. See: https://github.com/scikit-learn/scikit-learn/issues/21755 */display: inline-block !important;position: relative;}#sk-container-id-8 div.sk-text-repr-fallback {display: none;}</style><div id=\"sk-container-id-8\" class=\"sk-top-container\"><div class=\"sk-text-repr-fallback\"><pre>LogisticRegression()</pre><b>In a Jupyter environment, please rerun this cell to show the HTML representation or trust the notebook. <br />On GitHub, the HTML representation is unable to render, please try loading this page with nbviewer.org.</b></div><div class=\"sk-container\" hidden><div class=\"sk-item\"><div class=\"sk-estimator sk-toggleable\"><input class=\"sk-toggleable__control sk-hidden--visually\" id=\"sk-estimator-id-8\" type=\"checkbox\" checked><label for=\"sk-estimator-id-8\" class=\"sk-toggleable__label sk-toggleable__label-arrow\">LogisticRegression</label><div class=\"sk-toggleable__content\"><pre>LogisticRegression()</pre></div></div></div></div></div>"
      ],
      "text/plain": [
       "LogisticRegression()"
      ]
     },
     "execution_count": 157,
     "metadata": {},
     "output_type": "execute_result"
    }
   ],
   "source": [
    "model = LogisticRegression()\n",
    "model.fit(X_full_train, y_full_train)"
   ]
  },
  {
   "cell_type": "code",
   "execution_count": 158,
   "id": "03d12a1d",
   "metadata": {},
   "outputs": [],
   "source": [
    "dicts_test = df_test[categorical + numerical].to_dict(orient='records')"
   ]
  },
  {
   "cell_type": "code",
   "execution_count": 159,
   "id": "02d94f47",
   "metadata": {},
   "outputs": [],
   "source": [
    "X_test = dv.transform(dicts_test)"
   ]
  },
  {
   "cell_type": "code",
   "execution_count": 160,
   "id": "cd66ffee",
   "metadata": {},
   "outputs": [
    {
     "data": {
      "text/plain": [
       "array([0.06224296, 0.17473875, 0.37026701, ..., 0.00638005, 0.16576097,\n",
       "       0.59688521])"
      ]
     },
     "execution_count": 160,
     "metadata": {},
     "output_type": "execute_result"
    }
   ],
   "source": [
    "y_pred = model.predict_proba(X_test)[:, 1]"
   ]
  },
  {
   "cell_type": "code",
   "execution_count": 197,
   "id": "edd7f551",
   "metadata": {},
   "outputs": [],
   "source": [
    "churn_decision = (y_pred >= 0.5)"
   ]
  },
  {
   "cell_type": "code",
   "execution_count": 198,
   "id": "8ef97a0a",
   "metadata": {},
   "outputs": [
    {
     "data": {
      "text/plain": [
       "0.64513839602555"
      ]
     },
     "execution_count": 198,
     "metadata": {},
     "output_type": "execute_result"
    }
   ],
   "source": [
    "(churn_decision == y_test).mean()"
   ]
  },
  {
   "cell_type": "code",
   "execution_count": 207,
   "id": "e43ba77d",
   "metadata": {},
   "outputs": [
    {
     "data": {
      "text/plain": [
       "{'gender': 'female',\n",
       " 'seniorcitizen': 0,\n",
       " 'partner': 'yes',\n",
       " 'dependents': 'yes',\n",
       " 'phoneservice': 'yes',\n",
       " 'multiplelines': 'yes',\n",
       " 'internetservice': 'fiber_optic',\n",
       " 'onlinesecurity': 'yes',\n",
       " 'onlinebackup': 'no',\n",
       " 'deviceprotection': 'yes',\n",
       " 'techsupport': 'no',\n",
       " 'streamingtv': 'yes',\n",
       " 'streamingmovies': 'yes',\n",
       " 'contract': 'month-to-month',\n",
       " 'paperlessbilling': 'yes',\n",
       " 'paymentmethod': 'electronic_check',\n",
       " 'tenure': 17,\n",
       " 'monthlycharges': 104.2,\n",
       " 'totalcharges': 1743.5}"
      ]
     },
     "execution_count": 207,
     "metadata": {},
     "output_type": "execute_result"
    }
   ],
   "source": [
    "customer = dicts_test[-1]\n",
    "customer"
   ]
  },
  {
   "cell_type": "code",
   "execution_count": 208,
   "id": "f9777a56",
   "metadata": {},
   "outputs": [],
   "source": [
    "X_small = dv.transform([customer])"
   ]
  },
  {
   "cell_type": "code",
   "execution_count": 209,
   "id": "06d3b2e3",
   "metadata": {},
   "outputs": [
    {
     "data": {
      "text/plain": [
       "0.5968852088270501"
      ]
     },
     "execution_count": 209,
     "metadata": {},
     "output_type": "execute_result"
    }
   ],
   "source": [
    "model.predict_proba(X_small)[0, 1]"
   ]
  },
  {
   "cell_type": "code",
   "execution_count": 211,
   "id": "ee0f1836",
   "metadata": {},
   "outputs": [
    {
     "data": {
      "text/plain": [
       "1"
      ]
     },
     "execution_count": 211,
     "metadata": {},
     "output_type": "execute_result"
    }
   ],
   "source": [
    "y_test[-1]"
   ]
  },
  {
   "cell_type": "code",
   "execution_count": null,
   "id": "817af10e",
   "metadata": {},
   "outputs": [],
   "source": []
  }
 ],
 "metadata": {
  "kernelspec": {
   "display_name": "Python 3",
   "language": "python",
   "name": "python3"
  },
  "language_info": {
   "codemirror_mode": {
    "name": "ipython",
    "version": 3
   },
   "file_extension": ".py",
   "mimetype": "text/x-python",
   "name": "python",
   "nbconvert_exporter": "python",
   "pygments_lexer": "ipython3",
   "version": "3.10.7"
  },
  "vscode": {
   "interpreter": {
    "hash": "73a208388e63639f9447993bd2ad78d66bfd093df25da4093f2ed3bb37e263a7"
   }
  }
 },
 "nbformat": 4,
 "nbformat_minor": 5
}
