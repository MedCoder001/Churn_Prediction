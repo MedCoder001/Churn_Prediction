{
 "cells": [
  {
   "cell_type": "code",
   "execution_count": 2,
   "id": "52660b97",
   "metadata": {},
   "outputs": [],
   "source": [
    "import numpy as np\n",
    "import pandas as pd\n",
    "import matplotlib.pyplot as plt"
   ]
  },
  {
   "cell_type": "code",
   "execution_count": 3,
   "id": "b53e3c22",
   "metadata": {},
   "outputs": [],
   "source": [
    "data = 'https://raw.githubusercontent.com/alexeygrigorev/mlbookcamp-code/master/chapter-03-churn-prediction/WA_Fn-UseC_-Telco-Customer-Churn.csv'"
   ]
  },
  {
   "cell_type": "code",
   "execution_count": 37,
   "id": "20a5ca5b",
   "metadata": {},
   "outputs": [
    {
     "name": "stderr",
     "output_type": "stream",
     "text": [
      "--2023-02-06 20:26:13--  https://raw.githubusercontent.com/alexeygrigorev/mlbookcamp-code/master/chapter-03-churn-prediction/WA_Fn-UseC_-Telco-Customer-Churn.csv\n",
      "Resolving raw.githubusercontent.com (raw.githubusercontent.com)... 185.199.111.133, 185.199.110.133, 185.199.109.133, ...\n",
      "Connecting to raw.githubusercontent.com (raw.githubusercontent.com)|185.199.111.133|:443... connected.\n",
      "HTTP request sent, awaiting response... 200 OK\n",
      "Length: 977501 (955K) [text/plain]\n",
      "Saving to: 'data_for_churn.csv'\n",
      "\n",
      "     0K .......... .......... .......... .......... ..........  5%  180K 5s\n",
      "    50K .......... .......... .......... .......... .......... 10% 1.83M 3s\n",
      "   100K .......... .......... .......... .......... .......... 15%  311K 2s\n",
      "   150K .......... .......... .......... .......... .......... 20%  320K 2s\n",
      "   200K .......... .......... .......... .......... .......... 26%  286K 2s\n",
      "   250K .......... .......... .......... .......... .......... 31% 1.83M 2s\n",
      "   300K .......... .......... .......... .......... .......... 36%  945K 2s\n",
      "   350K .......... .......... .......... .......... .......... 41%  746K 1s\n",
      "   400K .......... .......... .......... .......... .......... 47% 1.41M 1s\n",
      "   450K .......... .......... .......... .......... .......... 52% 2.30M 1s\n",
      "   500K .......... .......... .......... .......... .......... 57% 1.64M 1s\n",
      "   550K .......... .......... .......... .......... .......... 62% 3.18M 1s\n",
      "   600K .......... .......... .......... .......... .......... 68% 2.85M 0s\n",
      "   650K .......... .......... .......... .......... .......... 73% 1.02M 0s\n",
      "   700K .......... .......... .......... .......... .......... 78% 3.73M 0s\n",
      "   750K .......... .......... .......... .......... .......... 83%  887K 0s\n",
      "   800K .......... .......... .......... .......... .......... 89% 2.61M 0s\n",
      "   850K .......... .......... .......... .......... .......... 94% 4.25M 0s\n",
      "   900K .......... .......... .......... .......... .......... 99% 2.69M 0s\n",
      "   950K ....                                                  100% 9.67M=1.2s\n",
      "\n",
      "2023-02-06 20:26:16 (777 KB/s) - 'data_for_churn.csv' saved [977501/977501]\n",
      "\n"
     ]
    }
   ],
   "source": [
    "!wget $data -O data_for_churn.csv"
   ]
  },
  {
   "cell_type": "code",
   "execution_count": 4,
   "id": "93362413",
   "metadata": {},
   "outputs": [
    {
     "data": {
      "text/html": [
       "<div>\n",
       "<style scoped>\n",
       "    .dataframe tbody tr th:only-of-type {\n",
       "        vertical-align: middle;\n",
       "    }\n",
       "\n",
       "    .dataframe tbody tr th {\n",
       "        vertical-align: top;\n",
       "    }\n",
       "\n",
       "    .dataframe thead th {\n",
       "        text-align: right;\n",
       "    }\n",
       "</style>\n",
       "<table border=\"1\" class=\"dataframe\">\n",
       "  <thead>\n",
       "    <tr style=\"text-align: right;\">\n",
       "      <th></th>\n",
       "      <th>customerID</th>\n",
       "      <th>gender</th>\n",
       "      <th>SeniorCitizen</th>\n",
       "      <th>Partner</th>\n",
       "      <th>Dependents</th>\n",
       "      <th>tenure</th>\n",
       "      <th>PhoneService</th>\n",
       "      <th>MultipleLines</th>\n",
       "      <th>InternetService</th>\n",
       "      <th>OnlineSecurity</th>\n",
       "      <th>...</th>\n",
       "      <th>DeviceProtection</th>\n",
       "      <th>TechSupport</th>\n",
       "      <th>StreamingTV</th>\n",
       "      <th>StreamingMovies</th>\n",
       "      <th>Contract</th>\n",
       "      <th>PaperlessBilling</th>\n",
       "      <th>PaymentMethod</th>\n",
       "      <th>MonthlyCharges</th>\n",
       "      <th>TotalCharges</th>\n",
       "      <th>Churn</th>\n",
       "    </tr>\n",
       "  </thead>\n",
       "  <tbody>\n",
       "    <tr>\n",
       "      <th>0</th>\n",
       "      <td>7590-VHVEG</td>\n",
       "      <td>Female</td>\n",
       "      <td>0</td>\n",
       "      <td>Yes</td>\n",
       "      <td>No</td>\n",
       "      <td>1</td>\n",
       "      <td>No</td>\n",
       "      <td>No phone service</td>\n",
       "      <td>DSL</td>\n",
       "      <td>No</td>\n",
       "      <td>...</td>\n",
       "      <td>No</td>\n",
       "      <td>No</td>\n",
       "      <td>No</td>\n",
       "      <td>No</td>\n",
       "      <td>Month-to-month</td>\n",
       "      <td>Yes</td>\n",
       "      <td>Electronic check</td>\n",
       "      <td>29.85</td>\n",
       "      <td>29.85</td>\n",
       "      <td>No</td>\n",
       "    </tr>\n",
       "    <tr>\n",
       "      <th>1</th>\n",
       "      <td>5575-GNVDE</td>\n",
       "      <td>Male</td>\n",
       "      <td>0</td>\n",
       "      <td>No</td>\n",
       "      <td>No</td>\n",
       "      <td>34</td>\n",
       "      <td>Yes</td>\n",
       "      <td>No</td>\n",
       "      <td>DSL</td>\n",
       "      <td>Yes</td>\n",
       "      <td>...</td>\n",
       "      <td>Yes</td>\n",
       "      <td>No</td>\n",
       "      <td>No</td>\n",
       "      <td>No</td>\n",
       "      <td>One year</td>\n",
       "      <td>No</td>\n",
       "      <td>Mailed check</td>\n",
       "      <td>56.95</td>\n",
       "      <td>1889.5</td>\n",
       "      <td>No</td>\n",
       "    </tr>\n",
       "    <tr>\n",
       "      <th>2</th>\n",
       "      <td>3668-QPYBK</td>\n",
       "      <td>Male</td>\n",
       "      <td>0</td>\n",
       "      <td>No</td>\n",
       "      <td>No</td>\n",
       "      <td>2</td>\n",
       "      <td>Yes</td>\n",
       "      <td>No</td>\n",
       "      <td>DSL</td>\n",
       "      <td>Yes</td>\n",
       "      <td>...</td>\n",
       "      <td>No</td>\n",
       "      <td>No</td>\n",
       "      <td>No</td>\n",
       "      <td>No</td>\n",
       "      <td>Month-to-month</td>\n",
       "      <td>Yes</td>\n",
       "      <td>Mailed check</td>\n",
       "      <td>53.85</td>\n",
       "      <td>108.15</td>\n",
       "      <td>Yes</td>\n",
       "    </tr>\n",
       "    <tr>\n",
       "      <th>3</th>\n",
       "      <td>7795-CFOCW</td>\n",
       "      <td>Male</td>\n",
       "      <td>0</td>\n",
       "      <td>No</td>\n",
       "      <td>No</td>\n",
       "      <td>45</td>\n",
       "      <td>No</td>\n",
       "      <td>No phone service</td>\n",
       "      <td>DSL</td>\n",
       "      <td>Yes</td>\n",
       "      <td>...</td>\n",
       "      <td>Yes</td>\n",
       "      <td>Yes</td>\n",
       "      <td>No</td>\n",
       "      <td>No</td>\n",
       "      <td>One year</td>\n",
       "      <td>No</td>\n",
       "      <td>Bank transfer (automatic)</td>\n",
       "      <td>42.30</td>\n",
       "      <td>1840.75</td>\n",
       "      <td>No</td>\n",
       "    </tr>\n",
       "    <tr>\n",
       "      <th>4</th>\n",
       "      <td>9237-HQITU</td>\n",
       "      <td>Female</td>\n",
       "      <td>0</td>\n",
       "      <td>No</td>\n",
       "      <td>No</td>\n",
       "      <td>2</td>\n",
       "      <td>Yes</td>\n",
       "      <td>No</td>\n",
       "      <td>Fiber optic</td>\n",
       "      <td>No</td>\n",
       "      <td>...</td>\n",
       "      <td>No</td>\n",
       "      <td>No</td>\n",
       "      <td>No</td>\n",
       "      <td>No</td>\n",
       "      <td>Month-to-month</td>\n",
       "      <td>Yes</td>\n",
       "      <td>Electronic check</td>\n",
       "      <td>70.70</td>\n",
       "      <td>151.65</td>\n",
       "      <td>Yes</td>\n",
       "    </tr>\n",
       "  </tbody>\n",
       "</table>\n",
       "<p>5 rows × 21 columns</p>\n",
       "</div>"
      ],
      "text/plain": [
       "   customerID  gender  SeniorCitizen Partner Dependents  tenure PhoneService  \\\n",
       "0  7590-VHVEG  Female              0     Yes         No       1           No   \n",
       "1  5575-GNVDE    Male              0      No         No      34          Yes   \n",
       "2  3668-QPYBK    Male              0      No         No       2          Yes   \n",
       "3  7795-CFOCW    Male              0      No         No      45           No   \n",
       "4  9237-HQITU  Female              0      No         No       2          Yes   \n",
       "\n",
       "      MultipleLines InternetService OnlineSecurity  ... DeviceProtection  \\\n",
       "0  No phone service             DSL             No  ...               No   \n",
       "1                No             DSL            Yes  ...              Yes   \n",
       "2                No             DSL            Yes  ...               No   \n",
       "3  No phone service             DSL            Yes  ...              Yes   \n",
       "4                No     Fiber optic             No  ...               No   \n",
       "\n",
       "  TechSupport StreamingTV StreamingMovies        Contract PaperlessBilling  \\\n",
       "0          No          No              No  Month-to-month              Yes   \n",
       "1          No          No              No        One year               No   \n",
       "2          No          No              No  Month-to-month              Yes   \n",
       "3         Yes          No              No        One year               No   \n",
       "4          No          No              No  Month-to-month              Yes   \n",
       "\n",
       "               PaymentMethod MonthlyCharges  TotalCharges Churn  \n",
       "0           Electronic check          29.85         29.85    No  \n",
       "1               Mailed check          56.95        1889.5    No  \n",
       "2               Mailed check          53.85        108.15   Yes  \n",
       "3  Bank transfer (automatic)          42.30       1840.75    No  \n",
       "4           Electronic check          70.70        151.65   Yes  \n",
       "\n",
       "[5 rows x 21 columns]"
      ]
     },
     "execution_count": 4,
     "metadata": {},
     "output_type": "execute_result"
    }
   ],
   "source": [
    "df = pd.read_csv(\"data_for_churn.csv\")\n",
    "df.head()"
   ]
  },
  {
   "cell_type": "code",
   "execution_count": 5,
   "id": "399cad7d",
   "metadata": {},
   "outputs": [],
   "source": [
    "df.columns = df.columns.str.lower().str.replace(' ', '_')\n",
    "categorical_columns = list(df.dtypes[df.dtypes == 'object'].index)\n",
    "\n",
    "for c in categorical_columns:\n",
    "    df[c] = df[c].str.lower().str.replace(' ', '_')\n"
   ]
  },
  {
   "cell_type": "code",
   "execution_count": 6,
   "id": "8c0054e5",
   "metadata": {},
   "outputs": [
    {
     "data": {
      "text/html": [
       "<div>\n",
       "<style scoped>\n",
       "    .dataframe tbody tr th:only-of-type {\n",
       "        vertical-align: middle;\n",
       "    }\n",
       "\n",
       "    .dataframe tbody tr th {\n",
       "        vertical-align: top;\n",
       "    }\n",
       "\n",
       "    .dataframe thead th {\n",
       "        text-align: right;\n",
       "    }\n",
       "</style>\n",
       "<table border=\"1\" class=\"dataframe\">\n",
       "  <thead>\n",
       "    <tr style=\"text-align: right;\">\n",
       "      <th></th>\n",
       "      <th>0</th>\n",
       "      <th>1</th>\n",
       "      <th>2</th>\n",
       "      <th>3</th>\n",
       "      <th>4</th>\n",
       "    </tr>\n",
       "  </thead>\n",
       "  <tbody>\n",
       "    <tr>\n",
       "      <th>customerid</th>\n",
       "      <td>7590-vhveg</td>\n",
       "      <td>5575-gnvde</td>\n",
       "      <td>3668-qpybk</td>\n",
       "      <td>7795-cfocw</td>\n",
       "      <td>9237-hqitu</td>\n",
       "    </tr>\n",
       "    <tr>\n",
       "      <th>gender</th>\n",
       "      <td>female</td>\n",
       "      <td>male</td>\n",
       "      <td>male</td>\n",
       "      <td>male</td>\n",
       "      <td>female</td>\n",
       "    </tr>\n",
       "    <tr>\n",
       "      <th>seniorcitizen</th>\n",
       "      <td>0</td>\n",
       "      <td>0</td>\n",
       "      <td>0</td>\n",
       "      <td>0</td>\n",
       "      <td>0</td>\n",
       "    </tr>\n",
       "    <tr>\n",
       "      <th>partner</th>\n",
       "      <td>yes</td>\n",
       "      <td>no</td>\n",
       "      <td>no</td>\n",
       "      <td>no</td>\n",
       "      <td>no</td>\n",
       "    </tr>\n",
       "    <tr>\n",
       "      <th>dependents</th>\n",
       "      <td>no</td>\n",
       "      <td>no</td>\n",
       "      <td>no</td>\n",
       "      <td>no</td>\n",
       "      <td>no</td>\n",
       "    </tr>\n",
       "    <tr>\n",
       "      <th>tenure</th>\n",
       "      <td>1</td>\n",
       "      <td>34</td>\n",
       "      <td>2</td>\n",
       "      <td>45</td>\n",
       "      <td>2</td>\n",
       "    </tr>\n",
       "    <tr>\n",
       "      <th>phoneservice</th>\n",
       "      <td>no</td>\n",
       "      <td>yes</td>\n",
       "      <td>yes</td>\n",
       "      <td>no</td>\n",
       "      <td>yes</td>\n",
       "    </tr>\n",
       "    <tr>\n",
       "      <th>multiplelines</th>\n",
       "      <td>no_phone_service</td>\n",
       "      <td>no</td>\n",
       "      <td>no</td>\n",
       "      <td>no_phone_service</td>\n",
       "      <td>no</td>\n",
       "    </tr>\n",
       "    <tr>\n",
       "      <th>internetservice</th>\n",
       "      <td>dsl</td>\n",
       "      <td>dsl</td>\n",
       "      <td>dsl</td>\n",
       "      <td>dsl</td>\n",
       "      <td>fiber_optic</td>\n",
       "    </tr>\n",
       "    <tr>\n",
       "      <th>onlinesecurity</th>\n",
       "      <td>no</td>\n",
       "      <td>yes</td>\n",
       "      <td>yes</td>\n",
       "      <td>yes</td>\n",
       "      <td>no</td>\n",
       "    </tr>\n",
       "    <tr>\n",
       "      <th>onlinebackup</th>\n",
       "      <td>yes</td>\n",
       "      <td>no</td>\n",
       "      <td>yes</td>\n",
       "      <td>no</td>\n",
       "      <td>no</td>\n",
       "    </tr>\n",
       "    <tr>\n",
       "      <th>deviceprotection</th>\n",
       "      <td>no</td>\n",
       "      <td>yes</td>\n",
       "      <td>no</td>\n",
       "      <td>yes</td>\n",
       "      <td>no</td>\n",
       "    </tr>\n",
       "    <tr>\n",
       "      <th>techsupport</th>\n",
       "      <td>no</td>\n",
       "      <td>no</td>\n",
       "      <td>no</td>\n",
       "      <td>yes</td>\n",
       "      <td>no</td>\n",
       "    </tr>\n",
       "    <tr>\n",
       "      <th>streamingtv</th>\n",
       "      <td>no</td>\n",
       "      <td>no</td>\n",
       "      <td>no</td>\n",
       "      <td>no</td>\n",
       "      <td>no</td>\n",
       "    </tr>\n",
       "    <tr>\n",
       "      <th>streamingmovies</th>\n",
       "      <td>no</td>\n",
       "      <td>no</td>\n",
       "      <td>no</td>\n",
       "      <td>no</td>\n",
       "      <td>no</td>\n",
       "    </tr>\n",
       "    <tr>\n",
       "      <th>contract</th>\n",
       "      <td>month-to-month</td>\n",
       "      <td>one_year</td>\n",
       "      <td>month-to-month</td>\n",
       "      <td>one_year</td>\n",
       "      <td>month-to-month</td>\n",
       "    </tr>\n",
       "    <tr>\n",
       "      <th>paperlessbilling</th>\n",
       "      <td>yes</td>\n",
       "      <td>no</td>\n",
       "      <td>yes</td>\n",
       "      <td>no</td>\n",
       "      <td>yes</td>\n",
       "    </tr>\n",
       "    <tr>\n",
       "      <th>paymentmethod</th>\n",
       "      <td>electronic_check</td>\n",
       "      <td>mailed_check</td>\n",
       "      <td>mailed_check</td>\n",
       "      <td>bank_transfer_(automatic)</td>\n",
       "      <td>electronic_check</td>\n",
       "    </tr>\n",
       "    <tr>\n",
       "      <th>monthlycharges</th>\n",
       "      <td>29.85</td>\n",
       "      <td>56.95</td>\n",
       "      <td>53.85</td>\n",
       "      <td>42.3</td>\n",
       "      <td>70.7</td>\n",
       "    </tr>\n",
       "    <tr>\n",
       "      <th>totalcharges</th>\n",
       "      <td>29.85</td>\n",
       "      <td>1889.5</td>\n",
       "      <td>108.15</td>\n",
       "      <td>1840.75</td>\n",
       "      <td>151.65</td>\n",
       "    </tr>\n",
       "    <tr>\n",
       "      <th>churn</th>\n",
       "      <td>no</td>\n",
       "      <td>no</td>\n",
       "      <td>yes</td>\n",
       "      <td>no</td>\n",
       "      <td>yes</td>\n",
       "    </tr>\n",
       "  </tbody>\n",
       "</table>\n",
       "</div>"
      ],
      "text/plain": [
       "                                 0             1               2  \\\n",
       "customerid              7590-vhveg    5575-gnvde      3668-qpybk   \n",
       "gender                      female          male            male   \n",
       "seniorcitizen                    0             0               0   \n",
       "partner                        yes            no              no   \n",
       "dependents                      no            no              no   \n",
       "tenure                           1            34               2   \n",
       "phoneservice                    no           yes             yes   \n",
       "multiplelines     no_phone_service            no              no   \n",
       "internetservice                dsl           dsl             dsl   \n",
       "onlinesecurity                  no           yes             yes   \n",
       "onlinebackup                   yes            no             yes   \n",
       "deviceprotection                no           yes              no   \n",
       "techsupport                     no            no              no   \n",
       "streamingtv                     no            no              no   \n",
       "streamingmovies                 no            no              no   \n",
       "contract            month-to-month      one_year  month-to-month   \n",
       "paperlessbilling               yes            no             yes   \n",
       "paymentmethod     electronic_check  mailed_check    mailed_check   \n",
       "monthlycharges               29.85         56.95           53.85   \n",
       "totalcharges                 29.85        1889.5          108.15   \n",
       "churn                           no            no             yes   \n",
       "\n",
       "                                          3                 4  \n",
       "customerid                       7795-cfocw        9237-hqitu  \n",
       "gender                                 male            female  \n",
       "seniorcitizen                             0                 0  \n",
       "partner                                  no                no  \n",
       "dependents                               no                no  \n",
       "tenure                                   45                 2  \n",
       "phoneservice                             no               yes  \n",
       "multiplelines              no_phone_service                no  \n",
       "internetservice                         dsl       fiber_optic  \n",
       "onlinesecurity                          yes                no  \n",
       "onlinebackup                             no                no  \n",
       "deviceprotection                        yes                no  \n",
       "techsupport                             yes                no  \n",
       "streamingtv                              no                no  \n",
       "streamingmovies                          no                no  \n",
       "contract                           one_year    month-to-month  \n",
       "paperlessbilling                         no               yes  \n",
       "paymentmethod     bank_transfer_(automatic)  electronic_check  \n",
       "monthlycharges                         42.3              70.7  \n",
       "totalcharges                        1840.75            151.65  \n",
       "churn                                    no               yes  "
      ]
     },
     "execution_count": 6,
     "metadata": {},
     "output_type": "execute_result"
    }
   ],
   "source": [
    "df.head().T"
   ]
  },
  {
   "cell_type": "code",
   "execution_count": 7,
   "id": "11340356",
   "metadata": {},
   "outputs": [],
   "source": [
    "tc=pd.to_numeric(df.totalcharges, errors='coerce')"
   ]
  },
  {
   "cell_type": "code",
   "execution_count": 8,
   "id": "da60304b",
   "metadata": {},
   "outputs": [],
   "source": [
    "df.totalcharges = pd.to_numeric(df.totalcharges, errors='coerce')\n",
    "df.totalcharges = df.totalcharges.fillna(0)"
   ]
  },
  {
   "cell_type": "code",
   "execution_count": 9,
   "id": "d3e31d6e",
   "metadata": {},
   "outputs": [
    {
     "data": {
      "text/html": [
       "<div>\n",
       "<style scoped>\n",
       "    .dataframe tbody tr th:only-of-type {\n",
       "        vertical-align: middle;\n",
       "    }\n",
       "\n",
       "    .dataframe tbody tr th {\n",
       "        vertical-align: top;\n",
       "    }\n",
       "\n",
       "    .dataframe thead th {\n",
       "        text-align: right;\n",
       "    }\n",
       "</style>\n",
       "<table border=\"1\" class=\"dataframe\">\n",
       "  <thead>\n",
       "    <tr style=\"text-align: right;\">\n",
       "      <th></th>\n",
       "      <th>customerid</th>\n",
       "      <th>totalcharges</th>\n",
       "    </tr>\n",
       "  </thead>\n",
       "  <tbody>\n",
       "    <tr>\n",
       "      <th>488</th>\n",
       "      <td>4472-lvygi</td>\n",
       "      <td>0.0</td>\n",
       "    </tr>\n",
       "    <tr>\n",
       "      <th>753</th>\n",
       "      <td>3115-czmzd</td>\n",
       "      <td>0.0</td>\n",
       "    </tr>\n",
       "    <tr>\n",
       "      <th>936</th>\n",
       "      <td>5709-lvoeq</td>\n",
       "      <td>0.0</td>\n",
       "    </tr>\n",
       "    <tr>\n",
       "      <th>1082</th>\n",
       "      <td>4367-nuyao</td>\n",
       "      <td>0.0</td>\n",
       "    </tr>\n",
       "    <tr>\n",
       "      <th>1340</th>\n",
       "      <td>1371-dwpaz</td>\n",
       "      <td>0.0</td>\n",
       "    </tr>\n",
       "    <tr>\n",
       "      <th>3331</th>\n",
       "      <td>7644-omvmy</td>\n",
       "      <td>0.0</td>\n",
       "    </tr>\n",
       "    <tr>\n",
       "      <th>3826</th>\n",
       "      <td>3213-vvolg</td>\n",
       "      <td>0.0</td>\n",
       "    </tr>\n",
       "    <tr>\n",
       "      <th>4380</th>\n",
       "      <td>2520-sgtta</td>\n",
       "      <td>0.0</td>\n",
       "    </tr>\n",
       "    <tr>\n",
       "      <th>5218</th>\n",
       "      <td>2923-arzlg</td>\n",
       "      <td>0.0</td>\n",
       "    </tr>\n",
       "    <tr>\n",
       "      <th>6670</th>\n",
       "      <td>4075-wkniu</td>\n",
       "      <td>0.0</td>\n",
       "    </tr>\n",
       "    <tr>\n",
       "      <th>6754</th>\n",
       "      <td>2775-sefee</td>\n",
       "      <td>0.0</td>\n",
       "    </tr>\n",
       "  </tbody>\n",
       "</table>\n",
       "</div>"
      ],
      "text/plain": [
       "      customerid  totalcharges\n",
       "488   4472-lvygi           0.0\n",
       "753   3115-czmzd           0.0\n",
       "936   5709-lvoeq           0.0\n",
       "1082  4367-nuyao           0.0\n",
       "1340  1371-dwpaz           0.0\n",
       "3331  7644-omvmy           0.0\n",
       "3826  3213-vvolg           0.0\n",
       "4380  2520-sgtta           0.0\n",
       "5218  2923-arzlg           0.0\n",
       "6670  4075-wkniu           0.0\n",
       "6754  2775-sefee           0.0"
      ]
     },
     "execution_count": 9,
     "metadata": {},
     "output_type": "execute_result"
    }
   ],
   "source": [
    "df[tc.isnull()][['customerid', 'totalcharges']]"
   ]
  },
  {
   "cell_type": "code",
   "execution_count": 10,
   "id": "88728054",
   "metadata": {},
   "outputs": [
    {
     "data": {
      "text/plain": [
       "0     no\n",
       "1     no\n",
       "2    yes\n",
       "3     no\n",
       "4    yes\n",
       "Name: churn, dtype: object"
      ]
     },
     "execution_count": 10,
     "metadata": {},
     "output_type": "execute_result"
    }
   ],
   "source": [
    "df.churn.head()"
   ]
  },
  {
   "cell_type": "code",
   "execution_count": 11,
   "id": "e4f9e6fd",
   "metadata": {},
   "outputs": [],
   "source": [
    "df.churn = (df.churn == 'yes').astype(int)"
   ]
  },
  {
   "cell_type": "code",
   "execution_count": 12,
   "id": "06182810",
   "metadata": {},
   "outputs": [],
   "source": [
    "from sklearn.model_selection import train_test_split"
   ]
  },
  {
   "cell_type": "code",
   "execution_count": 13,
   "id": "97f98797",
   "metadata": {},
   "outputs": [],
   "source": [
    "df_full_train, df_test = train_test_split(df, test_size=0.2, random_state=1)"
   ]
  },
  {
   "cell_type": "code",
   "execution_count": 14,
   "id": "52c14404",
   "metadata": {},
   "outputs": [],
   "source": [
    "df_train, df_val = train_test_split(df_full_train, test_size=0.25, random_state=1)"
   ]
  },
  {
   "cell_type": "code",
   "execution_count": 15,
   "id": "351ef886",
   "metadata": {},
   "outputs": [
    {
     "data": {
      "text/plain": [
       "(4225, 1409, 1409)"
      ]
     },
     "execution_count": 15,
     "metadata": {},
     "output_type": "execute_result"
    }
   ],
   "source": [
    "len(df_train), len(df_test), len(df_val)"
   ]
  },
  {
   "cell_type": "code",
   "execution_count": 16,
   "id": "168de35c",
   "metadata": {},
   "outputs": [],
   "source": [
    "df_train = df_train.reset_index(drop=True)\n",
    "df_val = df_val.reset_index(drop=True)\n",
    "df_test = df_test.reset_index(drop=True)"
   ]
  },
  {
   "cell_type": "code",
   "execution_count": 17,
   "id": "e2666c00",
   "metadata": {},
   "outputs": [],
   "source": [
    "y_train = df_train.churn.values\n",
    "y_val = df_val.churn.values\n",
    "y_test = df_test.churn.values"
   ]
  },
  {
   "cell_type": "code",
   "execution_count": 18,
   "id": "9a0328ae",
   "metadata": {},
   "outputs": [],
   "source": [
    "del df_train['churn']\n",
    "del df_val['churn']\n",
    "del df_test['churn']"
   ]
  },
  {
   "cell_type": "code",
   "execution_count": 19,
   "id": "a35405dd",
   "metadata": {},
   "outputs": [
    {
     "data": {
      "text/plain": [
       "array([0, 0, 0, ..., 0, 0, 1])"
      ]
     },
     "execution_count": 19,
     "metadata": {},
     "output_type": "execute_result"
    }
   ],
   "source": [
    "y_test"
   ]
  },
  {
   "cell_type": "code",
   "execution_count": 20,
   "id": "1752730b",
   "metadata": {},
   "outputs": [],
   "source": [
    "df_full_train = df_full_train.reset_index(drop=True)"
   ]
  },
  {
   "cell_type": "code",
   "execution_count": 21,
   "id": "3676572d",
   "metadata": {},
   "outputs": [
    {
     "data": {
      "text/plain": [
       "0    0.730032\n",
       "1    0.269968\n",
       "Name: churn, dtype: float64"
      ]
     },
     "execution_count": 21,
     "metadata": {},
     "output_type": "execute_result"
    }
   ],
   "source": [
    "df_full_train.churn.value_counts(normalize=True)"
   ]
  },
  {
   "cell_type": "code",
   "execution_count": 22,
   "id": "a91aee31",
   "metadata": {},
   "outputs": [
    {
     "data": {
      "text/plain": [
       "0.27"
      ]
     },
     "execution_count": 22,
     "metadata": {},
     "output_type": "execute_result"
    }
   ],
   "source": [
    "global_churn_rate = df_full_train.churn.mean().round(2)\n",
    "global_churn_rate"
   ]
  },
  {
   "cell_type": "code",
   "execution_count": 23,
   "id": "7f34f072",
   "metadata": {},
   "outputs": [],
   "source": [
    "numerical = ['tenure', 'monthlycharges', 'totalcharges']"
   ]
  },
  {
   "cell_type": "code",
   "execution_count": 24,
   "id": "2bca0113",
   "metadata": {},
   "outputs": [],
   "source": [
    "categorical = ['gender', 'seniorcitizen', 'partner', 'dependents', 'phoneservice', \n",
    "               'multiplelines', 'internetservice', 'onlinesecurity', 'onlinebackup', 'deviceprotection', 'techsupport', \n",
    "               'streamingtv', 'streamingmovies', 'contract', 'paperlessbilling','paymentmethod']"
   ]
  },
  {
   "cell_type": "code",
   "execution_count": 25,
   "id": "d9a74785",
   "metadata": {},
   "outputs": [
    {
     "data": {
      "text/plain": [
       "gender              2\n",
       "seniorcitizen       2\n",
       "partner             2\n",
       "dependents          2\n",
       "phoneservice        2\n",
       "multiplelines       3\n",
       "internetservice     3\n",
       "onlinesecurity      3\n",
       "onlinebackup        3\n",
       "deviceprotection    3\n",
       "techsupport         3\n",
       "streamingtv         3\n",
       "streamingmovies     3\n",
       "contract            3\n",
       "paperlessbilling    2\n",
       "paymentmethod       4\n",
       "dtype: int64"
      ]
     },
     "execution_count": 25,
     "metadata": {},
     "output_type": "execute_result"
    }
   ],
   "source": [
    "df_full_train[categorical].nunique()"
   ]
  },
  {
   "cell_type": "code",
   "execution_count": 26,
   "id": "c22f22fb",
   "metadata": {},
   "outputs": [
    {
     "data": {
      "text/html": [
       "<div>\n",
       "<style scoped>\n",
       "    .dataframe tbody tr th:only-of-type {\n",
       "        vertical-align: middle;\n",
       "    }\n",
       "\n",
       "    .dataframe tbody tr th {\n",
       "        vertical-align: top;\n",
       "    }\n",
       "\n",
       "    .dataframe thead th {\n",
       "        text-align: right;\n",
       "    }\n",
       "</style>\n",
       "<table border=\"1\" class=\"dataframe\">\n",
       "  <thead>\n",
       "    <tr style=\"text-align: right;\">\n",
       "      <th></th>\n",
       "      <th>customerid</th>\n",
       "      <th>gender</th>\n",
       "      <th>seniorcitizen</th>\n",
       "      <th>partner</th>\n",
       "      <th>dependents</th>\n",
       "      <th>tenure</th>\n",
       "      <th>phoneservice</th>\n",
       "      <th>multiplelines</th>\n",
       "      <th>internetservice</th>\n",
       "      <th>onlinesecurity</th>\n",
       "      <th>...</th>\n",
       "      <th>deviceprotection</th>\n",
       "      <th>techsupport</th>\n",
       "      <th>streamingtv</th>\n",
       "      <th>streamingmovies</th>\n",
       "      <th>contract</th>\n",
       "      <th>paperlessbilling</th>\n",
       "      <th>paymentmethod</th>\n",
       "      <th>monthlycharges</th>\n",
       "      <th>totalcharges</th>\n",
       "      <th>churn</th>\n",
       "    </tr>\n",
       "  </thead>\n",
       "  <tbody>\n",
       "    <tr>\n",
       "      <th>0</th>\n",
       "      <td>5442-pptjy</td>\n",
       "      <td>male</td>\n",
       "      <td>0</td>\n",
       "      <td>yes</td>\n",
       "      <td>yes</td>\n",
       "      <td>12</td>\n",
       "      <td>yes</td>\n",
       "      <td>no</td>\n",
       "      <td>no</td>\n",
       "      <td>no_internet_service</td>\n",
       "      <td>...</td>\n",
       "      <td>no_internet_service</td>\n",
       "      <td>no_internet_service</td>\n",
       "      <td>no_internet_service</td>\n",
       "      <td>no_internet_service</td>\n",
       "      <td>two_year</td>\n",
       "      <td>no</td>\n",
       "      <td>mailed_check</td>\n",
       "      <td>19.70</td>\n",
       "      <td>258.35</td>\n",
       "      <td>0</td>\n",
       "    </tr>\n",
       "    <tr>\n",
       "      <th>1</th>\n",
       "      <td>6261-rcvns</td>\n",
       "      <td>female</td>\n",
       "      <td>0</td>\n",
       "      <td>no</td>\n",
       "      <td>no</td>\n",
       "      <td>42</td>\n",
       "      <td>yes</td>\n",
       "      <td>no</td>\n",
       "      <td>dsl</td>\n",
       "      <td>yes</td>\n",
       "      <td>...</td>\n",
       "      <td>yes</td>\n",
       "      <td>yes</td>\n",
       "      <td>no</td>\n",
       "      <td>yes</td>\n",
       "      <td>one_year</td>\n",
       "      <td>no</td>\n",
       "      <td>credit_card_(automatic)</td>\n",
       "      <td>73.90</td>\n",
       "      <td>3160.55</td>\n",
       "      <td>1</td>\n",
       "    </tr>\n",
       "    <tr>\n",
       "      <th>2</th>\n",
       "      <td>2176-osjuv</td>\n",
       "      <td>male</td>\n",
       "      <td>0</td>\n",
       "      <td>yes</td>\n",
       "      <td>no</td>\n",
       "      <td>71</td>\n",
       "      <td>yes</td>\n",
       "      <td>yes</td>\n",
       "      <td>dsl</td>\n",
       "      <td>yes</td>\n",
       "      <td>...</td>\n",
       "      <td>no</td>\n",
       "      <td>yes</td>\n",
       "      <td>no</td>\n",
       "      <td>no</td>\n",
       "      <td>two_year</td>\n",
       "      <td>no</td>\n",
       "      <td>bank_transfer_(automatic)</td>\n",
       "      <td>65.15</td>\n",
       "      <td>4681.75</td>\n",
       "      <td>0</td>\n",
       "    </tr>\n",
       "    <tr>\n",
       "      <th>3</th>\n",
       "      <td>6161-erdgd</td>\n",
       "      <td>male</td>\n",
       "      <td>0</td>\n",
       "      <td>yes</td>\n",
       "      <td>yes</td>\n",
       "      <td>71</td>\n",
       "      <td>yes</td>\n",
       "      <td>yes</td>\n",
       "      <td>dsl</td>\n",
       "      <td>yes</td>\n",
       "      <td>...</td>\n",
       "      <td>yes</td>\n",
       "      <td>yes</td>\n",
       "      <td>yes</td>\n",
       "      <td>yes</td>\n",
       "      <td>one_year</td>\n",
       "      <td>no</td>\n",
       "      <td>electronic_check</td>\n",
       "      <td>85.45</td>\n",
       "      <td>6300.85</td>\n",
       "      <td>0</td>\n",
       "    </tr>\n",
       "    <tr>\n",
       "      <th>4</th>\n",
       "      <td>2364-ufrom</td>\n",
       "      <td>male</td>\n",
       "      <td>0</td>\n",
       "      <td>no</td>\n",
       "      <td>no</td>\n",
       "      <td>30</td>\n",
       "      <td>yes</td>\n",
       "      <td>no</td>\n",
       "      <td>dsl</td>\n",
       "      <td>yes</td>\n",
       "      <td>...</td>\n",
       "      <td>no</td>\n",
       "      <td>yes</td>\n",
       "      <td>yes</td>\n",
       "      <td>no</td>\n",
       "      <td>one_year</td>\n",
       "      <td>no</td>\n",
       "      <td>electronic_check</td>\n",
       "      <td>70.40</td>\n",
       "      <td>2044.75</td>\n",
       "      <td>0</td>\n",
       "    </tr>\n",
       "  </tbody>\n",
       "</table>\n",
       "<p>5 rows × 21 columns</p>\n",
       "</div>"
      ],
      "text/plain": [
       "   customerid  gender  seniorcitizen partner dependents  tenure phoneservice  \\\n",
       "0  5442-pptjy    male              0     yes        yes      12          yes   \n",
       "1  6261-rcvns  female              0      no         no      42          yes   \n",
       "2  2176-osjuv    male              0     yes         no      71          yes   \n",
       "3  6161-erdgd    male              0     yes        yes      71          yes   \n",
       "4  2364-ufrom    male              0      no         no      30          yes   \n",
       "\n",
       "  multiplelines internetservice       onlinesecurity  ...  \\\n",
       "0            no              no  no_internet_service  ...   \n",
       "1            no             dsl                  yes  ...   \n",
       "2           yes             dsl                  yes  ...   \n",
       "3           yes             dsl                  yes  ...   \n",
       "4            no             dsl                  yes  ...   \n",
       "\n",
       "      deviceprotection          techsupport          streamingtv  \\\n",
       "0  no_internet_service  no_internet_service  no_internet_service   \n",
       "1                  yes                  yes                   no   \n",
       "2                   no                  yes                   no   \n",
       "3                  yes                  yes                  yes   \n",
       "4                   no                  yes                  yes   \n",
       "\n",
       "       streamingmovies  contract paperlessbilling              paymentmethod  \\\n",
       "0  no_internet_service  two_year               no               mailed_check   \n",
       "1                  yes  one_year               no    credit_card_(automatic)   \n",
       "2                   no  two_year               no  bank_transfer_(automatic)   \n",
       "3                  yes  one_year               no           electronic_check   \n",
       "4                   no  one_year               no           electronic_check   \n",
       "\n",
       "  monthlycharges  totalcharges  churn  \n",
       "0          19.70        258.35      0  \n",
       "1          73.90       3160.55      1  \n",
       "2          65.15       4681.75      0  \n",
       "3          85.45       6300.85      0  \n",
       "4          70.40       2044.75      0  \n",
       "\n",
       "[5 rows x 21 columns]"
      ]
     },
     "execution_count": 26,
     "metadata": {},
     "output_type": "execute_result"
    }
   ],
   "source": [
    "df_full_train.head()"
   ]
  },
  {
   "cell_type": "code",
   "execution_count": 27,
   "id": "7ce1a4b5",
   "metadata": {},
   "outputs": [
    {
     "data": {
      "text/plain": [
       "0.27682403433476394"
      ]
     },
     "execution_count": 27,
     "metadata": {},
     "output_type": "execute_result"
    }
   ],
   "source": [
    "churn_female = df_full_train[df_full_train.gender == 'female'].churn.mean()\n",
    "churn_female"
   ]
  },
  {
   "cell_type": "code",
   "execution_count": 28,
   "id": "f521a9a8",
   "metadata": {},
   "outputs": [
    {
     "data": {
      "text/plain": [
       "0.2632135306553911"
      ]
     },
     "execution_count": 28,
     "metadata": {},
     "output_type": "execute_result"
    }
   ],
   "source": [
    "churn_male = df_full_train[df_full_train.gender == 'male'].churn.mean()\n",
    "churn_male"
   ]
  },
  {
   "cell_type": "code",
   "execution_count": 29,
   "id": "3d5b51ac",
   "metadata": {},
   "outputs": [
    {
     "data": {
      "text/plain": [
       "0.26996805111821087"
      ]
     },
     "execution_count": 29,
     "metadata": {},
     "output_type": "execute_result"
    }
   ],
   "source": [
    "global_churn_rate = df_full_train.churn.mean()\n",
    "global_churn_rate"
   ]
  },
  {
   "cell_type": "code",
   "execution_count": 30,
   "id": "5d109b20",
   "metadata": {},
   "outputs": [
    {
     "data": {
      "text/plain": [
       "no     2932\n",
       "yes    2702\n",
       "Name: partner, dtype: int64"
      ]
     },
     "execution_count": 30,
     "metadata": {},
     "output_type": "execute_result"
    }
   ],
   "source": [
    "df_full_train.partner.value_counts()"
   ]
  },
  {
   "cell_type": "code",
   "execution_count": 31,
   "id": "9451310f",
   "metadata": {},
   "outputs": [
    {
     "data": {
      "text/plain": [
       "0.20503330866025166"
      ]
     },
     "execution_count": 31,
     "metadata": {},
     "output_type": "execute_result"
    }
   ],
   "source": [
    "churn_partner = df_full_train[df_full_train.partner == 'yes'].churn.mean()\n",
    "churn_partner"
   ]
  },
  {
   "cell_type": "code",
   "execution_count": 32,
   "id": "06765fe2",
   "metadata": {},
   "outputs": [
    {
     "data": {
      "text/plain": [
       "0.3298090040927694"
      ]
     },
     "execution_count": 32,
     "metadata": {},
     "output_type": "execute_result"
    }
   ],
   "source": [
    "churn_no_partner = df_full_train[df_full_train.partner == 'no'].churn.mean()\n",
    "churn_no_partner"
   ]
  },
  {
   "cell_type": "code",
   "execution_count": 33,
   "id": "c45eb1e3",
   "metadata": {},
   "outputs": [
    {
     "data": {
      "text/plain": [
       "0.06493474245795922"
      ]
     },
     "execution_count": 33,
     "metadata": {},
     "output_type": "execute_result"
    }
   ],
   "source": [
    "global_churn_rate - churn_partner"
   ]
  },
  {
   "cell_type": "code",
   "execution_count": 34,
   "id": "84a31e29",
   "metadata": {},
   "outputs": [
    {
     "data": {
      "text/plain": [
       "0.7594724924338315"
      ]
     },
     "execution_count": 34,
     "metadata": {},
     "output_type": "execute_result"
    }
   ],
   "source": [
    "churn_partner/global_churn_rate"
   ]
  },
  {
   "cell_type": "code",
   "execution_count": 35,
   "id": "9370952a",
   "metadata": {},
   "outputs": [
    {
     "data": {
      "text/plain": [
       "1.2216593879412643"
      ]
     },
     "execution_count": 35,
     "metadata": {},
     "output_type": "execute_result"
    }
   ],
   "source": [
    "churn_no_partner/global_churn_rate"
   ]
  },
  {
   "cell_type": "code",
   "execution_count": 36,
   "id": "c10fba4e",
   "metadata": {},
   "outputs": [],
   "source": [
    "from IPython.display import display"
   ]
  },
  {
   "cell_type": "code",
   "execution_count": 37,
   "id": "1883e88b",
   "metadata": {},
   "outputs": [
    {
     "name": "stdout",
     "output_type": "stream",
     "text": [
      "gender\n"
     ]
    },
    {
     "data": {
      "text/html": [
       "<div>\n",
       "<style scoped>\n",
       "    .dataframe tbody tr th:only-of-type {\n",
       "        vertical-align: middle;\n",
       "    }\n",
       "\n",
       "    .dataframe tbody tr th {\n",
       "        vertical-align: top;\n",
       "    }\n",
       "\n",
       "    .dataframe thead th {\n",
       "        text-align: right;\n",
       "    }\n",
       "</style>\n",
       "<table border=\"1\" class=\"dataframe\">\n",
       "  <thead>\n",
       "    <tr style=\"text-align: right;\">\n",
       "      <th></th>\n",
       "      <th>mean</th>\n",
       "      <th>count</th>\n",
       "      <th>diff</th>\n",
       "      <th>risk</th>\n",
       "    </tr>\n",
       "    <tr>\n",
       "      <th>gender</th>\n",
       "      <th></th>\n",
       "      <th></th>\n",
       "      <th></th>\n",
       "      <th></th>\n",
       "    </tr>\n",
       "  </thead>\n",
       "  <tbody>\n",
       "    <tr>\n",
       "      <th>female</th>\n",
       "      <td>0.276824</td>\n",
       "      <td>2796</td>\n",
       "      <td>0.006856</td>\n",
       "      <td>1.025396</td>\n",
       "    </tr>\n",
       "    <tr>\n",
       "      <th>male</th>\n",
       "      <td>0.263214</td>\n",
       "      <td>2838</td>\n",
       "      <td>-0.006755</td>\n",
       "      <td>0.974980</td>\n",
       "    </tr>\n",
       "  </tbody>\n",
       "</table>\n",
       "</div>"
      ],
      "text/plain": [
       "            mean  count      diff      risk\n",
       "gender                                     \n",
       "female  0.276824   2796  0.006856  1.025396\n",
       "male    0.263214   2838 -0.006755  0.974980"
      ]
     },
     "metadata": {},
     "output_type": "display_data"
    },
    {
     "name": "stdout",
     "output_type": "stream",
     "text": [
      "\n",
      "\n",
      "seniorcitizen\n"
     ]
    },
    {
     "data": {
      "text/html": [
       "<div>\n",
       "<style scoped>\n",
       "    .dataframe tbody tr th:only-of-type {\n",
       "        vertical-align: middle;\n",
       "    }\n",
       "\n",
       "    .dataframe tbody tr th {\n",
       "        vertical-align: top;\n",
       "    }\n",
       "\n",
       "    .dataframe thead th {\n",
       "        text-align: right;\n",
       "    }\n",
       "</style>\n",
       "<table border=\"1\" class=\"dataframe\">\n",
       "  <thead>\n",
       "    <tr style=\"text-align: right;\">\n",
       "      <th></th>\n",
       "      <th>mean</th>\n",
       "      <th>count</th>\n",
       "      <th>diff</th>\n",
       "      <th>risk</th>\n",
       "    </tr>\n",
       "    <tr>\n",
       "      <th>seniorcitizen</th>\n",
       "      <th></th>\n",
       "      <th></th>\n",
       "      <th></th>\n",
       "      <th></th>\n",
       "    </tr>\n",
       "  </thead>\n",
       "  <tbody>\n",
       "    <tr>\n",
       "      <th>0</th>\n",
       "      <td>0.242270</td>\n",
       "      <td>4722</td>\n",
       "      <td>-0.027698</td>\n",
       "      <td>0.897403</td>\n",
       "    </tr>\n",
       "    <tr>\n",
       "      <th>1</th>\n",
       "      <td>0.413377</td>\n",
       "      <td>912</td>\n",
       "      <td>0.143409</td>\n",
       "      <td>1.531208</td>\n",
       "    </tr>\n",
       "  </tbody>\n",
       "</table>\n",
       "</div>"
      ],
      "text/plain": [
       "                   mean  count      diff      risk\n",
       "seniorcitizen                                     \n",
       "0              0.242270   4722 -0.027698  0.897403\n",
       "1              0.413377    912  0.143409  1.531208"
      ]
     },
     "metadata": {},
     "output_type": "display_data"
    },
    {
     "name": "stdout",
     "output_type": "stream",
     "text": [
      "\n",
      "\n",
      "partner\n"
     ]
    },
    {
     "data": {
      "text/html": [
       "<div>\n",
       "<style scoped>\n",
       "    .dataframe tbody tr th:only-of-type {\n",
       "        vertical-align: middle;\n",
       "    }\n",
       "\n",
       "    .dataframe tbody tr th {\n",
       "        vertical-align: top;\n",
       "    }\n",
       "\n",
       "    .dataframe thead th {\n",
       "        text-align: right;\n",
       "    }\n",
       "</style>\n",
       "<table border=\"1\" class=\"dataframe\">\n",
       "  <thead>\n",
       "    <tr style=\"text-align: right;\">\n",
       "      <th></th>\n",
       "      <th>mean</th>\n",
       "      <th>count</th>\n",
       "      <th>diff</th>\n",
       "      <th>risk</th>\n",
       "    </tr>\n",
       "    <tr>\n",
       "      <th>partner</th>\n",
       "      <th></th>\n",
       "      <th></th>\n",
       "      <th></th>\n",
       "      <th></th>\n",
       "    </tr>\n",
       "  </thead>\n",
       "  <tbody>\n",
       "    <tr>\n",
       "      <th>no</th>\n",
       "      <td>0.329809</td>\n",
       "      <td>2932</td>\n",
       "      <td>0.059841</td>\n",
       "      <td>1.221659</td>\n",
       "    </tr>\n",
       "    <tr>\n",
       "      <th>yes</th>\n",
       "      <td>0.205033</td>\n",
       "      <td>2702</td>\n",
       "      <td>-0.064935</td>\n",
       "      <td>0.759472</td>\n",
       "    </tr>\n",
       "  </tbody>\n",
       "</table>\n",
       "</div>"
      ],
      "text/plain": [
       "             mean  count      diff      risk\n",
       "partner                                     \n",
       "no       0.329809   2932  0.059841  1.221659\n",
       "yes      0.205033   2702 -0.064935  0.759472"
      ]
     },
     "metadata": {},
     "output_type": "display_data"
    },
    {
     "name": "stdout",
     "output_type": "stream",
     "text": [
      "\n",
      "\n",
      "dependents\n"
     ]
    },
    {
     "data": {
      "text/html": [
       "<div>\n",
       "<style scoped>\n",
       "    .dataframe tbody tr th:only-of-type {\n",
       "        vertical-align: middle;\n",
       "    }\n",
       "\n",
       "    .dataframe tbody tr th {\n",
       "        vertical-align: top;\n",
       "    }\n",
       "\n",
       "    .dataframe thead th {\n",
       "        text-align: right;\n",
       "    }\n",
       "</style>\n",
       "<table border=\"1\" class=\"dataframe\">\n",
       "  <thead>\n",
       "    <tr style=\"text-align: right;\">\n",
       "      <th></th>\n",
       "      <th>mean</th>\n",
       "      <th>count</th>\n",
       "      <th>diff</th>\n",
       "      <th>risk</th>\n",
       "    </tr>\n",
       "    <tr>\n",
       "      <th>dependents</th>\n",
       "      <th></th>\n",
       "      <th></th>\n",
       "      <th></th>\n",
       "      <th></th>\n",
       "    </tr>\n",
       "  </thead>\n",
       "  <tbody>\n",
       "    <tr>\n",
       "      <th>no</th>\n",
       "      <td>0.313760</td>\n",
       "      <td>3968</td>\n",
       "      <td>0.043792</td>\n",
       "      <td>1.162212</td>\n",
       "    </tr>\n",
       "    <tr>\n",
       "      <th>yes</th>\n",
       "      <td>0.165666</td>\n",
       "      <td>1666</td>\n",
       "      <td>-0.104302</td>\n",
       "      <td>0.613651</td>\n",
       "    </tr>\n",
       "  </tbody>\n",
       "</table>\n",
       "</div>"
      ],
      "text/plain": [
       "                mean  count      diff      risk\n",
       "dependents                                     \n",
       "no          0.313760   3968  0.043792  1.162212\n",
       "yes         0.165666   1666 -0.104302  0.613651"
      ]
     },
     "metadata": {},
     "output_type": "display_data"
    },
    {
     "name": "stdout",
     "output_type": "stream",
     "text": [
      "\n",
      "\n",
      "phoneservice\n"
     ]
    },
    {
     "data": {
      "text/html": [
       "<div>\n",
       "<style scoped>\n",
       "    .dataframe tbody tr th:only-of-type {\n",
       "        vertical-align: middle;\n",
       "    }\n",
       "\n",
       "    .dataframe tbody tr th {\n",
       "        vertical-align: top;\n",
       "    }\n",
       "\n",
       "    .dataframe thead th {\n",
       "        text-align: right;\n",
       "    }\n",
       "</style>\n",
       "<table border=\"1\" class=\"dataframe\">\n",
       "  <thead>\n",
       "    <tr style=\"text-align: right;\">\n",
       "      <th></th>\n",
       "      <th>mean</th>\n",
       "      <th>count</th>\n",
       "      <th>diff</th>\n",
       "      <th>risk</th>\n",
       "    </tr>\n",
       "    <tr>\n",
       "      <th>phoneservice</th>\n",
       "      <th></th>\n",
       "      <th></th>\n",
       "      <th></th>\n",
       "      <th></th>\n",
       "    </tr>\n",
       "  </thead>\n",
       "  <tbody>\n",
       "    <tr>\n",
       "      <th>no</th>\n",
       "      <td>0.241316</td>\n",
       "      <td>547</td>\n",
       "      <td>-0.028652</td>\n",
       "      <td>0.893870</td>\n",
       "    </tr>\n",
       "    <tr>\n",
       "      <th>yes</th>\n",
       "      <td>0.273049</td>\n",
       "      <td>5087</td>\n",
       "      <td>0.003081</td>\n",
       "      <td>1.011412</td>\n",
       "    </tr>\n",
       "  </tbody>\n",
       "</table>\n",
       "</div>"
      ],
      "text/plain": [
       "                  mean  count      diff      risk\n",
       "phoneservice                                     \n",
       "no            0.241316    547 -0.028652  0.893870\n",
       "yes           0.273049   5087  0.003081  1.011412"
      ]
     },
     "metadata": {},
     "output_type": "display_data"
    },
    {
     "name": "stdout",
     "output_type": "stream",
     "text": [
      "\n",
      "\n",
      "multiplelines\n"
     ]
    },
    {
     "data": {
      "text/html": [
       "<div>\n",
       "<style scoped>\n",
       "    .dataframe tbody tr th:only-of-type {\n",
       "        vertical-align: middle;\n",
       "    }\n",
       "\n",
       "    .dataframe tbody tr th {\n",
       "        vertical-align: top;\n",
       "    }\n",
       "\n",
       "    .dataframe thead th {\n",
       "        text-align: right;\n",
       "    }\n",
       "</style>\n",
       "<table border=\"1\" class=\"dataframe\">\n",
       "  <thead>\n",
       "    <tr style=\"text-align: right;\">\n",
       "      <th></th>\n",
       "      <th>mean</th>\n",
       "      <th>count</th>\n",
       "      <th>diff</th>\n",
       "      <th>risk</th>\n",
       "    </tr>\n",
       "    <tr>\n",
       "      <th>multiplelines</th>\n",
       "      <th></th>\n",
       "      <th></th>\n",
       "      <th></th>\n",
       "      <th></th>\n",
       "    </tr>\n",
       "  </thead>\n",
       "  <tbody>\n",
       "    <tr>\n",
       "      <th>no</th>\n",
       "      <td>0.257407</td>\n",
       "      <td>2700</td>\n",
       "      <td>-0.012561</td>\n",
       "      <td>0.953474</td>\n",
       "    </tr>\n",
       "    <tr>\n",
       "      <th>no_phone_service</th>\n",
       "      <td>0.241316</td>\n",
       "      <td>547</td>\n",
       "      <td>-0.028652</td>\n",
       "      <td>0.893870</td>\n",
       "    </tr>\n",
       "    <tr>\n",
       "      <th>yes</th>\n",
       "      <td>0.290742</td>\n",
       "      <td>2387</td>\n",
       "      <td>0.020773</td>\n",
       "      <td>1.076948</td>\n",
       "    </tr>\n",
       "  </tbody>\n",
       "</table>\n",
       "</div>"
      ],
      "text/plain": [
       "                      mean  count      diff      risk\n",
       "multiplelines                                        \n",
       "no                0.257407   2700 -0.012561  0.953474\n",
       "no_phone_service  0.241316    547 -0.028652  0.893870\n",
       "yes               0.290742   2387  0.020773  1.076948"
      ]
     },
     "metadata": {},
     "output_type": "display_data"
    },
    {
     "name": "stdout",
     "output_type": "stream",
     "text": [
      "\n",
      "\n",
      "internetservice\n"
     ]
    },
    {
     "data": {
      "text/html": [
       "<div>\n",
       "<style scoped>\n",
       "    .dataframe tbody tr th:only-of-type {\n",
       "        vertical-align: middle;\n",
       "    }\n",
       "\n",
       "    .dataframe tbody tr th {\n",
       "        vertical-align: top;\n",
       "    }\n",
       "\n",
       "    .dataframe thead th {\n",
       "        text-align: right;\n",
       "    }\n",
       "</style>\n",
       "<table border=\"1\" class=\"dataframe\">\n",
       "  <thead>\n",
       "    <tr style=\"text-align: right;\">\n",
       "      <th></th>\n",
       "      <th>mean</th>\n",
       "      <th>count</th>\n",
       "      <th>diff</th>\n",
       "      <th>risk</th>\n",
       "    </tr>\n",
       "    <tr>\n",
       "      <th>internetservice</th>\n",
       "      <th></th>\n",
       "      <th></th>\n",
       "      <th></th>\n",
       "      <th></th>\n",
       "    </tr>\n",
       "  </thead>\n",
       "  <tbody>\n",
       "    <tr>\n",
       "      <th>dsl</th>\n",
       "      <td>0.192347</td>\n",
       "      <td>1934</td>\n",
       "      <td>-0.077621</td>\n",
       "      <td>0.712482</td>\n",
       "    </tr>\n",
       "    <tr>\n",
       "      <th>fiber_optic</th>\n",
       "      <td>0.425171</td>\n",
       "      <td>2479</td>\n",
       "      <td>0.155203</td>\n",
       "      <td>1.574895</td>\n",
       "    </tr>\n",
       "    <tr>\n",
       "      <th>no</th>\n",
       "      <td>0.077805</td>\n",
       "      <td>1221</td>\n",
       "      <td>-0.192163</td>\n",
       "      <td>0.288201</td>\n",
       "    </tr>\n",
       "  </tbody>\n",
       "</table>\n",
       "</div>"
      ],
      "text/plain": [
       "                     mean  count      diff      risk\n",
       "internetservice                                     \n",
       "dsl              0.192347   1934 -0.077621  0.712482\n",
       "fiber_optic      0.425171   2479  0.155203  1.574895\n",
       "no               0.077805   1221 -0.192163  0.288201"
      ]
     },
     "metadata": {},
     "output_type": "display_data"
    },
    {
     "name": "stdout",
     "output_type": "stream",
     "text": [
      "\n",
      "\n",
      "onlinesecurity\n"
     ]
    },
    {
     "data": {
      "text/html": [
       "<div>\n",
       "<style scoped>\n",
       "    .dataframe tbody tr th:only-of-type {\n",
       "        vertical-align: middle;\n",
       "    }\n",
       "\n",
       "    .dataframe tbody tr th {\n",
       "        vertical-align: top;\n",
       "    }\n",
       "\n",
       "    .dataframe thead th {\n",
       "        text-align: right;\n",
       "    }\n",
       "</style>\n",
       "<table border=\"1\" class=\"dataframe\">\n",
       "  <thead>\n",
       "    <tr style=\"text-align: right;\">\n",
       "      <th></th>\n",
       "      <th>mean</th>\n",
       "      <th>count</th>\n",
       "      <th>diff</th>\n",
       "      <th>risk</th>\n",
       "    </tr>\n",
       "    <tr>\n",
       "      <th>onlinesecurity</th>\n",
       "      <th></th>\n",
       "      <th></th>\n",
       "      <th></th>\n",
       "      <th></th>\n",
       "    </tr>\n",
       "  </thead>\n",
       "  <tbody>\n",
       "    <tr>\n",
       "      <th>no</th>\n",
       "      <td>0.420921</td>\n",
       "      <td>2801</td>\n",
       "      <td>0.150953</td>\n",
       "      <td>1.559152</td>\n",
       "    </tr>\n",
       "    <tr>\n",
       "      <th>no_internet_service</th>\n",
       "      <td>0.077805</td>\n",
       "      <td>1221</td>\n",
       "      <td>-0.192163</td>\n",
       "      <td>0.288201</td>\n",
       "    </tr>\n",
       "    <tr>\n",
       "      <th>yes</th>\n",
       "      <td>0.153226</td>\n",
       "      <td>1612</td>\n",
       "      <td>-0.116742</td>\n",
       "      <td>0.567570</td>\n",
       "    </tr>\n",
       "  </tbody>\n",
       "</table>\n",
       "</div>"
      ],
      "text/plain": [
       "                         mean  count      diff      risk\n",
       "onlinesecurity                                          \n",
       "no                   0.420921   2801  0.150953  1.559152\n",
       "no_internet_service  0.077805   1221 -0.192163  0.288201\n",
       "yes                  0.153226   1612 -0.116742  0.567570"
      ]
     },
     "metadata": {},
     "output_type": "display_data"
    },
    {
     "name": "stdout",
     "output_type": "stream",
     "text": [
      "\n",
      "\n",
      "onlinebackup\n"
     ]
    },
    {
     "data": {
      "text/html": [
       "<div>\n",
       "<style scoped>\n",
       "    .dataframe tbody tr th:only-of-type {\n",
       "        vertical-align: middle;\n",
       "    }\n",
       "\n",
       "    .dataframe tbody tr th {\n",
       "        vertical-align: top;\n",
       "    }\n",
       "\n",
       "    .dataframe thead th {\n",
       "        text-align: right;\n",
       "    }\n",
       "</style>\n",
       "<table border=\"1\" class=\"dataframe\">\n",
       "  <thead>\n",
       "    <tr style=\"text-align: right;\">\n",
       "      <th></th>\n",
       "      <th>mean</th>\n",
       "      <th>count</th>\n",
       "      <th>diff</th>\n",
       "      <th>risk</th>\n",
       "    </tr>\n",
       "    <tr>\n",
       "      <th>onlinebackup</th>\n",
       "      <th></th>\n",
       "      <th></th>\n",
       "      <th></th>\n",
       "      <th></th>\n",
       "    </tr>\n",
       "  </thead>\n",
       "  <tbody>\n",
       "    <tr>\n",
       "      <th>no</th>\n",
       "      <td>0.404323</td>\n",
       "      <td>2498</td>\n",
       "      <td>0.134355</td>\n",
       "      <td>1.497672</td>\n",
       "    </tr>\n",
       "    <tr>\n",
       "      <th>no_internet_service</th>\n",
       "      <td>0.077805</td>\n",
       "      <td>1221</td>\n",
       "      <td>-0.192163</td>\n",
       "      <td>0.288201</td>\n",
       "    </tr>\n",
       "    <tr>\n",
       "      <th>yes</th>\n",
       "      <td>0.217232</td>\n",
       "      <td>1915</td>\n",
       "      <td>-0.052736</td>\n",
       "      <td>0.804660</td>\n",
       "    </tr>\n",
       "  </tbody>\n",
       "</table>\n",
       "</div>"
      ],
      "text/plain": [
       "                         mean  count      diff      risk\n",
       "onlinebackup                                            \n",
       "no                   0.404323   2498  0.134355  1.497672\n",
       "no_internet_service  0.077805   1221 -0.192163  0.288201\n",
       "yes                  0.217232   1915 -0.052736  0.804660"
      ]
     },
     "metadata": {},
     "output_type": "display_data"
    },
    {
     "name": "stdout",
     "output_type": "stream",
     "text": [
      "\n",
      "\n",
      "deviceprotection\n"
     ]
    },
    {
     "data": {
      "text/html": [
       "<div>\n",
       "<style scoped>\n",
       "    .dataframe tbody tr th:only-of-type {\n",
       "        vertical-align: middle;\n",
       "    }\n",
       "\n",
       "    .dataframe tbody tr th {\n",
       "        vertical-align: top;\n",
       "    }\n",
       "\n",
       "    .dataframe thead th {\n",
       "        text-align: right;\n",
       "    }\n",
       "</style>\n",
       "<table border=\"1\" class=\"dataframe\">\n",
       "  <thead>\n",
       "    <tr style=\"text-align: right;\">\n",
       "      <th></th>\n",
       "      <th>mean</th>\n",
       "      <th>count</th>\n",
       "      <th>diff</th>\n",
       "      <th>risk</th>\n",
       "    </tr>\n",
       "    <tr>\n",
       "      <th>deviceprotection</th>\n",
       "      <th></th>\n",
       "      <th></th>\n",
       "      <th></th>\n",
       "      <th></th>\n",
       "    </tr>\n",
       "  </thead>\n",
       "  <tbody>\n",
       "    <tr>\n",
       "      <th>no</th>\n",
       "      <td>0.395875</td>\n",
       "      <td>2473</td>\n",
       "      <td>0.125907</td>\n",
       "      <td>1.466379</td>\n",
       "    </tr>\n",
       "    <tr>\n",
       "      <th>no_internet_service</th>\n",
       "      <td>0.077805</td>\n",
       "      <td>1221</td>\n",
       "      <td>-0.192163</td>\n",
       "      <td>0.288201</td>\n",
       "    </tr>\n",
       "    <tr>\n",
       "      <th>yes</th>\n",
       "      <td>0.230412</td>\n",
       "      <td>1940</td>\n",
       "      <td>-0.039556</td>\n",
       "      <td>0.853480</td>\n",
       "    </tr>\n",
       "  </tbody>\n",
       "</table>\n",
       "</div>"
      ],
      "text/plain": [
       "                         mean  count      diff      risk\n",
       "deviceprotection                                        \n",
       "no                   0.395875   2473  0.125907  1.466379\n",
       "no_internet_service  0.077805   1221 -0.192163  0.288201\n",
       "yes                  0.230412   1940 -0.039556  0.853480"
      ]
     },
     "metadata": {},
     "output_type": "display_data"
    },
    {
     "name": "stdout",
     "output_type": "stream",
     "text": [
      "\n",
      "\n",
      "techsupport\n"
     ]
    },
    {
     "data": {
      "text/html": [
       "<div>\n",
       "<style scoped>\n",
       "    .dataframe tbody tr th:only-of-type {\n",
       "        vertical-align: middle;\n",
       "    }\n",
       "\n",
       "    .dataframe tbody tr th {\n",
       "        vertical-align: top;\n",
       "    }\n",
       "\n",
       "    .dataframe thead th {\n",
       "        text-align: right;\n",
       "    }\n",
       "</style>\n",
       "<table border=\"1\" class=\"dataframe\">\n",
       "  <thead>\n",
       "    <tr style=\"text-align: right;\">\n",
       "      <th></th>\n",
       "      <th>mean</th>\n",
       "      <th>count</th>\n",
       "      <th>diff</th>\n",
       "      <th>risk</th>\n",
       "    </tr>\n",
       "    <tr>\n",
       "      <th>techsupport</th>\n",
       "      <th></th>\n",
       "      <th></th>\n",
       "      <th></th>\n",
       "      <th></th>\n",
       "    </tr>\n",
       "  </thead>\n",
       "  <tbody>\n",
       "    <tr>\n",
       "      <th>no</th>\n",
       "      <td>0.418914</td>\n",
       "      <td>2781</td>\n",
       "      <td>0.148946</td>\n",
       "      <td>1.551717</td>\n",
       "    </tr>\n",
       "    <tr>\n",
       "      <th>no_internet_service</th>\n",
       "      <td>0.077805</td>\n",
       "      <td>1221</td>\n",
       "      <td>-0.192163</td>\n",
       "      <td>0.288201</td>\n",
       "    </tr>\n",
       "    <tr>\n",
       "      <th>yes</th>\n",
       "      <td>0.159926</td>\n",
       "      <td>1632</td>\n",
       "      <td>-0.110042</td>\n",
       "      <td>0.592390</td>\n",
       "    </tr>\n",
       "  </tbody>\n",
       "</table>\n",
       "</div>"
      ],
      "text/plain": [
       "                         mean  count      diff      risk\n",
       "techsupport                                             \n",
       "no                   0.418914   2781  0.148946  1.551717\n",
       "no_internet_service  0.077805   1221 -0.192163  0.288201\n",
       "yes                  0.159926   1632 -0.110042  0.592390"
      ]
     },
     "metadata": {},
     "output_type": "display_data"
    },
    {
     "name": "stdout",
     "output_type": "stream",
     "text": [
      "\n",
      "\n",
      "streamingtv\n"
     ]
    },
    {
     "data": {
      "text/html": [
       "<div>\n",
       "<style scoped>\n",
       "    .dataframe tbody tr th:only-of-type {\n",
       "        vertical-align: middle;\n",
       "    }\n",
       "\n",
       "    .dataframe tbody tr th {\n",
       "        vertical-align: top;\n",
       "    }\n",
       "\n",
       "    .dataframe thead th {\n",
       "        text-align: right;\n",
       "    }\n",
       "</style>\n",
       "<table border=\"1\" class=\"dataframe\">\n",
       "  <thead>\n",
       "    <tr style=\"text-align: right;\">\n",
       "      <th></th>\n",
       "      <th>mean</th>\n",
       "      <th>count</th>\n",
       "      <th>diff</th>\n",
       "      <th>risk</th>\n",
       "    </tr>\n",
       "    <tr>\n",
       "      <th>streamingtv</th>\n",
       "      <th></th>\n",
       "      <th></th>\n",
       "      <th></th>\n",
       "      <th></th>\n",
       "    </tr>\n",
       "  </thead>\n",
       "  <tbody>\n",
       "    <tr>\n",
       "      <th>no</th>\n",
       "      <td>0.342832</td>\n",
       "      <td>2246</td>\n",
       "      <td>0.072864</td>\n",
       "      <td>1.269897</td>\n",
       "    </tr>\n",
       "    <tr>\n",
       "      <th>no_internet_service</th>\n",
       "      <td>0.077805</td>\n",
       "      <td>1221</td>\n",
       "      <td>-0.192163</td>\n",
       "      <td>0.288201</td>\n",
       "    </tr>\n",
       "    <tr>\n",
       "      <th>yes</th>\n",
       "      <td>0.302723</td>\n",
       "      <td>2167</td>\n",
       "      <td>0.032755</td>\n",
       "      <td>1.121328</td>\n",
       "    </tr>\n",
       "  </tbody>\n",
       "</table>\n",
       "</div>"
      ],
      "text/plain": [
       "                         mean  count      diff      risk\n",
       "streamingtv                                             \n",
       "no                   0.342832   2246  0.072864  1.269897\n",
       "no_internet_service  0.077805   1221 -0.192163  0.288201\n",
       "yes                  0.302723   2167  0.032755  1.121328"
      ]
     },
     "metadata": {},
     "output_type": "display_data"
    },
    {
     "name": "stdout",
     "output_type": "stream",
     "text": [
      "\n",
      "\n",
      "streamingmovies\n"
     ]
    },
    {
     "data": {
      "text/html": [
       "<div>\n",
       "<style scoped>\n",
       "    .dataframe tbody tr th:only-of-type {\n",
       "        vertical-align: middle;\n",
       "    }\n",
       "\n",
       "    .dataframe tbody tr th {\n",
       "        vertical-align: top;\n",
       "    }\n",
       "\n",
       "    .dataframe thead th {\n",
       "        text-align: right;\n",
       "    }\n",
       "</style>\n",
       "<table border=\"1\" class=\"dataframe\">\n",
       "  <thead>\n",
       "    <tr style=\"text-align: right;\">\n",
       "      <th></th>\n",
       "      <th>mean</th>\n",
       "      <th>count</th>\n",
       "      <th>diff</th>\n",
       "      <th>risk</th>\n",
       "    </tr>\n",
       "    <tr>\n",
       "      <th>streamingmovies</th>\n",
       "      <th></th>\n",
       "      <th></th>\n",
       "      <th></th>\n",
       "      <th></th>\n",
       "    </tr>\n",
       "  </thead>\n",
       "  <tbody>\n",
       "    <tr>\n",
       "      <th>no</th>\n",
       "      <td>0.338906</td>\n",
       "      <td>2213</td>\n",
       "      <td>0.068938</td>\n",
       "      <td>1.255358</td>\n",
       "    </tr>\n",
       "    <tr>\n",
       "      <th>no_internet_service</th>\n",
       "      <td>0.077805</td>\n",
       "      <td>1221</td>\n",
       "      <td>-0.192163</td>\n",
       "      <td>0.288201</td>\n",
       "    </tr>\n",
       "    <tr>\n",
       "      <th>yes</th>\n",
       "      <td>0.307273</td>\n",
       "      <td>2200</td>\n",
       "      <td>0.037305</td>\n",
       "      <td>1.138182</td>\n",
       "    </tr>\n",
       "  </tbody>\n",
       "</table>\n",
       "</div>"
      ],
      "text/plain": [
       "                         mean  count      diff      risk\n",
       "streamingmovies                                         \n",
       "no                   0.338906   2213  0.068938  1.255358\n",
       "no_internet_service  0.077805   1221 -0.192163  0.288201\n",
       "yes                  0.307273   2200  0.037305  1.138182"
      ]
     },
     "metadata": {},
     "output_type": "display_data"
    },
    {
     "name": "stdout",
     "output_type": "stream",
     "text": [
      "\n",
      "\n",
      "contract\n"
     ]
    },
    {
     "data": {
      "text/html": [
       "<div>\n",
       "<style scoped>\n",
       "    .dataframe tbody tr th:only-of-type {\n",
       "        vertical-align: middle;\n",
       "    }\n",
       "\n",
       "    .dataframe tbody tr th {\n",
       "        vertical-align: top;\n",
       "    }\n",
       "\n",
       "    .dataframe thead th {\n",
       "        text-align: right;\n",
       "    }\n",
       "</style>\n",
       "<table border=\"1\" class=\"dataframe\">\n",
       "  <thead>\n",
       "    <tr style=\"text-align: right;\">\n",
       "      <th></th>\n",
       "      <th>mean</th>\n",
       "      <th>count</th>\n",
       "      <th>diff</th>\n",
       "      <th>risk</th>\n",
       "    </tr>\n",
       "    <tr>\n",
       "      <th>contract</th>\n",
       "      <th></th>\n",
       "      <th></th>\n",
       "      <th></th>\n",
       "      <th></th>\n",
       "    </tr>\n",
       "  </thead>\n",
       "  <tbody>\n",
       "    <tr>\n",
       "      <th>month-to-month</th>\n",
       "      <td>0.431701</td>\n",
       "      <td>3104</td>\n",
       "      <td>0.161733</td>\n",
       "      <td>1.599082</td>\n",
       "    </tr>\n",
       "    <tr>\n",
       "      <th>one_year</th>\n",
       "      <td>0.120573</td>\n",
       "      <td>1186</td>\n",
       "      <td>-0.149395</td>\n",
       "      <td>0.446621</td>\n",
       "    </tr>\n",
       "    <tr>\n",
       "      <th>two_year</th>\n",
       "      <td>0.028274</td>\n",
       "      <td>1344</td>\n",
       "      <td>-0.241694</td>\n",
       "      <td>0.104730</td>\n",
       "    </tr>\n",
       "  </tbody>\n",
       "</table>\n",
       "</div>"
      ],
      "text/plain": [
       "                    mean  count      diff      risk\n",
       "contract                                           \n",
       "month-to-month  0.431701   3104  0.161733  1.599082\n",
       "one_year        0.120573   1186 -0.149395  0.446621\n",
       "two_year        0.028274   1344 -0.241694  0.104730"
      ]
     },
     "metadata": {},
     "output_type": "display_data"
    },
    {
     "name": "stdout",
     "output_type": "stream",
     "text": [
      "\n",
      "\n",
      "paperlessbilling\n"
     ]
    },
    {
     "data": {
      "text/html": [
       "<div>\n",
       "<style scoped>\n",
       "    .dataframe tbody tr th:only-of-type {\n",
       "        vertical-align: middle;\n",
       "    }\n",
       "\n",
       "    .dataframe tbody tr th {\n",
       "        vertical-align: top;\n",
       "    }\n",
       "\n",
       "    .dataframe thead th {\n",
       "        text-align: right;\n",
       "    }\n",
       "</style>\n",
       "<table border=\"1\" class=\"dataframe\">\n",
       "  <thead>\n",
       "    <tr style=\"text-align: right;\">\n",
       "      <th></th>\n",
       "      <th>mean</th>\n",
       "      <th>count</th>\n",
       "      <th>diff</th>\n",
       "      <th>risk</th>\n",
       "    </tr>\n",
       "    <tr>\n",
       "      <th>paperlessbilling</th>\n",
       "      <th></th>\n",
       "      <th></th>\n",
       "      <th></th>\n",
       "      <th></th>\n",
       "    </tr>\n",
       "  </thead>\n",
       "  <tbody>\n",
       "    <tr>\n",
       "      <th>no</th>\n",
       "      <td>0.172071</td>\n",
       "      <td>2313</td>\n",
       "      <td>-0.097897</td>\n",
       "      <td>0.637375</td>\n",
       "    </tr>\n",
       "    <tr>\n",
       "      <th>yes</th>\n",
       "      <td>0.338151</td>\n",
       "      <td>3321</td>\n",
       "      <td>0.068183</td>\n",
       "      <td>1.252560</td>\n",
       "    </tr>\n",
       "  </tbody>\n",
       "</table>\n",
       "</div>"
      ],
      "text/plain": [
       "                      mean  count      diff      risk\n",
       "paperlessbilling                                     \n",
       "no                0.172071   2313 -0.097897  0.637375\n",
       "yes               0.338151   3321  0.068183  1.252560"
      ]
     },
     "metadata": {},
     "output_type": "display_data"
    },
    {
     "name": "stdout",
     "output_type": "stream",
     "text": [
      "\n",
      "\n",
      "paymentmethod\n"
     ]
    },
    {
     "data": {
      "text/html": [
       "<div>\n",
       "<style scoped>\n",
       "    .dataframe tbody tr th:only-of-type {\n",
       "        vertical-align: middle;\n",
       "    }\n",
       "\n",
       "    .dataframe tbody tr th {\n",
       "        vertical-align: top;\n",
       "    }\n",
       "\n",
       "    .dataframe thead th {\n",
       "        text-align: right;\n",
       "    }\n",
       "</style>\n",
       "<table border=\"1\" class=\"dataframe\">\n",
       "  <thead>\n",
       "    <tr style=\"text-align: right;\">\n",
       "      <th></th>\n",
       "      <th>mean</th>\n",
       "      <th>count</th>\n",
       "      <th>diff</th>\n",
       "      <th>risk</th>\n",
       "    </tr>\n",
       "    <tr>\n",
       "      <th>paymentmethod</th>\n",
       "      <th></th>\n",
       "      <th></th>\n",
       "      <th></th>\n",
       "      <th></th>\n",
       "    </tr>\n",
       "  </thead>\n",
       "  <tbody>\n",
       "    <tr>\n",
       "      <th>bank_transfer_(automatic)</th>\n",
       "      <td>0.168171</td>\n",
       "      <td>1219</td>\n",
       "      <td>-0.101797</td>\n",
       "      <td>0.622928</td>\n",
       "    </tr>\n",
       "    <tr>\n",
       "      <th>credit_card_(automatic)</th>\n",
       "      <td>0.164339</td>\n",
       "      <td>1217</td>\n",
       "      <td>-0.105630</td>\n",
       "      <td>0.608733</td>\n",
       "    </tr>\n",
       "    <tr>\n",
       "      <th>electronic_check</th>\n",
       "      <td>0.455890</td>\n",
       "      <td>1893</td>\n",
       "      <td>0.185922</td>\n",
       "      <td>1.688682</td>\n",
       "    </tr>\n",
       "    <tr>\n",
       "      <th>mailed_check</th>\n",
       "      <td>0.193870</td>\n",
       "      <td>1305</td>\n",
       "      <td>-0.076098</td>\n",
       "      <td>0.718121</td>\n",
       "    </tr>\n",
       "  </tbody>\n",
       "</table>\n",
       "</div>"
      ],
      "text/plain": [
       "                               mean  count      diff      risk\n",
       "paymentmethod                                                 \n",
       "bank_transfer_(automatic)  0.168171   1219 -0.101797  0.622928\n",
       "credit_card_(automatic)    0.164339   1217 -0.105630  0.608733\n",
       "electronic_check           0.455890   1893  0.185922  1.688682\n",
       "mailed_check               0.193870   1305 -0.076098  0.718121"
      ]
     },
     "metadata": {},
     "output_type": "display_data"
    },
    {
     "name": "stdout",
     "output_type": "stream",
     "text": [
      "\n",
      "\n"
     ]
    }
   ],
   "source": [
    "for c in categorical:\n",
    "    print(c)\n",
    "    df_group = df_full_train.groupby(c).churn.agg(['mean', 'count'])\n",
    "    df_group['diff'] = df_group['mean'] - global_churn_rate\n",
    "    df_group['risk'] = df_group['mean'] / global_churn_rate\n",
    "    display(df_group)\n",
    "    print()\n",
    "    print()"
   ]
  },
  {
   "cell_type": "code",
   "execution_count": 38,
   "id": "5cf85974",
   "metadata": {},
   "outputs": [],
   "source": [
    "from sklearn.metrics import mutual_info_score"
   ]
  },
  {
   "cell_type": "code",
   "execution_count": 39,
   "id": "a68e7de5",
   "metadata": {},
   "outputs": [
    {
     "data": {
      "text/plain": [
       "0.0983203874041556"
      ]
     },
     "execution_count": 39,
     "metadata": {},
     "output_type": "execute_result"
    }
   ],
   "source": [
    "mutual_info_score(df_full_train.churn, df_full_train.contract)"
   ]
  },
  {
   "cell_type": "code",
   "execution_count": 40,
   "id": "0fb1eee8",
   "metadata": {},
   "outputs": [
    {
     "data": {
      "text/plain": [
       "0.0001174846211139946"
      ]
     },
     "execution_count": 40,
     "metadata": {},
     "output_type": "execute_result"
    }
   ],
   "source": [
    "mutual_info_score(df_full_train.churn, df_full_train.gender)"
   ]
  },
  {
   "cell_type": "code",
   "execution_count": 41,
   "id": "4f54a596",
   "metadata": {},
   "outputs": [],
   "source": [
    "def mutual_info_churn_score(series):\n",
    "    return mutual_info_score(series, df_full_train.churn)\n"
   ]
  },
  {
   "cell_type": "code",
   "execution_count": 42,
   "id": "78015c1b",
   "metadata": {},
   "outputs": [
    {
     "data": {
      "text/plain": [
       "contract            0.098320\n",
       "onlinesecurity      0.063085\n",
       "techsupport         0.061032\n",
       "internetservice     0.055868\n",
       "onlinebackup        0.046923\n",
       "deviceprotection    0.043453\n",
       "paymentmethod       0.043210\n",
       "streamingtv         0.031853\n",
       "streamingmovies     0.031581\n",
       "paperlessbilling    0.017589\n",
       "dependents          0.012346\n",
       "partner             0.009968\n",
       "seniorcitizen       0.009410\n",
       "multiplelines       0.000857\n",
       "phoneservice        0.000229\n",
       "gender              0.000117\n",
       "dtype: float64"
      ]
     },
     "execution_count": 42,
     "metadata": {},
     "output_type": "execute_result"
    }
   ],
   "source": [
    "mi = df_full_train[categorical].apply(mutual_info_churn_score)\n",
    "mi.sort_values(ascending=False)"
   ]
  },
  {
   "cell_type": "code",
   "execution_count": 43,
   "id": "5270dbc8",
   "metadata": {},
   "outputs": [
    {
     "data": {
      "text/plain": [
       "tenure           -0.351885\n",
       "monthlycharges    0.196805\n",
       "totalcharges     -0.196353\n",
       "dtype: float64"
      ]
     },
     "execution_count": 43,
     "metadata": {},
     "output_type": "execute_result"
    }
   ],
   "source": [
    "df_full_train[numerical].corrwith(df_full_train.churn)"
   ]
  },
  {
   "cell_type": "code",
   "execution_count": 44,
   "id": "24ebf594",
   "metadata": {},
   "outputs": [
    {
     "data": {
      "text/plain": [
       "0.5953420669577875"
      ]
     },
     "execution_count": 44,
     "metadata": {},
     "output_type": "execute_result"
    }
   ],
   "source": [
    "df_full_train[df_full_train.tenure <= 2].churn.mean()"
   ]
  },
  {
   "cell_type": "code",
   "execution_count": 45,
   "id": "9f886c72",
   "metadata": {},
   "outputs": [
    {
     "data": {
      "text/plain": [
       "0.22478269658378816"
      ]
     },
     "execution_count": 45,
     "metadata": {},
     "output_type": "execute_result"
    }
   ],
   "source": [
    "df_full_train[df_full_train.tenure > 2].churn.mean()"
   ]
  },
  {
   "cell_type": "code",
   "execution_count": 46,
   "id": "87c5a631",
   "metadata": {},
   "outputs": [],
   "source": [
    "from sklearn.feature_extraction import DictVectorizer"
   ]
  },
  {
   "cell_type": "code",
   "execution_count": 47,
   "id": "9e488ab3",
   "metadata": {},
   "outputs": [],
   "source": [
    "train_dicts = df_train[categorical + numerical].to_dict(orient='records')"
   ]
  },
  {
   "cell_type": "code",
   "execution_count": 48,
   "id": "617858df",
   "metadata": {},
   "outputs": [],
   "source": [
    "dv = DictVectorizer(sparse=False)"
   ]
  },
  {
   "cell_type": "code",
   "execution_count": 49,
   "id": "936b7ee8",
   "metadata": {},
   "outputs": [],
   "source": [
    "X_train = dv.fit_transform(train_dicts)"
   ]
  },
  {
   "cell_type": "code",
   "execution_count": 50,
   "id": "b21c3302",
   "metadata": {},
   "outputs": [
    {
     "data": {
      "text/plain": [
       "(4225, 45)"
      ]
     },
     "execution_count": 50,
     "metadata": {},
     "output_type": "execute_result"
    }
   ],
   "source": [
    "X_train.shape"
   ]
  },
  {
   "cell_type": "code",
   "execution_count": 51,
   "id": "509057b0",
   "metadata": {},
   "outputs": [],
   "source": [
    "val_dicts = df_val[categorical + numerical].to_dict(orient='records')"
   ]
  },
  {
   "cell_type": "code",
   "execution_count": 52,
   "id": "c59abc92",
   "metadata": {},
   "outputs": [],
   "source": [
    "X_val = dv.transform(val_dicts)"
   ]
  },
  {
   "cell_type": "code",
   "execution_count": 53,
   "id": "25b61512",
   "metadata": {},
   "outputs": [],
   "source": [
    "from sklearn.linear_model import LogisticRegression"
   ]
  },
  {
   "cell_type": "code",
   "execution_count": 54,
   "id": "c9a7d356",
   "metadata": {},
   "outputs": [
    {
     "name": "stderr",
     "output_type": "stream",
     "text": [
      "c:\\Users\\OLAMIDE\\AppData\\Local\\Programs\\Python\\Python310\\lib\\site-packages\\sklearn\\linear_model\\_logistic.py:444: ConvergenceWarning: lbfgs failed to converge (status=1):\n",
      "STOP: TOTAL NO. of ITERATIONS REACHED LIMIT.\n",
      "\n",
      "Increase the number of iterations (max_iter) or scale the data as shown in:\n",
      "    https://scikit-learn.org/stable/modules/preprocessing.html\n",
      "Please also refer to the documentation for alternative solver options:\n",
      "    https://scikit-learn.org/stable/modules/linear_model.html#logistic-regression\n",
      "  n_iter_i = _check_optimize_result(\n"
     ]
    },
    {
     "data": {
      "text/html": [
       "<style>#sk-container-id-1 {color: black;background-color: white;}#sk-container-id-1 pre{padding: 0;}#sk-container-id-1 div.sk-toggleable {background-color: white;}#sk-container-id-1 label.sk-toggleable__label {cursor: pointer;display: block;width: 100%;margin-bottom: 0;padding: 0.3em;box-sizing: border-box;text-align: center;}#sk-container-id-1 label.sk-toggleable__label-arrow:before {content: \"▸\";float: left;margin-right: 0.25em;color: #696969;}#sk-container-id-1 label.sk-toggleable__label-arrow:hover:before {color: black;}#sk-container-id-1 div.sk-estimator:hover label.sk-toggleable__label-arrow:before {color: black;}#sk-container-id-1 div.sk-toggleable__content {max-height: 0;max-width: 0;overflow: hidden;text-align: left;background-color: #f0f8ff;}#sk-container-id-1 div.sk-toggleable__content pre {margin: 0.2em;color: black;border-radius: 0.25em;background-color: #f0f8ff;}#sk-container-id-1 input.sk-toggleable__control:checked~div.sk-toggleable__content {max-height: 200px;max-width: 100%;overflow: auto;}#sk-container-id-1 input.sk-toggleable__control:checked~label.sk-toggleable__label-arrow:before {content: \"▾\";}#sk-container-id-1 div.sk-estimator input.sk-toggleable__control:checked~label.sk-toggleable__label {background-color: #d4ebff;}#sk-container-id-1 div.sk-label input.sk-toggleable__control:checked~label.sk-toggleable__label {background-color: #d4ebff;}#sk-container-id-1 input.sk-hidden--visually {border: 0;clip: rect(1px 1px 1px 1px);clip: rect(1px, 1px, 1px, 1px);height: 1px;margin: -1px;overflow: hidden;padding: 0;position: absolute;width: 1px;}#sk-container-id-1 div.sk-estimator {font-family: monospace;background-color: #f0f8ff;border: 1px dotted black;border-radius: 0.25em;box-sizing: border-box;margin-bottom: 0.5em;}#sk-container-id-1 div.sk-estimator:hover {background-color: #d4ebff;}#sk-container-id-1 div.sk-parallel-item::after {content: \"\";width: 100%;border-bottom: 1px solid gray;flex-grow: 1;}#sk-container-id-1 div.sk-label:hover label.sk-toggleable__label {background-color: #d4ebff;}#sk-container-id-1 div.sk-serial::before {content: \"\";position: absolute;border-left: 1px solid gray;box-sizing: border-box;top: 0;bottom: 0;left: 50%;z-index: 0;}#sk-container-id-1 div.sk-serial {display: flex;flex-direction: column;align-items: center;background-color: white;padding-right: 0.2em;padding-left: 0.2em;position: relative;}#sk-container-id-1 div.sk-item {position: relative;z-index: 1;}#sk-container-id-1 div.sk-parallel {display: flex;align-items: stretch;justify-content: center;background-color: white;position: relative;}#sk-container-id-1 div.sk-item::before, #sk-container-id-1 div.sk-parallel-item::before {content: \"\";position: absolute;border-left: 1px solid gray;box-sizing: border-box;top: 0;bottom: 0;left: 50%;z-index: -1;}#sk-container-id-1 div.sk-parallel-item {display: flex;flex-direction: column;z-index: 1;position: relative;background-color: white;}#sk-container-id-1 div.sk-parallel-item:first-child::after {align-self: flex-end;width: 50%;}#sk-container-id-1 div.sk-parallel-item:last-child::after {align-self: flex-start;width: 50%;}#sk-container-id-1 div.sk-parallel-item:only-child::after {width: 0;}#sk-container-id-1 div.sk-dashed-wrapped {border: 1px dashed gray;margin: 0 0.4em 0.5em 0.4em;box-sizing: border-box;padding-bottom: 0.4em;background-color: white;}#sk-container-id-1 div.sk-label label {font-family: monospace;font-weight: bold;display: inline-block;line-height: 1.2em;}#sk-container-id-1 div.sk-label-container {text-align: center;}#sk-container-id-1 div.sk-container {/* jupyter's `normalize.less` sets `[hidden] { display: none; }` but bootstrap.min.css set `[hidden] { display: none !important; }` so we also need the `!important` here to be able to override the default hidden behavior on the sphinx rendered scikit-learn.org. See: https://github.com/scikit-learn/scikit-learn/issues/21755 */display: inline-block !important;position: relative;}#sk-container-id-1 div.sk-text-repr-fallback {display: none;}</style><div id=\"sk-container-id-1\" class=\"sk-top-container\"><div class=\"sk-text-repr-fallback\"><pre>LogisticRegression()</pre><b>In a Jupyter environment, please rerun this cell to show the HTML representation or trust the notebook. <br />On GitHub, the HTML representation is unable to render, please try loading this page with nbviewer.org.</b></div><div class=\"sk-container\" hidden><div class=\"sk-item\"><div class=\"sk-estimator sk-toggleable\"><input class=\"sk-toggleable__control sk-hidden--visually\" id=\"sk-estimator-id-1\" type=\"checkbox\" checked><label for=\"sk-estimator-id-1\" class=\"sk-toggleable__label sk-toggleable__label-arrow\">LogisticRegression</label><div class=\"sk-toggleable__content\"><pre>LogisticRegression()</pre></div></div></div></div></div>"
      ],
      "text/plain": [
       "LogisticRegression()"
      ]
     },
     "execution_count": 54,
     "metadata": {},
     "output_type": "execute_result"
    }
   ],
   "source": [
    "model = LogisticRegression()\n",
    "model.fit(X_train, y_train)"
   ]
  },
  {
   "cell_type": "code",
   "execution_count": 55,
   "id": "16389fe3",
   "metadata": {},
   "outputs": [
    {
     "data": {
      "text/plain": [
       "-0.10918840348733709"
      ]
     },
     "execution_count": 55,
     "metadata": {},
     "output_type": "execute_result"
    }
   ],
   "source": [
    "model.intercept_[0]"
   ]
  },
  {
   "cell_type": "code",
   "execution_count": 56,
   "id": "8bad2ddb",
   "metadata": {},
   "outputs": [
    {
     "data": {
      "text/plain": [
       "array([ 0.475, -0.175, -0.408, -0.03 , -0.078,  0.063, -0.089, -0.082,\n",
       "       -0.034, -0.073, -0.336,  0.317, -0.089,  0.004, -0.258,  0.142,\n",
       "        0.009,  0.063, -0.089, -0.081,  0.266, -0.089, -0.285, -0.232,\n",
       "        0.124, -0.166,  0.058, -0.087, -0.032,  0.071, -0.059,  0.142,\n",
       "       -0.249,  0.216, -0.12 , -0.089,  0.102, -0.071, -0.089,  0.052,\n",
       "        0.214, -0.089, -0.232, -0.07 ,  0.   ])"
      ]
     },
     "execution_count": 56,
     "metadata": {},
     "output_type": "execute_result"
    }
   ],
   "source": [
    "model.coef_[0].round(3)"
   ]
  },
  {
   "cell_type": "code",
   "execution_count": 57,
   "id": "5a952fe2",
   "metadata": {},
   "outputs": [],
   "source": [
    "y_pred = model.predict_proba(X_val)[:, 1]"
   ]
  },
  {
   "cell_type": "code",
   "execution_count": 58,
   "id": "2fa01de7",
   "metadata": {},
   "outputs": [],
   "source": [
    "churn_decision = (y_pred >= 0.5)"
   ]
  },
  {
   "cell_type": "code",
   "execution_count": 59,
   "id": "56fb7ad2",
   "metadata": {},
   "outputs": [
    {
     "data": {
      "text/plain": [
       "3     8433-wxgna\n",
       "8     3440-jpscl\n",
       "11    2637-fkfsy\n",
       "12    7228-omtpn\n",
       "19    6711-fldfb\n",
       "Name: customerid, dtype: object"
      ]
     },
     "execution_count": 59,
     "metadata": {},
     "output_type": "execute_result"
    }
   ],
   "source": [
    "df_val[churn_decision].customerid.head()"
   ]
  },
  {
   "cell_type": "code",
   "execution_count": 60,
   "id": "80809af8",
   "metadata": {},
   "outputs": [
    {
     "data": {
      "text/plain": [
       "array([0, 0, 0, ..., 0, 1, 1])"
      ]
     },
     "execution_count": 60,
     "metadata": {},
     "output_type": "execute_result"
    }
   ],
   "source": [
    "y_val"
   ]
  },
  {
   "cell_type": "code",
   "execution_count": 61,
   "id": "059ce730",
   "metadata": {},
   "outputs": [
    {
     "data": {
      "text/plain": [
       "array([0, 0, 0, ..., 0, 1, 1])"
      ]
     },
     "execution_count": 61,
     "metadata": {},
     "output_type": "execute_result"
    }
   ],
   "source": [
    "churn_decision.astype(int)"
   ]
  },
  {
   "cell_type": "code",
   "execution_count": 62,
   "id": "13d59561",
   "metadata": {},
   "outputs": [
    {
     "data": {
      "text/plain": [
       "array([ True,  True,  True, ...,  True,  True,  True])"
      ]
     },
     "execution_count": 62,
     "metadata": {},
     "output_type": "execute_result"
    }
   ],
   "source": [
    "y_val == churn_decision"
   ]
  },
  {
   "cell_type": "code",
   "execution_count": 63,
   "id": "922a4f7d",
   "metadata": {},
   "outputs": [
    {
     "data": {
      "text/plain": [
       "0.8026969481902059"
      ]
     },
     "execution_count": 63,
     "metadata": {},
     "output_type": "execute_result"
    }
   ],
   "source": [
    "(y_val == churn_decision).mean()"
   ]
  },
  {
   "cell_type": "code",
   "execution_count": 64,
   "id": "73607594",
   "metadata": {},
   "outputs": [],
   "source": [
    "df_pred = pd.DataFrame()\n",
    "df_pred['customerid'] = df_val.customerid\n",
    "df_pred['prediction'] = churn_decision.astype(int)\n",
    "df_pred['actual'] = y_val\n",
    "df_pred['probability'] = y_pred"
   ]
  },
  {
   "cell_type": "code",
   "execution_count": 65,
   "id": "2b6bb6fd",
   "metadata": {},
   "outputs": [
    {
     "data": {
      "text/html": [
       "<div>\n",
       "<style scoped>\n",
       "    .dataframe tbody tr th:only-of-type {\n",
       "        vertical-align: middle;\n",
       "    }\n",
       "\n",
       "    .dataframe tbody tr th {\n",
       "        vertical-align: top;\n",
       "    }\n",
       "\n",
       "    .dataframe thead th {\n",
       "        text-align: right;\n",
       "    }\n",
       "</style>\n",
       "<table border=\"1\" class=\"dataframe\">\n",
       "  <thead>\n",
       "    <tr style=\"text-align: right;\">\n",
       "      <th></th>\n",
       "      <th>customerid</th>\n",
       "      <th>prediction</th>\n",
       "      <th>actual</th>\n",
       "      <th>probability</th>\n",
       "    </tr>\n",
       "  </thead>\n",
       "  <tbody>\n",
       "    <tr>\n",
       "      <th>0</th>\n",
       "      <td>5846-neqvz</td>\n",
       "      <td>0</td>\n",
       "      <td>0</td>\n",
       "      <td>0.008966</td>\n",
       "    </tr>\n",
       "    <tr>\n",
       "      <th>1</th>\n",
       "      <td>3645-deygf</td>\n",
       "      <td>0</td>\n",
       "      <td>0</td>\n",
       "      <td>0.204205</td>\n",
       "    </tr>\n",
       "    <tr>\n",
       "      <th>2</th>\n",
       "      <td>3590-tcxtb</td>\n",
       "      <td>0</td>\n",
       "      <td>0</td>\n",
       "      <td>0.211922</td>\n",
       "    </tr>\n",
       "    <tr>\n",
       "      <th>3</th>\n",
       "      <td>8433-wxgna</td>\n",
       "      <td>1</td>\n",
       "      <td>1</td>\n",
       "      <td>0.543291</td>\n",
       "    </tr>\n",
       "    <tr>\n",
       "      <th>4</th>\n",
       "      <td>2654-vbvpb</td>\n",
       "      <td>0</td>\n",
       "      <td>0</td>\n",
       "      <td>0.213495</td>\n",
       "    </tr>\n",
       "  </tbody>\n",
       "</table>\n",
       "</div>"
      ],
      "text/plain": [
       "   customerid  prediction  actual  probability\n",
       "0  5846-neqvz           0       0     0.008966\n",
       "1  3645-deygf           0       0     0.204205\n",
       "2  3590-tcxtb           0       0     0.211922\n",
       "3  8433-wxgna           1       1     0.543291\n",
       "4  2654-vbvpb           0       0     0.213495"
      ]
     },
     "execution_count": 65,
     "metadata": {},
     "output_type": "execute_result"
    }
   ],
   "source": [
    "df_pred.head()"
   ]
  },
  {
   "cell_type": "code",
   "execution_count": 66,
   "id": "d9f8a64f",
   "metadata": {},
   "outputs": [],
   "source": [
    "df_pred['correct'] = df_pred.prediction == df_pred.actual"
   ]
  },
  {
   "cell_type": "code",
   "execution_count": 67,
   "id": "62c27951",
   "metadata": {},
   "outputs": [
    {
     "data": {
      "text/html": [
       "<div>\n",
       "<style scoped>\n",
       "    .dataframe tbody tr th:only-of-type {\n",
       "        vertical-align: middle;\n",
       "    }\n",
       "\n",
       "    .dataframe tbody tr th {\n",
       "        vertical-align: top;\n",
       "    }\n",
       "\n",
       "    .dataframe thead th {\n",
       "        text-align: right;\n",
       "    }\n",
       "</style>\n",
       "<table border=\"1\" class=\"dataframe\">\n",
       "  <thead>\n",
       "    <tr style=\"text-align: right;\">\n",
       "      <th></th>\n",
       "      <th>customerid</th>\n",
       "      <th>prediction</th>\n",
       "      <th>actual</th>\n",
       "      <th>probability</th>\n",
       "      <th>correct</th>\n",
       "    </tr>\n",
       "  </thead>\n",
       "  <tbody>\n",
       "    <tr>\n",
       "      <th>0</th>\n",
       "      <td>5846-neqvz</td>\n",
       "      <td>0</td>\n",
       "      <td>0</td>\n",
       "      <td>0.008966</td>\n",
       "      <td>True</td>\n",
       "    </tr>\n",
       "    <tr>\n",
       "      <th>1</th>\n",
       "      <td>3645-deygf</td>\n",
       "      <td>0</td>\n",
       "      <td>0</td>\n",
       "      <td>0.204205</td>\n",
       "      <td>True</td>\n",
       "    </tr>\n",
       "    <tr>\n",
       "      <th>2</th>\n",
       "      <td>3590-tcxtb</td>\n",
       "      <td>0</td>\n",
       "      <td>0</td>\n",
       "      <td>0.211922</td>\n",
       "      <td>True</td>\n",
       "    </tr>\n",
       "    <tr>\n",
       "      <th>3</th>\n",
       "      <td>8433-wxgna</td>\n",
       "      <td>1</td>\n",
       "      <td>1</td>\n",
       "      <td>0.543291</td>\n",
       "      <td>True</td>\n",
       "    </tr>\n",
       "    <tr>\n",
       "      <th>4</th>\n",
       "      <td>2654-vbvpb</td>\n",
       "      <td>0</td>\n",
       "      <td>0</td>\n",
       "      <td>0.213495</td>\n",
       "      <td>True</td>\n",
       "    </tr>\n",
       "    <tr>\n",
       "      <th>...</th>\n",
       "      <td>...</td>\n",
       "      <td>...</td>\n",
       "      <td>...</td>\n",
       "      <td>...</td>\n",
       "      <td>...</td>\n",
       "    </tr>\n",
       "    <tr>\n",
       "      <th>1404</th>\n",
       "      <td>0980-pvmrc</td>\n",
       "      <td>0</td>\n",
       "      <td>0</td>\n",
       "      <td>0.313788</td>\n",
       "      <td>True</td>\n",
       "    </tr>\n",
       "    <tr>\n",
       "      <th>1405</th>\n",
       "      <td>2325-zusfd</td>\n",
       "      <td>0</td>\n",
       "      <td>1</td>\n",
       "      <td>0.039286</td>\n",
       "      <td>False</td>\n",
       "    </tr>\n",
       "    <tr>\n",
       "      <th>1406</th>\n",
       "      <td>7382-dfjtu</td>\n",
       "      <td>0</td>\n",
       "      <td>0</td>\n",
       "      <td>0.136217</td>\n",
       "      <td>True</td>\n",
       "    </tr>\n",
       "    <tr>\n",
       "      <th>1407</th>\n",
       "      <td>6521-yytyi</td>\n",
       "      <td>1</td>\n",
       "      <td>1</td>\n",
       "      <td>0.800175</td>\n",
       "      <td>True</td>\n",
       "    </tr>\n",
       "    <tr>\n",
       "      <th>1408</th>\n",
       "      <td>3049-solay</td>\n",
       "      <td>1</td>\n",
       "      <td>1</td>\n",
       "      <td>0.837804</td>\n",
       "      <td>True</td>\n",
       "    </tr>\n",
       "  </tbody>\n",
       "</table>\n",
       "<p>1409 rows × 5 columns</p>\n",
       "</div>"
      ],
      "text/plain": [
       "      customerid  prediction  actual  probability  correct\n",
       "0     5846-neqvz           0       0     0.008966     True\n",
       "1     3645-deygf           0       0     0.204205     True\n",
       "2     3590-tcxtb           0       0     0.211922     True\n",
       "3     8433-wxgna           1       1     0.543291     True\n",
       "4     2654-vbvpb           0       0     0.213495     True\n",
       "...          ...         ...     ...          ...      ...\n",
       "1404  0980-pvmrc           0       0     0.313788     True\n",
       "1405  2325-zusfd           0       1     0.039286    False\n",
       "1406  7382-dfjtu           0       0     0.136217     True\n",
       "1407  6521-yytyi           1       1     0.800175     True\n",
       "1408  3049-solay           1       1     0.837804     True\n",
       "\n",
       "[1409 rows x 5 columns]"
      ]
     },
     "execution_count": 67,
     "metadata": {},
     "output_type": "execute_result"
    }
   ],
   "source": [
    "df_pred"
   ]
  },
  {
   "cell_type": "code",
   "execution_count": 68,
   "id": "13ca4279",
   "metadata": {},
   "outputs": [
    {
     "data": {
      "text/plain": [
       "0.8026969481902059"
      ]
     },
     "execution_count": 68,
     "metadata": {},
     "output_type": "execute_result"
    }
   ],
   "source": [
    "df_pred.correct.mean()"
   ]
  },
  {
   "cell_type": "code",
   "execution_count": 69,
   "id": "3e364687",
   "metadata": {},
   "outputs": [
    {
     "name": "stderr",
     "output_type": "stream",
     "text": [
      "c:\\Users\\OLAMIDE\\AppData\\Local\\Programs\\Python\\Python310\\lib\\site-packages\\sklearn\\utils\\deprecation.py:87: FutureWarning: Function get_feature_names is deprecated; get_feature_names is deprecated in 1.0 and will be removed in 1.2. Please use get_feature_names_out instead.\n",
      "  warnings.warn(msg, category=FutureWarning)\n"
     ]
    },
    {
     "data": {
      "text/plain": [
       "['contract=month-to-month',\n",
       " 'contract=one_year',\n",
       " 'contract=two_year',\n",
       " 'dependents=no',\n",
       " 'dependents=yes',\n",
       " 'deviceprotection=no',\n",
       " 'deviceprotection=no_internet_service',\n",
       " 'deviceprotection=yes',\n",
       " 'gender=female',\n",
       " 'gender=male',\n",
       " 'internetservice=dsl',\n",
       " 'internetservice=fiber_optic',\n",
       " 'internetservice=no',\n",
       " 'monthlycharges',\n",
       " 'multiplelines=no',\n",
       " 'multiplelines=no_phone_service',\n",
       " 'multiplelines=yes',\n",
       " 'onlinebackup=no',\n",
       " 'onlinebackup=no_internet_service',\n",
       " 'onlinebackup=yes',\n",
       " 'onlinesecurity=no',\n",
       " 'onlinesecurity=no_internet_service',\n",
       " 'onlinesecurity=yes',\n",
       " 'paperlessbilling=no',\n",
       " 'paperlessbilling=yes',\n",
       " 'partner=no',\n",
       " 'partner=yes',\n",
       " 'paymentmethod=bank_transfer_(automatic)',\n",
       " 'paymentmethod=credit_card_(automatic)',\n",
       " 'paymentmethod=electronic_check',\n",
       " 'paymentmethod=mailed_check',\n",
       " 'phoneservice=no',\n",
       " 'phoneservice=yes',\n",
       " 'seniorcitizen',\n",
       " 'streamingmovies=no',\n",
       " 'streamingmovies=no_internet_service',\n",
       " 'streamingmovies=yes',\n",
       " 'streamingtv=no',\n",
       " 'streamingtv=no_internet_service',\n",
       " 'streamingtv=yes',\n",
       " 'techsupport=no',\n",
       " 'techsupport=no_internet_service',\n",
       " 'techsupport=yes',\n",
       " 'tenure',\n",
       " 'totalcharges']"
      ]
     },
     "execution_count": 69,
     "metadata": {},
     "output_type": "execute_result"
    }
   ],
   "source": [
    "dv.get_feature_names()"
   ]
  },
  {
   "cell_type": "code",
   "execution_count": 70,
   "id": "f4e8ee27",
   "metadata": {},
   "outputs": [
    {
     "data": {
      "text/plain": [
       "array([ 0.475, -0.175, -0.408, -0.03 , -0.078,  0.063, -0.089, -0.082,\n",
       "       -0.034, -0.073, -0.336,  0.317, -0.089,  0.004, -0.258,  0.142,\n",
       "        0.009,  0.063, -0.089, -0.081,  0.266, -0.089, -0.285, -0.232,\n",
       "        0.124, -0.166,  0.058, -0.087, -0.032,  0.071, -0.059,  0.142,\n",
       "       -0.249,  0.216, -0.12 , -0.089,  0.102, -0.071, -0.089,  0.052,\n",
       "        0.214, -0.089, -0.232, -0.07 ,  0.   ])"
      ]
     },
     "execution_count": 70,
     "metadata": {},
     "output_type": "execute_result"
    }
   ],
   "source": [
    "model.coef_[0].round(3)"
   ]
  },
  {
   "cell_type": "code",
   "execution_count": 71,
   "id": "e3fce275",
   "metadata": {},
   "outputs": [
    {
     "data": {
      "text/plain": [
       "-0.10918840348733709"
      ]
     },
     "execution_count": 71,
     "metadata": {},
     "output_type": "execute_result"
    }
   ],
   "source": [
    "model.intercept_[0]"
   ]
  },
  {
   "cell_type": "code",
   "execution_count": 72,
   "id": "ff11d307",
   "metadata": {},
   "outputs": [
    {
     "data": {
      "text/plain": [
       "{'contract=month-to-month': 0.475,\n",
       " 'contract=one_year': -0.175,\n",
       " 'contract=two_year': -0.408,\n",
       " 'dependents=no': -0.03,\n",
       " 'dependents=yes': -0.078,\n",
       " 'deviceprotection=no': 0.063,\n",
       " 'deviceprotection=no_internet_service': -0.089,\n",
       " 'deviceprotection=yes': -0.082,\n",
       " 'gender=female': -0.034,\n",
       " 'gender=male': -0.073,\n",
       " 'internetservice=dsl': -0.336,\n",
       " 'internetservice=fiber_optic': 0.317,\n",
       " 'internetservice=no': -0.089,\n",
       " 'monthlycharges': 0.004,\n",
       " 'multiplelines=no': -0.258,\n",
       " 'multiplelines=no_phone_service': 0.142,\n",
       " 'multiplelines=yes': 0.009,\n",
       " 'onlinebackup=no': 0.063,\n",
       " 'onlinebackup=no_internet_service': -0.089,\n",
       " 'onlinebackup=yes': -0.081,\n",
       " 'onlinesecurity=no': 0.266,\n",
       " 'onlinesecurity=no_internet_service': -0.089,\n",
       " 'onlinesecurity=yes': -0.285,\n",
       " 'paperlessbilling=no': -0.232,\n",
       " 'paperlessbilling=yes': 0.124,\n",
       " 'partner=no': -0.166,\n",
       " 'partner=yes': 0.058,\n",
       " 'paymentmethod=bank_transfer_(automatic)': -0.087,\n",
       " 'paymentmethod=credit_card_(automatic)': -0.032,\n",
       " 'paymentmethod=electronic_check': 0.071,\n",
       " 'paymentmethod=mailed_check': -0.059,\n",
       " 'phoneservice=no': 0.142,\n",
       " 'phoneservice=yes': -0.249,\n",
       " 'seniorcitizen': 0.216,\n",
       " 'streamingmovies=no': -0.12,\n",
       " 'streamingmovies=no_internet_service': -0.089,\n",
       " 'streamingmovies=yes': 0.102,\n",
       " 'streamingtv=no': -0.071,\n",
       " 'streamingtv=no_internet_service': -0.089,\n",
       " 'streamingtv=yes': 0.052,\n",
       " 'techsupport=no': 0.214,\n",
       " 'techsupport=no_internet_service': -0.089,\n",
       " 'techsupport=yes': -0.232,\n",
       " 'tenure': -0.07,\n",
       " 'totalcharges': 0.0}"
      ]
     },
     "execution_count": 72,
     "metadata": {},
     "output_type": "execute_result"
    }
   ],
   "source": [
    "dict(zip(dv.get_feature_names(), model.coef_[0].round(3)))"
   ]
  },
  {
   "cell_type": "code",
   "execution_count": 73,
   "id": "aa184982",
   "metadata": {},
   "outputs": [],
   "source": [
    "small = ['contract', 'tenure', 'monthlycharges']"
   ]
  },
  {
   "cell_type": "code",
   "execution_count": 74,
   "id": "2c5fa2a0",
   "metadata": {},
   "outputs": [
    {
     "data": {
      "text/plain": [
       "[{'contract': 'two_year', 'tenure': 72, 'monthlycharges': 115.5},\n",
       " {'contract': 'month-to-month', 'tenure': 10, 'monthlycharges': 95.25},\n",
       " {'contract': 'month-to-month', 'tenure': 5, 'monthlycharges': 75.55},\n",
       " {'contract': 'month-to-month', 'tenure': 5, 'monthlycharges': 80.85},\n",
       " {'contract': 'two_year', 'tenure': 18, 'monthlycharges': 20.1},\n",
       " {'contract': 'month-to-month', 'tenure': 4, 'monthlycharges': 30.5},\n",
       " {'contract': 'month-to-month', 'tenure': 1, 'monthlycharges': 75.1},\n",
       " {'contract': 'month-to-month', 'tenure': 1, 'monthlycharges': 70.3},\n",
       " {'contract': 'two_year', 'tenure': 72, 'monthlycharges': 19.75},\n",
       " {'contract': 'month-to-month', 'tenure': 6, 'monthlycharges': 109.9},\n",
       " {'contract': 'two_year', 'tenure': 72, 'monthlycharges': 99.9},\n",
       " {'contract': 'month-to-month', 'tenure': 17, 'monthlycharges': 102.55},\n",
       " {'contract': 'two_year', 'tenure': 66, 'monthlycharges': 58.2},\n",
       " {'contract': 'month-to-month', 'tenure': 2, 'monthlycharges': 68.95},\n",
       " {'contract': 'month-to-month', 'tenure': 4, 'monthlycharges': 20.15},\n",
       " {'contract': 'month-to-month', 'tenure': 3, 'monthlycharges': 70.7},\n",
       " {'contract': 'two_year', 'tenure': 71, 'monthlycharges': 19.6},\n",
       " {'contract': 'month-to-month', 'tenure': 32, 'monthlycharges': 90.95},\n",
       " {'contract': 'one_year', 'tenure': 53, 'monthlycharges': 105.25},\n",
       " {'contract': 'two_year', 'tenure': 56, 'monthlycharges': 103.2},\n",
       " {'contract': 'month-to-month', 'tenure': 61, 'monthlycharges': 106.45},\n",
       " {'contract': 'one_year', 'tenure': 41, 'monthlycharges': 50.05},\n",
       " {'contract': 'month-to-month', 'tenure': 1, 'monthlycharges': 44.9},\n",
       " {'contract': 'two_year', 'tenure': 3, 'monthlycharges': 71.1},\n",
       " {'contract': 'month-to-month', 'tenure': 3, 'monthlycharges': 94.6},\n",
       " {'contract': 'two_year', 'tenure': 12, 'monthlycharges': 21.05},\n",
       " {'contract': 'month-to-month', 'tenure': 41, 'monthlycharges': 98.05},\n",
       " {'contract': 'month-to-month', 'tenure': 47, 'monthlycharges': 85.2},\n",
       " {'contract': 'month-to-month', 'tenure': 2, 'monthlycharges': 20.3},\n",
       " {'contract': 'one_year', 'tenure': 66, 'monthlycharges': 70.85},\n",
       " {'contract': 'month-to-month', 'tenure': 8, 'monthlycharges': 59.25},\n",
       " {'contract': 'month-to-month', 'tenure': 1, 'monthlycharges': 19.9},\n",
       " {'contract': 'one_year', 'tenure': 35, 'monthlycharges': 40.9},\n",
       " {'contract': 'one_year', 'tenure': 67, 'monthlycharges': 107.05},\n",
       " {'contract': 'month-to-month', 'tenure': 1, 'monthlycharges': 31.35},\n",
       " {'contract': 'one_year', 'tenure': 46, 'monthlycharges': 103.15},\n",
       " {'contract': 'one_year', 'tenure': 37, 'monthlycharges': 80.05},\n",
       " {'contract': 'two_year', 'tenure': 72, 'monthlycharges': 90.6},\n",
       " {'contract': 'month-to-month', 'tenure': 35, 'monthlycharges': 75.35},\n",
       " {'contract': 'month-to-month', 'tenure': 43, 'monthlycharges': 94.1},\n",
       " {'contract': 'month-to-month', 'tenure': 20, 'monthlycharges': 20.35},\n",
       " {'contract': 'month-to-month', 'tenure': 64, 'monthlycharges': 81.05},\n",
       " {'contract': 'month-to-month', 'tenure': 6, 'monthlycharges': 44.4},\n",
       " {'contract': 'month-to-month', 'tenure': 9, 'monthlycharges': 55.35},\n",
       " {'contract': 'month-to-month', 'tenure': 18, 'monthlycharges': 25.55},\n",
       " {'contract': 'one_year', 'tenure': 46, 'monthlycharges': 94.15},\n",
       " {'contract': 'month-to-month', 'tenure': 9, 'monthlycharges': 70.05},\n",
       " {'contract': 'two_year', 'tenure': 69, 'monthlycharges': 20.15},\n",
       " {'contract': 'month-to-month', 'tenure': 32, 'monthlycharges': 19.45},\n",
       " {'contract': 'two_year', 'tenure': 67, 'monthlycharges': 75.5},\n",
       " {'contract': 'two_year', 'tenure': 69, 'monthlycharges': 80.65},\n",
       " {'contract': 'month-to-month', 'tenure': 6, 'monthlycharges': 80.5},\n",
       " {'contract': 'one_year', 'tenure': 30, 'monthlycharges': 40.35},\n",
       " {'contract': 'month-to-month', 'tenure': 30, 'monthlycharges': 54.45},\n",
       " {'contract': 'one_year', 'tenure': 58, 'monthlycharges': 45.35},\n",
       " {'contract': 'month-to-month', 'tenure': 18, 'monthlycharges': 90.1},\n",
       " {'contract': 'month-to-month', 'tenure': 34, 'monthlycharges': 71.55},\n",
       " {'contract': 'one_year', 'tenure': 2, 'monthlycharges': 20.2},\n",
       " {'contract': 'two_year', 'tenure': 10, 'monthlycharges': 20.15},\n",
       " {'contract': 'two_year', 'tenure': 71, 'monthlycharges': 99.0},\n",
       " {'contract': 'two_year', 'tenure': 72, 'monthlycharges': 60.95},\n",
       " {'contract': 'two_year', 'tenure': 46, 'monthlycharges': 21.1},\n",
       " {'contract': 'month-to-month', 'tenure': 49, 'monthlycharges': 74.6},\n",
       " {'contract': 'two_year', 'tenure': 65, 'monthlycharges': 59.95},\n",
       " {'contract': 'month-to-month', 'tenure': 15, 'monthlycharges': 74.9},\n",
       " {'contract': 'one_year', 'tenure': 58, 'monthlycharges': 103.25},\n",
       " {'contract': 'one_year', 'tenure': 66, 'monthlycharges': 54.8},\n",
       " {'contract': 'two_year', 'tenure': 66, 'monthlycharges': 19.7},\n",
       " {'contract': 'one_year', 'tenure': 68, 'monthlycharges': 19.5},\n",
       " {'contract': 'one_year', 'tenure': 45, 'monthlycharges': 102.15},\n",
       " {'contract': 'month-to-month', 'tenure': 1, 'monthlycharges': 20.2},\n",
       " {'contract': 'month-to-month', 'tenure': 11, 'monthlycharges': 79.5},\n",
       " {'contract': 'month-to-month', 'tenure': 18, 'monthlycharges': 99.75},\n",
       " {'contract': 'two_year', 'tenure': 71, 'monthlycharges': 97.2},\n",
       " {'contract': 'month-to-month', 'tenure': 4, 'monthlycharges': 80.8},\n",
       " {'contract': 'month-to-month', 'tenure': 13, 'monthlycharges': 56.0},\n",
       " {'contract': 'two_year', 'tenure': 50, 'monthlycharges': 20.15},\n",
       " {'contract': 'month-to-month', 'tenure': 12, 'monthlycharges': 50.95},\n",
       " {'contract': 'month-to-month', 'tenure': 1, 'monthlycharges': 43.85},\n",
       " {'contract': 'one_year', 'tenure': 7, 'monthlycharges': 19.9},\n",
       " {'contract': 'one_year', 'tenure': 71, 'monthlycharges': 105.75},\n",
       " {'contract': 'month-to-month', 'tenure': 1, 'monthlycharges': 80.55},\n",
       " {'contract': 'month-to-month', 'tenure': 21, 'monthlycharges': 104.35},\n",
       " {'contract': 'month-to-month', 'tenure': 12, 'monthlycharges': 86.55},\n",
       " {'contract': 'month-to-month', 'tenure': 1, 'monthlycharges': 50.5},\n",
       " {'contract': 'month-to-month', 'tenure': 33, 'monthlycharges': 95.0},\n",
       " {'contract': 'month-to-month', 'tenure': 46, 'monthlycharges': 72.8},\n",
       " {'contract': 'one_year', 'tenure': 44, 'monthlycharges': 61.5},\n",
       " {'contract': 'two_year', 'tenure': 70, 'monthlycharges': 88.55},\n",
       " {'contract': 'one_year', 'tenure': 7, 'monthlycharges': 49.75},\n",
       " {'contract': 'month-to-month', 'tenure': 18, 'monthlycharges': 69.8},\n",
       " {'contract': 'one_year', 'tenure': 54, 'monthlycharges': 65.25},\n",
       " {'contract': 'month-to-month', 'tenure': 35, 'monthlycharges': 33.45},\n",
       " {'contract': 'month-to-month', 'tenure': 5, 'monthlycharges': 70.25},\n",
       " {'contract': 'month-to-month', 'tenure': 35, 'monthlycharges': 86.45},\n",
       " {'contract': 'one_year', 'tenure': 39, 'monthlycharges': 25.25},\n",
       " {'contract': 'month-to-month', 'tenure': 19, 'monthlycharges': 48.8},\n",
       " {'contract': 'month-to-month', 'tenure': 21, 'monthlycharges': 36.0},\n",
       " {'contract': 'one_year', 'tenure': 43, 'monthlycharges': 104.3},\n",
       " {'contract': 'month-to-month', 'tenure': 19, 'monthlycharges': 95.9},\n",
       " {'contract': 'two_year', 'tenure': 72, 'monthlycharges': 112.6},\n",
       " {'contract': 'month-to-month', 'tenure': 59, 'monthlycharges': 101.1},\n",
       " {'contract': 'two_year', 'tenure': 11, 'monthlycharges': 19.65},\n",
       " {'contract': 'month-to-month', 'tenure': 9, 'monthlycharges': 59.5},\n",
       " {'contract': 'two_year', 'tenure': 70, 'monthlycharges': 20.15},\n",
       " {'contract': 'month-to-month', 'tenure': 22, 'monthlycharges': 39.2},\n",
       " {'contract': 'two_year', 'tenure': 69, 'monthlycharges': 19.1},\n",
       " {'contract': 'month-to-month', 'tenure': 16, 'monthlycharges': 94.45},\n",
       " {'contract': 'one_year', 'tenure': 32, 'monthlycharges': 30.15},\n",
       " {'contract': 'two_year', 'tenure': 61, 'monthlycharges': 20.25},\n",
       " {'contract': 'month-to-month', 'tenure': 14, 'monthlycharges': 80.05},\n",
       " {'contract': 'month-to-month', 'tenure': 34, 'monthlycharges': 85.2},\n",
       " {'contract': 'two_year', 'tenure': 40, 'monthlycharges': 19.65},\n",
       " {'contract': 'month-to-month', 'tenure': 1, 'monthlycharges': 45.4},\n",
       " {'contract': 'two_year', 'tenure': 6, 'monthlycharges': 20.1},\n",
       " {'contract': 'month-to-month', 'tenure': 39, 'monthlycharges': 50.75},\n",
       " {'contract': 'two_year', 'tenure': 56, 'monthlycharges': 24.15},\n",
       " {'contract': 'one_year', 'tenure': 36, 'monthlycharges': 63.7},\n",
       " {'contract': 'one_year', 'tenure': 44, 'monthlycharges': 53.95},\n",
       " {'contract': 'month-to-month', 'tenure': 7, 'monthlycharges': 69.95},\n",
       " {'contract': 'month-to-month', 'tenure': 2, 'monthlycharges': 75.9},\n",
       " {'contract': 'two_year', 'tenure': 72, 'monthlycharges': 109.55},\n",
       " {'contract': 'month-to-month', 'tenure': 1, 'monthlycharges': 19.2},\n",
       " {'contract': 'month-to-month', 'tenure': 71, 'monthlycharges': 105.1},\n",
       " {'contract': 'month-to-month', 'tenure': 17, 'monthlycharges': 78.9},\n",
       " {'contract': 'one_year', 'tenure': 26, 'monthlycharges': 56.05},\n",
       " {'contract': 'month-to-month', 'tenure': 29, 'monthlycharges': 76.0},\n",
       " {'contract': 'two_year', 'tenure': 72, 'monthlycharges': 68.75},\n",
       " {'contract': 'month-to-month', 'tenure': 24, 'monthlycharges': 99.65},\n",
       " {'contract': 'two_year', 'tenure': 11, 'monthlycharges': 25.0},\n",
       " {'contract': 'one_year', 'tenure': 51, 'monthlycharges': 76.4},\n",
       " {'contract': 'month-to-month', 'tenure': 4, 'monthlycharges': 50.05},\n",
       " {'contract': 'month-to-month', 'tenure': 43, 'monthlycharges': 86.1},\n",
       " {'contract': 'month-to-month', 'tenure': 16, 'monthlycharges': 85.35},\n",
       " {'contract': 'month-to-month', 'tenure': 10, 'monthlycharges': 60.95},\n",
       " {'contract': 'one_year', 'tenure': 64, 'monthlycharges': 104.4},\n",
       " {'contract': 'month-to-month', 'tenure': 12, 'monthlycharges': 56.65},\n",
       " {'contract': 'month-to-month', 'tenure': 18, 'monthlycharges': 74.8},\n",
       " {'contract': 'one_year', 'tenure': 65, 'monthlycharges': 110.0},\n",
       " {'contract': 'month-to-month', 'tenure': 29, 'monthlycharges': 100.55},\n",
       " {'contract': 'month-to-month', 'tenure': 44, 'monthlycharges': 84.8},\n",
       " {'contract': 'month-to-month', 'tenure': 7, 'monthlycharges': 70.75},\n",
       " {'contract': 'month-to-month', 'tenure': 1, 'monthlycharges': 45.0},\n",
       " {'contract': 'month-to-month', 'tenure': 31, 'monthlycharges': 96.6},\n",
       " {'contract': 'one_year', 'tenure': 9, 'monthlycharges': 50.8},\n",
       " {'contract': 'month-to-month', 'tenure': 1, 'monthlycharges': 71.65},\n",
       " {'contract': 'two_year', 'tenure': 60, 'monthlycharges': 53.6},\n",
       " {'contract': 'one_year', 'tenure': 13, 'monthlycharges': 19.95},\n",
       " {'contract': 'month-to-month', 'tenure': 3, 'monthlycharges': 100.95},\n",
       " {'contract': 'month-to-month', 'tenure': 10, 'monthlycharges': 19.8},\n",
       " {'contract': 'month-to-month', 'tenure': 50, 'monthlycharges': 39.45},\n",
       " {'contract': 'two_year', 'tenure': 8, 'monthlycharges': 20.25},\n",
       " {'contract': 'month-to-month', 'tenure': 41, 'monthlycharges': 53.95},\n",
       " {'contract': 'month-to-month', 'tenure': 10, 'monthlycharges': 85.95},\n",
       " {'contract': 'one_year', 'tenure': 31, 'monthlycharges': 81.7},\n",
       " {'contract': 'month-to-month', 'tenure': 40, 'monthlycharges': 74.55},\n",
       " {'contract': 'month-to-month', 'tenure': 17, 'monthlycharges': 95.65},\n",
       " {'contract': 'month-to-month', 'tenure': 11, 'monthlycharges': 20.45},\n",
       " {'contract': 'month-to-month', 'tenure': 19, 'monthlycharges': 20.0},\n",
       " {'contract': 'month-to-month', 'tenure': 31, 'monthlycharges': 84.75},\n",
       " {'contract': 'month-to-month', 'tenure': 10, 'monthlycharges': 81.0},\n",
       " {'contract': 'month-to-month', 'tenure': 1, 'monthlycharges': 69.7},\n",
       " {'contract': 'month-to-month', 'tenure': 1, 'monthlycharges': 80.8},\n",
       " {'contract': 'one_year', 'tenure': 6, 'monthlycharges': 20.6},\n",
       " {'contract': 'month-to-month', 'tenure': 1, 'monthlycharges': 69.95},\n",
       " {'contract': 'one_year', 'tenure': 41, 'monthlycharges': 70.2},\n",
       " {'contract': 'two_year', 'tenure': 66, 'monthlycharges': 20.0},\n",
       " {'contract': 'month-to-month', 'tenure': 26, 'monthlycharges': 86.65},\n",
       " {'contract': 'one_year', 'tenure': 34, 'monthlycharges': 30.4},\n",
       " {'contract': 'two_year', 'tenure': 60, 'monthlycharges': 115.25},\n",
       " {'contract': 'month-to-month', 'tenure': 37, 'monthlycharges': 99.5},\n",
       " {'contract': 'one_year', 'tenure': 18, 'monthlycharges': 89.6},\n",
       " {'contract': 'one_year', 'tenure': 62, 'monthlycharges': 74.3},\n",
       " {'contract': 'two_year', 'tenure': 47, 'monthlycharges': 20.55},\n",
       " {'contract': 'one_year', 'tenure': 7, 'monthlycharges': 20.65},\n",
       " {'contract': 'month-to-month', 'tenure': 10, 'monthlycharges': 85.25},\n",
       " {'contract': 'month-to-month', 'tenure': 5, 'monthlycharges': 89.35},\n",
       " {'contract': 'month-to-month', 'tenure': 19, 'monthlycharges': 59.8},\n",
       " {'contract': 'one_year', 'tenure': 20, 'monthlycharges': 20.35},\n",
       " {'contract': 'two_year', 'tenure': 72, 'monthlycharges': 92.3},\n",
       " {'contract': 'month-to-month', 'tenure': 1, 'monthlycharges': 95.65},\n",
       " {'contract': 'one_year', 'tenure': 66, 'monthlycharges': 92.15},\n",
       " {'contract': 'month-to-month', 'tenure': 24, 'monthlycharges': 66.3},\n",
       " {'contract': 'one_year', 'tenure': 25, 'monthlycharges': 20.95},\n",
       " {'contract': 'month-to-month', 'tenure': 43, 'monthlycharges': 75.2},\n",
       " {'contract': 'month-to-month', 'tenure': 58, 'monthlycharges': 80.65},\n",
       " {'contract': 'month-to-month', 'tenure': 20, 'monthlycharges': 18.9},\n",
       " {'contract': 'one_year', 'tenure': 27, 'monthlycharges': 81.7},\n",
       " {'contract': 'month-to-month', 'tenure': 8, 'monthlycharges': 103.35},\n",
       " {'contract': 'month-to-month', 'tenure': 60, 'monthlycharges': 79.05},\n",
       " {'contract': 'one_year', 'tenure': 11, 'monthlycharges': 36.05},\n",
       " {'contract': 'month-to-month', 'tenure': 10, 'monthlycharges': 35.75},\n",
       " {'contract': 'two_year', 'tenure': 69, 'monthlycharges': 108.4},\n",
       " {'contract': 'two_year', 'tenure': 42, 'monthlycharges': 22.95},\n",
       " {'contract': 'one_year', 'tenure': 34, 'monthlycharges': 64.2},\n",
       " {'contract': 'one_year', 'tenure': 27, 'monthlycharges': 45.85},\n",
       " {'contract': 'month-to-month', 'tenure': 20, 'monthlycharges': 24.9},\n",
       " {'contract': 'two_year', 'tenure': 72, 'monthlycharges': 25.2},\n",
       " {'contract': 'month-to-month', 'tenure': 3, 'monthlycharges': 79.65},\n",
       " {'contract': 'month-to-month', 'tenure': 1, 'monthlycharges': 80.5},\n",
       " {'contract': 'two_year', 'tenure': 64, 'monthlycharges': 70.2},\n",
       " {'contract': 'one_year', 'tenure': 56, 'monthlycharges': 106.8},\n",
       " {'contract': 'month-to-month', 'tenure': 47, 'monthlycharges': 98.75},\n",
       " {'contract': 'two_year', 'tenure': 70, 'monthlycharges': 79.15},\n",
       " {'contract': 'two_year', 'tenure': 48, 'monthlycharges': 108.1},\n",
       " {'contract': 'month-to-month', 'tenure': 1, 'monthlycharges': 61.15},\n",
       " {'contract': 'month-to-month', 'tenure': 3, 'monthlycharges': 19.9},\n",
       " {'contract': 'month-to-month', 'tenure': 29, 'monthlycharges': 33.75},\n",
       " {'contract': 'month-to-month', 'tenure': 12, 'monthlycharges': 112.95},\n",
       " {'contract': 'month-to-month', 'tenure': 8, 'monthlycharges': 74.85},\n",
       " {'contract': 'month-to-month', 'tenure': 1, 'monthlycharges': 75.1},\n",
       " {'contract': 'two_year', 'tenure': 23, 'monthlycharges': 77.15},\n",
       " {'contract': 'month-to-month', 'tenure': 47, 'monthlycharges': 85.5},\n",
       " {'contract': 'month-to-month', 'tenure': 54, 'monthlycharges': 99.05},\n",
       " {'contract': 'one_year', 'tenure': 25, 'monthlycharges': 54.2},\n",
       " {'contract': 'month-to-month', 'tenure': 26, 'monthlycharges': 84.3},\n",
       " {'contract': 'two_year', 'tenure': 68, 'monthlycharges': 103.25},\n",
       " {'contract': 'one_year', 'tenure': 56, 'monthlycharges': 94.8},\n",
       " {'contract': 'one_year', 'tenure': 66, 'monthlycharges': 108.1},\n",
       " {'contract': 'month-to-month', 'tenure': 11, 'monthlycharges': 64.9},\n",
       " {'contract': 'one_year', 'tenure': 46, 'monthlycharges': 69.1},\n",
       " {'contract': 'month-to-month', 'tenure': 33, 'monthlycharges': 50.0},\n",
       " {'contract': 'month-to-month', 'tenure': 54, 'monthlycharges': 104.1},\n",
       " {'contract': 'two_year', 'tenure': 72, 'monthlycharges': 65.6},\n",
       " {'contract': 'month-to-month', 'tenure': 54, 'monthlycharges': 24.95},\n",
       " {'contract': 'month-to-month', 'tenure': 55, 'monthlycharges': 73.1},\n",
       " {'contract': 'one_year', 'tenure': 68, 'monthlycharges': 100.3},\n",
       " {'contract': 'two_year', 'tenure': 72, 'monthlycharges': 66.85},\n",
       " {'contract': 'two_year', 'tenure': 18, 'monthlycharges': 24.65},\n",
       " {'contract': 'month-to-month', 'tenure': 52, 'monthlycharges': 109.1},\n",
       " {'contract': 'one_year', 'tenure': 54, 'monthlycharges': 105.2},\n",
       " {'contract': 'one_year', 'tenure': 17, 'monthlycharges': 19.9},\n",
       " {'contract': 'one_year', 'tenure': 33, 'monthlycharges': 93.55},\n",
       " {'contract': 'one_year', 'tenure': 61, 'monthlycharges': 103.95},\n",
       " {'contract': 'month-to-month', 'tenure': 1, 'monthlycharges': 90.1},\n",
       " {'contract': 'two_year', 'tenure': 71, 'monthlycharges': 82.7},\n",
       " {'contract': 'two_year', 'tenure': 6, 'monthlycharges': 63.4},\n",
       " {'contract': 'two_year', 'tenure': 69, 'monthlycharges': 81.95},\n",
       " {'contract': 'month-to-month', 'tenure': 9, 'monthlycharges': 83.3},\n",
       " {'contract': 'month-to-month', 'tenure': 34, 'monthlycharges': 100.05},\n",
       " {'contract': 'two_year', 'tenure': 60, 'monthlycharges': 60.8},\n",
       " {'contract': 'one_year', 'tenure': 51, 'monthlycharges': 23.95},\n",
       " {'contract': 'two_year', 'tenure': 43, 'monthlycharges': 75.2},\n",
       " {'contract': 'one_year', 'tenure': 42, 'monthlycharges': 63.7},\n",
       " {'contract': 'month-to-month', 'tenure': 29, 'monthlycharges': 51.6},\n",
       " {'contract': 'month-to-month', 'tenure': 3, 'monthlycharges': 89.45},\n",
       " {'contract': 'one_year', 'tenure': 46, 'monthlycharges': 24.45},\n",
       " {'contract': 'month-to-month', 'tenure': 17, 'monthlycharges': 89.4},\n",
       " {'contract': 'one_year', 'tenure': 43, 'monthlycharges': 85.1},\n",
       " {'contract': 'month-to-month', 'tenure': 45, 'monthlycharges': 108.45},\n",
       " {'contract': 'two_year', 'tenure': 72, 'monthlycharges': 109.95},\n",
       " {'contract': 'month-to-month', 'tenure': 4, 'monthlycharges': 29.05},\n",
       " {'contract': 'month-to-month', 'tenure': 7, 'monthlycharges': 18.95},\n",
       " {'contract': 'month-to-month', 'tenure': 2, 'monthlycharges': 79.75},\n",
       " {'contract': 'month-to-month', 'tenure': 1, 'monthlycharges': 25.1},\n",
       " {'contract': 'month-to-month', 'tenure': 7, 'monthlycharges': 75.35},\n",
       " {'contract': 'month-to-month', 'tenure': 8, 'monthlycharges': 69.7},\n",
       " {'contract': 'month-to-month', 'tenure': 15, 'monthlycharges': 75.1},\n",
       " {'contract': 'month-to-month', 'tenure': 45, 'monthlycharges': 115.65},\n",
       " {'contract': 'month-to-month', 'tenure': 32, 'monthlycharges': 79.3},\n",
       " {'contract': 'one_year', 'tenure': 15, 'monthlycharges': 50.75},\n",
       " {'contract': 'one_year', 'tenure': 19, 'monthlycharges': 87.7},\n",
       " {'contract': 'month-to-month', 'tenure': 8, 'monthlycharges': 100.6},\n",
       " {'contract': 'month-to-month', 'tenure': 9, 'monthlycharges': 58.5},\n",
       " {'contract': 'month-to-month', 'tenure': 41, 'monthlycharges': 106.5},\n",
       " {'contract': 'month-to-month', 'tenure': 2, 'monthlycharges': 86.2},\n",
       " {'contract': 'month-to-month', 'tenure': 1, 'monthlycharges': 20.6},\n",
       " {'contract': 'one_year', 'tenure': 28, 'monthlycharges': 92.9},\n",
       " {'contract': 'month-to-month', 'tenure': 67, 'monthlycharges': 101.4},\n",
       " {'contract': 'two_year', 'tenure': 72, 'monthlycharges': 111.65},\n",
       " {'contract': 'two_year', 'tenure': 63, 'monthlycharges': 97.45},\n",
       " {'contract': 'two_year', 'tenure': 47, 'monthlycharges': 20.05},\n",
       " {'contract': 'two_year', 'tenure': 15, 'monthlycharges': 19.35},\n",
       " {'contract': 'month-to-month', 'tenure': 4, 'monthlycharges': 70.05},\n",
       " {'contract': 'month-to-month', 'tenure': 5, 'monthlycharges': 51.0},\n",
       " {'contract': 'month-to-month', 'tenure': 24, 'monthlycharges': 79.85},\n",
       " {'contract': 'month-to-month', 'tenure': 4, 'monthlycharges': 70.65},\n",
       " {'contract': 'month-to-month', 'tenure': 24, 'monthlycharges': 79.85},\n",
       " {'contract': 'one_year', 'tenure': 40, 'monthlycharges': 103.75},\n",
       " {'contract': 'month-to-month', 'tenure': 14, 'monthlycharges': 86.3},\n",
       " {'contract': 'month-to-month', 'tenure': 1, 'monthlycharges': 45.3},\n",
       " {'contract': 'month-to-month', 'tenure': 25, 'monthlycharges': 65.8},\n",
       " {'contract': 'month-to-month', 'tenure': 7, 'monthlycharges': 34.5},\n",
       " {'contract': 'month-to-month', 'tenure': 1, 'monthlycharges': 20.25},\n",
       " {'contract': 'two_year', 'tenure': 27, 'monthlycharges': 19.85},\n",
       " {'contract': 'month-to-month', 'tenure': 1, 'monthlycharges': 19.3},\n",
       " {'contract': 'month-to-month', 'tenure': 7, 'monthlycharges': 71.35},\n",
       " {'contract': 'two_year', 'tenure': 55, 'monthlycharges': 85.1},\n",
       " {'contract': 'month-to-month', 'tenure': 2, 'monthlycharges': 80.15},\n",
       " {'contract': 'month-to-month', 'tenure': 23, 'monthlycharges': 85.6},\n",
       " {'contract': 'two_year', 'tenure': 70, 'monthlycharges': 98.3},\n",
       " {'contract': 'month-to-month', 'tenure': 2, 'monthlycharges': 95.5},\n",
       " {'contract': 'two_year', 'tenure': 48, 'monthlycharges': 19.25},\n",
       " {'contract': 'month-to-month', 'tenure': 67, 'monthlycharges': 75.7},\n",
       " {'contract': 'one_year', 'tenure': 40, 'monthlycharges': 60.3},\n",
       " {'contract': 'one_year', 'tenure': 35, 'monthlycharges': 73.45},\n",
       " {'contract': 'one_year', 'tenure': 9, 'monthlycharges': 20.15},\n",
       " {'contract': 'two_year', 'tenure': 47, 'monthlycharges': 19.65},\n",
       " {'contract': 'one_year', 'tenure': 51, 'monthlycharges': 94.0},\n",
       " {'contract': 'month-to-month', 'tenure': 2, 'monthlycharges': 85.65},\n",
       " {'contract': 'one_year', 'tenure': 60, 'monthlycharges': 79.2},\n",
       " {'contract': 'month-to-month', 'tenure': 1, 'monthlycharges': 84.6},\n",
       " {'contract': 'month-to-month', 'tenure': 3, 'monthlycharges': 69.35},\n",
       " {'contract': 'month-to-month', 'tenure': 2, 'monthlycharges': 80.25},\n",
       " {'contract': 'month-to-month', 'tenure': 64, 'monthlycharges': 99.15},\n",
       " {'contract': 'month-to-month', 'tenure': 30, 'monthlycharges': 94.1},\n",
       " {'contract': 'month-to-month', 'tenure': 2, 'monthlycharges': 44.95},\n",
       " {'contract': 'month-to-month', 'tenure': 22, 'monthlycharges': 95.1},\n",
       " {'contract': 'month-to-month', 'tenure': 1, 'monthlycharges': 49.9},\n",
       " {'contract': 'month-to-month', 'tenure': 16, 'monthlycharges': 69.1},\n",
       " {'contract': 'two_year', 'tenure': 68, 'monthlycharges': 82.85},\n",
       " {'contract': 'month-to-month', 'tenure': 8, 'monthlycharges': 80.1},\n",
       " {'contract': 'one_year', 'tenure': 47, 'monthlycharges': 58.9},\n",
       " {'contract': 'two_year', 'tenure': 69, 'monthlycharges': 86.9},\n",
       " {'contract': 'month-to-month', 'tenure': 4, 'monthlycharges': 19.0},\n",
       " {'contract': 'month-to-month', 'tenure': 8, 'monthlycharges': 94.7},\n",
       " {'contract': 'month-to-month', 'tenure': 1, 'monthlycharges': 44.9},\n",
       " {'contract': 'two_year', 'tenure': 35, 'monthlycharges': 19.25},\n",
       " {'contract': 'two_year', 'tenure': 61, 'monthlycharges': 94.1},\n",
       " {'contract': 'month-to-month', 'tenure': 6, 'monthlycharges': 44.75},\n",
       " {'contract': 'one_year', 'tenure': 40, 'monthlycharges': 106.0},\n",
       " {'contract': 'month-to-month', 'tenure': 30, 'monthlycharges': 66.3},\n",
       " {'contract': 'one_year', 'tenure': 37, 'monthlycharges': 90.6},\n",
       " {'contract': 'month-to-month', 'tenure': 7, 'monthlycharges': 24.7},\n",
       " {'contract': 'one_year', 'tenure': 33, 'monthlycharges': 103.7},\n",
       " {'contract': 'month-to-month', 'tenure': 18, 'monthlycharges': 90.7},\n",
       " {'contract': 'month-to-month', 'tenure': 7, 'monthlycharges': 48.7},\n",
       " {'contract': 'two_year', 'tenure': 60, 'monthlycharges': 110.0},\n",
       " {'contract': 'month-to-month', 'tenure': 3, 'monthlycharges': 40.3},\n",
       " {'contract': 'month-to-month', 'tenure': 24, 'monthlycharges': 104.25},\n",
       " {'contract': 'month-to-month', 'tenure': 23, 'monthlycharges': 104.45},\n",
       " {'contract': 'month-to-month', 'tenure': 1, 'monthlycharges': 95.6},\n",
       " {'contract': 'month-to-month', 'tenure': 1, 'monthlycharges': 49.95},\n",
       " {'contract': 'month-to-month', 'tenure': 12, 'monthlycharges': 99.45},\n",
       " {'contract': 'month-to-month', 'tenure': 6, 'monthlycharges': 19.5},\n",
       " {'contract': 'month-to-month', 'tenure': 12, 'monthlycharges': 91.3},\n",
       " {'contract': 'month-to-month', 'tenure': 1, 'monthlycharges': 24.8},\n",
       " {'contract': 'month-to-month', 'tenure': 44, 'monthlycharges': 95.1},\n",
       " {'contract': 'two_year', 'tenure': 71, 'monthlycharges': 24.75},\n",
       " {'contract': 'month-to-month', 'tenure': 48, 'monthlycharges': 45.3},\n",
       " {'contract': 'month-to-month', 'tenure': 50, 'monthlycharges': 95.7},\n",
       " {'contract': 'one_year', 'tenure': 29, 'monthlycharges': 58.75},\n",
       " {'contract': 'month-to-month', 'tenure': 6, 'monthlycharges': 59.15},\n",
       " {'contract': 'month-to-month', 'tenure': 1, 'monthlycharges': 70.05},\n",
       " {'contract': 'month-to-month', 'tenure': 1, 'monthlycharges': 69.95},\n",
       " {'contract': 'one_year', 'tenure': 32, 'monthlycharges': 20.55},\n",
       " {'contract': 'month-to-month', 'tenure': 2, 'monthlycharges': 24.5},\n",
       " {'contract': 'two_year', 'tenure': 39, 'monthlycharges': 20.7},\n",
       " {'contract': 'two_year', 'tenure': 57, 'monthlycharges': 79.75},\n",
       " {'contract': 'month-to-month', 'tenure': 26, 'monthlycharges': 80.5},\n",
       " {'contract': 'one_year', 'tenure': 27, 'monthlycharges': 20.3},\n",
       " {'contract': 'one_year', 'tenure': 31, 'monthlycharges': 20.1},\n",
       " {'contract': 'month-to-month', 'tenure': 35, 'monthlycharges': 20.75},\n",
       " {'contract': 'month-to-month', 'tenure': 14, 'monthlycharges': 92.9},\n",
       " {'contract': 'two_year', 'tenure': 72, 'monthlycharges': 88.6},\n",
       " {'contract': 'month-to-month', 'tenure': 1, 'monthlycharges': 20.3},\n",
       " {'contract': 'one_year', 'tenure': 48, 'monthlycharges': 75.15},\n",
       " {'contract': 'month-to-month', 'tenure': 6, 'monthlycharges': 55.3},\n",
       " {'contract': 'month-to-month', 'tenure': 20, 'monthlycharges': 94.1},\n",
       " {'contract': 'month-to-month', 'tenure': 1, 'monthlycharges': 70.25},\n",
       " {'contract': 'two_year', 'tenure': 72, 'monthlycharges': 21.15},\n",
       " {'contract': 'one_year', 'tenure': 44, 'monthlycharges': 59.85},\n",
       " {'contract': 'two_year', 'tenure': 72, 'monthlycharges': 24.55},\n",
       " {'contract': 'month-to-month', 'tenure': 1, 'monthlycharges': 74.7},\n",
       " {'contract': 'month-to-month', 'tenure': 16, 'monthlycharges': 80.75},\n",
       " {'contract': 'month-to-month', 'tenure': 11, 'monthlycharges': 99.55},\n",
       " {'contract': 'two_year', 'tenure': 64, 'monthlycharges': 60.05},\n",
       " {'contract': 'one_year', 'tenure': 22, 'monthlycharges': 78.65},\n",
       " {'contract': 'month-to-month', 'tenure': 15, 'monthlycharges': 87.75},\n",
       " {'contract': 'two_year', 'tenure': 13, 'monthlycharges': 19.55},\n",
       " {'contract': 'one_year', 'tenure': 48, 'monthlycharges': 24.55},\n",
       " {'contract': 'month-to-month', 'tenure': 15, 'monthlycharges': 75.35},\n",
       " {'contract': 'month-to-month', 'tenure': 26, 'monthlycharges': 95.0},\n",
       " {'contract': 'month-to-month', 'tenure': 40, 'monthlycharges': 101.85},\n",
       " {'contract': 'one_year', 'tenure': 31, 'monthlycharges': 93.8},\n",
       " {'contract': 'two_year', 'tenure': 66, 'monthlycharges': 47.4},\n",
       " {'contract': 'two_year', 'tenure': 72, 'monthlycharges': 109.7},\n",
       " {'contract': 'two_year', 'tenure': 52, 'monthlycharges': 63.9},\n",
       " {'contract': 'month-to-month', 'tenure': 2, 'monthlycharges': 45.85},\n",
       " {'contract': 'two_year', 'tenure': 71, 'monthlycharges': 23.9},\n",
       " {'contract': 'one_year', 'tenure': 42, 'monthlycharges': 73.9},\n",
       " {'contract': 'two_year', 'tenure': 62, 'monthlycharges': 39.0},\n",
       " {'contract': 'month-to-month', 'tenure': 2, 'monthlycharges': 50.2},\n",
       " {'contract': 'month-to-month', 'tenure': 34, 'monthlycharges': 69.15},\n",
       " {'contract': 'month-to-month', 'tenure': 11, 'monthlycharges': 79.0},\n",
       " {'contract': 'one_year', 'tenure': 61, 'monthlycharges': 49.7},\n",
       " {'contract': 'month-to-month', 'tenure': 3, 'monthlycharges': 20.2},\n",
       " {'contract': 'month-to-month', 'tenure': 1, 'monthlycharges': 20.4},\n",
       " {'contract': 'one_year', 'tenure': 40, 'monthlycharges': 62.05},\n",
       " {'contract': 'two_year', 'tenure': 46, 'monthlycharges': 108.9},\n",
       " {'contract': 'month-to-month', 'tenure': 1, 'monthlycharges': 47.95},\n",
       " {'contract': 'month-to-month', 'tenure': 12, 'monthlycharges': 69.85},\n",
       " {'contract': 'two_year', 'tenure': 72, 'monthlycharges': 83.7},\n",
       " {'contract': 'one_year', 'tenure': 41, 'monthlycharges': 78.35},\n",
       " {'contract': 'one_year', 'tenure': 38, 'monthlycharges': 70.6},\n",
       " {'contract': 'month-to-month', 'tenure': 3, 'monthlycharges': 80.1},\n",
       " {'contract': 'month-to-month', 'tenure': 18, 'monthlycharges': 95.45},\n",
       " {'contract': 'month-to-month', 'tenure': 31, 'monthlycharges': 83.85},\n",
       " {'contract': 'two_year', 'tenure': 58, 'monthlycharges': 71.6},\n",
       " {'contract': 'month-to-month', 'tenure': 18, 'monthlycharges': 50.0},\n",
       " {'contract': 'month-to-month', 'tenure': 20, 'monthlycharges': 55.0},\n",
       " {'contract': 'month-to-month', 'tenure': 7, 'monthlycharges': 25.05},\n",
       " {'contract': 'month-to-month', 'tenure': 46, 'monthlycharges': 80.0},\n",
       " {'contract': 'month-to-month', 'tenure': 14, 'monthlycharges': 78.1},\n",
       " {'contract': 'month-to-month', 'tenure': 1, 'monthlycharges': 80.15},\n",
       " {'contract': 'one_year', 'tenure': 55, 'monthlycharges': 19.5},\n",
       " {'contract': 'month-to-month', 'tenure': 11, 'monthlycharges': 70.5},\n",
       " {'contract': 'month-to-month', 'tenure': 8, 'monthlycharges': 54.65},\n",
       " {'contract': 'month-to-month', 'tenure': 29, 'monthlycharges': 78.9},\n",
       " {'contract': 'two_year', 'tenure': 70, 'monthlycharges': 76.95},\n",
       " {'contract': 'one_year', 'tenure': 29, 'monthlycharges': 35.6},\n",
       " {'contract': 'one_year', 'tenure': 38, 'monthlycharges': 19.3},\n",
       " {'contract': 'two_year', 'tenure': 57, 'monthlycharges': 20.75},\n",
       " {'contract': 'one_year', 'tenure': 11, 'monthlycharges': 61.25},\n",
       " {'contract': 'month-to-month', 'tenure': 23, 'monthlycharges': 90.0},\n",
       " {'contract': 'month-to-month', 'tenure': 41, 'monthlycharges': 74.25},\n",
       " {'contract': 'month-to-month', 'tenure': 3, 'monthlycharges': 20.05},\n",
       " {'contract': 'month-to-month', 'tenure': 45, 'monthlycharges': 95.95},\n",
       " {'contract': 'two_year', 'tenure': 70, 'monthlycharges': 110.2},\n",
       " {'contract': 'month-to-month', 'tenure': 1, 'monthlycharges': 50.9},\n",
       " {'contract': 'month-to-month', 'tenure': 3, 'monthlycharges': 55.9},\n",
       " {'contract': 'two_year', 'tenure': 63, 'monthlycharges': 83.5},\n",
       " {'contract': 'month-to-month', 'tenure': 5, 'monthlycharges': 20.35},\n",
       " {'contract': 'one_year', 'tenure': 29, 'monthlycharges': 19.85},\n",
       " {'contract': 'two_year', 'tenure': 72, 'monthlycharges': 107.5},\n",
       " {'contract': 'two_year', 'tenure': 71, 'monthlycharges': 58.25},\n",
       " {'contract': 'two_year', 'tenure': 18, 'monthlycharges': 20.05},\n",
       " {'contract': 'two_year', 'tenure': 3, 'monthlycharges': 19.1},\n",
       " {'contract': 'month-to-month', 'tenure': 4, 'monthlycharges': 74.35},\n",
       " {'contract': 'month-to-month', 'tenure': 2, 'monthlycharges': 55.3},\n",
       " {'contract': 'two_year', 'tenure': 60, 'monthlycharges': 61.4},\n",
       " {'contract': 'two_year', 'tenure': 72, 'monthlycharges': 69.65},\n",
       " {'contract': 'two_year', 'tenure': 68, 'monthlycharges': 85.0},\n",
       " {'contract': 'two_year', 'tenure': 38, 'monthlycharges': 60.0},\n",
       " {'contract': 'two_year', 'tenure': 58, 'monthlycharges': 20.8},\n",
       " {'contract': 'month-to-month', 'tenure': 6, 'monthlycharges': 105.3},\n",
       " {'contract': 'one_year', 'tenure': 52, 'monthlycharges': 57.95},\n",
       " {'contract': 'month-to-month', 'tenure': 19, 'monthlycharges': 89.95},\n",
       " {'contract': 'month-to-month', 'tenure': 8, 'monthlycharges': 60.9},\n",
       " {'contract': 'month-to-month', 'tenure': 1, 'monthlycharges': 19.1},\n",
       " {'contract': 'one_year', 'tenure': 37, 'monthlycharges': 104.5},\n",
       " {'contract': 'month-to-month', 'tenure': 6, 'monthlycharges': 60.9},\n",
       " {'contract': 'month-to-month', 'tenure': 1, 'monthlycharges': 19.95},\n",
       " {'contract': 'month-to-month', 'tenure': 3, 'monthlycharges': 73.85},\n",
       " {'contract': 'month-to-month', 'tenure': 2, 'monthlycharges': 30.4},\n",
       " {'contract': 'one_year', 'tenure': 43, 'monthlycharges': 100.55},\n",
       " {'contract': 'one_year', 'tenure': 43, 'monthlycharges': 84.25},\n",
       " {'contract': 'month-to-month', 'tenure': 14, 'monthlycharges': 80.35},\n",
       " {'contract': 'month-to-month', 'tenure': 3, 'monthlycharges': 69.55},\n",
       " {'contract': 'month-to-month', 'tenure': 10, 'monthlycharges': 19.85},\n",
       " {'contract': 'month-to-month', 'tenure': 12, 'monthlycharges': 19.7},\n",
       " {'contract': 'month-to-month', 'tenure': 5, 'monthlycharges': 85.55},\n",
       " {'contract': 'month-to-month', 'tenure': 67, 'monthlycharges': 102.95},\n",
       " {'contract': 'month-to-month', 'tenure': 11, 'monthlycharges': 86.2},\n",
       " {'contract': 'two_year', 'tenure': 68, 'monthlycharges': 84.7},\n",
       " {'contract': 'month-to-month', 'tenure': 34, 'monthlycharges': 97.65},\n",
       " {'contract': 'month-to-month', 'tenure': 2, 'monthlycharges': 54.4},\n",
       " {'contract': 'month-to-month', 'tenure': 44, 'monthlycharges': 85.15},\n",
       " {'contract': 'two_year', 'tenure': 71, 'monthlycharges': 64.05},\n",
       " {'contract': 'month-to-month', 'tenure': 10, 'monthlycharges': 72.15},\n",
       " {'contract': 'one_year', 'tenure': 30, 'monthlycharges': 68.95},\n",
       " {'contract': 'two_year', 'tenure': 43, 'monthlycharges': 78.8},\n",
       " {'contract': 'one_year', 'tenure': 32, 'monthlycharges': 19.3},\n",
       " {'contract': 'month-to-month', 'tenure': 1, 'monthlycharges': 70.55},\n",
       " {'contract': 'month-to-month', 'tenure': 11, 'monthlycharges': 20.25},\n",
       " {'contract': 'month-to-month', 'tenure': 29, 'monthlycharges': 99.05},\n",
       " {'contract': 'two_year', 'tenure': 0, 'monthlycharges': 20.25},\n",
       " {'contract': 'one_year', 'tenure': 19, 'monthlycharges': 100.0},\n",
       " {'contract': 'month-to-month', 'tenure': 40, 'monthlycharges': 102.65},\n",
       " {'contract': 'one_year', 'tenure': 28, 'monthlycharges': 90.1},\n",
       " {'contract': 'month-to-month', 'tenure': 27, 'monthlycharges': 19.15},\n",
       " {'contract': 'two_year', 'tenure': 22, 'monthlycharges': 25.25},\n",
       " {'contract': 'one_year', 'tenure': 69, 'monthlycharges': 73.7},\n",
       " {'contract': 'two_year', 'tenure': 52, 'monthlycharges': 58.75},\n",
       " {'contract': 'month-to-month', 'tenure': 3, 'monthlycharges': 20.5},\n",
       " {'contract': 'month-to-month', 'tenure': 16, 'monthlycharges': 98.75},\n",
       " {'contract': 'month-to-month', 'tenure': 71, 'monthlycharges': 107.5},\n",
       " {'contract': 'two_year', 'tenure': 72, 'monthlycharges': 102.65},\n",
       " {'contract': 'two_year', 'tenure': 6, 'monthlycharges': 19.65},\n",
       " {'contract': 'two_year', 'tenure': 70, 'monthlycharges': 75.35},\n",
       " {'contract': 'month-to-month', 'tenure': 1, 'monthlycharges': 20.65},\n",
       " {'contract': 'month-to-month', 'tenure': 18, 'monthlycharges': 74.15},\n",
       " {'contract': 'month-to-month', 'tenure': 5, 'monthlycharges': 85.4},\n",
       " {'contract': 'month-to-month', 'tenure': 1, 'monthlycharges': 20.2},\n",
       " {'contract': 'month-to-month', 'tenure': 12, 'monthlycharges': 98.1},\n",
       " {'contract': 'two_year', 'tenure': 72, 'monthlycharges': 42.1},\n",
       " {'contract': 'month-to-month', 'tenure': 6, 'monthlycharges': 47.95},\n",
       " {'contract': 'month-to-month', 'tenure': 1, 'monthlycharges': 85.0},\n",
       " {'contract': 'month-to-month', 'tenure': 26, 'monthlycharges': 78.8},\n",
       " {'contract': 'month-to-month', 'tenure': 33, 'monthlycharges': 100.0},\n",
       " {'contract': 'month-to-month', 'tenure': 31, 'monthlycharges': 73.9},\n",
       " {'contract': 'one_year', 'tenure': 23, 'monthlycharges': 19.3},\n",
       " {'contract': 'month-to-month', 'tenure': 1, 'monthlycharges': 75.5},\n",
       " {'contract': 'month-to-month', 'tenure': 15, 'monthlycharges': 83.05},\n",
       " {'contract': 'month-to-month', 'tenure': 14, 'monthlycharges': 71.0},\n",
       " {'contract': 'one_year', 'tenure': 43, 'monthlycharges': 60.4},\n",
       " {'contract': 'two_year', 'tenure': 64, 'monthlycharges': 19.45},\n",
       " {'contract': 'month-to-month', 'tenure': 19, 'monthlycharges': 49.6},\n",
       " {'contract': 'month-to-month', 'tenure': 59, 'monthlycharges': 89.75},\n",
       " {'contract': 'month-to-month', 'tenure': 3, 'monthlycharges': 57.55},\n",
       " {'contract': 'month-to-month', 'tenure': 15, 'monthlycharges': 64.65},\n",
       " {'contract': 'month-to-month', 'tenure': 7, 'monthlycharges': 84.35},\n",
       " {'contract': 'month-to-month', 'tenure': 7, 'monthlycharges': 20.35},\n",
       " {'contract': 'month-to-month', 'tenure': 37, 'monthlycharges': 76.5},\n",
       " {'contract': 'month-to-month', 'tenure': 2, 'monthlycharges': 70.3},\n",
       " {'contract': 'month-to-month', 'tenure': 21, 'monthlycharges': 69.1},\n",
       " {'contract': 'month-to-month', 'tenure': 19, 'monthlycharges': 88.8},\n",
       " {'contract': 'one_year', 'tenure': 66, 'monthlycharges': 63.85},\n",
       " {'contract': 'month-to-month', 'tenure': 4, 'monthlycharges': 60.4},\n",
       " {'contract': 'two_year', 'tenure': 69, 'monthlycharges': 109.95},\n",
       " {'contract': 'month-to-month', 'tenure': 8, 'monthlycharges': 100.15},\n",
       " {'contract': 'two_year', 'tenure': 69, 'monthlycharges': 112.55},\n",
       " {'contract': 'month-to-month', 'tenure': 2, 'monthlycharges': 50.3},\n",
       " {'contract': 'month-to-month', 'tenure': 1, 'monthlycharges': 45.95},\n",
       " {'contract': 'two_year', 'tenure': 55, 'monthlycharges': 59.2},\n",
       " {'contract': 'one_year', 'tenure': 18, 'monthlycharges': 20.1},\n",
       " {'contract': 'one_year', 'tenure': 64, 'monthlycharges': 58.35},\n",
       " {'contract': 'month-to-month', 'tenure': 6, 'monthlycharges': 55.0},\n",
       " {'contract': 'two_year', 'tenure': 69, 'monthlycharges': 99.15},\n",
       " {'contract': 'one_year', 'tenure': 40, 'monthlycharges': 70.75},\n",
       " {'contract': 'month-to-month', 'tenure': 30, 'monthlycharges': 90.05},\n",
       " {'contract': 'two_year', 'tenure': 72, 'monthlycharges': 64.8},\n",
       " {'contract': 'two_year', 'tenure': 25, 'monthlycharges': 20.1},\n",
       " {'contract': 'two_year', 'tenure': 50, 'monthlycharges': 109.65},\n",
       " {'contract': 'month-to-month', 'tenure': 5, 'monthlycharges': 80.15},\n",
       " {'contract': 'month-to-month', 'tenure': 30, 'monthlycharges': 101.3},\n",
       " {'contract': 'two_year', 'tenure': 41, 'monthlycharges': 20.65},\n",
       " {'contract': 'month-to-month', 'tenure': 56, 'monthlycharges': 105.35},\n",
       " {'contract': 'one_year', 'tenure': 70, 'monthlycharges': 58.4},\n",
       " {'contract': 'month-to-month', 'tenure': 7, 'monthlycharges': 20.65},\n",
       " {'contract': 'month-to-month', 'tenure': 1, 'monthlycharges': 20.3},\n",
       " {'contract': 'one_year', 'tenure': 38, 'monthlycharges': 84.1},\n",
       " {'contract': 'month-to-month', 'tenure': 23, 'monthlycharges': 79.15},\n",
       " {'contract': 'two_year', 'tenure': 72, 'monthlycharges': 25.1},\n",
       " {'contract': 'month-to-month', 'tenure': 5, 'monthlycharges': 75.15},\n",
       " {'contract': 'month-to-month', 'tenure': 20, 'monthlycharges': 80.7},\n",
       " {'contract': 'month-to-month', 'tenure': 9, 'monthlycharges': 85.05},\n",
       " {'contract': 'month-to-month', 'tenure': 29, 'monthlycharges': 74.95},\n",
       " {'contract': 'month-to-month', 'tenure': 11, 'monthlycharges': 59.65},\n",
       " {'contract': 'month-to-month', 'tenure': 51, 'monthlycharges': 80.75},\n",
       " {'contract': 'month-to-month', 'tenure': 2, 'monthlycharges': 44.9},\n",
       " {'contract': 'month-to-month', 'tenure': 39, 'monthlycharges': 99.75},\n",
       " {'contract': 'month-to-month', 'tenure': 26, 'monthlycharges': 49.5},\n",
       " {'contract': 'month-to-month', 'tenure': 6, 'monthlycharges': 19.7},\n",
       " {'contract': 'two_year', 'tenure': 57, 'monthlycharges': 59.75},\n",
       " {'contract': 'month-to-month', 'tenure': 4, 'monthlycharges': 100.2},\n",
       " {'contract': 'month-to-month', 'tenure': 3, 'monthlycharges': 29.6},\n",
       " {'contract': 'one_year', 'tenure': 28, 'monthlycharges': 100.35},\n",
       " {'contract': 'one_year', 'tenure': 32, 'monthlycharges': 70.5},\n",
       " {'contract': 'one_year', 'tenure': 36, 'monthlycharges': 20.35},\n",
       " {'contract': 'month-to-month', 'tenure': 27, 'monthlycharges': 50.35},\n",
       " {'contract': 'month-to-month', 'tenure': 3, 'monthlycharges': 69.15},\n",
       " {'contract': 'two_year', 'tenure': 62, 'monthlycharges': 84.5},\n",
       " {'contract': 'one_year', 'tenure': 49, 'monthlycharges': 20.45},\n",
       " {'contract': 'month-to-month', 'tenure': 19, 'monthlycharges': 59.55},\n",
       " {'contract': 'month-to-month', 'tenure': 5, 'monthlycharges': 45.4},\n",
       " {'contract': 'month-to-month', 'tenure': 1, 'monthlycharges': 89.35},\n",
       " {'contract': 'month-to-month', 'tenure': 3, 'monthlycharges': 23.6},\n",
       " {'contract': 'month-to-month', 'tenure': 10, 'monthlycharges': 20.55},\n",
       " {'contract': 'one_year', 'tenure': 33, 'monthlycharges': 79.15},\n",
       " {'contract': 'month-to-month', 'tenure': 14, 'monthlycharges': 25.55},\n",
       " {'contract': 'month-to-month', 'tenure': 61, 'monthlycharges': 82.15},\n",
       " {'contract': 'month-to-month', 'tenure': 1, 'monthlycharges': 25.0},\n",
       " {'contract': 'month-to-month', 'tenure': 1, 'monthlycharges': 55.7},\n",
       " {'contract': 'month-to-month', 'tenure': 18, 'monthlycharges': 75.9},\n",
       " {'contract': 'month-to-month', 'tenure': 60, 'monthlycharges': 99.8},\n",
       " {'contract': 'month-to-month', 'tenure': 7, 'monthlycharges': 85.2},\n",
       " {'contract': 'one_year', 'tenure': 15, 'monthlycharges': 20.1},\n",
       " {'contract': 'month-to-month', 'tenure': 1, 'monthlycharges': 24.4},\n",
       " {'contract': 'one_year', 'tenure': 17, 'monthlycharges': 44.45},\n",
       " {'contract': 'two_year', 'tenure': 72, 'monthlycharges': 83.3},\n",
       " {'contract': 'month-to-month', 'tenure': 39, 'monthlycharges': 81.5},\n",
       " {'contract': 'month-to-month', 'tenure': 7, 'monthlycharges': 94.7},\n",
       " {'contract': 'one_year', 'tenure': 30, 'monthlycharges': 85.35},\n",
       " {'contract': 'month-to-month', 'tenure': 32, 'monthlycharges': 69.75},\n",
       " {'contract': 'two_year', 'tenure': 58, 'monthlycharges': 70.1},\n",
       " {'contract': 'one_year', 'tenure': 68, 'monthlycharges': 75.8},\n",
       " {'contract': 'two_year', 'tenure': 64, 'monthlycharges': 68.3},\n",
       " {'contract': 'two_year', 'tenure': 35, 'monthlycharges': 69.15},\n",
       " {'contract': 'two_year', 'tenure': 72, 'monthlycharges': 65.65},\n",
       " {'contract': 'two_year', 'tenure': 72, 'monthlycharges': 91.15},\n",
       " {'contract': 'month-to-month', 'tenure': 2, 'monthlycharges': 74.4},\n",
       " {'contract': 'two_year', 'tenure': 66, 'monthlycharges': 56.75},\n",
       " {'contract': 'two_year', 'tenure': 65, 'monthlycharges': 74.8},\n",
       " {'contract': 'one_year', 'tenure': 61, 'monthlycharges': 115.1},\n",
       " {'contract': 'month-to-month', 'tenure': 17, 'monthlycharges': 83.55},\n",
       " {'contract': 'month-to-month', 'tenure': 1, 'monthlycharges': 25.75},\n",
       " {'contract': 'one_year', 'tenure': 38, 'monthlycharges': 24.25},\n",
       " {'contract': 'month-to-month', 'tenure': 22, 'monthlycharges': 55.1},\n",
       " {'contract': 'month-to-month', 'tenure': 1, 'monthlycharges': 25.3},\n",
       " {'contract': 'month-to-month', 'tenure': 21, 'monthlycharges': 44.95},\n",
       " {'contract': 'one_year', 'tenure': 68, 'monthlycharges': 76.9},\n",
       " {'contract': 'month-to-month', 'tenure': 39, 'monthlycharges': 50.65},\n",
       " {'contract': 'month-to-month', 'tenure': 35, 'monthlycharges': 55.0},\n",
       " {'contract': 'two_year', 'tenure': 52, 'monthlycharges': 66.25},\n",
       " {'contract': 'two_year', 'tenure': 71, 'monthlycharges': 104.15},\n",
       " {'contract': 'month-to-month', 'tenure': 1, 'monthlycharges': 59.2},\n",
       " {'contract': 'month-to-month', 'tenure': 43, 'monthlycharges': 103.0},\n",
       " {'contract': 'one_year', 'tenure': 72, 'monthlycharges': 104.45},\n",
       " {'contract': 'two_year', 'tenure': 8, 'monthlycharges': 19.85},\n",
       " {'contract': 'one_year', 'tenure': 34, 'monthlycharges': 99.85},\n",
       " {'contract': 'month-to-month', 'tenure': 1, 'monthlycharges': 20.0},\n",
       " {'contract': 'two_year', 'tenure': 72, 'monthlycharges': 108.3},\n",
       " {'contract': 'one_year', 'tenure': 11, 'monthlycharges': 64.9},\n",
       " {'contract': 'one_year', 'tenure': 16, 'monthlycharges': 55.85},\n",
       " {'contract': 'month-to-month', 'tenure': 45, 'monthlycharges': 100.85},\n",
       " {'contract': 'month-to-month', 'tenure': 16, 'monthlycharges': 89.05},\n",
       " {'contract': 'month-to-month', 'tenure': 37, 'monthlycharges': 72.25},\n",
       " {'contract': 'month-to-month', 'tenure': 16, 'monthlycharges': 20.6},\n",
       " {'contract': 'one_year', 'tenure': 25, 'monthlycharges': 19.9},\n",
       " {'contract': 'one_year', 'tenure': 10, 'monthlycharges': 49.55},\n",
       " {'contract': 'one_year', 'tenure': 26, 'monthlycharges': 61.55},\n",
       " {'contract': 'month-to-month', 'tenure': 42, 'monthlycharges': 101.75},\n",
       " {'contract': 'two_year', 'tenure': 45, 'monthlycharges': 24.45},\n",
       " {'contract': 'month-to-month', 'tenure': 47, 'monthlycharges': 106.4},\n",
       " {'contract': 'one_year', 'tenure': 40, 'monthlycharges': 105.75},\n",
       " {'contract': 'month-to-month', 'tenure': 17, 'monthlycharges': 82.65},\n",
       " {'contract': 'month-to-month', 'tenure': 2, 'monthlycharges': 24.45},\n",
       " {'contract': 'one_year', 'tenure': 23, 'monthlycharges': 81.85},\n",
       " {'contract': 'two_year', 'tenure': 53, 'monthlycharges': 19.85},\n",
       " {'contract': 'month-to-month', 'tenure': 5, 'monthlycharges': 80.1},\n",
       " {'contract': 'two_year', 'tenure': 72, 'monthlycharges': 73.0},\n",
       " {'contract': 'one_year', 'tenure': 44, 'monthlycharges': 94.4},\n",
       " {'contract': 'month-to-month', 'tenure': 16, 'monthlycharges': 19.6},\n",
       " {'contract': 'two_year', 'tenure': 71, 'monthlycharges': 114.6},\n",
       " {'contract': 'two_year', 'tenure': 63, 'monthlycharges': 75.55},\n",
       " {'contract': 'two_year', 'tenure': 70, 'monthlycharges': 25.15},\n",
       " {'contract': 'month-to-month', 'tenure': 19, 'monthlycharges': 105.0},\n",
       " {'contract': 'two_year', 'tenure': 58, 'monthlycharges': 109.45},\n",
       " {'contract': 'month-to-month', 'tenure': 41, 'monthlycharges': 94.55},\n",
       " {'contract': 'month-to-month', 'tenure': 9, 'monthlycharges': 70.05},\n",
       " {'contract': 'one_year', 'tenure': 44, 'monthlycharges': 54.3},\n",
       " {'contract': 'two_year', 'tenure': 72, 'monthlycharges': 89.85},\n",
       " {'contract': 'two_year', 'tenure': 62, 'monthlycharges': 113.95},\n",
       " {'contract': 'one_year', 'tenure': 41, 'monthlycharges': 89.55},\n",
       " {'contract': 'month-to-month', 'tenure': 43, 'monthlycharges': 50.2},\n",
       " {'contract': 'month-to-month', 'tenure': 20, 'monthlycharges': 25.55},\n",
       " {'contract': 'month-to-month', 'tenure': 8, 'monthlycharges': 45.45},\n",
       " {'contract': 'one_year', 'tenure': 60, 'monthlycharges': 44.45},\n",
       " {'contract': 'one_year', 'tenure': 35, 'monthlycharges': 21.1},\n",
       " {'contract': 'one_year', 'tenure': 45, 'monthlycharges': 51.0},\n",
       " {'contract': 'month-to-month', 'tenure': 2, 'monthlycharges': 75.55},\n",
       " {'contract': 'two_year', 'tenure': 66, 'monthlycharges': 105.65},\n",
       " {'contract': 'month-to-month', 'tenure': 3, 'monthlycharges': 74.55},\n",
       " {'contract': 'one_year', 'tenure': 60, 'monthlycharges': 50.05},\n",
       " {'contract': 'month-to-month', 'tenure': 10, 'monthlycharges': 65.5},\n",
       " {'contract': 'month-to-month', 'tenure': 50, 'monthlycharges': 104.95},\n",
       " {'contract': 'month-to-month', 'tenure': 19, 'monthlycharges': 83.65},\n",
       " {'contract': 'one_year', 'tenure': 64, 'monthlycharges': 108.5},\n",
       " {'contract': 'month-to-month', 'tenure': 7, 'monthlycharges': 69.15},\n",
       " {'contract': 'two_year', 'tenure': 51, 'monthlycharges': 34.2},\n",
       " {'contract': 'one_year', 'tenure': 37, 'monthlycharges': 99.2},\n",
       " {'contract': 'month-to-month', 'tenure': 10, 'monthlycharges': 84.7},\n",
       " {'contract': 'two_year', 'tenure': 70, 'monthlycharges': 114.6},\n",
       " {'contract': 'month-to-month', 'tenure': 5, 'monthlycharges': 88.9},\n",
       " {'contract': 'month-to-month', 'tenure': 64, 'monthlycharges': 108.95},\n",
       " {'contract': 'one_year', 'tenure': 62, 'monthlycharges': 103.75},\n",
       " {'contract': 'month-to-month', 'tenure': 1, 'monthlycharges': 88.35},\n",
       " {'contract': 'one_year', 'tenure': 20, 'monthlycharges': 20.0},\n",
       " {'contract': 'two_year', 'tenure': 72, 'monthlycharges': 99.15},\n",
       " {'contract': 'month-to-month', 'tenure': 2, 'monthlycharges': 19.65},\n",
       " {'contract': 'month-to-month', 'tenure': 66, 'monthlycharges': 105.2},\n",
       " {'contract': 'month-to-month', 'tenure': 19, 'monthlycharges': 55.0},\n",
       " {'contract': 'month-to-month', 'tenure': 1, 'monthlycharges': 44.35},\n",
       " {'contract': 'one_year', 'tenure': 24, 'monthlycharges': 57.6},\n",
       " {'contract': 'month-to-month', 'tenure': 16, 'monthlycharges': 88.45},\n",
       " {'contract': 'month-to-month', 'tenure': 6, 'monthlycharges': 55.15},\n",
       " {'contract': 'month-to-month', 'tenure': 15, 'monthlycharges': 101.1},\n",
       " {'contract': 'two_year', 'tenure': 72, 'monthlycharges': 110.6},\n",
       " {'contract': 'two_year', 'tenure': 70, 'monthlycharges': 19.8},\n",
       " {'contract': 'month-to-month', 'tenure': 2, 'monthlycharges': 93.85},\n",
       " {'contract': 'month-to-month', 'tenure': 15, 'monthlycharges': 46.3},\n",
       " {'contract': 'one_year', 'tenure': 33, 'monthlycharges': 20.1},\n",
       " {'contract': 'month-to-month', 'tenure': 14, 'monthlycharges': 90.9},\n",
       " {'contract': 'month-to-month', 'tenure': 23, 'monthlycharges': 79.35},\n",
       " {'contract': 'month-to-month', 'tenure': 9, 'monthlycharges': 20.15},\n",
       " {'contract': 'one_year', 'tenure': 60, 'monthlycharges': 106.0},\n",
       " {'contract': 'one_year', 'tenure': 32, 'monthlycharges': 109.55},\n",
       " {'contract': 'month-to-month', 'tenure': 23, 'monthlycharges': 49.7},\n",
       " {'contract': 'one_year', 'tenure': 50, 'monthlycharges': 19.35},\n",
       " {'contract': 'two_year', 'tenure': 72, 'monthlycharges': 86.6},\n",
       " {'contract': 'month-to-month', 'tenure': 9, 'monthlycharges': 79.9},\n",
       " {'contract': 'month-to-month', 'tenure': 3, 'monthlycharges': 77.0},\n",
       " {'contract': 'two_year', 'tenure': 72, 'monthlycharges': 66.75},\n",
       " {'contract': 'month-to-month', 'tenure': 11, 'monthlycharges': 51.0},\n",
       " {'contract': 'one_year', 'tenure': 39, 'monthlycharges': 89.55},\n",
       " {'contract': 'month-to-month', 'tenure': 3, 'monthlycharges': 79.1},\n",
       " {'contract': 'month-to-month', 'tenure': 1, 'monthlycharges': 75.3},\n",
       " {'contract': 'month-to-month', 'tenure': 4, 'monthlycharges': 81.0},\n",
       " {'contract': 'month-to-month', 'tenure': 2, 'monthlycharges': 45.35},\n",
       " {'contract': 'two_year', 'tenure': 66, 'monthlycharges': 25.3},\n",
       " {'contract': 'two_year', 'tenure': 72, 'monthlycharges': 24.45},\n",
       " {'contract': 'month-to-month', 'tenure': 7, 'monthlycharges': 86.5},\n",
       " {'contract': 'month-to-month', 'tenure': 17, 'monthlycharges': 35.65},\n",
       " {'contract': 'month-to-month', 'tenure': 31, 'monthlycharges': 93.8},\n",
       " {'contract': 'one_year', 'tenure': 46, 'monthlycharges': 24.95},\n",
       " {'contract': 'month-to-month', 'tenure': 2, 'monthlycharges': 72.6},\n",
       " {'contract': 'month-to-month', 'tenure': 4, 'monthlycharges': 20.45},\n",
       " {'contract': 'month-to-month', 'tenure': 2, 'monthlycharges': 70.35},\n",
       " {'contract': 'month-to-month', 'tenure': 41, 'monthlycharges': 113.2},\n",
       " {'contract': 'month-to-month', 'tenure': 13, 'monthlycharges': 94.1},\n",
       " {'contract': 'month-to-month', 'tenure': 60, 'monthlycharges': 80.95},\n",
       " {'contract': 'month-to-month', 'tenure': 2, 'monthlycharges': 80.75},\n",
       " {'contract': 'month-to-month', 'tenure': 1, 'monthlycharges': 86.6},\n",
       " {'contract': 'month-to-month', 'tenure': 1, 'monthlycharges': 24.05},\n",
       " {'contract': 'month-to-month', 'tenure': 27, 'monthlycharges': 95.55},\n",
       " {'contract': 'one_year', 'tenure': 32, 'monthlycharges': 19.8},\n",
       " {'contract': 'one_year', 'tenure': 2, 'monthlycharges': 20.3},\n",
       " {'contract': 'one_year', 'tenure': 16, 'monthlycharges': 20.1},\n",
       " {'contract': 'one_year', 'tenure': 52, 'monthlycharges': 64.3},\n",
       " {'contract': 'month-to-month', 'tenure': 1, 'monthlycharges': 70.5},\n",
       " {'contract': 'two_year', 'tenure': 72, 'monthlycharges': 116.95},\n",
       " {'contract': 'month-to-month', 'tenure': 20, 'monthlycharges': 69.8},\n",
       " {'contract': 'month-to-month', 'tenure': 23, 'monthlycharges': 90.6},\n",
       " {'contract': 'one_year', 'tenure': 23, 'monthlycharges': 64.9},\n",
       " {'contract': 'month-to-month', 'tenure': 15, 'monthlycharges': 99.1},\n",
       " {'contract': 'month-to-month', 'tenure': 52, 'monthlycharges': 83.8},\n",
       " {'contract': 'two_year', 'tenure': 72, 'monthlycharges': 19.55},\n",
       " {'contract': 'two_year', 'tenure': 16, 'monthlycharges': 19.75},\n",
       " {'contract': 'month-to-month', 'tenure': 49, 'monthlycharges': 93.85},\n",
       " {'contract': 'two_year', 'tenure': 35, 'monthlycharges': 20.2},\n",
       " {'contract': 'one_year', 'tenure': 13, 'monthlycharges': 24.5},\n",
       " {'contract': 'two_year', 'tenure': 29, 'monthlycharges': 26.1},\n",
       " {'contract': 'month-to-month', 'tenure': 58, 'monthlycharges': 66.8},\n",
       " {'contract': 'month-to-month', 'tenure': 9, 'monthlycharges': 66.25},\n",
       " {'contract': 'month-to-month', 'tenure': 1, 'monthlycharges': 44.1},\n",
       " {'contract': 'month-to-month', 'tenure': 2, 'monthlycharges': 91.45},\n",
       " {'contract': 'month-to-month', 'tenure': 49, 'monthlycharges': 90.85},\n",
       " {'contract': 'month-to-month', 'tenure': 26, 'monthlycharges': 93.6},\n",
       " {'contract': 'month-to-month', 'tenure': 1, 'monthlycharges': 55.45},\n",
       " {'contract': 'month-to-month', 'tenure': 10, 'monthlycharges': 75.75},\n",
       " {'contract': 'month-to-month', 'tenure': 2, 'monthlycharges': 20.3},\n",
       " {'contract': 'one_year', 'tenure': 49, 'monthlycharges': 103.0},\n",
       " {'contract': 'one_year', 'tenure': 39, 'monthlycharges': 81.9},\n",
       " {'contract': 'two_year', 'tenure': 70, 'monthlycharges': 104.0},\n",
       " {'contract': 'one_year', 'tenure': 28, 'monthlycharges': 54.4},\n",
       " {'contract': 'one_year', 'tenure': 62, 'monthlycharges': 110.8},\n",
       " {'contract': 'one_year', 'tenure': 71, 'monthlycharges': 85.45},\n",
       " {'contract': 'one_year', 'tenure': 53, 'monthlycharges': 94.45},\n",
       " {'contract': 'month-to-month', 'tenure': 4, 'monthlycharges': 74.65},\n",
       " {'contract': 'two_year', 'tenure': 72, 'monthlycharges': 82.65},\n",
       " {'contract': 'month-to-month', 'tenure': 1, 'monthlycharges': 74.35},\n",
       " {'contract': 'month-to-month', 'tenure': 47, 'monthlycharges': 90.05},\n",
       " {'contract': 'one_year', 'tenure': 43, 'monthlycharges': 80.2},\n",
       " {'contract': 'month-to-month', 'tenure': 7, 'monthlycharges': 25.05},\n",
       " {'contract': 'two_year', 'tenure': 56, 'monthlycharges': 85.65},\n",
       " {'contract': 'month-to-month', 'tenure': 11, 'monthlycharges': 111.4},\n",
       " {'contract': 'one_year', 'tenure': 29, 'monthlycharges': 39.5},\n",
       " {'contract': 'one_year', 'tenure': 22, 'monthlycharges': 69.5},\n",
       " {'contract': 'one_year', 'tenure': 23, 'monthlycharges': 73.75},\n",
       " {'contract': 'month-to-month', 'tenure': 13, 'monthlycharges': 80.5},\n",
       " {'contract': 'two_year', 'tenure': 64, 'monthlycharges': 86.55},\n",
       " {'contract': 'month-to-month', 'tenure': 62, 'monthlycharges': 90.7},\n",
       " {'contract': 'one_year', 'tenure': 15, 'monthlycharges': 19.65},\n",
       " {'contract': 'month-to-month', 'tenure': 17, 'monthlycharges': 75.4},\n",
       " {'contract': 'two_year', 'tenure': 72, 'monthlycharges': 113.1},\n",
       " {'contract': 'month-to-month', 'tenure': 7, 'monthlycharges': 95.35},\n",
       " {'contract': 'month-to-month', 'tenure': 2, 'monthlycharges': 55.05},\n",
       " {'contract': 'two_year', 'tenure': 56, 'monthlycharges': 75.85},\n",
       " {'contract': 'month-to-month', 'tenure': 6, 'monthlycharges': 19.7},\n",
       " {'contract': 'two_year', 'tenure': 64, 'monthlycharges': 69.25},\n",
       " {'contract': 'month-to-month', 'tenure': 17, 'monthlycharges': 81.5},\n",
       " {'contract': 'month-to-month', 'tenure': 1, 'monthlycharges': 19.65},\n",
       " {'contract': 'month-to-month', 'tenure': 51, 'monthlycharges': 83.4},\n",
       " {'contract': 'two_year', 'tenure': 72, 'monthlycharges': 109.65},\n",
       " {'contract': 'one_year', 'tenure': 11, 'monthlycharges': 53.8},\n",
       " {'contract': 'two_year', 'tenure': 72, 'monthlycharges': 106.1},\n",
       " {'contract': 'month-to-month', 'tenure': 37, 'monthlycharges': 19.35},\n",
       " {'contract': 'month-to-month', 'tenure': 35, 'monthlycharges': 70.3},\n",
       " {'contract': 'month-to-month', 'tenure': 66, 'monthlycharges': 99.5},\n",
       " {'contract': 'month-to-month', 'tenure': 15, 'monthlycharges': 101.75},\n",
       " {'contract': 'month-to-month', 'tenure': 7, 'monthlycharges': 100.4},\n",
       " {'contract': 'month-to-month', 'tenure': 49, 'monthlycharges': 100.85},\n",
       " {'contract': 'month-to-month', 'tenure': 2, 'monthlycharges': 70.65},\n",
       " {'contract': 'one_year', 'tenure': 17, 'monthlycharges': 20.65},\n",
       " {'contract': 'month-to-month', 'tenure': 28, 'monthlycharges': 94.5},\n",
       " {'contract': 'one_year', 'tenure': 41, 'monthlycharges': 24.85},\n",
       " {'contract': 'month-to-month', 'tenure': 24, 'monthlycharges': 104.65},\n",
       " {'contract': 'two_year', 'tenure': 69, 'monthlycharges': 79.2},\n",
       " {'contract': 'one_year', 'tenure': 35, 'monthlycharges': 102.35},\n",
       " {'contract': 'one_year', 'tenure': 44, 'monthlycharges': 20.5},\n",
       " {'contract': 'month-to-month', 'tenure': 32, 'monthlycharges': 96.2},\n",
       " {'contract': 'two_year', 'tenure': 72, 'monthlycharges': 90.8},\n",
       " {'contract': 'month-to-month', 'tenure': 1, 'monthlycharges': 74.0},\n",
       " {'contract': 'one_year', 'tenure': 18, 'monthlycharges': 20.35},\n",
       " {'contract': 'one_year', 'tenure': 58, 'monthlycharges': 89.85},\n",
       " {'contract': 'month-to-month', 'tenure': 15, 'monthlycharges': 19.75},\n",
       " {'contract': 'two_year', 'tenure': 72, 'monthlycharges': 84.4},\n",
       " {'contract': 'two_year', 'tenure': 70, 'monthlycharges': 84.8},\n",
       " {'contract': 'month-to-month', 'tenure': 1, 'monthlycharges': 19.55},\n",
       " {'contract': 'one_year', 'tenure': 23, 'monthlycharges': 24.8},\n",
       " {'contract': 'month-to-month', 'tenure': 6, 'monthlycharges': 94.5},\n",
       " {'contract': 'month-to-month', 'tenure': 28, 'monthlycharges': 85.45},\n",
       " {'contract': 'two_year', 'tenure': 54, 'monthlycharges': 79.95},\n",
       " {'contract': 'two_year', 'tenure': 71, 'monthlycharges': 54.5},\n",
       " {'contract': 'one_year', 'tenure': 39, 'monthlycharges': 45.05},\n",
       " {'contract': 'one_year', 'tenure': 67, 'monthlycharges': 111.3},\n",
       " {'contract': 'month-to-month', 'tenure': 10, 'monthlycharges': 24.4},\n",
       " {'contract': 'month-to-month', 'tenure': 1, 'monthlycharges': 71.55},\n",
       " {'contract': 'two_year', 'tenure': 45, 'monthlycharges': 95.2},\n",
       " {'contract': 'two_year', 'tenure': 48, 'monthlycharges': 20.0},\n",
       " {'contract': 'month-to-month', 'tenure': 12, 'monthlycharges': 94.55},\n",
       " {'contract': 'one_year', 'tenure': 28, 'monthlycharges': 50.8},\n",
       " {'contract': 'two_year', 'tenure': 6, 'monthlycharges': 20.4},\n",
       " {'contract': 'one_year', 'tenure': 43, 'monthlycharges': 56.35},\n",
       " {'contract': 'month-to-month', 'tenure': 33, 'monthlycharges': 105.35},\n",
       " {'contract': 'month-to-month', 'tenure': 1, 'monthlycharges': 20.2},\n",
       " {'contract': 'month-to-month', 'tenure': 27, 'monthlycharges': 36.5},\n",
       " {'contract': 'month-to-month', 'tenure': 9, 'monthlycharges': 88.05},\n",
       " {'contract': 'one_year', 'tenure': 36, 'monthlycharges': 70.7},\n",
       " {'contract': 'two_year', 'tenure': 52, 'monthlycharges': 91.6},\n",
       " {'contract': 'month-to-month', 'tenure': 7, 'monthlycharges': 66.85},\n",
       " {'contract': 'month-to-month', 'tenure': 27, 'monthlycharges': 81.3},\n",
       " {'contract': 'month-to-month', 'tenure': 10, 'monthlycharges': 55.55},\n",
       " {'contract': 'month-to-month', 'tenure': 11, 'monthlycharges': 51.1},\n",
       " {'contract': 'two_year', 'tenure': 71, 'monthlycharges': 25.45},\n",
       " {'contract': 'one_year', 'tenure': 48, 'monthlycharges': 99.0},\n",
       " {'contract': 'month-to-month', 'tenure': 4, 'monthlycharges': 19.0},\n",
       " {'contract': 'month-to-month', 'tenure': 57, 'monthlycharges': 55.0},\n",
       " {'contract': 'month-to-month', 'tenure': 1, 'monthlycharges': 20.4},\n",
       " {'contract': 'two_year', 'tenure': 49, 'monthlycharges': 20.15},\n",
       " {'contract': 'month-to-month', 'tenure': 35, 'monthlycharges': 59.45},\n",
       " {'contract': 'two_year', 'tenure': 8, 'monthlycharges': 19.7},\n",
       " {'contract': 'month-to-month', 'tenure': 2, 'monthlycharges': 20.35},\n",
       " {'contract': 'month-to-month', 'tenure': 6, 'monthlycharges': 19.85},\n",
       " {'contract': 'one_year', 'tenure': 63, 'monthlycharges': 70.8},\n",
       " {'contract': 'two_year', 'tenure': 67, 'monthlycharges': 103.15},\n",
       " {'contract': 'two_year', 'tenure': 47, 'monthlycharges': 65.0},\n",
       " {'contract': 'two_year', 'tenure': 37, 'monthlycharges': 62.8},\n",
       " {'contract': 'two_year', 'tenure': 69, 'monthlycharges': 20.3},\n",
       " {'contract': 'two_year', 'tenure': 72, 'monthlycharges': 109.75},\n",
       " {'contract': 'one_year', 'tenure': 15, 'monthlycharges': 101.9},\n",
       " {'contract': 'month-to-month', 'tenure': 33, 'monthlycharges': 91.25},\n",
       " {'contract': 'two_year', 'tenure': 67, 'monthlycharges': 92.45},\n",
       " {'contract': 'month-to-month', 'tenure': 17, 'monthlycharges': 80.5},\n",
       " {'contract': 'month-to-month', 'tenure': 15, 'monthlycharges': 76.5},\n",
       " {'contract': 'two_year', 'tenure': 54, 'monthlycharges': 19.65},\n",
       " {'contract': 'two_year', 'tenure': 67, 'monthlycharges': 111.2},\n",
       " {'contract': 'month-to-month', 'tenure': 6, 'monthlycharges': 89.5},\n",
       " {'contract': 'month-to-month', 'tenure': 9, 'monthlycharges': 84.45},\n",
       " {'contract': 'month-to-month', 'tenure': 2, 'monthlycharges': 49.95},\n",
       " {'contract': 'month-to-month', 'tenure': 17, 'monthlycharges': 70.8},\n",
       " {'contract': 'one_year', 'tenure': 48, 'monthlycharges': 78.75},\n",
       " {'contract': 'month-to-month', 'tenure': 6, 'monthlycharges': 69.8},\n",
       " {'contract': 'one_year', 'tenure': 10, 'monthlycharges': 20.1},\n",
       " {'contract': 'two_year', 'tenure': 72, 'monthlycharges': 67.8},\n",
       " {'contract': 'one_year', 'tenure': 56, 'monthlycharges': 24.3},\n",
       " {'contract': 'two_year', 'tenure': 30, 'monthlycharges': 19.4},\n",
       " {'contract': 'two_year', 'tenure': 43, 'monthlycharges': 115.05},\n",
       " {'contract': 'month-to-month', 'tenure': 50, 'monthlycharges': 70.35},\n",
       " {'contract': 'two_year', 'tenure': 47, 'monthlycharges': 21.3},\n",
       " {'contract': 'one_year', 'tenure': 33, 'monthlycharges': 58.45},\n",
       " {'contract': 'month-to-month', 'tenure': 28, 'monthlycharges': 91.0},\n",
       " {'contract': 'month-to-month', 'tenure': 1, 'monthlycharges': 70.45},\n",
       " {'contract': 'month-to-month', 'tenure': 5, 'monthlycharges': 78.75},\n",
       " {'contract': 'one_year', 'tenure': 63, 'monthlycharges': 90.45},\n",
       " {'contract': 'month-to-month', 'tenure': 1, 'monthlycharges': 69.1},\n",
       " {'contract': 'month-to-month', 'tenure': 31, 'monthlycharges': 54.35},\n",
       " {'contract': 'month-to-month', 'tenure': 21, 'monthlycharges': 86.05},\n",
       " {'contract': 'month-to-month', 'tenure': 29, 'monthlycharges': 67.45},\n",
       " {'contract': 'month-to-month', 'tenure': 27, 'monthlycharges': 104.3},\n",
       " {'contract': 'one_year', 'tenure': 41, 'monthlycharges': 51.35},\n",
       " {'contract': 'two_year', 'tenure': 65, 'monthlycharges': 108.65},\n",
       " {'contract': 'month-to-month', 'tenure': 6, 'monthlycharges': 20.0},\n",
       " {'contract': 'month-to-month', 'tenure': 53, 'monthlycharges': 108.25},\n",
       " {'contract': 'month-to-month', 'tenure': 1, 'monthlycharges': 20.05},\n",
       " {'contract': 'month-to-month', 'tenure': 8, 'monthlycharges': 73.5},\n",
       " {'contract': 'two_year', 'tenure': 60, 'monthlycharges': 19.65},\n",
       " {'contract': 'month-to-month', 'tenure': 1, 'monthlycharges': 89.9},\n",
       " {'contract': 'month-to-month', 'tenure': 1, 'monthlycharges': 90.55},\n",
       " {'contract': 'two_year', 'tenure': 63, 'monthlycharges': 63.55},\n",
       " {'contract': 'month-to-month', 'tenure': 2, 'monthlycharges': 78.55},\n",
       " {'contract': 'two_year', 'tenure': 71, 'monthlycharges': 100.5},\n",
       " {'contract': 'one_year', 'tenure': 31, 'monthlycharges': 64.0},\n",
       " {'contract': 'one_year', 'tenure': 22, 'monthlycharges': 19.6},\n",
       " {'contract': 'month-to-month', 'tenure': 63, 'monthlycharges': 105.4},\n",
       " {'contract': 'two_year', 'tenure': 72, 'monthlycharges': 115.75},\n",
       " {'contract': 'two_year', 'tenure': 66, 'monthlycharges': 80.55},\n",
       " {'contract': 'month-to-month', 'tenure': 3, 'monthlycharges': 50.5},\n",
       " {'contract': 'month-to-month', 'tenure': 15, 'monthlycharges': 51.55},\n",
       " {'contract': 'month-to-month', 'tenure': 2, 'monthlycharges': 53.85},\n",
       " {'contract': 'month-to-month', 'tenure': 7, 'monthlycharges': 76.45},\n",
       " {'contract': 'month-to-month', 'tenure': 2, 'monthlycharges': 20.65},\n",
       " {'contract': 'two_year', 'tenure': 72, 'monthlycharges': 84.5},\n",
       " {'contract': 'month-to-month', 'tenure': 6, 'monthlycharges': 56.25},\n",
       " {'contract': 'month-to-month', 'tenure': 10, 'monthlycharges': 95.2},\n",
       " {'contract': 'two_year', 'tenure': 71, 'monthlycharges': 90.3},\n",
       " {'contract': 'two_year', 'tenure': 69, 'monthlycharges': 19.95},\n",
       " {'contract': 'month-to-month', 'tenure': 24, 'monthlycharges': 70.0},\n",
       " {'contract': 'month-to-month', 'tenure': 9, 'monthlycharges': 19.05},\n",
       " {'contract': 'month-to-month', 'tenure': 7, 'monthlycharges': 89.15},\n",
       " {'contract': 'two_year', 'tenure': 72, 'monthlycharges': 88.05},\n",
       " {'contract': 'month-to-month', 'tenure': 68, 'monthlycharges': 44.95},\n",
       " {'contract': 'two_year', 'tenure': 72, 'monthlycharges': 90.15},\n",
       " {'contract': 'month-to-month', 'tenure': 1, 'monthlycharges': 20.3},\n",
       " {'contract': 'month-to-month', 'tenure': 40, 'monthlycharges': 96.35},\n",
       " {'contract': 'month-to-month', 'tenure': 16, 'monthlycharges': 90.8},\n",
       " {'contract': 'month-to-month', 'tenure': 2, 'monthlycharges': 44.45},\n",
       " {'contract': 'month-to-month', 'tenure': 6, 'monthlycharges': 93.55},\n",
       " {'contract': 'two_year', 'tenure': 20, 'monthlycharges': 20.05},\n",
       " {'contract': 'two_year', 'tenure': 36, 'monthlycharges': 53.1},\n",
       " {'contract': 'month-to-month', 'tenure': 3, 'monthlycharges': 20.0},\n",
       " {'contract': 'one_year', 'tenure': 50, 'monthlycharges': 100.65},\n",
       " {'contract': 'month-to-month', 'tenure': 30, 'monthlycharges': 48.8},\n",
       " {'contract': 'month-to-month', 'tenure': 39, 'monthlycharges': 103.45},\n",
       " {'contract': 'month-to-month', 'tenure': 42, 'monthlycharges': 74.15},\n",
       " {'contract': 'month-to-month', 'tenure': 6, 'monthlycharges': 90.75},\n",
       " {'contract': 'month-to-month', 'tenure': 2, 'monthlycharges': 20.45},\n",
       " {'contract': 'month-to-month', 'tenure': 35, 'monthlycharges': 89.65},\n",
       " {'contract': 'one_year', 'tenure': 22, 'monthlycharges': 20.25},\n",
       " {'contract': 'month-to-month', 'tenure': 15, 'monthlycharges': 20.45},\n",
       " {'contract': 'month-to-month', 'tenure': 8, 'monthlycharges': 55.75},\n",
       " {'contract': 'two_year', 'tenure': 72, 'monthlycharges': 89.55},\n",
       " {'contract': 'two_year', 'tenure': 27, 'monthlycharges': 19.6},\n",
       " {'contract': 'one_year', 'tenure': 70, 'monthlycharges': 60.35},\n",
       " {'contract': 'month-to-month', 'tenure': 16, 'monthlycharges': 74.3},\n",
       " {'contract': 'two_year', 'tenure': 71, 'monthlycharges': 105.25},\n",
       " {'contract': 'one_year', 'tenure': 65, 'monthlycharges': 89.85},\n",
       " {'contract': 'month-to-month', 'tenure': 1, 'monthlycharges': 74.35},\n",
       " {'contract': 'month-to-month', 'tenure': 1, 'monthlycharges': 54.75},\n",
       " {'contract': 'two_year', 'tenure': 23, 'monthlycharges': 40.1},\n",
       " {'contract': 'month-to-month', 'tenure': 13, 'monthlycharges': 18.8},\n",
       " {'contract': 'month-to-month', 'tenure': 11, 'monthlycharges': 64.05},\n",
       " {'contract': 'one_year', 'tenure': 32, 'monthlycharges': 19.75},\n",
       " {'contract': 'one_year', 'tenure': 53, 'monthlycharges': 94.25},\n",
       " {'contract': 'month-to-month', 'tenure': 3, 'monthlycharges': 50.65},\n",
       " {'contract': 'month-to-month', 'tenure': 33, 'monthlycharges': 90.65},\n",
       " {'contract': 'month-to-month', 'tenure': 49, 'monthlycharges': 96.2},\n",
       " {'contract': 'two_year', 'tenure': 23, 'monthlycharges': 20.9},\n",
       " {'contract': 'one_year', 'tenure': 38, 'monthlycharges': 110.7},\n",
       " {'contract': 'two_year', 'tenure': 67, 'monthlycharges': 43.9},\n",
       " {'contract': 'one_year', 'tenure': 54, 'monthlycharges': 105.4},\n",
       " {'contract': 'one_year', 'tenure': 50, 'monthlycharges': 106.8},\n",
       " {'contract': 'two_year', 'tenure': 64, 'monthlycharges': 110.5},\n",
       " {'contract': 'two_year', 'tenure': 6, 'monthlycharges': 19.55},\n",
       " {'contract': 'one_year', 'tenure': 58, 'monthlycharges': 61.05},\n",
       " {'contract': 'one_year', 'tenure': 26, 'monthlycharges': 54.55},\n",
       " {'contract': 'two_year', 'tenure': 48, 'monthlycharges': 24.0},\n",
       " {'contract': 'month-to-month', 'tenure': 24, 'monthlycharges': 85.95},\n",
       " {'contract': 'month-to-month', 'tenure': 47, 'monthlycharges': 70.55},\n",
       " {'contract': 'one_year', 'tenure': 44, 'monthlycharges': 109.8},\n",
       " {'contract': 'month-to-month', 'tenure': 22, 'monthlycharges': 80.0},\n",
       " {'contract': 'one_year', 'tenure': 23, 'monthlycharges': 19.65},\n",
       " {'contract': 'one_year', 'tenure': 68, 'monthlycharges': 73.0},\n",
       " {'contract': 'month-to-month', 'tenure': 13, 'monthlycharges': 66.4},\n",
       " {'contract': 'two_year', 'tenure': 53, 'monthlycharges': 19.4},\n",
       " {'contract': 'month-to-month', 'tenure': 1, 'monthlycharges': 45.1},\n",
       " {'contract': 'month-to-month', 'tenure': 1, 'monthlycharges': 35.9},\n",
       " {'contract': 'one_year', 'tenure': 66, 'monthlycharges': 74.25},\n",
       " {'contract': 'two_year', 'tenure': 70, 'monthlycharges': 86.45},\n",
       " {'contract': 'month-to-month', 'tenure': 47, 'monthlycharges': 99.35},\n",
       " {'contract': 'two_year', 'tenure': 65, 'monthlycharges': 59.8},\n",
       " {'contract': 'two_year', 'tenure': 36, 'monthlycharges': 19.45},\n",
       " {'contract': 'two_year', 'tenure': 68, 'monthlycharges': 19.95},\n",
       " {'contract': 'two_year', 'tenure': 70, 'monthlycharges': 19.55},\n",
       " {'contract': 'month-to-month', 'tenure': 2, 'monthlycharges': 44.3},\n",
       " {'contract': 'one_year', 'tenure': 69, 'monthlycharges': 110.55},\n",
       " {'contract': 'month-to-month', 'tenure': 34, 'monthlycharges': 70.0},\n",
       " {'contract': 'one_year', 'tenure': 14, 'monthlycharges': 51.45},\n",
       " {'contract': 'month-to-month', 'tenure': 28, 'monthlycharges': 81.05},\n",
       " {'contract': 'two_year', 'tenure': 67, 'monthlycharges': 19.65},\n",
       " {'contract': 'month-to-month', 'tenure': 5, 'monthlycharges': 96.55},\n",
       " {'contract': 'month-to-month', 'tenure': 2, 'monthlycharges': 50.95},\n",
       " {'contract': 'month-to-month', 'tenure': 41, 'monthlycharges': 83.75},\n",
       " {'contract': 'two_year', 'tenure': 69, 'monthlycharges': 59.75},\n",
       " {'contract': 'two_year', 'tenure': 64, 'monthlycharges': 24.05},\n",
       " {'contract': 'two_year', 'tenure': 33, 'monthlycharges': 24.5},\n",
       " {'contract': 'two_year', 'tenure': 67, 'monthlycharges': 108.75},\n",
       " {'contract': 'one_year', 'tenure': 53, 'monthlycharges': 20.8},\n",
       " {'contract': 'one_year', 'tenure': 48, 'monthlycharges': 83.45},\n",
       " {'contract': 'month-to-month', 'tenure': 14, 'monthlycharges': 70.2},\n",
       " {'contract': 'two_year', 'tenure': 46, 'monthlycharges': 54.35},\n",
       " {'contract': 'month-to-month', 'tenure': 49, 'monthlycharges': 52.15},\n",
       " {'contract': 'month-to-month', 'tenure': 2, 'monthlycharges': 100.2},\n",
       " {'contract': 'two_year', 'tenure': 19, 'monthlycharges': 20.5},\n",
       " {'contract': 'month-to-month', 'tenure': 1, 'monthlycharges': 25.2},\n",
       " {'contract': 'two_year', 'tenure': 72, 'monthlycharges': 84.45},\n",
       " {'contract': 'two_year', 'tenure': 72, 'monthlycharges': 84.45},\n",
       " {'contract': 'month-to-month', 'tenure': 5, 'monthlycharges': 85.4},\n",
       " {'contract': 'month-to-month', 'tenure': 29, 'monthlycharges': 98.6},\n",
       " {'contract': 'two_year', 'tenure': 46, 'monthlycharges': 108.65},\n",
       " {'contract': 'month-to-month', 'tenure': 10, 'monthlycharges': 36.25},\n",
       " {'contract': 'one_year', 'tenure': 66, 'monthlycharges': 89.0},\n",
       " {'contract': 'one_year', 'tenure': 34, 'monthlycharges': 77.2},\n",
       " {'contract': 'month-to-month', 'tenure': 1, 'monthlycharges': 45.95},\n",
       " {'contract': 'month-to-month', 'tenure': 5, 'monthlycharges': 89.8},\n",
       " {'contract': 'two_year', 'tenure': 66, 'monthlycharges': 65.7},\n",
       " {'contract': 'two_year', 'tenure': 46, 'monthlycharges': 19.95},\n",
       " {'contract': 'month-to-month', 'tenure': 1, 'monthlycharges': 19.75},\n",
       " {'contract': 'month-to-month', 'tenure': 18, 'monthlycharges': 85.45},\n",
       " {'contract': 'month-to-month', 'tenure': 9, 'monthlycharges': 55.3},\n",
       " {'contract': 'one_year', 'tenure': 34, 'monthlycharges': 64.4},\n",
       " {'contract': 'two_year', 'tenure': 72, 'monthlycharges': 89.05},\n",
       " {'contract': 'month-to-month', 'tenure': 37, 'monthlycharges': 20.35},\n",
       " {'contract': 'one_year', 'tenure': 38, 'monthlycharges': 20.1},\n",
       " {'contract': 'two_year', 'tenure': 68, 'monthlycharges': 110.2},\n",
       " {'contract': 'two_year', 'tenure': 71, 'monthlycharges': 82.0},\n",
       " {'contract': 'two_year', 'tenure': 72, 'monthlycharges': 85.15},\n",
       " {'contract': 'month-to-month', 'tenure': 49, 'monthlycharges': 95.6},\n",
       " {'contract': 'one_year', 'tenure': 65, 'monthlycharges': 100.75},\n",
       " ...]"
      ]
     },
     "execution_count": 74,
     "metadata": {},
     "output_type": "execute_result"
    }
   ],
   "source": [
    "df_train[small].to_dict(orient='records')"
   ]
  },
  {
   "cell_type": "code",
   "execution_count": 75,
   "id": "18cc34b4",
   "metadata": {},
   "outputs": [],
   "source": [
    "dicts_train_small = df_train[small].to_dict(orient='records')\n",
    "dicts_val_small = df_val[small].to_dict(orient='records')"
   ]
  },
  {
   "cell_type": "code",
   "execution_count": 76,
   "id": "b74bee48",
   "metadata": {},
   "outputs": [
    {
     "data": {
      "text/html": [
       "<style>#sk-container-id-2 {color: black;background-color: white;}#sk-container-id-2 pre{padding: 0;}#sk-container-id-2 div.sk-toggleable {background-color: white;}#sk-container-id-2 label.sk-toggleable__label {cursor: pointer;display: block;width: 100%;margin-bottom: 0;padding: 0.3em;box-sizing: border-box;text-align: center;}#sk-container-id-2 label.sk-toggleable__label-arrow:before {content: \"▸\";float: left;margin-right: 0.25em;color: #696969;}#sk-container-id-2 label.sk-toggleable__label-arrow:hover:before {color: black;}#sk-container-id-2 div.sk-estimator:hover label.sk-toggleable__label-arrow:before {color: black;}#sk-container-id-2 div.sk-toggleable__content {max-height: 0;max-width: 0;overflow: hidden;text-align: left;background-color: #f0f8ff;}#sk-container-id-2 div.sk-toggleable__content pre {margin: 0.2em;color: black;border-radius: 0.25em;background-color: #f0f8ff;}#sk-container-id-2 input.sk-toggleable__control:checked~div.sk-toggleable__content {max-height: 200px;max-width: 100%;overflow: auto;}#sk-container-id-2 input.sk-toggleable__control:checked~label.sk-toggleable__label-arrow:before {content: \"▾\";}#sk-container-id-2 div.sk-estimator input.sk-toggleable__control:checked~label.sk-toggleable__label {background-color: #d4ebff;}#sk-container-id-2 div.sk-label input.sk-toggleable__control:checked~label.sk-toggleable__label {background-color: #d4ebff;}#sk-container-id-2 input.sk-hidden--visually {border: 0;clip: rect(1px 1px 1px 1px);clip: rect(1px, 1px, 1px, 1px);height: 1px;margin: -1px;overflow: hidden;padding: 0;position: absolute;width: 1px;}#sk-container-id-2 div.sk-estimator {font-family: monospace;background-color: #f0f8ff;border: 1px dotted black;border-radius: 0.25em;box-sizing: border-box;margin-bottom: 0.5em;}#sk-container-id-2 div.sk-estimator:hover {background-color: #d4ebff;}#sk-container-id-2 div.sk-parallel-item::after {content: \"\";width: 100%;border-bottom: 1px solid gray;flex-grow: 1;}#sk-container-id-2 div.sk-label:hover label.sk-toggleable__label {background-color: #d4ebff;}#sk-container-id-2 div.sk-serial::before {content: \"\";position: absolute;border-left: 1px solid gray;box-sizing: border-box;top: 0;bottom: 0;left: 50%;z-index: 0;}#sk-container-id-2 div.sk-serial {display: flex;flex-direction: column;align-items: center;background-color: white;padding-right: 0.2em;padding-left: 0.2em;position: relative;}#sk-container-id-2 div.sk-item {position: relative;z-index: 1;}#sk-container-id-2 div.sk-parallel {display: flex;align-items: stretch;justify-content: center;background-color: white;position: relative;}#sk-container-id-2 div.sk-item::before, #sk-container-id-2 div.sk-parallel-item::before {content: \"\";position: absolute;border-left: 1px solid gray;box-sizing: border-box;top: 0;bottom: 0;left: 50%;z-index: -1;}#sk-container-id-2 div.sk-parallel-item {display: flex;flex-direction: column;z-index: 1;position: relative;background-color: white;}#sk-container-id-2 div.sk-parallel-item:first-child::after {align-self: flex-end;width: 50%;}#sk-container-id-2 div.sk-parallel-item:last-child::after {align-self: flex-start;width: 50%;}#sk-container-id-2 div.sk-parallel-item:only-child::after {width: 0;}#sk-container-id-2 div.sk-dashed-wrapped {border: 1px dashed gray;margin: 0 0.4em 0.5em 0.4em;box-sizing: border-box;padding-bottom: 0.4em;background-color: white;}#sk-container-id-2 div.sk-label label {font-family: monospace;font-weight: bold;display: inline-block;line-height: 1.2em;}#sk-container-id-2 div.sk-label-container {text-align: center;}#sk-container-id-2 div.sk-container {/* jupyter's `normalize.less` sets `[hidden] { display: none; }` but bootstrap.min.css set `[hidden] { display: none !important; }` so we also need the `!important` here to be able to override the default hidden behavior on the sphinx rendered scikit-learn.org. See: https://github.com/scikit-learn/scikit-learn/issues/21755 */display: inline-block !important;position: relative;}#sk-container-id-2 div.sk-text-repr-fallback {display: none;}</style><div id=\"sk-container-id-2\" class=\"sk-top-container\"><div class=\"sk-text-repr-fallback\"><pre>DictVectorizer(sparse=False)</pre><b>In a Jupyter environment, please rerun this cell to show the HTML representation or trust the notebook. <br />On GitHub, the HTML representation is unable to render, please try loading this page with nbviewer.org.</b></div><div class=\"sk-container\" hidden><div class=\"sk-item\"><div class=\"sk-estimator sk-toggleable\"><input class=\"sk-toggleable__control sk-hidden--visually\" id=\"sk-estimator-id-2\" type=\"checkbox\" checked><label for=\"sk-estimator-id-2\" class=\"sk-toggleable__label sk-toggleable__label-arrow\">DictVectorizer</label><div class=\"sk-toggleable__content\"><pre>DictVectorizer(sparse=False)</pre></div></div></div></div></div>"
      ],
      "text/plain": [
       "DictVectorizer(sparse=False)"
      ]
     },
     "execution_count": 76,
     "metadata": {},
     "output_type": "execute_result"
    }
   ],
   "source": [
    "dv_small = DictVectorizer(sparse=False)\n",
    "dv_small.fit(dicts_train_small)"
   ]
  },
  {
   "cell_type": "code",
   "execution_count": 77,
   "id": "32adff4b",
   "metadata": {},
   "outputs": [
    {
     "name": "stderr",
     "output_type": "stream",
     "text": [
      "c:\\Users\\OLAMIDE\\AppData\\Local\\Programs\\Python\\Python310\\lib\\site-packages\\sklearn\\utils\\deprecation.py:87: FutureWarning: Function get_feature_names is deprecated; get_feature_names is deprecated in 1.0 and will be removed in 1.2. Please use get_feature_names_out instead.\n",
      "  warnings.warn(msg, category=FutureWarning)\n"
     ]
    },
    {
     "data": {
      "text/plain": [
       "['contract=month-to-month',\n",
       " 'contract=one_year',\n",
       " 'contract=two_year',\n",
       " 'monthlycharges',\n",
       " 'tenure']"
      ]
     },
     "execution_count": 77,
     "metadata": {},
     "output_type": "execute_result"
    }
   ],
   "source": [
    "dv_small.get_feature_names()"
   ]
  },
  {
   "cell_type": "code",
   "execution_count": 78,
   "id": "72ad0986",
   "metadata": {},
   "outputs": [],
   "source": [
    "X_train_small = dv_small.transform(dicts_train_small)"
   ]
  },
  {
   "cell_type": "code",
   "execution_count": 79,
   "id": "0ce20f94",
   "metadata": {},
   "outputs": [
    {
     "data": {
      "text/plain": [
       "4225"
      ]
     },
     "execution_count": 79,
     "metadata": {},
     "output_type": "execute_result"
    }
   ],
   "source": [
    "X_train_small.shape[0]"
   ]
  },
  {
   "cell_type": "code",
   "execution_count": 80,
   "id": "17955787",
   "metadata": {},
   "outputs": [
    {
     "data": {
      "text/plain": [
       "4225"
      ]
     },
     "execution_count": 80,
     "metadata": {},
     "output_type": "execute_result"
    }
   ],
   "source": [
    "y_train.shape[0]"
   ]
  },
  {
   "cell_type": "code",
   "execution_count": 81,
   "id": "e7a58c0a",
   "metadata": {},
   "outputs": [],
   "source": [
    "assert X_train_small.shape[0] == y_train.shape[0]"
   ]
  },
  {
   "cell_type": "code",
   "execution_count": 82,
   "id": "ef90c61f",
   "metadata": {},
   "outputs": [
    {
     "data": {
      "text/html": [
       "<style>#sk-container-id-3 {color: black;background-color: white;}#sk-container-id-3 pre{padding: 0;}#sk-container-id-3 div.sk-toggleable {background-color: white;}#sk-container-id-3 label.sk-toggleable__label {cursor: pointer;display: block;width: 100%;margin-bottom: 0;padding: 0.3em;box-sizing: border-box;text-align: center;}#sk-container-id-3 label.sk-toggleable__label-arrow:before {content: \"▸\";float: left;margin-right: 0.25em;color: #696969;}#sk-container-id-3 label.sk-toggleable__label-arrow:hover:before {color: black;}#sk-container-id-3 div.sk-estimator:hover label.sk-toggleable__label-arrow:before {color: black;}#sk-container-id-3 div.sk-toggleable__content {max-height: 0;max-width: 0;overflow: hidden;text-align: left;background-color: #f0f8ff;}#sk-container-id-3 div.sk-toggleable__content pre {margin: 0.2em;color: black;border-radius: 0.25em;background-color: #f0f8ff;}#sk-container-id-3 input.sk-toggleable__control:checked~div.sk-toggleable__content {max-height: 200px;max-width: 100%;overflow: auto;}#sk-container-id-3 input.sk-toggleable__control:checked~label.sk-toggleable__label-arrow:before {content: \"▾\";}#sk-container-id-3 div.sk-estimator input.sk-toggleable__control:checked~label.sk-toggleable__label {background-color: #d4ebff;}#sk-container-id-3 div.sk-label input.sk-toggleable__control:checked~label.sk-toggleable__label {background-color: #d4ebff;}#sk-container-id-3 input.sk-hidden--visually {border: 0;clip: rect(1px 1px 1px 1px);clip: rect(1px, 1px, 1px, 1px);height: 1px;margin: -1px;overflow: hidden;padding: 0;position: absolute;width: 1px;}#sk-container-id-3 div.sk-estimator {font-family: monospace;background-color: #f0f8ff;border: 1px dotted black;border-radius: 0.25em;box-sizing: border-box;margin-bottom: 0.5em;}#sk-container-id-3 div.sk-estimator:hover {background-color: #d4ebff;}#sk-container-id-3 div.sk-parallel-item::after {content: \"\";width: 100%;border-bottom: 1px solid gray;flex-grow: 1;}#sk-container-id-3 div.sk-label:hover label.sk-toggleable__label {background-color: #d4ebff;}#sk-container-id-3 div.sk-serial::before {content: \"\";position: absolute;border-left: 1px solid gray;box-sizing: border-box;top: 0;bottom: 0;left: 50%;z-index: 0;}#sk-container-id-3 div.sk-serial {display: flex;flex-direction: column;align-items: center;background-color: white;padding-right: 0.2em;padding-left: 0.2em;position: relative;}#sk-container-id-3 div.sk-item {position: relative;z-index: 1;}#sk-container-id-3 div.sk-parallel {display: flex;align-items: stretch;justify-content: center;background-color: white;position: relative;}#sk-container-id-3 div.sk-item::before, #sk-container-id-3 div.sk-parallel-item::before {content: \"\";position: absolute;border-left: 1px solid gray;box-sizing: border-box;top: 0;bottom: 0;left: 50%;z-index: -1;}#sk-container-id-3 div.sk-parallel-item {display: flex;flex-direction: column;z-index: 1;position: relative;background-color: white;}#sk-container-id-3 div.sk-parallel-item:first-child::after {align-self: flex-end;width: 50%;}#sk-container-id-3 div.sk-parallel-item:last-child::after {align-self: flex-start;width: 50%;}#sk-container-id-3 div.sk-parallel-item:only-child::after {width: 0;}#sk-container-id-3 div.sk-dashed-wrapped {border: 1px dashed gray;margin: 0 0.4em 0.5em 0.4em;box-sizing: border-box;padding-bottom: 0.4em;background-color: white;}#sk-container-id-3 div.sk-label label {font-family: monospace;font-weight: bold;display: inline-block;line-height: 1.2em;}#sk-container-id-3 div.sk-label-container {text-align: center;}#sk-container-id-3 div.sk-container {/* jupyter's `normalize.less` sets `[hidden] { display: none; }` but bootstrap.min.css set `[hidden] { display: none !important; }` so we also need the `!important` here to be able to override the default hidden behavior on the sphinx rendered scikit-learn.org. See: https://github.com/scikit-learn/scikit-learn/issues/21755 */display: inline-block !important;position: relative;}#sk-container-id-3 div.sk-text-repr-fallback {display: none;}</style><div id=\"sk-container-id-3\" class=\"sk-top-container\"><div class=\"sk-text-repr-fallback\"><pre>LogisticRegression()</pre><b>In a Jupyter environment, please rerun this cell to show the HTML representation or trust the notebook. <br />On GitHub, the HTML representation is unable to render, please try loading this page with nbviewer.org.</b></div><div class=\"sk-container\" hidden><div class=\"sk-item\"><div class=\"sk-estimator sk-toggleable\"><input class=\"sk-toggleable__control sk-hidden--visually\" id=\"sk-estimator-id-3\" type=\"checkbox\" checked><label for=\"sk-estimator-id-3\" class=\"sk-toggleable__label sk-toggleable__label-arrow\">LogisticRegression</label><div class=\"sk-toggleable__content\"><pre>LogisticRegression()</pre></div></div></div></div></div>"
      ],
      "text/plain": [
       "LogisticRegression()"
      ]
     },
     "execution_count": 82,
     "metadata": {},
     "output_type": "execute_result"
    }
   ],
   "source": [
    "model_small = LogisticRegression()  # default solver is okay\n",
    "model_small.fit(X_train_small, y_train) # train the model"
   ]
  },
  {
   "cell_type": "code",
   "execution_count": 83,
   "id": "f912afd7",
   "metadata": {},
   "outputs": [
    {
     "data": {
      "text/html": [
       "<style>#sk-container-id-4 {color: black;background-color: white;}#sk-container-id-4 pre{padding: 0;}#sk-container-id-4 div.sk-toggleable {background-color: white;}#sk-container-id-4 label.sk-toggleable__label {cursor: pointer;display: block;width: 100%;margin-bottom: 0;padding: 0.3em;box-sizing: border-box;text-align: center;}#sk-container-id-4 label.sk-toggleable__label-arrow:before {content: \"▸\";float: left;margin-right: 0.25em;color: #696969;}#sk-container-id-4 label.sk-toggleable__label-arrow:hover:before {color: black;}#sk-container-id-4 div.sk-estimator:hover label.sk-toggleable__label-arrow:before {color: black;}#sk-container-id-4 div.sk-toggleable__content {max-height: 0;max-width: 0;overflow: hidden;text-align: left;background-color: #f0f8ff;}#sk-container-id-4 div.sk-toggleable__content pre {margin: 0.2em;color: black;border-radius: 0.25em;background-color: #f0f8ff;}#sk-container-id-4 input.sk-toggleable__control:checked~div.sk-toggleable__content {max-height: 200px;max-width: 100%;overflow: auto;}#sk-container-id-4 input.sk-toggleable__control:checked~label.sk-toggleable__label-arrow:before {content: \"▾\";}#sk-container-id-4 div.sk-estimator input.sk-toggleable__control:checked~label.sk-toggleable__label {background-color: #d4ebff;}#sk-container-id-4 div.sk-label input.sk-toggleable__control:checked~label.sk-toggleable__label {background-color: #d4ebff;}#sk-container-id-4 input.sk-hidden--visually {border: 0;clip: rect(1px 1px 1px 1px);clip: rect(1px, 1px, 1px, 1px);height: 1px;margin: -1px;overflow: hidden;padding: 0;position: absolute;width: 1px;}#sk-container-id-4 div.sk-estimator {font-family: monospace;background-color: #f0f8ff;border: 1px dotted black;border-radius: 0.25em;box-sizing: border-box;margin-bottom: 0.5em;}#sk-container-id-4 div.sk-estimator:hover {background-color: #d4ebff;}#sk-container-id-4 div.sk-parallel-item::after {content: \"\";width: 100%;border-bottom: 1px solid gray;flex-grow: 1;}#sk-container-id-4 div.sk-label:hover label.sk-toggleable__label {background-color: #d4ebff;}#sk-container-id-4 div.sk-serial::before {content: \"\";position: absolute;border-left: 1px solid gray;box-sizing: border-box;top: 0;bottom: 0;left: 50%;z-index: 0;}#sk-container-id-4 div.sk-serial {display: flex;flex-direction: column;align-items: center;background-color: white;padding-right: 0.2em;padding-left: 0.2em;position: relative;}#sk-container-id-4 div.sk-item {position: relative;z-index: 1;}#sk-container-id-4 div.sk-parallel {display: flex;align-items: stretch;justify-content: center;background-color: white;position: relative;}#sk-container-id-4 div.sk-item::before, #sk-container-id-4 div.sk-parallel-item::before {content: \"\";position: absolute;border-left: 1px solid gray;box-sizing: border-box;top: 0;bottom: 0;left: 50%;z-index: -1;}#sk-container-id-4 div.sk-parallel-item {display: flex;flex-direction: column;z-index: 1;position: relative;background-color: white;}#sk-container-id-4 div.sk-parallel-item:first-child::after {align-self: flex-end;width: 50%;}#sk-container-id-4 div.sk-parallel-item:last-child::after {align-self: flex-start;width: 50%;}#sk-container-id-4 div.sk-parallel-item:only-child::after {width: 0;}#sk-container-id-4 div.sk-dashed-wrapped {border: 1px dashed gray;margin: 0 0.4em 0.5em 0.4em;box-sizing: border-box;padding-bottom: 0.4em;background-color: white;}#sk-container-id-4 div.sk-label label {font-family: monospace;font-weight: bold;display: inline-block;line-height: 1.2em;}#sk-container-id-4 div.sk-label-container {text-align: center;}#sk-container-id-4 div.sk-container {/* jupyter's `normalize.less` sets `[hidden] { display: none; }` but bootstrap.min.css set `[hidden] { display: none !important; }` so we also need the `!important` here to be able to override the default hidden behavior on the sphinx rendered scikit-learn.org. See: https://github.com/scikit-learn/scikit-learn/issues/21755 */display: inline-block !important;position: relative;}#sk-container-id-4 div.sk-text-repr-fallback {display: none;}</style><div id=\"sk-container-id-4\" class=\"sk-top-container\"><div class=\"sk-text-repr-fallback\"><pre>LogisticRegression()</pre><b>In a Jupyter environment, please rerun this cell to show the HTML representation or trust the notebook. <br />On GitHub, the HTML representation is unable to render, please try loading this page with nbviewer.org.</b></div><div class=\"sk-container\" hidden><div class=\"sk-item\"><div class=\"sk-estimator sk-toggleable\"><input class=\"sk-toggleable__control sk-hidden--visually\" id=\"sk-estimator-id-4\" type=\"checkbox\" checked><label for=\"sk-estimator-id-4\" class=\"sk-toggleable__label sk-toggleable__label-arrow\">LogisticRegression</label><div class=\"sk-toggleable__content\"><pre>LogisticRegression()</pre></div></div></div></div></div>"
      ],
      "text/plain": [
       "LogisticRegression()"
      ]
     },
     "execution_count": 83,
     "metadata": {},
     "output_type": "execute_result"
    }
   ],
   "source": [
    "model_small = LogisticRegression()\n",
    "model_small.fit(X_train_small, y_train)"
   ]
  },
  {
   "cell_type": "code",
   "execution_count": 84,
   "id": "cc814741",
   "metadata": {},
   "outputs": [
    {
     "data": {
      "text/plain": [
       "-2.476775657399558"
      ]
     },
     "execution_count": 84,
     "metadata": {},
     "output_type": "execute_result"
    }
   ],
   "source": [
    "w0 = model_small.intercept_[0]\n",
    "w0"
   ]
  },
  {
   "cell_type": "code",
   "execution_count": 85,
   "id": "8b716b9c",
   "metadata": {},
   "outputs": [
    {
     "data": {
      "text/plain": [
       "array([ 0.97 , -0.025, -0.949,  0.027, -0.036])"
      ]
     },
     "execution_count": 85,
     "metadata": {},
     "output_type": "execute_result"
    }
   ],
   "source": [
    "w = model_small.coef_[0].round(3)\n",
    "w"
   ]
  },
  {
   "cell_type": "code",
   "execution_count": 86,
   "id": "951727be",
   "metadata": {},
   "outputs": [
    {
     "name": "stderr",
     "output_type": "stream",
     "text": [
      "c:\\Users\\OLAMIDE\\AppData\\Local\\Programs\\Python\\Python310\\lib\\site-packages\\sklearn\\utils\\deprecation.py:87: FutureWarning: Function get_feature_names is deprecated; get_feature_names is deprecated in 1.0 and will be removed in 1.2. Please use get_feature_names_out instead.\n",
      "  warnings.warn(msg, category=FutureWarning)\n"
     ]
    },
    {
     "data": {
      "text/plain": [
       "{'contract=month-to-month': 0.97,\n",
       " 'contract=one_year': -0.025,\n",
       " 'contract=two_year': -0.949,\n",
       " 'monthlycharges': 0.027,\n",
       " 'tenure': -0.036}"
      ]
     },
     "execution_count": 86,
     "metadata": {},
     "output_type": "execute_result"
    }
   ],
   "source": [
    "dict(zip(dv_small.get_feature_names(), w.round(3)))"
   ]
  },
  {
   "attachments": {},
   "cell_type": "markdown",
   "id": "e6ad7ad3",
   "metadata": {},
   "source": [
    "Using The Model"
   ]
  },
  {
   "cell_type": "code",
   "execution_count": 87,
   "id": "498bd13f",
   "metadata": {},
   "outputs": [],
   "source": [
    "dicts_train_full = df_full_train[categorical + numerical].to_dict(orient='records')"
   ]
  },
  {
   "cell_type": "code",
   "execution_count": 88,
   "id": "1f930835",
   "metadata": {},
   "outputs": [],
   "source": [
    "dv = DictVectorizer(sparse=False)\n",
    "X_full_train = dv.fit_transform(dicts_train_full)\n",
    "y_full_train = df_full_train.churn.values"
   ]
  },
  {
   "cell_type": "code",
   "execution_count": 89,
   "id": "1f95436f",
   "metadata": {},
   "outputs": [
    {
     "data": {
      "text/html": [
       "<style>#sk-container-id-5 {color: black;background-color: white;}#sk-container-id-5 pre{padding: 0;}#sk-container-id-5 div.sk-toggleable {background-color: white;}#sk-container-id-5 label.sk-toggleable__label {cursor: pointer;display: block;width: 100%;margin-bottom: 0;padding: 0.3em;box-sizing: border-box;text-align: center;}#sk-container-id-5 label.sk-toggleable__label-arrow:before {content: \"▸\";float: left;margin-right: 0.25em;color: #696969;}#sk-container-id-5 label.sk-toggleable__label-arrow:hover:before {color: black;}#sk-container-id-5 div.sk-estimator:hover label.sk-toggleable__label-arrow:before {color: black;}#sk-container-id-5 div.sk-toggleable__content {max-height: 0;max-width: 0;overflow: hidden;text-align: left;background-color: #f0f8ff;}#sk-container-id-5 div.sk-toggleable__content pre {margin: 0.2em;color: black;border-radius: 0.25em;background-color: #f0f8ff;}#sk-container-id-5 input.sk-toggleable__control:checked~div.sk-toggleable__content {max-height: 200px;max-width: 100%;overflow: auto;}#sk-container-id-5 input.sk-toggleable__control:checked~label.sk-toggleable__label-arrow:before {content: \"▾\";}#sk-container-id-5 div.sk-estimator input.sk-toggleable__control:checked~label.sk-toggleable__label {background-color: #d4ebff;}#sk-container-id-5 div.sk-label input.sk-toggleable__control:checked~label.sk-toggleable__label {background-color: #d4ebff;}#sk-container-id-5 input.sk-hidden--visually {border: 0;clip: rect(1px 1px 1px 1px);clip: rect(1px, 1px, 1px, 1px);height: 1px;margin: -1px;overflow: hidden;padding: 0;position: absolute;width: 1px;}#sk-container-id-5 div.sk-estimator {font-family: monospace;background-color: #f0f8ff;border: 1px dotted black;border-radius: 0.25em;box-sizing: border-box;margin-bottom: 0.5em;}#sk-container-id-5 div.sk-estimator:hover {background-color: #d4ebff;}#sk-container-id-5 div.sk-parallel-item::after {content: \"\";width: 100%;border-bottom: 1px solid gray;flex-grow: 1;}#sk-container-id-5 div.sk-label:hover label.sk-toggleable__label {background-color: #d4ebff;}#sk-container-id-5 div.sk-serial::before {content: \"\";position: absolute;border-left: 1px solid gray;box-sizing: border-box;top: 0;bottom: 0;left: 50%;z-index: 0;}#sk-container-id-5 div.sk-serial {display: flex;flex-direction: column;align-items: center;background-color: white;padding-right: 0.2em;padding-left: 0.2em;position: relative;}#sk-container-id-5 div.sk-item {position: relative;z-index: 1;}#sk-container-id-5 div.sk-parallel {display: flex;align-items: stretch;justify-content: center;background-color: white;position: relative;}#sk-container-id-5 div.sk-item::before, #sk-container-id-5 div.sk-parallel-item::before {content: \"\";position: absolute;border-left: 1px solid gray;box-sizing: border-box;top: 0;bottom: 0;left: 50%;z-index: -1;}#sk-container-id-5 div.sk-parallel-item {display: flex;flex-direction: column;z-index: 1;position: relative;background-color: white;}#sk-container-id-5 div.sk-parallel-item:first-child::after {align-self: flex-end;width: 50%;}#sk-container-id-5 div.sk-parallel-item:last-child::after {align-self: flex-start;width: 50%;}#sk-container-id-5 div.sk-parallel-item:only-child::after {width: 0;}#sk-container-id-5 div.sk-dashed-wrapped {border: 1px dashed gray;margin: 0 0.4em 0.5em 0.4em;box-sizing: border-box;padding-bottom: 0.4em;background-color: white;}#sk-container-id-5 div.sk-label label {font-family: monospace;font-weight: bold;display: inline-block;line-height: 1.2em;}#sk-container-id-5 div.sk-label-container {text-align: center;}#sk-container-id-5 div.sk-container {/* jupyter's `normalize.less` sets `[hidden] { display: none; }` but bootstrap.min.css set `[hidden] { display: none !important; }` so we also need the `!important` here to be able to override the default hidden behavior on the sphinx rendered scikit-learn.org. See: https://github.com/scikit-learn/scikit-learn/issues/21755 */display: inline-block !important;position: relative;}#sk-container-id-5 div.sk-text-repr-fallback {display: none;}</style><div id=\"sk-container-id-5\" class=\"sk-top-container\"><div class=\"sk-text-repr-fallback\"><pre>LogisticRegression()</pre><b>In a Jupyter environment, please rerun this cell to show the HTML representation or trust the notebook. <br />On GitHub, the HTML representation is unable to render, please try loading this page with nbviewer.org.</b></div><div class=\"sk-container\" hidden><div class=\"sk-item\"><div class=\"sk-estimator sk-toggleable\"><input class=\"sk-toggleable__control sk-hidden--visually\" id=\"sk-estimator-id-5\" type=\"checkbox\" checked><label for=\"sk-estimator-id-5\" class=\"sk-toggleable__label sk-toggleable__label-arrow\">LogisticRegression</label><div class=\"sk-toggleable__content\"><pre>LogisticRegression()</pre></div></div></div></div></div>"
      ],
      "text/plain": [
       "LogisticRegression()"
      ]
     },
     "execution_count": 89,
     "metadata": {},
     "output_type": "execute_result"
    }
   ],
   "source": [
    "model = LogisticRegression()\n",
    "model.fit(X_full_train, y_full_train)"
   ]
  },
  {
   "cell_type": "code",
   "execution_count": 90,
   "id": "03d12a1d",
   "metadata": {},
   "outputs": [],
   "source": [
    "dicts_test = df_test[categorical + numerical].to_dict(orient='records')"
   ]
  },
  {
   "cell_type": "code",
   "execution_count": 91,
   "id": "02d94f47",
   "metadata": {},
   "outputs": [],
   "source": [
    "X_test = dv.transform(dicts_test)"
   ]
  },
  {
   "cell_type": "code",
   "execution_count": 92,
   "id": "cd66ffee",
   "metadata": {},
   "outputs": [],
   "source": [
    "y_pred = model.predict_proba(X_test)[:, 1]"
   ]
  },
  {
   "cell_type": "code",
   "execution_count": 93,
   "id": "edd7f551",
   "metadata": {},
   "outputs": [],
   "source": [
    "churn_decision = (y_pred >= 0.5)"
   ]
  },
  {
   "cell_type": "code",
   "execution_count": 94,
   "id": "8ef97a0a",
   "metadata": {},
   "outputs": [
    {
     "data": {
      "text/plain": [
       "0.815471965933286"
      ]
     },
     "execution_count": 94,
     "metadata": {},
     "output_type": "execute_result"
    }
   ],
   "source": [
    "(churn_decision == y_test).mean()"
   ]
  },
  {
   "cell_type": "code",
   "execution_count": 95,
   "id": "e43ba77d",
   "metadata": {},
   "outputs": [
    {
     "data": {
      "text/plain": [
       "{'gender': 'female',\n",
       " 'seniorcitizen': 0,\n",
       " 'partner': 'yes',\n",
       " 'dependents': 'yes',\n",
       " 'phoneservice': 'yes',\n",
       " 'multiplelines': 'yes',\n",
       " 'internetservice': 'fiber_optic',\n",
       " 'onlinesecurity': 'yes',\n",
       " 'onlinebackup': 'no',\n",
       " 'deviceprotection': 'yes',\n",
       " 'techsupport': 'no',\n",
       " 'streamingtv': 'yes',\n",
       " 'streamingmovies': 'yes',\n",
       " 'contract': 'month-to-month',\n",
       " 'paperlessbilling': 'yes',\n",
       " 'paymentmethod': 'electronic_check',\n",
       " 'tenure': 17,\n",
       " 'monthlycharges': 104.2,\n",
       " 'totalcharges': 1743.5}"
      ]
     },
     "execution_count": 95,
     "metadata": {},
     "output_type": "execute_result"
    }
   ],
   "source": [
    "customer = dicts_test[-1]\n",
    "customer"
   ]
  },
  {
   "cell_type": "code",
   "execution_count": 96,
   "id": "f9777a56",
   "metadata": {},
   "outputs": [],
   "source": [
    "X_small = dv.transform([customer])"
   ]
  },
  {
   "cell_type": "code",
   "execution_count": 97,
   "id": "06d3b2e3",
   "metadata": {},
   "outputs": [
    {
     "data": {
      "text/plain": [
       "0.5968852088270501"
      ]
     },
     "execution_count": 97,
     "metadata": {},
     "output_type": "execute_result"
    }
   ],
   "source": [
    "model.predict_proba(X_small)[0, 1]"
   ]
  },
  {
   "cell_type": "code",
   "execution_count": 98,
   "id": "ee0f1836",
   "metadata": {},
   "outputs": [
    {
     "data": {
      "text/plain": [
       "1"
      ]
     },
     "execution_count": 98,
     "metadata": {},
     "output_type": "execute_result"
    }
   ],
   "source": [
    "y_test[-1]"
   ]
  },
  {
   "cell_type": "code",
   "execution_count": 99,
   "id": "b76081e4",
   "metadata": {},
   "outputs": [
    {
     "data": {
      "text/plain": [
       "1409"
      ]
     },
     "execution_count": 99,
     "metadata": {},
     "output_type": "execute_result"
    }
   ],
   "source": [
    "len(y_val)"
   ]
  },
  {
   "cell_type": "code",
   "execution_count": 100,
   "id": "ce5aaf20",
   "metadata": {},
   "outputs": [
    {
     "data": {
      "text/plain": [
       "0.6167494677075941"
      ]
     },
     "execution_count": 100,
     "metadata": {},
     "output_type": "execute_result"
    }
   ],
   "source": [
    "(y_val == churn_decision).mean()"
   ]
  },
  {
   "cell_type": "code",
   "execution_count": 101,
   "id": "54599b87",
   "metadata": {},
   "outputs": [
    {
     "data": {
      "text/plain": [
       "0.6167494677075941"
      ]
     },
     "execution_count": 101,
     "metadata": {},
     "output_type": "execute_result"
    }
   ],
   "source": [
    "869/1409"
   ]
  },
  {
   "cell_type": "code",
   "execution_count": 102,
   "id": "e5186511",
   "metadata": {},
   "outputs": [],
   "source": [
    "from sklearn.metrics import accuracy_score"
   ]
  },
  {
   "cell_type": "code",
   "execution_count": 103,
   "id": "77fa0a1b",
   "metadata": {},
   "outputs": [
    {
     "data": {
      "text/plain": [
       "0.7260468417317246"
      ]
     },
     "execution_count": 103,
     "metadata": {},
     "output_type": "execute_result"
    }
   ],
   "source": [
    "accuracy_score(y_val, y_pred >= 0.9)"
   ]
  },
  {
   "cell_type": "code",
   "execution_count": 104,
   "id": "a62d81d0",
   "metadata": {},
   "outputs": [
    {
     "name": "stdout",
     "output_type": "stream",
     "text": [
      "0.00 0.274\n",
      "0.05 0.402\n",
      "0.10 0.448\n",
      "0.15 0.480\n",
      "0.20 0.514\n",
      "0.25 0.532\n",
      "0.30 0.546\n",
      "0.35 0.561\n",
      "0.40 0.576\n",
      "0.45 0.591\n",
      "0.50 0.617\n",
      "0.55 0.629\n",
      "0.60 0.655\n",
      "0.65 0.673\n",
      "0.70 0.691\n",
      "0.75 0.703\n",
      "0.80 0.716\n",
      "0.85 0.725\n",
      "0.90 0.726\n",
      "0.95 0.726\n",
      "1.00 0.726\n"
     ]
    }
   ],
   "source": [
    "thresholds = np.linspace(0, 1, 21)\n",
    "scores = []\n",
    "for t in thresholds:\n",
    "    score = accuracy_score(y_val, y_pred >= t)\n",
    "    print(\"%.2f %.3f\" % (t, score))\n",
    "    scores.append(score)"
   ]
  },
  {
   "cell_type": "code",
   "execution_count": 105,
   "id": "bb853b47",
   "metadata": {},
   "outputs": [
    {
     "data": {
      "text/plain": [
       "[0.2739531582682754,\n",
       " 0.4024130589070263,\n",
       " 0.4478353442157559,\n",
       " 0.47977288857345635,\n",
       " 0.5138396025550035,\n",
       " 0.531582682753726,\n",
       " 0.5457771469127041,\n",
       " 0.560681334279631,\n",
       " 0.5755855216465579,\n",
       " 0.5911994322214337,\n",
       " 0.6167494677075941,\n",
       " 0.6288147622427254,\n",
       " 0.6550745209368346,\n",
       " 0.6728176011355571,\n",
       " 0.6905606813342796,\n",
       " 0.7026259758694109,\n",
       " 0.71611071682044,\n",
       " 0.7246273953158269,\n",
       " 0.7260468417317246,\n",
       " 0.7260468417317246,\n",
       " 0.7260468417317246]"
      ]
     },
     "execution_count": 105,
     "metadata": {},
     "output_type": "execute_result"
    }
   ],
   "source": [
    "scores"
   ]
  },
  {
   "cell_type": "code",
   "execution_count": 106,
   "id": "6cb9e7bf",
   "metadata": {},
   "outputs": [
    {
     "data": {
      "text/plain": [
       "[<matplotlib.lines.Line2D at 0x175033e5870>]"
      ]
     },
     "execution_count": 106,
     "metadata": {},
     "output_type": "execute_result"
    },
    {
     "data": {
      "image/png": "[encoded data removed]",
      "text/plain": [
       "<Figure size 640x480 with 1 Axes>"
      ]
     },
     "metadata": {},
     "output_type": "display_data"
    }
   ],
   "source": [
    "plt.plot(thresholds, scores)"
   ]
  },
  {
   "cell_type": "code",
   "execution_count": 107,
   "id": "d3406da4",
   "metadata": {},
   "outputs": [],
   "source": [
    "from collections import Counter"
   ]
  },
  {
   "cell_type": "code",
   "execution_count": 108,
   "id": "611afd3b",
   "metadata": {},
   "outputs": [
    {
     "data": {
      "text/plain": [
       "Counter({False: 1097, True: 312})"
      ]
     },
     "execution_count": 108,
     "metadata": {},
     "output_type": "execute_result"
    }
   ],
   "source": [
    "Counter(y_pred >= 0.5)"
   ]
  },
  {
   "attachments": {},
   "cell_type": "markdown",
   "id": "0d3ef2c3",
   "metadata": {},
   "source": [
    "Confusion Table"
   ]
  },
  {
   "cell_type": "code",
   "execution_count": 109,
   "id": "55153c7b",
   "metadata": {},
   "outputs": [],
   "source": [
    "actual_postive = (y_val == 1)\n",
    "actual_negative = (y_val == 0)"
   ]
  },
  {
   "cell_type": "code",
   "execution_count": 110,
   "id": "309cf5c6",
   "metadata": {},
   "outputs": [],
   "source": [
    "t = 0.5\n",
    "predicted_positive = (y_pred >= t)\n",
    "predicted_negative = (y_pred < t)"
   ]
  },
  {
   "cell_type": "code",
   "execution_count": 111,
   "id": "fce4b394",
   "metadata": {},
   "outputs": [],
   "source": [
    "tp = (predicted_positive & actual_postive).sum()\n",
    "tn = (predicted_negative & actual_negative).sum()\n",
    "fp = (predicted_positive & actual_negative).sum()\n",
    "fn = (predicted_negative & actual_postive).sum()"
   ]
  },
  {
   "cell_type": "code",
   "execution_count": 112,
   "id": "912a8a00",
   "metadata": {},
   "outputs": [
    {
     "data": {
      "text/plain": [
       "(79, 790, 233, 307)"
      ]
     },
     "execution_count": 112,
     "metadata": {},
     "output_type": "execute_result"
    }
   ],
   "source": [
    "tp, tn, fp, fn"
   ]
  },
  {
   "cell_type": "code",
   "execution_count": 113,
   "id": "48adc328",
   "metadata": {},
   "outputs": [
    {
     "data": {
      "text/plain": [
       "array([[790, 233],\n",
       "       [307,  79]])"
      ]
     },
     "execution_count": 113,
     "metadata": {},
     "output_type": "execute_result"
    }
   ],
   "source": [
    "confusion_matrix = np.array([\n",
    "    [tn, fp],\n",
    "    [fn, tp]\n",
    "])\n",
    "confusion_matrix"
   ]
  },
  {
   "cell_type": "code",
   "execution_count": 114,
   "id": "6d080c76",
   "metadata": {},
   "outputs": [
    {
     "data": {
      "text/plain": [
       "array([[0.56, 0.17],\n",
       "       [0.22, 0.06]])"
      ]
     },
     "execution_count": 114,
     "metadata": {},
     "output_type": "execute_result"
    }
   ],
   "source": [
    "(confusion_matrix/confusion_matrix.sum()).round(2)"
   ]
  },
  {
   "cell_type": "code",
   "execution_count": 115,
   "id": "fd8d7bfa",
   "metadata": {},
   "outputs": [],
   "source": [
    "from sklearn.metrics import confusion_matrix"
   ]
  },
  {
   "cell_type": "code",
   "execution_count": 116,
   "id": "0dc8129d",
   "metadata": {},
   "outputs": [
    {
     "data": {
      "text/plain": [
       "array([[790, 233],\n",
       "       [307,  79]], dtype=int64)"
      ]
     },
     "execution_count": 116,
     "metadata": {},
     "output_type": "execute_result"
    }
   ],
   "source": [
    "confusion_matrix(y_val, y_pred >= 0.5)"
   ]
  },
  {
   "cell_type": "code",
   "execution_count": 117,
   "id": "12ccef3c",
   "metadata": {},
   "outputs": [],
   "source": [
    "precision = tp / (tp + fp) "
   ]
  },
  {
   "cell_type": "code",
   "execution_count": 118,
   "id": "7bc049cf",
   "metadata": {},
   "outputs": [
    {
     "data": {
      "text/plain": [
       "0.2532051282051282"
      ]
     },
     "execution_count": 118,
     "metadata": {},
     "output_type": "execute_result"
    }
   ],
   "source": [
    "precision"
   ]
  },
  {
   "cell_type": "code",
   "execution_count": 119,
   "id": "4df23ecf",
   "metadata": {},
   "outputs": [
    {
     "data": {
      "text/plain": [
       "0.20466321243523317"
      ]
     },
     "execution_count": 119,
     "metadata": {},
     "output_type": "execute_result"
    }
   ],
   "source": [
    "recall = tp / (tp + fn)\n",
    "recall"
   ]
  },
  {
   "cell_type": "code",
   "execution_count": 120,
   "id": "6f113fe1",
   "metadata": {},
   "outputs": [],
   "source": [
    "from sklearn.metrics import precision_score, recall_score"
   ]
  },
  {
   "cell_type": "code",
   "execution_count": 121,
   "id": "bb97be3a",
   "metadata": {},
   "outputs": [
    {
     "data": {
      "text/plain": [
       "0.2532051282051282"
      ]
     },
     "execution_count": 121,
     "metadata": {},
     "output_type": "execute_result"
    }
   ],
   "source": [
    "precision_score(y_val, y_pred >= 0.5)"
   ]
  },
  {
   "cell_type": "code",
   "execution_count": 122,
   "id": "1e8d7990",
   "metadata": {},
   "outputs": [
    {
     "data": {
      "text/plain": [
       "0.20466321243523317"
      ]
     },
     "execution_count": 122,
     "metadata": {},
     "output_type": "execute_result"
    }
   ],
   "source": [
    "recall_score(y_val, y_pred >= 0.5)"
   ]
  },
  {
   "attachments": {},
   "cell_type": "markdown",
   "id": "0403db93",
   "metadata": {},
   "source": [
    "Roc curve"
   ]
  },
  {
   "cell_type": "code",
   "execution_count": 123,
   "id": "84585239",
   "metadata": {},
   "outputs": [],
   "source": [
    "tpr = tp/(tp+fn)"
   ]
  },
  {
   "cell_type": "code",
   "execution_count": 124,
   "id": "527270a3",
   "metadata": {},
   "outputs": [],
   "source": [
    "fpr = fp/(fp+tn)"
   ]
  },
  {
   "cell_type": "code",
   "execution_count": 125,
   "id": "c77bf665",
   "metadata": {},
   "outputs": [],
   "source": [
    "scores = []\n",
    "thresholds = np.linspace(0, 1, 101)\n",
    "for t in thresholds:\n",
    "    actual_positive = (y_val == 1)\n",
    "    actual_negative = (y_val == 0)\n",
    "    predicted_positive = (y_pred >= t)\n",
    "    predicted_negative = (y_pred < t)\n",
    "\n",
    "    tp = (predicted_positive & actual_positive).sum()\n",
    "    tn = (predicted_negative & actual_negative).sum()\n",
    "    fp = (predicted_positive & actual_negative).sum()\n",
    "    fn = (predicted_negative & actual_positive).sum()\n",
    "    scores.append((t, tp, tn, fp, fn))"
   ]
  },
  {
   "cell_type": "code",
   "execution_count": 131,
   "id": "64d49cb4",
   "metadata": {},
   "outputs": [],
   "source": [
    "columns = ['threshold', 'tp', 'tn', 'fp', 'fn']\n",
    "df_scores = pd.DataFrame(scores, columns = columns)"
   ]
  },
  {
   "cell_type": "code",
   "execution_count": 134,
   "id": "d2e2588f",
   "metadata": {},
   "outputs": [],
   "source": [
    "df_scores['tpr'] = df_scores.tp / (df_scores.tp + df_scores.fn)\n",
    "df_scores['fpr'] = df_scores.fp / (df_scores.fp + df_scores.tn)"
   ]
  },
  {
   "cell_type": "code",
   "execution_count": 136,
   "id": "c203dd55",
   "metadata": {},
   "outputs": [
    {
     "data": {
      "text/html": [
       "<div>\n",
       "<style scoped>\n",
       "    .dataframe tbody tr th:only-of-type {\n",
       "        vertical-align: middle;\n",
       "    }\n",
       "\n",
       "    .dataframe tbody tr th {\n",
       "        vertical-align: top;\n",
       "    }\n",
       "\n",
       "    .dataframe thead th {\n",
       "        text-align: right;\n",
       "    }\n",
       "</style>\n",
       "<table border=\"1\" class=\"dataframe\">\n",
       "  <thead>\n",
       "    <tr style=\"text-align: right;\">\n",
       "      <th></th>\n",
       "      <th>threshold</th>\n",
       "      <th>tp</th>\n",
       "      <th>tn</th>\n",
       "      <th>fp</th>\n",
       "      <th>fn</th>\n",
       "      <th>tpr</th>\n",
       "      <th>fpr</th>\n",
       "    </tr>\n",
       "  </thead>\n",
       "  <tbody>\n",
       "    <tr>\n",
       "      <th>0</th>\n",
       "      <td>0.0</td>\n",
       "      <td>386</td>\n",
       "      <td>0</td>\n",
       "      <td>1023</td>\n",
       "      <td>0</td>\n",
       "      <td>1.000000</td>\n",
       "      <td>1.000000</td>\n",
       "    </tr>\n",
       "    <tr>\n",
       "      <th>10</th>\n",
       "      <td>0.1</td>\n",
       "      <td>245</td>\n",
       "      <td>386</td>\n",
       "      <td>637</td>\n",
       "      <td>141</td>\n",
       "      <td>0.634715</td>\n",
       "      <td>0.622678</td>\n",
       "    </tr>\n",
       "    <tr>\n",
       "      <th>20</th>\n",
       "      <td>0.2</td>\n",
       "      <td>183</td>\n",
       "      <td>541</td>\n",
       "      <td>482</td>\n",
       "      <td>203</td>\n",
       "      <td>0.474093</td>\n",
       "      <td>0.471163</td>\n",
       "    </tr>\n",
       "    <tr>\n",
       "      <th>30</th>\n",
       "      <td>0.3</td>\n",
       "      <td>138</td>\n",
       "      <td>631</td>\n",
       "      <td>392</td>\n",
       "      <td>248</td>\n",
       "      <td>0.357513</td>\n",
       "      <td>0.383187</td>\n",
       "    </tr>\n",
       "    <tr>\n",
       "      <th>40</th>\n",
       "      <td>0.4</td>\n",
       "      <td>106</td>\n",
       "      <td>705</td>\n",
       "      <td>318</td>\n",
       "      <td>280</td>\n",
       "      <td>0.274611</td>\n",
       "      <td>0.310850</td>\n",
       "    </tr>\n",
       "    <tr>\n",
       "      <th>50</th>\n",
       "      <td>0.5</td>\n",
       "      <td>79</td>\n",
       "      <td>790</td>\n",
       "      <td>233</td>\n",
       "      <td>307</td>\n",
       "      <td>0.204663</td>\n",
       "      <td>0.227761</td>\n",
       "    </tr>\n",
       "    <tr>\n",
       "      <th>60</th>\n",
       "      <td>0.6</td>\n",
       "      <td>57</td>\n",
       "      <td>866</td>\n",
       "      <td>157</td>\n",
       "      <td>329</td>\n",
       "      <td>0.147668</td>\n",
       "      <td>0.153470</td>\n",
       "    </tr>\n",
       "    <tr>\n",
       "      <th>70</th>\n",
       "      <td>0.7</td>\n",
       "      <td>28</td>\n",
       "      <td>945</td>\n",
       "      <td>78</td>\n",
       "      <td>358</td>\n",
       "      <td>0.072539</td>\n",
       "      <td>0.076246</td>\n",
       "    </tr>\n",
       "    <tr>\n",
       "      <th>80</th>\n",
       "      <td>0.8</td>\n",
       "      <td>2</td>\n",
       "      <td>1007</td>\n",
       "      <td>16</td>\n",
       "      <td>384</td>\n",
       "      <td>0.005181</td>\n",
       "      <td>0.015640</td>\n",
       "    </tr>\n",
       "    <tr>\n",
       "      <th>90</th>\n",
       "      <td>0.9</td>\n",
       "      <td>0</td>\n",
       "      <td>1023</td>\n",
       "      <td>0</td>\n",
       "      <td>386</td>\n",
       "      <td>0.000000</td>\n",
       "      <td>0.000000</td>\n",
       "    </tr>\n",
       "    <tr>\n",
       "      <th>100</th>\n",
       "      <td>1.0</td>\n",
       "      <td>0</td>\n",
       "      <td>1023</td>\n",
       "      <td>0</td>\n",
       "      <td>386</td>\n",
       "      <td>0.000000</td>\n",
       "      <td>0.000000</td>\n",
       "    </tr>\n",
       "  </tbody>\n",
       "</table>\n",
       "</div>"
      ],
      "text/plain": [
       "     threshold   tp    tn    fp   fn       tpr       fpr\n",
       "0          0.0  386     0  1023    0  1.000000  1.000000\n",
       "10         0.1  245   386   637  141  0.634715  0.622678\n",
       "20         0.2  183   541   482  203  0.474093  0.471163\n",
       "30         0.3  138   631   392  248  0.357513  0.383187\n",
       "40         0.4  106   705   318  280  0.274611  0.310850\n",
       "50         0.5   79   790   233  307  0.204663  0.227761\n",
       "60         0.6   57   866   157  329  0.147668  0.153470\n",
       "70         0.7   28   945    78  358  0.072539  0.076246\n",
       "80         0.8    2  1007    16  384  0.005181  0.015640\n",
       "90         0.9    0  1023     0  386  0.000000  0.000000\n",
       "100        1.0    0  1023     0  386  0.000000  0.000000"
      ]
     },
     "execution_count": 136,
     "metadata": {},
     "output_type": "execute_result"
    }
   ],
   "source": [
    "df_scores[::10]"
   ]
  },
  {
   "cell_type": "code",
   "execution_count": 138,
   "id": "ef5129b3",
   "metadata": {},
   "outputs": [
    {
     "data": {
      "text/plain": [
       "<matplotlib.legend.Legend at 0x17576f63d00>"
      ]
     },
     "execution_count": 138,
     "metadata": {},
     "output_type": "execute_result"
    },
    {
     "data": {
      "image/png": "[encoded data removed]",
      "text/plain": [
       "<Figure size 640x480 with 1 Axes>"
      ]
     },
     "metadata": {},
     "output_type": "display_data"
    }
   ],
   "source": [
    "plt.plot(df_scores.threshold, df_scores.tpr, label='TPR')\n",
    "plt.plot(df_scores.threshold, df_scores.fpr, label='FPR')\n",
    "plt.legend()"
   ]
  },
  {
   "attachments": {},
   "cell_type": "markdown",
   "id": "b1703ec6",
   "metadata": {},
   "source": [
    "Random Model"
   ]
  },
  {
   "cell_type": "code",
   "execution_count": 139,
   "id": "ddca1fd5",
   "metadata": {},
   "outputs": [],
   "source": [
    "np.random.seed(1)"
   ]
  },
  {
   "cell_type": "code",
   "execution_count": 143,
   "id": "f53f36f6",
   "metadata": {},
   "outputs": [
    {
     "data": {
      "text/plain": [
       "array([0.642, 0.848, 0.996, ..., 0.516, 0.671, 0.52 ])"
      ]
     },
     "execution_count": 143,
     "metadata": {},
     "output_type": "execute_result"
    }
   ],
   "source": [
    "y_rand = np.random.uniform(0, 1, size=len(y_val))\n",
    "y_rand.round(3)"
   ]
  },
  {
   "cell_type": "code",
   "execution_count": 146,
   "id": "4f0daf9c",
   "metadata": {},
   "outputs": [
    {
     "data": {
      "text/plain": [
       "0.49964513839602553"
      ]
     },
     "execution_count": 146,
     "metadata": {},
     "output_type": "execute_result"
    }
   ],
   "source": [
    "((y_rand >= 0.5) == y_val).mean()"
   ]
  },
  {
   "cell_type": "code",
   "execution_count": 148,
   "id": "6a8de930",
   "metadata": {},
   "outputs": [],
   "source": [
    "def tpr_fpr_dataframe(y_val, y_pred):\n",
    "    scores = []\n",
    "    thresholds = np.linspace(0, 1, 101)\n",
    "    for t in thresholds:\n",
    "        actual_positive = (y_val == 1)\n",
    "        actual_negative = (y_val == 0)\n",
    "        predicted_positive = (y_pred >= t)\n",
    "        predicted_negative = (y_pred < t)\n",
    "\n",
    "        tp = (predicted_positive & actual_positive).sum()\n",
    "        tn = (predicted_negative & actual_negative).sum()\n",
    "        fp = (predicted_positive & actual_negative).sum()\n",
    "        fn = (predicted_negative & actual_positive).sum()\n",
    "        scores.append((t, tp, tn, fp, fn))\n",
    "\n",
    "    columns = ['threshold', 'tp', 'tn', 'fp', 'fn']\n",
    "    df_scores = pd.DataFrame(scores, columns = columns)\n",
    "\n",
    "    df_scores['tpr'] = df_scores.tp / (df_scores.tp + df_scores.fn)\n",
    "    df_scores['fpr'] = df_scores.fp / (df_scores.fp + df_scores.tn)\n",
    "    return df_scores"
   ]
  },
  {
   "cell_type": "code",
   "execution_count": 149,
   "id": "4e998c12",
   "metadata": {},
   "outputs": [],
   "source": [
    "df_rand = tpr_fpr_dataframe(y_val, y_rand)"
   ]
  },
  {
   "cell_type": "code",
   "execution_count": 151,
   "id": "854d3e40",
   "metadata": {},
   "outputs": [
    {
     "data": {
      "text/html": [
       "<div>\n",
       "<style scoped>\n",
       "    .dataframe tbody tr th:only-of-type {\n",
       "        vertical-align: middle;\n",
       "    }\n",
       "\n",
       "    .dataframe tbody tr th {\n",
       "        vertical-align: top;\n",
       "    }\n",
       "\n",
       "    .dataframe thead th {\n",
       "        text-align: right;\n",
       "    }\n",
       "</style>\n",
       "<table border=\"1\" class=\"dataframe\">\n",
       "  <thead>\n",
       "    <tr style=\"text-align: right;\">\n",
       "      <th></th>\n",
       "      <th>threshold</th>\n",
       "      <th>tp</th>\n",
       "      <th>tn</th>\n",
       "      <th>fp</th>\n",
       "      <th>fn</th>\n",
       "      <th>tpr</th>\n",
       "      <th>fpr</th>\n",
       "    </tr>\n",
       "  </thead>\n",
       "  <tbody>\n",
       "    <tr>\n",
       "      <th>0</th>\n",
       "      <td>0.0</td>\n",
       "      <td>386</td>\n",
       "      <td>0</td>\n",
       "      <td>1023</td>\n",
       "      <td>0</td>\n",
       "      <td>1.000000</td>\n",
       "      <td>1.000000</td>\n",
       "    </tr>\n",
       "    <tr>\n",
       "      <th>10</th>\n",
       "      <td>0.1</td>\n",
       "      <td>345</td>\n",
       "      <td>88</td>\n",
       "      <td>935</td>\n",
       "      <td>41</td>\n",
       "      <td>0.893782</td>\n",
       "      <td>0.913978</td>\n",
       "    </tr>\n",
       "    <tr>\n",
       "      <th>20</th>\n",
       "      <td>0.2</td>\n",
       "      <td>313</td>\n",
       "      <td>194</td>\n",
       "      <td>829</td>\n",
       "      <td>73</td>\n",
       "      <td>0.810881</td>\n",
       "      <td>0.810362</td>\n",
       "    </tr>\n",
       "    <tr>\n",
       "      <th>30</th>\n",
       "      <td>0.3</td>\n",
       "      <td>273</td>\n",
       "      <td>299</td>\n",
       "      <td>724</td>\n",
       "      <td>113</td>\n",
       "      <td>0.707254</td>\n",
       "      <td>0.707722</td>\n",
       "    </tr>\n",
       "    <tr>\n",
       "      <th>40</th>\n",
       "      <td>0.4</td>\n",
       "      <td>239</td>\n",
       "      <td>387</td>\n",
       "      <td>636</td>\n",
       "      <td>147</td>\n",
       "      <td>0.619171</td>\n",
       "      <td>0.621701</td>\n",
       "    </tr>\n",
       "    <tr>\n",
       "      <th>50</th>\n",
       "      <td>0.5</td>\n",
       "      <td>201</td>\n",
       "      <td>503</td>\n",
       "      <td>520</td>\n",
       "      <td>185</td>\n",
       "      <td>0.520725</td>\n",
       "      <td>0.508309</td>\n",
       "    </tr>\n",
       "    <tr>\n",
       "      <th>60</th>\n",
       "      <td>0.6</td>\n",
       "      <td>156</td>\n",
       "      <td>633</td>\n",
       "      <td>390</td>\n",
       "      <td>230</td>\n",
       "      <td>0.404145</td>\n",
       "      <td>0.381232</td>\n",
       "    </tr>\n",
       "    <tr>\n",
       "      <th>70</th>\n",
       "      <td>0.7</td>\n",
       "      <td>119</td>\n",
       "      <td>727</td>\n",
       "      <td>296</td>\n",
       "      <td>267</td>\n",
       "      <td>0.308290</td>\n",
       "      <td>0.289345</td>\n",
       "    </tr>\n",
       "    <tr>\n",
       "      <th>80</th>\n",
       "      <td>0.8</td>\n",
       "      <td>84</td>\n",
       "      <td>832</td>\n",
       "      <td>191</td>\n",
       "      <td>302</td>\n",
       "      <td>0.217617</td>\n",
       "      <td>0.186706</td>\n",
       "    </tr>\n",
       "    <tr>\n",
       "      <th>90</th>\n",
       "      <td>0.9</td>\n",
       "      <td>49</td>\n",
       "      <td>932</td>\n",
       "      <td>91</td>\n",
       "      <td>337</td>\n",
       "      <td>0.126943</td>\n",
       "      <td>0.088954</td>\n",
       "    </tr>\n",
       "    <tr>\n",
       "      <th>100</th>\n",
       "      <td>1.0</td>\n",
       "      <td>0</td>\n",
       "      <td>1023</td>\n",
       "      <td>0</td>\n",
       "      <td>386</td>\n",
       "      <td>0.000000</td>\n",
       "      <td>0.000000</td>\n",
       "    </tr>\n",
       "  </tbody>\n",
       "</table>\n",
       "</div>"
      ],
      "text/plain": [
       "     threshold   tp    tn    fp   fn       tpr       fpr\n",
       "0          0.0  386     0  1023    0  1.000000  1.000000\n",
       "10         0.1  345    88   935   41  0.893782  0.913978\n",
       "20         0.2  313   194   829   73  0.810881  0.810362\n",
       "30         0.3  273   299   724  113  0.707254  0.707722\n",
       "40         0.4  239   387   636  147  0.619171  0.621701\n",
       "50         0.5  201   503   520  185  0.520725  0.508309\n",
       "60         0.6  156   633   390  230  0.404145  0.381232\n",
       "70         0.7  119   727   296  267  0.308290  0.289345\n",
       "80         0.8   84   832   191  302  0.217617  0.186706\n",
       "90         0.9   49   932    91  337  0.126943  0.088954\n",
       "100        1.0    0  1023     0  386  0.000000  0.000000"
      ]
     },
     "execution_count": 151,
     "metadata": {},
     "output_type": "execute_result"
    }
   ],
   "source": [
    "df_rand[::10]"
   ]
  },
  {
   "cell_type": "code",
   "execution_count": 155,
   "id": "848fb38e",
   "metadata": {},
   "outputs": [
    {
     "data": {
      "text/plain": [
       "<matplotlib.legend.Legend at 0x175053836d0>"
      ]
     },
     "execution_count": 155,
     "metadata": {},
     "output_type": "execute_result"
    },
    {
     "data": {
      "image/png": "[encoded data removed]",
      "text/plain": [
       "<Figure size 640x480 with 1 Axes>"
      ]
     },
     "metadata": {},
     "output_type": "display_data"
    }
   ],
   "source": [
    "plt.plot(df_rand.threshold, df_rand.tpr, label='TPR')\n",
    "plt.plot(df_rand.threshold, df_rand.fpr, label='FPR')\n",
    "plt.legend()"
   ]
  },
  {
   "attachments": {},
   "cell_type": "markdown",
   "id": "95b547b9",
   "metadata": {},
   "source": [
    "Ideal Model"
   ]
  },
  {
   "cell_type": "code",
   "execution_count": 161,
   "id": "17af1b40",
   "metadata": {},
   "outputs": [],
   "source": [
    "num_neg = (y_val == 0).sum()\n",
    "num_pos = (y_val == 1).sum()"
   ]
  },
  {
   "cell_type": "code",
   "execution_count": 162,
   "id": "7af52397",
   "metadata": {},
   "outputs": [
    {
     "data": {
      "text/plain": [
       "(1023, 386)"
      ]
     },
     "execution_count": 162,
     "metadata": {},
     "output_type": "execute_result"
    }
   ],
   "source": [
    "num_neg, num_pos"
   ]
  },
  {
   "cell_type": "code",
   "execution_count": 163,
   "id": "24a259b7",
   "metadata": {},
   "outputs": [
    {
     "data": {
      "text/plain": [
       "array([0, 0, 0, ..., 1, 1, 1])"
      ]
     },
     "execution_count": 163,
     "metadata": {},
     "output_type": "execute_result"
    }
   ],
   "source": [
    "y_ideal = np.repeat([0, 1], [num_neg, num_pos])\n",
    "y_ideal"
   ]
  },
  {
   "cell_type": "code",
   "execution_count": 180,
   "id": "e02b9fa5",
   "metadata": {},
   "outputs": [],
   "source": [
    "y_ideal_pred = np.linspace(0, 1, len(y_val))"
   ]
  },
  {
   "cell_type": "code",
   "execution_count": 185,
   "id": "a70c69a2",
   "metadata": {},
   "outputs": [
    {
     "data": {
      "text/plain": [
       "0.7260468417317246"
      ]
     },
     "execution_count": 185,
     "metadata": {},
     "output_type": "execute_result"
    }
   ],
   "source": [
    "(1 - y_val).mean()"
   ]
  },
  {
   "cell_type": "code",
   "execution_count": 186,
   "id": "d4a82e55",
   "metadata": {},
   "outputs": [
    {
     "data": {
      "text/plain": [
       "1.0"
      ]
     },
     "execution_count": 186,
     "metadata": {},
     "output_type": "execute_result"
    }
   ],
   "source": [
    "((y_ideal_pred >= 0.726) == y_ideal).mean()"
   ]
  },
  {
   "cell_type": "code",
   "execution_count": 187,
   "id": "06a49fd7",
   "metadata": {},
   "outputs": [],
   "source": [
    "df_ideal = tpr_fpr_dataframe(y_ideal, y_ideal_pred)"
   ]
  },
  {
   "cell_type": "code",
   "execution_count": 189,
   "id": "ee2a341c",
   "metadata": {},
   "outputs": [
    {
     "data": {
      "text/html": [
       "<div>\n",
       "<style scoped>\n",
       "    .dataframe tbody tr th:only-of-type {\n",
       "        vertical-align: middle;\n",
       "    }\n",
       "\n",
       "    .dataframe tbody tr th {\n",
       "        vertical-align: top;\n",
       "    }\n",
       "\n",
       "    .dataframe thead th {\n",
       "        text-align: right;\n",
       "    }\n",
       "</style>\n",
       "<table border=\"1\" class=\"dataframe\">\n",
       "  <thead>\n",
       "    <tr style=\"text-align: right;\">\n",
       "      <th></th>\n",
       "      <th>threshold</th>\n",
       "      <th>tp</th>\n",
       "      <th>tn</th>\n",
       "      <th>fp</th>\n",
       "      <th>fn</th>\n",
       "      <th>tpr</th>\n",
       "      <th>fpr</th>\n",
       "    </tr>\n",
       "  </thead>\n",
       "  <tbody>\n",
       "    <tr>\n",
       "      <th>0</th>\n",
       "      <td>0.0</td>\n",
       "      <td>386</td>\n",
       "      <td>0</td>\n",
       "      <td>1023</td>\n",
       "      <td>0</td>\n",
       "      <td>1.000000</td>\n",
       "      <td>1.000000</td>\n",
       "    </tr>\n",
       "    <tr>\n",
       "      <th>10</th>\n",
       "      <td>0.1</td>\n",
       "      <td>386</td>\n",
       "      <td>141</td>\n",
       "      <td>882</td>\n",
       "      <td>0</td>\n",
       "      <td>1.000000</td>\n",
       "      <td>0.862170</td>\n",
       "    </tr>\n",
       "    <tr>\n",
       "      <th>20</th>\n",
       "      <td>0.2</td>\n",
       "      <td>386</td>\n",
       "      <td>282</td>\n",
       "      <td>741</td>\n",
       "      <td>0</td>\n",
       "      <td>1.000000</td>\n",
       "      <td>0.724340</td>\n",
       "    </tr>\n",
       "    <tr>\n",
       "      <th>30</th>\n",
       "      <td>0.3</td>\n",
       "      <td>386</td>\n",
       "      <td>423</td>\n",
       "      <td>600</td>\n",
       "      <td>0</td>\n",
       "      <td>1.000000</td>\n",
       "      <td>0.586510</td>\n",
       "    </tr>\n",
       "    <tr>\n",
       "      <th>40</th>\n",
       "      <td>0.4</td>\n",
       "      <td>386</td>\n",
       "      <td>564</td>\n",
       "      <td>459</td>\n",
       "      <td>0</td>\n",
       "      <td>1.000000</td>\n",
       "      <td>0.448680</td>\n",
       "    </tr>\n",
       "    <tr>\n",
       "      <th>50</th>\n",
       "      <td>0.5</td>\n",
       "      <td>386</td>\n",
       "      <td>704</td>\n",
       "      <td>319</td>\n",
       "      <td>0</td>\n",
       "      <td>1.000000</td>\n",
       "      <td>0.311828</td>\n",
       "    </tr>\n",
       "    <tr>\n",
       "      <th>60</th>\n",
       "      <td>0.6</td>\n",
       "      <td>386</td>\n",
       "      <td>845</td>\n",
       "      <td>178</td>\n",
       "      <td>0</td>\n",
       "      <td>1.000000</td>\n",
       "      <td>0.173998</td>\n",
       "    </tr>\n",
       "    <tr>\n",
       "      <th>70</th>\n",
       "      <td>0.7</td>\n",
       "      <td>386</td>\n",
       "      <td>986</td>\n",
       "      <td>37</td>\n",
       "      <td>0</td>\n",
       "      <td>1.000000</td>\n",
       "      <td>0.036168</td>\n",
       "    </tr>\n",
       "    <tr>\n",
       "      <th>80</th>\n",
       "      <td>0.8</td>\n",
       "      <td>282</td>\n",
       "      <td>1023</td>\n",
       "      <td>0</td>\n",
       "      <td>104</td>\n",
       "      <td>0.730570</td>\n",
       "      <td>0.000000</td>\n",
       "    </tr>\n",
       "    <tr>\n",
       "      <th>90</th>\n",
       "      <td>0.9</td>\n",
       "      <td>141</td>\n",
       "      <td>1023</td>\n",
       "      <td>0</td>\n",
       "      <td>245</td>\n",
       "      <td>0.365285</td>\n",
       "      <td>0.000000</td>\n",
       "    </tr>\n",
       "    <tr>\n",
       "      <th>100</th>\n",
       "      <td>1.0</td>\n",
       "      <td>1</td>\n",
       "      <td>1023</td>\n",
       "      <td>0</td>\n",
       "      <td>385</td>\n",
       "      <td>0.002591</td>\n",
       "      <td>0.000000</td>\n",
       "    </tr>\n",
       "  </tbody>\n",
       "</table>\n",
       "</div>"
      ],
      "text/plain": [
       "     threshold   tp    tn    fp   fn       tpr       fpr\n",
       "0          0.0  386     0  1023    0  1.000000  1.000000\n",
       "10         0.1  386   141   882    0  1.000000  0.862170\n",
       "20         0.2  386   282   741    0  1.000000  0.724340\n",
       "30         0.3  386   423   600    0  1.000000  0.586510\n",
       "40         0.4  386   564   459    0  1.000000  0.448680\n",
       "50         0.5  386   704   319    0  1.000000  0.311828\n",
       "60         0.6  386   845   178    0  1.000000  0.173998\n",
       "70         0.7  386   986    37    0  1.000000  0.036168\n",
       "80         0.8  282  1023     0  104  0.730570  0.000000\n",
       "90         0.9  141  1023     0  245  0.365285  0.000000\n",
       "100        1.0    1  1023     0  385  0.002591  0.000000"
      ]
     },
     "execution_count": 189,
     "metadata": {},
     "output_type": "execute_result"
    }
   ],
   "source": [
    "df_ideal[::10]"
   ]
  },
  {
   "cell_type": "code",
   "execution_count": 190,
   "id": "21b25d8f",
   "metadata": {},
   "outputs": [
    {
     "data": {
      "text/plain": [
       "<matplotlib.legend.Legend at 0x175053f1030>"
      ]
     },
     "execution_count": 190,
     "metadata": {},
     "output_type": "execute_result"
    },
    {
     "data": {
      "image/png": "[encoded data removed]",
      "text/plain": [
       "<Figure size 640x480 with 1 Axes>"
      ]
     },
     "metadata": {},
     "output_type": "display_data"
    }
   ],
   "source": [
    "plt.plot(df_ideal.threshold, df_ideal.tpr, label='TPR')\n",
    "plt.plot(df_ideal.threshold, df_ideal.fpr, label='FPR')\n",
    "plt.legend()"
   ]
  },
  {
   "attachments": {},
   "cell_type": "markdown",
   "id": "140d8542",
   "metadata": {},
   "source": [
    "Putting Everything Together"
   ]
  },
  {
   "cell_type": "code",
   "execution_count": 191,
   "id": "e364025d",
   "metadata": {},
   "outputs": [
    {
     "data": {
      "text/plain": [
       "<matplotlib.legend.Legend at 0x1750589f0d0>"
      ]
     },
     "execution_count": 191,
     "metadata": {},
     "output_type": "execute_result"
    },
    {
     "data": {
      "image/png": "[encoded data removed]",
      "text/plain": [
       "<Figure size 640x480 with 1 Axes>"
      ]
     },
     "metadata": {},
     "output_type": "display_data"
    }
   ],
   "source": [
    "plt.plot(df_scores.threshold, df_scores.tpr, label='TPR')\n",
    "plt.plot(df_scores.threshold, df_scores.fpr, label='FPR')\n",
    "\n",
    "plt.plot(df_rand.threshold, df_rand.tpr, label='TPR')\n",
    "plt.plot(df_rand.threshold, df_rand.fpr, label='FPR')\n",
    "\n",
    "plt.plot(df_ideal.threshold, df_ideal.tpr, label='TPR')\n",
    "plt.plot(df_ideal.threshold, df_ideal.fpr, label='FPR')\n",
    "\n",
    "plt.legend()"
   ]
  },
  {
   "cell_type": "code",
   "execution_count": 199,
   "id": "584119a3",
   "metadata": {},
   "outputs": [
    {
     "data": {
      "text/plain": [
       "<Figure size 600x600 with 0 Axes>"
      ]
     },
     "execution_count": 199,
     "metadata": {},
     "output_type": "execute_result"
    },
    {
     "data": {
      "image/png": "[encoded data removed]",
      "text/plain": [
       "<Figure size 640x480 with 1 Axes>"
      ]
     },
     "metadata": {},
     "output_type": "display_data"
    },
    {
     "data": {
      "text/plain": [
       "<Figure size 600x600 with 0 Axes>"
      ]
     },
     "metadata": {},
     "output_type": "display_data"
    }
   ],
   "source": [
    "plt.plot(df_scores.fpr, df_scores.tpr, label='model')\n",
    "plt.plot(df_rand.fpr, df_rand.tpr, label='random')\n",
    "plt.plot(df_ideal.fpr, df_ideal.tpr, label='ideal')\n",
    "plt.legend()\n",
    "plt.ylabel('TPR')\n",
    "plt.xlabel('FPR')\n",
    "plt.figure(figsize=(6, 6))"
   ]
  },
  {
   "cell_type": "code",
   "execution_count": 200,
   "id": "900f788d",
   "metadata": {},
   "outputs": [],
   "source": [
    "from sklearn.metrics import roc_curve"
   ]
  },
  {
   "cell_type": "code",
   "execution_count": 201,
   "id": "a319a567",
   "metadata": {},
   "outputs": [],
   "source": [
    "fpr, tpr, thresholds = roc_curve(y_val, y_pred)"
   ]
  },
  {
   "cell_type": "code",
   "execution_count": 205,
   "id": "a40786c4",
   "metadata": {},
   "outputs": [
    {
     "data": {
      "text/plain": [
       "<matplotlib.legend.Legend at 0x175075f6350>"
      ]
     },
     "execution_count": 205,
     "metadata": {},
     "output_type": "execute_result"
    },
    {
     "data": {
      "image/png": "[encoded data removed]",
      "text/plain": [
       "<Figure size 640x480 with 1 Axes>"
      ]
     },
     "metadata": {},
     "output_type": "display_data"
    }
   ],
   "source": [
    "plt.plot(fpr, tpr)\n",
    "plt.plot([0, 1], [0, 1], label='Random', linestyle='--')\n",
    "plt.ylabel('TPR')\n",
    "plt.xlabel('FPR')\n",
    "plt.legend()"
   ]
  },
  {
   "cell_type": "code",
   "execution_count": null,
   "id": "75840e8f",
   "metadata": {},
   "outputs": [],
   "source": []
  }
 ],
 "metadata": {
  "kernelspec": {
   "display_name": "Python 3",
   "language": "python",
   "name": "python3"
  },
  "language_info": {
   "codemirror_mode": {
    "name": "ipython",
    "version": 3
   },
   "file_extension": ".py",
   "mimetype": "text/x-python",
   "name": "python",
   "nbconvert_exporter": "python",
   "pygments_lexer": "ipython3",
   "version": "3.10.7"
  },
  "vscode": {
   "interpreter": {
    "hash": "73a208388e63639f9447993bd2ad78d66bfd093df25da4093f2ed3bb37e263a7"
   }
  }
 },
 "nbformat": 4,
 "nbformat_minor": 5
}
